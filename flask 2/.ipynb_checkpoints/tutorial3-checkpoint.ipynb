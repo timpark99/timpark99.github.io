{
 "cells": [
  {
   "cell_type": "code",
   "execution_count": 1,
   "id": "671f632e-9820-4524-89d8-56d031d77925",
   "metadata": {},
   "outputs": [],
   "source": [
    "from flask import Flask, redirect, url_for, render_template"
   ]
  },
  {
   "cell_type": "code",
   "execution_count": 2,
   "id": "3e81d7d7-4028-4190-adcf-7cf0583dc322",
   "metadata": {},
   "outputs": [],
   "source": [
    "# create an instance of a Flask application\n",
    "app = Flask(__name__)"
   ]
  },
  {
   "cell_type": "code",
   "execution_count": 3,
   "id": "7bfedbe7-909d-417c-bb43-5bc82d7c74e9",
   "metadata": {},
   "outputs": [],
   "source": [
    "# define the pages that are going to be on the website\n",
    "# function returns what will be displayed on the page\n",
    "@app.route(\"/<name>\")\n",
    "def home(name):\n",
    "    return render_template(\"index.html\", content=name, r=2, fnames = ['tim', 'joe', 'bill'])\n",
    "\n",
    "@app.route(\"/<name>\")\n",
    "def user(name):\n",
    "    return f\"Hello {name}!\"\n",
    "\n",
    "@app.route(\"/admin\")\n",
    "def admin():\n",
    "    return redirect(url_for(\"user\", name=\"Admin!\"))"
   ]
  },
  {
   "cell_type": "code",
   "execution_count": 4,
   "id": "2b841411-e082-42dd-9b19-a13794c7478d",
   "metadata": {},
   "outputs": [
    {
     "name": "stdout",
     "output_type": "stream",
     "text": [
      " * Serving Flask app '__main__'\n",
      " * Debug mode: off\n"
     ]
    },
    {
     "name": "stderr",
     "output_type": "stream",
     "text": [
      "WARNING: This is a development server. Do not use it in a production deployment. Use a production WSGI server instead.\n",
      " * Running on http://127.0.0.1:5000\n",
      "Press CTRL+C to quit\n",
      "127.0.0.1 - - [31/Aug/2024 21:09:45] \"GET / HTTP/1.1\" 404 -\n",
      "127.0.0.1 - - [31/Aug/2024 21:09:47] \"GET / HTTP/1.1\" 404 -\n",
      "127.0.0.1 - - [31/Aug/2024 21:09:48] \"GET / HTTP/1.1\" 404 -\n",
      "127.0.0.1 - - [31/Aug/2024 21:09:57] \"GET /test HTTP/1.1\" 200 -\n"
     ]
    }
   ],
   "source": [
    "# run the app\n",
    "if __name__ == \"__main__\":\n",
    "    app.run()"
   ]
  }
 ],
 "metadata": {
  "kernelspec": {
   "display_name": "Python 3 (ipykernel)",
   "language": "python",
   "name": "python3"
  },
  "language_info": {
   "codemirror_mode": {
    "name": "ipython",
    "version": 3
   },
   "file_extension": ".py",
   "mimetype": "text/x-python",
   "name": "python",
   "nbconvert_exporter": "python",
   "pygments_lexer": "ipython3",
   "version": "3.11.5"
  }
 },
 "nbformat": 4,
 "nbformat_minor": 5
}
