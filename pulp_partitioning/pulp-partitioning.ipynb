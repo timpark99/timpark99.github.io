{
 "cells": [
  {
   "cell_type": "markdown",
   "id": "b993ca10-eb6c-4fe7-b6fe-fa62e6028bbc",
   "metadata": {},
   "source": [
    "A wedding planner must determine guest seating allocations for a wedding. To model this problem the tables are modelled as the partitions and the guests invited to the wedding are modelled as the elements of S. The wedding planner wishes to maximize the total happiness of all of the tables."
   ]
  },
  {
   "cell_type": "code",
   "execution_count": 1,
   "id": "6f8297d8-a4ac-4da5-b226-4d4f4dfa3509",
   "metadata": {},
   "outputs": [
    {
     "name": "stderr",
     "output_type": "stream",
     "text": [
      "/Users/timothypark/anaconda3/lib/python3.11/site-packages/pulp/pulp.py:1298: UserWarning: Spaces are not permitted in the name. Converted to '_'\n",
      "  warnings.warn(\"Spaces are not permitted in the name. Converted to '_'\")\n"
     ]
    },
    {
     "name": "stdout",
     "output_type": "stream",
     "text": [
      "Welcome to the CBC MILP Solver \n",
      "Version: 2.10.3 \n",
      "Build Date: Dec 15 2019 \n",
      "\n",
      "command line - /Users/timothypark/anaconda3/lib/python3.11/site-packages/pulp/solverdir/cbc/osx/64/cbc /var/folders/5z/f5jycvmd0x58dvn1by8xk79h0000gn/T/012587cbf1ac4014a0e37a5a8df03c94-pulp.mps -timeMode elapsed -branch -printingOptions all -solution /var/folders/5z/f5jycvmd0x58dvn1by8xk79h0000gn/T/012587cbf1ac4014a0e37a5a8df03c94-pulp.sol (default strategy 1)\n",
      "At line 2 NAME          MODEL\n",
      "At line 3 ROWS\n",
      "At line 23 COLUMNS\n",
      "At line 24708 RHS\n",
      "At line 24727 BOUNDS\n",
      "At line 27941 ENDATA\n",
      "Problem MODEL has 18 rows, 3213 columns and 15062 elements\n",
      "Coin0008I MODEL read with 0 errors\n",
      "Option for timeMode changed from cpu to elapsed\n",
      "Continuous objective value is 12 - 0.01 seconds\n",
      "Cgl0004I processed model has 18 rows, 3213 columns (3213 integer (3213 of which binary)) and 15062 elements\n",
      "Cutoff increment increased from 1e-05 to 0.9999\n",
      "Cbc0038I Initial state - 0 integers unsatisfied sum - 0\n",
      "Cbc0038I Solution found of 12\n",
      "Cbc0038I Before mini branch and bound, 3213 integers at bound fixed and 0 continuous\n",
      "Cbc0038I Mini branch and bound did not improve solution (0.06 seconds)\n",
      "Cbc0038I After 0.06 seconds - Feasibility pump exiting with objective of 12 - took 0.00 seconds\n",
      "Cbc0012I Integer solution of 12 found by feasibility pump after 0 iterations and 0 nodes (0.06 seconds)\n",
      "Cbc0001I Search completed - best objective 12, took 0 iterations and 0 nodes (0.06 seconds)\n",
      "Cbc0035I Maximum depth 0, 0 variables fixed on reduced cost\n",
      "Cuts at root node changed objective from 12 to 12\n",
      "Probing was tried 0 times and created 0 cuts of which 0 were active after adding rounds of cuts (0.000 seconds)\n",
      "Gomory was tried 0 times and created 0 cuts of which 0 were active after adding rounds of cuts (0.000 seconds)\n",
      "Knapsack was tried 0 times and created 0 cuts of which 0 were active after adding rounds of cuts (0.000 seconds)\n",
      "Clique was tried 0 times and created 0 cuts of which 0 were active after adding rounds of cuts (0.000 seconds)\n",
      "MixedIntegerRounding2 was tried 0 times and created 0 cuts of which 0 were active after adding rounds of cuts (0.000 seconds)\n",
      "FlowCover was tried 0 times and created 0 cuts of which 0 were active after adding rounds of cuts (0.000 seconds)\n",
      "TwoMirCuts was tried 0 times and created 0 cuts of which 0 were active after adding rounds of cuts (0.000 seconds)\n",
      "ZeroHalf was tried 0 times and created 0 cuts of which 0 were active after adding rounds of cuts (0.000 seconds)\n",
      "\n",
      "Result - Optimal solution found\n",
      "\n",
      "Objective value:                12.00000000\n",
      "Enumerated nodes:               0\n",
      "Total iterations:               0\n",
      "Time (CPU seconds):             0.04\n",
      "Time (Wallclock seconds):       0.06\n",
      "\n",
      "Option for printingOptions changed from normal to all\n",
      "Total time (CPU seconds):       0.05   (Wallclock seconds):       0.08\n",
      "\n",
      "The chosen tables are out of a total of 3213:\n",
      "('M', 'N')\n",
      "('E', 'F', 'G')\n",
      "('A', 'B', 'C', 'D')\n",
      "('I', 'J', 'K', 'L')\n",
      "('O', 'P', 'Q', 'R')\n"
     ]
    }
   ],
   "source": [
    "import pulp\n",
    "\n",
    "max_tables = 5\n",
    "max_table_size = 4\n",
    "guests = \"A B C D E F G I J K L M N O P Q R\".split()\n",
    "\n",
    "\n",
    "def happiness(table):\n",
    "    \"\"\"\n",
    "    Find the happiness of the table\n",
    "    - by calculating the maximum distance between the letters\n",
    "    \"\"\"\n",
    "    return abs(ord(table[0]) - ord(table[-1]))\n",
    "\n",
    "\n",
    "# create list of all possible tables\n",
    "possible_tables = [tuple(c) for c in pulp.allcombinations(guests, max_table_size)]\n",
    "\n",
    "seating_model = pulp.LpProblem(\"Wedding Seating Model\", pulp.LpMinimize)\n",
    "\n",
    "# create a binary variable to state that a table setting is used\n",
    "x = pulp.LpVariable.dicts(\n",
    "    \"table\", possible_tables, lowBound=0, upBound=1, cat=pulp.LpInteger\n",
    ")\n",
    "\n",
    "seating_model += pulp.lpSum([happiness(table) * x[table] for table in possible_tables])\n",
    "\n",
    "# specify the maximum number of tables\n",
    "seating_model += (\n",
    "    pulp.lpSum([x[table] for table in possible_tables]) <= max_tables,\n",
    "    \"Maximum_number_of_tables\",\n",
    ")\n",
    "\n",
    "# A guest must seated at one and only one table\n",
    "for guest in guests:\n",
    "    seating_model += (\n",
    "        pulp.lpSum([x[table] for table in possible_tables if guest in table]) == 1,\n",
    "        f\"Must_seat_{guest}\",\n",
    "    )\n",
    "\n",
    "seating_model.solve()\n",
    "\n",
    "print(f\"The chosen tables are out of a total of {len(possible_tables)}:\")\n",
    "for table in possible_tables:\n",
    "    if x[table].value() == 1.0:\n",
    "        print(table)\n"
   ]
  }
 ],
 "metadata": {
  "kernelspec": {
   "display_name": "Python [conda env:base] *",
   "language": "python",
   "name": "conda-base-py"
  },
  "language_info": {
   "codemirror_mode": {
    "name": "ipython",
    "version": 3
   },
   "file_extension": ".py",
   "mimetype": "text/x-python",
   "name": "python",
   "nbconvert_exporter": "python",
   "pygments_lexer": "ipython3",
   "version": "3.11.5"
  }
 },
 "nbformat": 4,
 "nbformat_minor": 5
}
