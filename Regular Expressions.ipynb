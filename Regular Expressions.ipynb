{
 "cells": [
  {
   "cell_type": "code",
   "execution_count": 1,
   "id": "8a7cb9e7",
   "metadata": {},
   "outputs": [],
   "source": [
    "import re\n",
    "\n",
    "random_text = '''\n",
    "My name is Mr. Neo.  My phone number is 123-456-7890.  My email is ChoseOne@gmail.com\n",
    "My name is Mr. Morphius.  My phone number is 413-234-2568.  My email is CoolGuy@yahoo.com.\n",
    "My name is Mrs. Trinity.  My phone number is 285-036-8215.  My email is ChosenOnesGirl@apple.com.\n",
    "'''"
   ]
  },
  {
   "cell_type": "code",
   "execution_count": 5,
   "id": "39d13831",
   "metadata": {},
   "outputs": [
    {
     "data": {
      "text/plain": [
       "['gmail', 'yahoo', 'apple']"
      ]
     },
     "execution_count": 5,
     "metadata": {},
     "output_type": "execute_result"
    }
   ],
   "source": [
    "# the plus gives us all characters after the @ symbol\n",
    "# the parentheses around the [a-z]+ is called a group and it filters to only those characters. \n",
    "re.findall('@([a-z]+)', random_text)"
   ]
  },
  {
   "cell_type": "code",
   "execution_count": 7,
   "id": "00f5aa70",
   "metadata": {},
   "outputs": [
    {
     "data": {
      "text/plain": [
       "['gmail.com', 'yahoo.com.', 'apple.com.']"
      ]
     },
     "execution_count": 7,
     "metadata": {},
     "output_type": "execute_result"
    }
   ],
   "source": [
    "# \\. specifies that there is a period we are looing for\n",
    "\n",
    "re.findall('@([\\w\\.]+)', random_text)"
   ]
  }
 ],
 "metadata": {
  "kernelspec": {
   "display_name": "Python 3 (ipykernel)",
   "language": "python",
   "name": "python3"
  },
  "language_info": {
   "codemirror_mode": {
    "name": "ipython",
    "version": 3
   },
   "file_extension": ".py",
   "mimetype": "text/x-python",
   "name": "python",
   "nbconvert_exporter": "python",
   "pygments_lexer": "ipython3",
   "version": "3.11.5"
  }
 },
 "nbformat": 4,
 "nbformat_minor": 5
}
