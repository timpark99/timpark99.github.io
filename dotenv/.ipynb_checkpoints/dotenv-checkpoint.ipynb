{
 "cells": [
  {
   "cell_type": "markdown",
   "id": "79b4aac3-2ee1-4c06-a8da-5ac575a2b7a9",
   "metadata": {},
   "source": [
    "The .env file is used to configure settings, such as API keys, database URLs, or other environment-specific variables, that your application will read at runtime.  It's a good way to properly store, manage and load API keys or any other sensitive information.\n",
    "\n",
    "You must install the module by executing a command line instruction:\n",
    "\n",
    "`pip install python-dotenv`\n",
    "\n",
    "Tip: never commmit the env file to the repository.  Always include it in the gitignore file. "
   ]
  },
  {
   "cell_type": "code",
   "execution_count": 85,
   "id": "8c85dab8-1309-4bc1-9743-d9fb19a3bf5e",
   "metadata": {
    "jupyter": {
     "source_hidden": true
    }
   },
   "outputs": [],
   "source": [
    "import os\n",
    "from dotenv import load_dotenv, dotenv_values"
   ]
  },
  {
   "cell_type": "markdown",
   "id": "77529760-fb6b-4db3-9c96-6c901f0fba7c",
   "metadata": {},
   "source": [
    "create a .env file containing the key value pair which in this case is MY_SECRET_KEY = '123456789'"
   ]
  },
  {
   "cell_type": "code",
   "execution_count": 87,
   "id": "1fed8762-b3e2-4b5d-9946-21279fad668d",
   "metadata": {},
   "outputs": [
    {
     "data": {
      "text/plain": [
       "True"
      ]
     },
     "execution_count": 87,
     "metadata": {},
     "output_type": "execute_result"
    }
   ],
   "source": [
    "# load variables into the environment\n",
    "load_dotenv()"
   ]
  },
  {
   "cell_type": "code",
   "execution_count": 88,
   "id": "7c99986a-af82-4504-b550-8eaddca644d1",
   "metadata": {},
   "outputs": [
    {
     "name": "stdout",
     "output_type": "stream",
     "text": [
      "123456789\n",
      "127.0.0.1:9999\n",
      "office@127.0.0.1\n"
     ]
    }
   ],
   "source": [
    "print(os.getenv('MY_SECRET_KEY'))\n",
    "print(os.getenv('COMBINED'))\n",
    "print(os.getenv('MAIL'))"
   ]
  },
  {
   "cell_type": "markdown",
   "id": "805a31e1-4fee-495c-ad8b-b3ac15eb3dbe",
   "metadata": {},
   "source": [
    "you can override environment variables that already exist.  If you want to use a variable in the current file that has the same name as the environment variable, you can just write:\n",
    "\n",
    "load_dotenv(override=True)"
   ]
  },
  {
   "cell_type": "markdown",
   "id": "10416787-2909-4a9a-9b20-6995d0ca75c2",
   "metadata": {},
   "source": [
    "You don't have to load as variables, but you can also load as dictionaries. "
   ]
  },
  {
   "cell_type": "code",
   "execution_count": 91,
   "id": "641a5ff0-0dd5-443e-a414-1770f695c7dd",
   "metadata": {},
   "outputs": [
    {
     "name": "stdout",
     "output_type": "stream",
     "text": [
      "OrderedDict([('MY_SECRET_KEY', '123456789'), ('HOST', '127.0.0.1'), ('PORT', '9999'), ('COMBINED', '127.0.0.1:9999'), ('MAIL', 'office@127.0.0.1')])\n",
      "\n",
      "123456789\n"
     ]
    }
   ],
   "source": [
    "config = dotenv_values('.env')\n",
    "print(config)\n",
    "\n",
    "# accessing individual keys\n",
    "print()\n",
    "print(config['MY_SECRET_KEY'])"
   ]
  },
  {
   "cell_type": "markdown",
   "id": "32e87624-037c-4d38-8f99-df74d01ffe1b",
   "metadata": {},
   "source": [
    "create two files - .env.shared and .env.secret, placing the secret key in the secret file and the rest of the variables into the shared file"
   ]
  },
  {
   "cell_type": "code",
   "execution_count": 102,
   "id": "77e0b511-0280-4bc4-a402-c3595702f2ef",
   "metadata": {},
   "outputs": [
    {
     "name": "stdout",
     "output_type": "stream",
     "text": [
      "{'HOST': '127.0.0.1', 'PORT': '9999', 'COMBINED': '127.0.0.1:9999', 'MAIL': 'office@127.0.0.1', 'MY_SECRET_KEY': '123456789'}\n"
     ]
    }
   ],
   "source": [
    "# load all key value pairs from the .env file\n",
    "# since this is a dictionary we need to unpack the values by placing ** before each value\n",
    "config2 = {\n",
    "    **dotenv_values('.env.shared'),\n",
    "    **dotenv_values('.env.secret'),\n",
    "    # gives environment variables from the system\n",
    "    #**os.environ\n",
    "}\n",
    "\n",
    "print(config2)"
   ]
  }
 ],
 "metadata": {
  "kernelspec": {
   "display_name": "Python 3 (ipykernel)",
   "language": "python",
   "name": "python3"
  },
  "language_info": {
   "codemirror_mode": {
    "name": "ipython",
    "version": 3
   },
   "file_extension": ".py",
   "mimetype": "text/x-python",
   "name": "python",
   "nbconvert_exporter": "python",
   "pygments_lexer": "ipython3",
   "version": "3.11.5"
  }
 },
 "nbformat": 4,
 "nbformat_minor": 5
}
