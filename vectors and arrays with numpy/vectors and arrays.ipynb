{
 "cells": [
  {
   "cell_type": "markdown",
   "id": "96166bc1-cd31-4288-9b05-d8fa0a84b863",
   "metadata": {},
   "source": [
    "# Vectors and Arrays with Numpy - Apple Stock Dataset\n",
    "\n",
    "This dataset provides a comprehensive record of Apple Inc.'s stock price changes over the past 44 years. It includes essential columns such as the date, opening price, highest price of the day, lowest price of the day, closing price, adjusted closing price, and trading volume.  We will examine the use of vectors and arrays using this dataset"
   ]
  },
  {
   "cell_type": "code",
   "execution_count": 22,
   "id": "6d6e4cea-811c-4a4f-9ca3-ab30832e971a",
   "metadata": {},
   "outputs": [],
   "source": [
    "# import pandas\n",
    "# import numpy\n",
    "import pandas as pd\n",
    "import numpy as np"
   ]
  },
  {
   "cell_type": "code",
   "execution_count": 24,
   "id": "6228afb2-9a4e-4d6b-9ee2-e7787a48c669",
   "metadata": {},
   "outputs": [],
   "source": [
    "# import CSV\n",
    "df = pd.read_csv('/Users/timothypark/Documents/portfolios/timpark99.github.io/Vectors and Arrays with Numpy Project/Apple Dataset.csv')"
   ]
  },
  {
   "cell_type": "code",
   "execution_count": 26,
   "id": "d72a3d7e-dda9-4975-8a0e-9546280a8f13",
   "metadata": {},
   "outputs": [],
   "source": [
    "# create variable lists from the imported dataframe\n",
    "open_list = list(df.iloc[:,1].values)"
   ]
  },
  {
   "cell_type": "code",
   "execution_count": 28,
   "id": "8b7bec9c-f21f-49e7-a997-a727dd395666",
   "metadata": {},
   "outputs": [
    {
     "name": "stdout",
     "output_type": "stream",
     "text": [
      "10954\n",
      "[0.128348 0.12221  0.113281 0.115513 0.118862]\n"
     ]
    }
   ],
   "source": [
    "# create an array of opening price data\n",
    "open_array = np.array(open_list)\n",
    "\n",
    "# print the length of the array\n",
    "print(len(open_array))\n",
    "\n",
    "# print the first 5 elements of the array\n",
    "print(open_array[:5])"
   ]
  },
  {
   "cell_type": "code",
   "execution_count": 30,
   "id": "83a4deea-cf60-41d8-a325-76c68e8696ba",
   "metadata": {},
   "outputs": [
    {
     "name": "stdout",
     "output_type": "stream",
     "text": [
      "Max = 198.020004\n",
      "Min = 0.049665\n",
      "Median = 0.522321\n",
      "Std = 44.456357022181194\n"
     ]
    }
   ],
   "source": [
    "# calculate summary statistics including max, min, median, and standard deviation\n",
    "print('Max =', np.max(open_array))\n",
    "print('Min =', np.min(open_array))\n",
    "print('Median =', np.median(open_array))\n",
    "print('Std =', np.std(open_array))"
   ]
  },
  {
   "cell_type": "code",
   "execution_count": 32,
   "id": "50251589-02a1-4808-b0e1-e57933b0a7c7",
   "metadata": {},
   "outputs": [
    {
     "data": {
      "text/plain": [
       "0.08773050940295782"
      ]
     },
     "execution_count": 32,
     "metadata": {},
     "output_type": "execute_result"
    }
   ],
   "source": [
    "# calculate the percentage of readings with the open price being greater than 100\n",
    "boolean_open = (open_array > 100)\n",
    "\n",
    "# 2. ### YOUR CODE HERE ###\n",
    "percent_over_100 = boolean_open.sum() / len(boolean_open)\n",
    "percent_over_100"
   ]
  }
 ],
 "metadata": {
  "kernelspec": {
   "display_name": "Python 3 (ipykernel)",
   "language": "python",
   "name": "python3"
  },
  "language_info": {
   "codemirror_mode": {
    "name": "ipython",
    "version": 3
   },
   "file_extension": ".py",
   "mimetype": "text/x-python",
   "name": "python",
   "nbconvert_exporter": "python",
   "pygments_lexer": "ipython3",
   "version": "3.11.5"
  }
 },
 "nbformat": 4,
 "nbformat_minor": 5
}
