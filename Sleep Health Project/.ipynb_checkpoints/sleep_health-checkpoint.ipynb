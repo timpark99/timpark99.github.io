{
 "cells": [
  {
   "cell_type": "markdown",
   "id": "c673f5a7-fc78-4efd-a7e9-317cc84b9645",
   "metadata": {},
   "source": [
    "# Sleep Health - Dictionaries and Sets in Python\n",
    "This dataset contains sleep data on multiple people and captures information such as age, occupation, sleep duration, sleep quality, physical activity level, stress, and heart rate.  This exercise demonstrates the use of dictionaries and sets to analyze this data."
   ]
  },
  {
   "cell_type": "code",
   "execution_count": 6,
   "id": "606beaae-821b-425f-b5eb-82423a37793c",
   "metadata": {},
   "outputs": [],
   "source": [
    "import pandas as pd"
   ]
  },
  {
   "cell_type": "code",
   "execution_count": 7,
   "id": "954943d6-5a6d-4e1f-9f52-ff3b6d88918f",
   "metadata": {},
   "outputs": [],
   "source": [
    "# import CSV\n",
    "\n",
    "df = pd.read_csv('/Users/timothypark/Documents/portfolios/timpark99.github.io/Sleep Health Project/sleep_health.csv')"
   ]
  },
  {
   "cell_type": "code",
   "execution_count": 8,
   "id": "5a42fe34-d5f3-4e69-b9c7-bd2e45f6e836",
   "metadata": {},
   "outputs": [],
   "source": [
    "# create variable lists from the imported dataframe\n",
    "\n",
    "age_list = list(df.iloc[:,2].values)\n",
    "occ_list = list(df.iloc[:,3].values)\n",
    "dur_list = list(df.iloc[:,4].values)\n",
    "qual_list = list(df.iloc[:,5].values)\n",
    "phys_list = list(df.iloc[:,6].values)\n",
    "stress_list = list(df.iloc[:,7].values)\n",
    "heart_list = list(df.iloc[:,10].values)"
   ]
  },
  {
   "cell_type": "code",
   "execution_count": 44,
   "id": "b8ecd08e-fd22-4091-b494-e7a5f1ed9445",
   "metadata": {
    "scrolled": true
   },
   "outputs": [],
   "source": [
    "# create a list of tuples\n",
    "\n",
    "sleep_tuples = list(zip(age_list, occ_list, dur_list, qual_list, phys_list, stress_list, heart_list))\n",
    "sleep_tuples;"
   ]
  },
  {
   "cell_type": "code",
   "execution_count": 10,
   "id": "2c07c20b-9c22-42f1-90e7-eddfd24e8d8b",
   "metadata": {},
   "outputs": [
    {
     "data": {
      "text/plain": [
       "[('Doctor', 6.2, 6, 60, 8, 75),\n",
       " ('Doctor', 6.2, 6, 60, 8, 75),\n",
       " ('Sales Representative', 5.9, 4, 30, 8, 85),\n",
       " ('Sales Representative', 5.9, 4, 30, 8, 85),\n",
       " ('Software Engineer', 5.9, 4, 30, 8, 85)]"
      ]
     },
     "execution_count": 10,
     "metadata": {},
     "output_type": "execute_result"
    }
   ],
   "source": [
    "# create a dictionary that allows you to look up an age and its corresponding values\n",
    "\n",
    "sleep_dict = {}\n",
    "for age, occ, dur, qual, phys, stress, heart in sleep_tuples:\n",
    "    if age in sleep_dict:\n",
    "        sleep_dict[age].append((occ, dur, qual, phys, stress, heart))\n",
    "    else:\n",
    "        sleep_dict[age] = [(occ, dur, qual, phys, stress, heart)]\n",
    "\n",
    "# dictionary values for 28 year olds\n",
    "\n",
    "sleep_dict[28]"
   ]
  },
  {
   "cell_type": "code",
   "execution_count": 11,
   "id": "4f61ccf0-ac7b-4aa5-9336-3e9ef9a17fec",
   "metadata": {},
   "outputs": [
    {
     "data": {
      "text/plain": [
       "18"
      ]
     },
     "execution_count": 11,
     "metadata": {},
     "output_type": "execute_result"
    }
   ],
   "source": [
    "# calculate number of 31 year olds recorded\n",
    "\n",
    "len(sleep_dict[31])"
   ]
  },
  {
   "cell_type": "code",
   "execution_count": 12,
   "id": "fb9f7392-197d-45b5-9f9b-3556d616e1cd",
   "metadata": {},
   "outputs": [
    {
     "data": {
      "text/plain": [
       "6.588235294117648"
      ]
     },
     "execution_count": 12,
     "metadata": {},
     "output_type": "execute_result"
    }
   ],
   "source": [
    "# calculate mean sleep duration for 32 year olds\n",
    "\n",
    "thirty_two_list = [dur for occ, dur, qual, phys, stress, heart in sleep_dict[32]]\n",
    "thirty_two_mean = sum(thirty_two_list) / len(thirty_two_list)\n",
    "thirty_two_mean"
   ]
  },
  {
   "cell_type": "code",
   "execution_count": 13,
   "id": "1cd78690-607d-4627-adb1-6394bc4c5c9e",
   "metadata": {},
   "outputs": [
    {
     "data": {
      "text/plain": [
       "{'Accountant': 2, 'Lawyer': 2}"
      ]
     },
     "execution_count": 13,
     "metadata": {},
     "output_type": "execute_result"
    }
   ],
   "source": [
    "# calculate number of occupations in requested age group\n",
    "\n",
    "def occupation_counter(age):\n",
    "    occupation_dict = {}\n",
    "    for occ, dur, qual, phys, stress, heart in sleep_dict[age]:\n",
    "        if occ in occupation_dict:\n",
    "            occupation_dict[occ] += 1\n",
    "        else:\n",
    "            occupation_dict[occ] = 1\n",
    "    return occupation_dict\n",
    "\n",
    "# test case for 40 year olds\n",
    "occupation_counter(40)\n",
    "        "
   ]
  },
  {
   "cell_type": "code",
   "execution_count": 14,
   "id": "82f9ebd7-c19c-4a81-8f85-5cbb37002121",
   "metadata": {},
   "outputs": [
    {
     "data": {
      "text/plain": [
       "2"
      ]
     },
     "execution_count": 14,
     "metadata": {},
     "output_type": "execute_result"
    }
   ],
   "source": [
    "# use the occupation_counter method to calculate number of teachers in 35 year olds\n",
    "\n",
    "thirty_five_dict = occupation_counter(35)\n",
    "thirty_five_dict['Teacher']"
   ]
  },
  {
   "cell_type": "code",
   "execution_count": 15,
   "id": "953d15c3-718b-48e3-8760-0ecc4a236433",
   "metadata": {},
   "outputs": [
    {
     "data": {
      "text/plain": [
       "dict_keys(['Teacher', 'Salesperson', 'Engineer'])"
      ]
     },
     "execution_count": 15,
     "metadata": {},
     "output_type": "execute_result"
    }
   ],
   "source": [
    "# use the occupation_counter method to obtain a list of occupations for 43 year olds\n",
    "\n",
    "occupation_counter(43).keys()"
   ]
  },
  {
   "cell_type": "code",
   "execution_count": 32,
   "id": "4559c9fb-e561-45fc-99b9-40ffa48eeccb",
   "metadata": {},
   "outputs": [
    {
     "data": {
      "text/plain": [
       "65"
      ]
     },
     "execution_count": 32,
     "metadata": {},
     "output_type": "execute_result"
    }
   ],
   "source": [
    "# construct a list of every occupation from every age group and display the number of occupations\n",
    "\n",
    "all_occupations = []\n",
    "for age in sleep_dict.keys():\n",
    "    occupations = list(occupation_counter(age).keys())\n",
    "    all_occupations += occupations\n",
    "    \n",
    "len(all_occupations)"
   ]
  },
  {
   "cell_type": "code",
   "execution_count": 42,
   "id": "3b7bd1cd-e382-4d95-855f-f451b4cf43b1",
   "metadata": {},
   "outputs": [
    {
     "data": {
      "text/plain": [
       "63"
      ]
     },
     "execution_count": 42,
     "metadata": {},
     "output_type": "execute_result"
    }
   ],
   "source": [
    "# calculate how many occupations are shared among all ages\n",
    "\n",
    "shared_count = 0 \n",
    "\n",
    "for occupation in set(all_occupations): \n",
    "    count = all_occupations.count(occupation)\n",
    "    if count > 1: \n",
    "        shared_count += count\n",
    "        \n",
    "shared_count"
   ]
  }
 ],
 "metadata": {
  "kernelspec": {
   "display_name": "Python 3 (ipykernel)",
   "language": "python",
   "name": "python3"
  },
  "language_info": {
   "codemirror_mode": {
    "name": "ipython",
    "version": 3
   },
   "file_extension": ".py",
   "mimetype": "text/x-python",
   "name": "python",
   "nbconvert_exporter": "python",
   "pygments_lexer": "ipython3",
   "version": "3.11.5"
  }
 },
 "nbformat": 4,
 "nbformat_minor": 5
}
