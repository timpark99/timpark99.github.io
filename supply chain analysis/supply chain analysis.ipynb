{
 "cells": [
  {
   "cell_type": "markdown",
   "id": "96166bc1-cd31-4288-9b05-d8fa0a84b863",
   "metadata": {},
   "source": [
    "# **Supply Chain Analysis**\n",
    "\n",
    "**Task:** Assign routes to the Orders in the 'OrdersList' table given the restrictions: \n",
    "1.  some customers can only be serviced by a particular plant\n",
    "2.  plants and ports have to be physically connected\n",
    "3.  plants can only handle specific items\n",
    "\n",
    "This dataset is divided into 7 tables.\n",
    "\n",
    "1. The OrderList table contains historical records of how the orders were routed and demand satisfied.  Order ID is the ID of the order made by the customer, and Product ID is the specific product ID the customer ordered.\n",
    "2. The FreightRates table describes all available carriers, the weight gaps for each individual lane and rates associated.  \"tpt_day_cnt\" means transportation day count, i.e. estimated shipping time.\n",
    "3. The WhCosts table specifies the cost associated in storing the products in a given warehouse measured in dollars per unit.\n",
    "4. The WhCapacities table lists warehouse capacities measured in number of orders per day.  WhCapacities corresponds to the number of orders. For example, let's say Customer 1 requests 10 units of X, Customer 2 requests 20 units of Y. The total number of orders is 2, thus total capacity in \"WhCapacities\" is 2.  The table shows the maximum number of orders that can be processed per day for each plant - it is not dependent on specific products.\n",
    "5. The ProductsPerPlant table lists all supported warehouse-product combinations.\n",
    "6. The VmiCustomers lists all special cases, where the warehouse is only allowed to support a specific customer, while any other non-listed warehouse can supply any customer.\n",
    "7. The PlantPorts table describes the allowed links between the warehouses and shipping ports. \n",
    "\n",
    "In order to build a Linear Programming (LP) model, you would take the following from the OrderList: the Product ID that needs to be shipped, the Destination Port, Unit quantity and Weight (for weight constraints). And then use the limits of those constraints from other tables.\n",
    "\n",
    "Notes: There is a Carrier V44_3 in the order_list table, but it is missing in the FreightRates table. V44_3 is a carrier that was historically used for supplying given demand, but it has been discontinued and therefore does not appear in the Freight Rates List. Also, all of the V44_3 instances are CRF - i.e. customer arranges their own shipping and hence cost is not calculated either way."
   ]
  },
  {
   "cell_type": "code",
   "execution_count": 65,
   "id": "8903fd1e-d6a9-4a7b-aa13-c7f65acd8a6d",
   "metadata": {},
   "outputs": [],
   "source": [
    "import numpy as np\n",
    "import pandas as pd\n",
    "import matplotlib.pyplot as plt\n",
    "import seaborn as sns"
   ]
  },
  {
   "cell_type": "markdown",
   "id": "071c514b-6a7f-44af-bf38-02f7f031bc94",
   "metadata": {},
   "source": [
    "1. load excel file\n",
    "2. read all sheets into a dictionary of dataframes\n",
    "3. show all keys (sheet names)"
   ]
  },
  {
   "cell_type": "code",
   "execution_count": 67,
   "id": "8da038d2-2a29-4019-a408-bca1be9e7761",
   "metadata": {},
   "outputs": [
    {
     "data": {
      "text/plain": [
       "dict_keys(['OrderList', 'FreightRates', 'WhCosts', 'WhCapacities', 'ProductsPerPlant', 'VmiCustomers', 'PlantPorts'])"
      ]
     },
     "execution_count": 67,
     "metadata": {},
     "output_type": "execute_result"
    }
   ],
   "source": [
    "main_file = pd.ExcelFile(\"/Users/timothypark/Documents/portfolios/timpark99.github.io/supply chain analysis/supply chain original.xlsx\")\n",
    "\n",
    "df_dict = {sheet_name: main_file.parse(sheet_name) for sheet_name in main_file.sheet_names}\n",
    "\n",
    "df_dict.keys()"
   ]
  },
  {
   "cell_type": "markdown",
   "id": "c9ff4a1f-57c4-49cd-bd16-60dfcf4cab54",
   "metadata": {},
   "source": [
    "## Data Preparation and Transformation\n",
    "1. print the shape of each dataframe\n",
    "2. check and print duplicates or missing values for each dataframe\n",
    "\n",
    "* df.duplicated().sum() calculates the total number of duplicate rows.\n",
    "* df.isnull().sum().sum() finds the total number of missing values across all columns.  There are two calls for .sum() because the first one looks at each column, but the second call adds up all the missing value counts from all columns.  "
   ]
  },
  {
   "cell_type": "code",
   "execution_count": 69,
   "id": "7f4e4ee8-bfa7-4447-b3ee-b4d49963d40c",
   "metadata": {},
   "outputs": [
    {
     "name": "stdout",
     "output_type": "stream",
     "text": [
      "OrderList - Shape: (9215, 14)\n",
      "   >>> OrderList has no duplicates or missing values.\n",
      "FreightRates - Shape: (1540, 11)\n",
      "   >>> FreightRates - Duplicates: 3; Missing Values: 0\n",
      "WhCosts - Shape: (19, 2)\n",
      "   >>> WhCosts has no duplicates or missing values.\n",
      "WhCapacities - Shape: (19, 2)\n",
      "   >>> WhCapacities has no duplicates or missing values.\n",
      "ProductsPerPlant - Shape: (2036, 2)\n",
      "   >>> ProductsPerPlant has no duplicates or missing values.\n",
      "VmiCustomers - Shape: (14, 2)\n",
      "   >>> VmiCustomers has no duplicates or missing values.\n",
      "PlantPorts - Shape: (22, 2)\n",
      "   >>> PlantPorts has no duplicates or missing values.\n"
     ]
    }
   ],
   "source": [
    "for df_name, df in df_dict.items():\n",
    "    print(f\"{df_name} - Shape: {df.shape}\")\n",
    "    \n",
    "    duplicate_count = df.duplicated().sum()\n",
    "    missing_values_count = df.isnull().sum().sum()\n",
    "    \n",
    "    if duplicate_count > 0 or missing_values_count > 0:\n",
    "        print(f\"   >>> {df_name} - Duplicates: {duplicate_count}; Missing Values: {missing_values_count}\")\n",
    "    else:\n",
    "        print(f\"   >>> {df_name} has no duplicates or missing values.\")"
   ]
  },
  {
   "cell_type": "markdown",
   "id": "758a3196-8a04-4cab-8d83-bd443f2c9e80",
   "metadata": {},
   "source": [
    "1. drop duplicates for the FreightRates table\n",
    "2. update dictionary\n",
    "3. rename columns by replacing spaces and `/` with underscores and make them all uppercase.  The .strip() method removes any leading or trailing whitespace from each column name."
   ]
  },
  {
   "cell_type": "code",
   "execution_count": 71,
   "id": "388c0e1f-92d0-4455-84f3-6dd3d7800c54",
   "metadata": {},
   "outputs": [
    {
     "name": "stdout",
     "output_type": "stream",
     "text": [
      "Index(['ORDER_ID', 'ORDER_DATE', 'ORIGIN_PORT', 'CARRIER', 'TPT',\n",
      "       'SERVICE_LEVEL', 'SHIP_AHEAD_DAY_COUNT', 'SHIP_LATE_DAY_COUNT',\n",
      "       'CUSTOMER', 'PRODUCT_ID', 'PLANT_CODE', 'DESTINATION_PORT',\n",
      "       'UNIT_QUANTITY', 'WEIGHT'],\n",
      "      dtype='object')\n"
     ]
    }
   ],
   "source": [
    "FreightRates = df_dict['FreightRates'].drop_duplicates()\n",
    "\n",
    "df_dict['FreightRates'] = FreightRates\n",
    "\n",
    "for df_name, df in df_dict.items():\n",
    "    df.columns = [col.strip().replace(' ', '_').replace('/', '_').upper() for col in df.columns]\n",
    "\n",
    "print(df_dict['OrderList'].columns)"
   ]
  },
  {
   "cell_type": "markdown",
   "id": "65ae1043-7914-4a98-a5c8-88bf8808e19c",
   "metadata": {},
   "source": [
    "* merge OrderList with FreightRates and WhCosts on relevant columns: here we set a variable orderList to be the OrderList dataframe.  Then we first merge the OrderList and FreightRates dataframes, using matching columns as join keys.  We merge on 3 key columns which are CARRIER, ORIGIN_PORT, and DESTINATION_PORT in OrderList, which correspond to CARRIER, ORIG_PORT_CD, and DEST_PORT_CD in FreightRates. how='left' ensures that all rows in orderList are kept, with matched values from FreightRates or NaN if no match is found.  Then we merge orderList with WhCosts on the PLANT_CODE column in orderList and WH in WhCosts.  Again, how='left' retains all rows from orderList, adding WhCosts data where available.\n",
    "* calculate the cost by multiplying unit quantity with the shipping rate and adding the storage cost: we add a new column in orderList called **COST** and we add up the cost of transporting the order and the cost of storing it in the warehouse by using the variables UNIT_QUANTITY, RATE, and COST_UNIT.\n",
    "* perform detailed data preparation and transformation for OrderList dataframe: In these lines, you’re cleaning up orderList by dropping rows with any NaN values and converting the ORDER_DATE column to a datetime format.  This allows for easier manipulation of date-related data, such as filtering, grouping by date, or calculating time differences.\n",
    "This is a common data-preprocessing step to ensure data is complete and dates are in the correct format for analysis.\n",
    "* perform additional data preparation and transformation for the ProductsPerPlant dataframe\n",
    "* update dictionary values with the cleaned dataframes \n"
   ]
  },
  {
   "cell_type": "code",
   "execution_count": 73,
   "id": "b98d2a47-84d2-4887-aebf-be9caa240781",
   "metadata": {},
   "outputs": [
    {
     "data": {
      "text/html": [
       "<div>\n",
       "<style scoped>\n",
       "    .dataframe tbody tr th:only-of-type {\n",
       "        vertical-align: middle;\n",
       "    }\n",
       "\n",
       "    .dataframe tbody tr th {\n",
       "        vertical-align: top;\n",
       "    }\n",
       "\n",
       "    .dataframe thead th {\n",
       "        text-align: right;\n",
       "    }\n",
       "</style>\n",
       "<table border=\"1\" class=\"dataframe\">\n",
       "  <thead>\n",
       "    <tr style=\"text-align: right;\">\n",
       "      <th></th>\n",
       "      <th>ORDER_ID</th>\n",
       "      <th>ORDER_DATE</th>\n",
       "      <th>ORIGIN_PORT</th>\n",
       "      <th>CARRIER</th>\n",
       "      <th>TPT</th>\n",
       "      <th>SERVICE_LEVEL</th>\n",
       "      <th>SHIP_AHEAD_DAY_COUNT</th>\n",
       "      <th>SHIP_LATE_DAY_COUNT</th>\n",
       "      <th>CUSTOMER</th>\n",
       "      <th>PRODUCT_ID</th>\n",
       "      <th>...</th>\n",
       "      <th>MAX_WGH_QTY</th>\n",
       "      <th>SVC_CD</th>\n",
       "      <th>MINIMUM_COST</th>\n",
       "      <th>RATE</th>\n",
       "      <th>MODE_DSC</th>\n",
       "      <th>TPT_DAY_CNT</th>\n",
       "      <th>CARRIER_TYPE</th>\n",
       "      <th>WH</th>\n",
       "      <th>COST_UNIT</th>\n",
       "      <th>COST</th>\n",
       "    </tr>\n",
       "  </thead>\n",
       "  <tbody>\n",
       "    <tr>\n",
       "      <th>854</th>\n",
       "      <td>1.447385e+09</td>\n",
       "      <td>2013-05-26</td>\n",
       "      <td>PORT09</td>\n",
       "      <td>V444_0</td>\n",
       "      <td>0</td>\n",
       "      <td>DTP</td>\n",
       "      <td>0</td>\n",
       "      <td>0</td>\n",
       "      <td>V55555_4</td>\n",
       "      <td>1692724</td>\n",
       "      <td>...</td>\n",
       "      <td>5000.0</td>\n",
       "      <td>DTP</td>\n",
       "      <td>31.2784</td>\n",
       "      <td>12.2784</td>\n",
       "      <td>GROUND</td>\n",
       "      <td>0.0</td>\n",
       "      <td>V88888888_0</td>\n",
       "      <td>PLANT16</td>\n",
       "      <td>1.919808</td>\n",
       "      <td>4713.804893</td>\n",
       "    </tr>\n",
       "    <tr>\n",
       "      <th>855</th>\n",
       "      <td>1.447385e+09</td>\n",
       "      <td>2013-05-26</td>\n",
       "      <td>PORT09</td>\n",
       "      <td>V444_0</td>\n",
       "      <td>0</td>\n",
       "      <td>DTP</td>\n",
       "      <td>0</td>\n",
       "      <td>0</td>\n",
       "      <td>V55555_4</td>\n",
       "      <td>1692724</td>\n",
       "      <td>...</td>\n",
       "      <td>5000.0</td>\n",
       "      <td>DTD</td>\n",
       "      <td>31.2784</td>\n",
       "      <td>13.2784</td>\n",
       "      <td>GROUND</td>\n",
       "      <td>0.0</td>\n",
       "      <td>V88888888_0</td>\n",
       "      <td>PLANT16</td>\n",
       "      <td>1.919808</td>\n",
       "      <td>5045.804893</td>\n",
       "    </tr>\n",
       "    <tr>\n",
       "      <th>856</th>\n",
       "      <td>1.447338e+09</td>\n",
       "      <td>2013-05-26</td>\n",
       "      <td>PORT09</td>\n",
       "      <td>V444_0</td>\n",
       "      <td>0</td>\n",
       "      <td>DTP</td>\n",
       "      <td>0</td>\n",
       "      <td>0</td>\n",
       "      <td>V55555_4</td>\n",
       "      <td>1692724</td>\n",
       "      <td>...</td>\n",
       "      <td>5000.0</td>\n",
       "      <td>DTP</td>\n",
       "      <td>31.2784</td>\n",
       "      <td>12.2784</td>\n",
       "      <td>GROUND</td>\n",
       "      <td>0.0</td>\n",
       "      <td>V88888888_0</td>\n",
       "      <td>PLANT16</td>\n",
       "      <td>1.919808</td>\n",
       "      <td>5082.958288</td>\n",
       "    </tr>\n",
       "    <tr>\n",
       "      <th>857</th>\n",
       "      <td>1.447338e+09</td>\n",
       "      <td>2013-05-26</td>\n",
       "      <td>PORT09</td>\n",
       "      <td>V444_0</td>\n",
       "      <td>0</td>\n",
       "      <td>DTP</td>\n",
       "      <td>0</td>\n",
       "      <td>0</td>\n",
       "      <td>V55555_4</td>\n",
       "      <td>1692724</td>\n",
       "      <td>...</td>\n",
       "      <td>5000.0</td>\n",
       "      <td>DTD</td>\n",
       "      <td>31.2784</td>\n",
       "      <td>13.2784</td>\n",
       "      <td>GROUND</td>\n",
       "      <td>0.0</td>\n",
       "      <td>V88888888_0</td>\n",
       "      <td>PLANT16</td>\n",
       "      <td>1.919808</td>\n",
       "      <td>5440.958288</td>\n",
       "    </tr>\n",
       "    <tr>\n",
       "      <th>858</th>\n",
       "      <td>1.447407e+09</td>\n",
       "      <td>2013-05-26</td>\n",
       "      <td>PORT09</td>\n",
       "      <td>V444_0</td>\n",
       "      <td>0</td>\n",
       "      <td>DTP</td>\n",
       "      <td>3</td>\n",
       "      <td>0</td>\n",
       "      <td>V555555_6</td>\n",
       "      <td>1692722</td>\n",
       "      <td>...</td>\n",
       "      <td>5000.0</td>\n",
       "      <td>DTP</td>\n",
       "      <td>31.2784</td>\n",
       "      <td>12.2784</td>\n",
       "      <td>GROUND</td>\n",
       "      <td>0.0</td>\n",
       "      <td>V88888888_0</td>\n",
       "      <td>PLANT16</td>\n",
       "      <td>1.919808</td>\n",
       "      <td>5807.066871</td>\n",
       "    </tr>\n",
       "  </tbody>\n",
       "</table>\n",
       "<p>5 rows × 27 columns</p>\n",
       "</div>"
      ],
      "text/plain": [
       "         ORDER_ID ORDER_DATE ORIGIN_PORT CARRIER  TPT SERVICE_LEVEL  \\\n",
       "854  1.447385e+09 2013-05-26      PORT09  V444_0    0           DTP   \n",
       "855  1.447385e+09 2013-05-26      PORT09  V444_0    0           DTP   \n",
       "856  1.447338e+09 2013-05-26      PORT09  V444_0    0           DTP   \n",
       "857  1.447338e+09 2013-05-26      PORT09  V444_0    0           DTP   \n",
       "858  1.447407e+09 2013-05-26      PORT09  V444_0    0           DTP   \n",
       "\n",
       "     SHIP_AHEAD_DAY_COUNT  SHIP_LATE_DAY_COUNT   CUSTOMER  PRODUCT_ID  ...  \\\n",
       "854                     0                    0   V55555_4     1692724  ...   \n",
       "855                     0                    0   V55555_4     1692724  ...   \n",
       "856                     0                    0   V55555_4     1692724  ...   \n",
       "857                     0                    0   V55555_4     1692724  ...   \n",
       "858                     3                    0  V555555_6     1692722  ...   \n",
       "\n",
       "    MAX_WGH_QTY SVC_CD  MINIMUM_COST     RATE MODE_DSC TPT_DAY_CNT  \\\n",
       "854      5000.0    DTP       31.2784  12.2784   GROUND         0.0   \n",
       "855      5000.0    DTD       31.2784  13.2784   GROUND         0.0   \n",
       "856      5000.0    DTP       31.2784  12.2784   GROUND         0.0   \n",
       "857      5000.0    DTD       31.2784  13.2784   GROUND         0.0   \n",
       "858      5000.0    DTP       31.2784  12.2784   GROUND         0.0   \n",
       "\n",
       "     CARRIER_TYPE       WH COST_UNIT         COST  \n",
       "854   V88888888_0  PLANT16  1.919808  4713.804893  \n",
       "855   V88888888_0  PLANT16  1.919808  5045.804893  \n",
       "856   V88888888_0  PLANT16  1.919808  5082.958288  \n",
       "857   V88888888_0  PLANT16  1.919808  5440.958288  \n",
       "858   V88888888_0  PLANT16  1.919808  5807.066871  \n",
       "\n",
       "[5 rows x 27 columns]"
      ]
     },
     "execution_count": 73,
     "metadata": {},
     "output_type": "execute_result"
    }
   ],
   "source": [
    "orderList = df_dict['OrderList']\n",
    "\n",
    "orderList = orderList.merge(df_dict['FreightRates'], left_on=['CARRIER', 'ORIGIN_PORT', 'DESTINATION_PORT'],\n",
    "                            right_on=['CARRIER', 'ORIG_PORT_CD', 'DEST_PORT_CD'], how='left')\n",
    "\n",
    "orderList = orderList.merge(df_dict['WhCosts'], left_on='PLANT_CODE', right_on='WH', how='left')\n",
    "\n",
    "orderList['COST'] = (orderList['UNIT_QUANTITY'] * orderList['RATE']) + (orderList['UNIT_QUANTITY'] * orderList['COST_UNIT'])\n",
    "\n",
    "orderList = orderList.dropna()\n",
    "\n",
    "orderList['ORDER_DATE'] = pd.to_datetime(orderList['ORDER_DATE'])\n",
    "\n",
    "productsPerPlant = df_dict['ProductsPerPlant']\n",
    "productsPerPlant = productsPerPlant.dropna()\n",
    "\n",
    "df_dict['OrderList'] = orderList\n",
    "df_dict['ProductsPerPlant'] = productsPerPlant\n",
    "\n",
    "df_dict['OrderList'].head()"
   ]
  },
  {
   "cell_type": "code",
   "execution_count": 74,
   "id": "8c651c79-9947-4aaf-8362-81cf85677d0e",
   "metadata": {},
   "outputs": [
    {
     "name": "stdout",
     "output_type": "stream",
     "text": [
      "['DTP' 'DTD']\n",
      "['DTP' 'DTD']\n",
      "['PLANT16' 'PLANT12' 'PLANT09' 'PLANT03' 'PLANT13' 'PLANT08']\n",
      "['PLANT16' 'PLANT12' 'PLANT09' 'PLANT03' 'PLANT13' 'PLANT08']\n"
     ]
    }
   ],
   "source": [
    "print(df_dict['OrderList']['SERVICE_LEVEL'].unique())\n",
    "print(df_dict['OrderList']['SVC_CD'].unique())\n",
    "print(df_dict['OrderList']['PLANT_CODE'].unique())\n",
    "print(df_dict['OrderList']['WH'].unique())"
   ]
  },
  {
   "cell_type": "markdown",
   "id": "aa98d63b-6e60-44b1-96ba-4639bc72064d",
   "metadata": {},
   "source": [
    "* check updated columns of all dataframes"
   ]
  },
  {
   "cell_type": "code",
   "execution_count": 76,
   "id": "2c9f567a-0743-4514-9c19-69b03f9811df",
   "metadata": {},
   "outputs": [
    {
     "name": "stdout",
     "output_type": "stream",
     "text": [
      "Dataframe: OrderList >>>\n",
      "Columns: ['ORDER_ID' 'ORDER_DATE' 'ORIGIN_PORT' 'CARRIER' 'TPT' 'SERVICE_LEVEL'\n",
      " 'SHIP_AHEAD_DAY_COUNT' 'SHIP_LATE_DAY_COUNT' 'CUSTOMER' 'PRODUCT_ID'\n",
      " 'PLANT_CODE' 'DESTINATION_PORT' 'UNIT_QUANTITY' 'WEIGHT' 'ORIG_PORT_CD'\n",
      " 'DEST_PORT_CD' 'MINM_WGH_QTY' 'MAX_WGH_QTY' 'SVC_CD' 'MINIMUM_COST'\n",
      " 'RATE' 'MODE_DSC' 'TPT_DAY_CNT' 'CARRIER_TYPE' 'WH' 'COST_UNIT' 'COST']\n",
      "Dataframe: FreightRates >>>\n",
      "Columns: ['CARRIER' 'ORIG_PORT_CD' 'DEST_PORT_CD' 'MINM_WGH_QTY' 'MAX_WGH_QTY'\n",
      " 'SVC_CD' 'MINIMUM_COST' 'RATE' 'MODE_DSC' 'TPT_DAY_CNT' 'CARRIER_TYPE']\n",
      "Dataframe: WhCosts >>>\n",
      "Columns: ['WH' 'COST_UNIT']\n",
      "Dataframe: WhCapacities >>>\n",
      "Columns: ['PLANT_ID' 'DAILY_CAPACITY']\n",
      "Dataframe: ProductsPerPlant >>>\n",
      "Columns: ['PLANT_CODE' 'PRODUCT_ID']\n",
      "Dataframe: VmiCustomers >>>\n",
      "Columns: ['PLANT_CODE' 'CUSTOMERS']\n",
      "Dataframe: PlantPorts >>>\n",
      "Columns: ['PLANT_CODE' 'PORT']\n"
     ]
    }
   ],
   "source": [
    "for df_name, df in df_dict.items():\n",
    "    print(f'Dataframe: {df_name} >>>')\n",
    "    print('Columns:', df.columns.values)"
   ]
  },
  {
   "cell_type": "markdown",
   "id": "d81c0b88-1737-4955-a248-8d6c70308f5f",
   "metadata": {},
   "source": [
    "## Statistics and Visualization"
   ]
  },
  {
   "cell_type": "markdown",
   "id": "1c4b30b0-3672-4dd6-9139-c6acb6c0258b",
   "metadata": {},
   "source": [
    "The .describe() function in Python is a quick and powerful way to generate summary statistics for numerical and categorical columns in a pandas DataFrame.  df.describe() generates descriptive statistics for all numeric columns by default.  Notice how it doesn't contain any text values.\n",
    "\n",
    "Statistics include:\n",
    "* count: Number of non-missing values.\n",
    "* mean: Average of the column.\n",
    "* std: Standard deviation.\n",
    "* min: Minimum value.\n",
    "* 25%, 50%, 75%: Percentiles (Quartiles).\n",
    "* max: Maximum value."
   ]
  },
  {
   "cell_type": "code",
   "execution_count": 79,
   "id": "3f735b49-f9d8-43b0-8a42-d4b7951fdbc3",
   "metadata": {},
   "outputs": [
    {
     "data": {
      "text/html": [
       "<div>\n",
       "<style scoped>\n",
       "    .dataframe tbody tr th:only-of-type {\n",
       "        vertical-align: middle;\n",
       "    }\n",
       "\n",
       "    .dataframe tbody tr th {\n",
       "        vertical-align: top;\n",
       "    }\n",
       "\n",
       "    .dataframe thead th {\n",
       "        text-align: right;\n",
       "    }\n",
       "</style>\n",
       "<table border=\"1\" class=\"dataframe\">\n",
       "  <thead>\n",
       "    <tr style=\"text-align: right;\">\n",
       "      <th></th>\n",
       "      <th>ORDER_ID</th>\n",
       "      <th>ORDER_DATE</th>\n",
       "      <th>TPT</th>\n",
       "      <th>SHIP_AHEAD_DAY_COUNT</th>\n",
       "      <th>SHIP_LATE_DAY_COUNT</th>\n",
       "      <th>PRODUCT_ID</th>\n",
       "      <th>UNIT_QUANTITY</th>\n",
       "      <th>WEIGHT</th>\n",
       "      <th>MINM_WGH_QTY</th>\n",
       "      <th>MAX_WGH_QTY</th>\n",
       "      <th>MINIMUM_COST</th>\n",
       "      <th>RATE</th>\n",
       "      <th>TPT_DAY_CNT</th>\n",
       "      <th>COST_UNIT</th>\n",
       "      <th>COST</th>\n",
       "    </tr>\n",
       "  </thead>\n",
       "  <tbody>\n",
       "    <tr>\n",
       "      <th>count</th>\n",
       "      <td>2.085480e+05</td>\n",
       "      <td>208548</td>\n",
       "      <td>208548.000000</td>\n",
       "      <td>208548.000000</td>\n",
       "      <td>208548.000000</td>\n",
       "      <td>2.085480e+05</td>\n",
       "      <td>208548.000000</td>\n",
       "      <td>208548.000000</td>\n",
       "      <td>208548.000000</td>\n",
       "      <td>208548.000000</td>\n",
       "      <td>208548.000000</td>\n",
       "      <td>208548.000000</td>\n",
       "      <td>208548.000000</td>\n",
       "      <td>208548.000000</td>\n",
       "      <td>208548.000000</td>\n",
       "    </tr>\n",
       "    <tr>\n",
       "      <th>mean</th>\n",
       "      <td>1.447273e+09</td>\n",
       "      <td>2013-05-26 00:00:00</td>\n",
       "      <td>1.624374</td>\n",
       "      <td>1.931987</td>\n",
       "      <td>0.037881</td>\n",
       "      <td>1.680153e+06</td>\n",
       "      <td>2664.160021</td>\n",
       "      <td>16.350336</td>\n",
       "      <td>420.013605</td>\n",
       "      <td>12770.395519</td>\n",
       "      <td>9.900351</td>\n",
       "      <td>0.132569</td>\n",
       "      <td>2.096975</td>\n",
       "      <td>0.527681</td>\n",
       "      <td>1597.678289</td>\n",
       "    </tr>\n",
       "    <tr>\n",
       "      <th>min</th>\n",
       "      <td>1.447126e+09</td>\n",
       "      <td>2013-05-26 00:00:00</td>\n",
       "      <td>0.000000</td>\n",
       "      <td>0.000000</td>\n",
       "      <td>0.000000</td>\n",
       "      <td>1.613321e+06</td>\n",
       "      <td>235.000000</td>\n",
       "      <td>0.000000</td>\n",
       "      <td>0.000000</td>\n",
       "      <td>0.500000</td>\n",
       "      <td>1.202000</td>\n",
       "      <td>0.042400</td>\n",
       "      <td>0.000000</td>\n",
       "      <td>0.465071</td>\n",
       "      <td>122.905694</td>\n",
       "    </tr>\n",
       "    <tr>\n",
       "      <th>25%</th>\n",
       "      <td>1.447195e+09</td>\n",
       "      <td>2013-05-26 00:00:00</td>\n",
       "      <td>1.000000</td>\n",
       "      <td>0.000000</td>\n",
       "      <td>0.000000</td>\n",
       "      <td>1.671942e+06</td>\n",
       "      <td>328.000000</td>\n",
       "      <td>1.404421</td>\n",
       "      <td>1.510000</td>\n",
       "      <td>99.990000</td>\n",
       "      <td>1.499200</td>\n",
       "      <td>0.048400</td>\n",
       "      <td>2.000000</td>\n",
       "      <td>0.517502</td>\n",
       "      <td>202.688741</td>\n",
       "    </tr>\n",
       "    <tr>\n",
       "      <th>50%</th>\n",
       "      <td>1.447273e+09</td>\n",
       "      <td>2013-05-26 00:00:00</td>\n",
       "      <td>2.000000</td>\n",
       "      <td>1.000000</td>\n",
       "      <td>0.000000</td>\n",
       "      <td>1.683634e+06</td>\n",
       "      <td>437.000000</td>\n",
       "      <td>4.484133</td>\n",
       "      <td>100.000000</td>\n",
       "      <td>299.990000</td>\n",
       "      <td>3.455200</td>\n",
       "      <td>0.056400</td>\n",
       "      <td>2.000000</td>\n",
       "      <td>0.517502</td>\n",
       "      <td>305.286643</td>\n",
       "    </tr>\n",
       "    <tr>\n",
       "      <th>75%</th>\n",
       "      <td>1.447345e+09</td>\n",
       "      <td>2013-05-26 00:00:00</td>\n",
       "      <td>2.000000</td>\n",
       "      <td>3.000000</td>\n",
       "      <td>0.000000</td>\n",
       "      <td>1.689547e+06</td>\n",
       "      <td>955.000000</td>\n",
       "      <td>13.080000</td>\n",
       "      <td>500.000000</td>\n",
       "      <td>1999.990000</td>\n",
       "      <td>3.455200</td>\n",
       "      <td>0.082400</td>\n",
       "      <td>3.000000</td>\n",
       "      <td>0.517502</td>\n",
       "      <td>634.937701</td>\n",
       "    </tr>\n",
       "    <tr>\n",
       "      <th>max</th>\n",
       "      <td>1.447425e+09</td>\n",
       "      <td>2013-05-26 00:00:00</td>\n",
       "      <td>3.000000</td>\n",
       "      <td>6.000000</td>\n",
       "      <td>6.000000</td>\n",
       "      <td>1.702224e+06</td>\n",
       "      <td>561847.000000</td>\n",
       "      <td>2338.405126</td>\n",
       "      <td>2000.000000</td>\n",
       "      <td>99999.990000</td>\n",
       "      <td>101.827200</td>\n",
       "      <td>13.278400</td>\n",
       "      <td>3.000000</td>\n",
       "      <td>1.919808</td>\n",
       "      <td>337053.078104</td>\n",
       "    </tr>\n",
       "    <tr>\n",
       "      <th>std</th>\n",
       "      <td>8.414006e+04</td>\n",
       "      <td>NaN</td>\n",
       "      <td>0.496295</td>\n",
       "      <td>2.059308</td>\n",
       "      <td>0.313074</td>\n",
       "      <td>1.450609e+04</td>\n",
       "      <td>14966.032979</td>\n",
       "      <td>49.284847</td>\n",
       "      <td>628.169544</td>\n",
       "      <td>32193.967016</td>\n",
       "      <td>21.315896</td>\n",
       "      <td>0.272103</td>\n",
       "      <td>0.701241</td>\n",
       "      <td>0.056108</td>\n",
       "      <td>8684.093299</td>\n",
       "    </tr>\n",
       "  </tbody>\n",
       "</table>\n",
       "</div>"
      ],
      "text/plain": [
       "           ORDER_ID           ORDER_DATE            TPT  SHIP_AHEAD_DAY_COUNT  \\\n",
       "count  2.085480e+05               208548  208548.000000         208548.000000   \n",
       "mean   1.447273e+09  2013-05-26 00:00:00       1.624374              1.931987   \n",
       "min    1.447126e+09  2013-05-26 00:00:00       0.000000              0.000000   \n",
       "25%    1.447195e+09  2013-05-26 00:00:00       1.000000              0.000000   \n",
       "50%    1.447273e+09  2013-05-26 00:00:00       2.000000              1.000000   \n",
       "75%    1.447345e+09  2013-05-26 00:00:00       2.000000              3.000000   \n",
       "max    1.447425e+09  2013-05-26 00:00:00       3.000000              6.000000   \n",
       "std    8.414006e+04                  NaN       0.496295              2.059308   \n",
       "\n",
       "       SHIP_LATE_DAY_COUNT    PRODUCT_ID  UNIT_QUANTITY         WEIGHT  \\\n",
       "count        208548.000000  2.085480e+05  208548.000000  208548.000000   \n",
       "mean              0.037881  1.680153e+06    2664.160021      16.350336   \n",
       "min               0.000000  1.613321e+06     235.000000       0.000000   \n",
       "25%               0.000000  1.671942e+06     328.000000       1.404421   \n",
       "50%               0.000000  1.683634e+06     437.000000       4.484133   \n",
       "75%               0.000000  1.689547e+06     955.000000      13.080000   \n",
       "max               6.000000  1.702224e+06  561847.000000    2338.405126   \n",
       "std               0.313074  1.450609e+04   14966.032979      49.284847   \n",
       "\n",
       "        MINM_WGH_QTY    MAX_WGH_QTY   MINIMUM_COST           RATE  \\\n",
       "count  208548.000000  208548.000000  208548.000000  208548.000000   \n",
       "mean      420.013605   12770.395519       9.900351       0.132569   \n",
       "min         0.000000       0.500000       1.202000       0.042400   \n",
       "25%         1.510000      99.990000       1.499200       0.048400   \n",
       "50%       100.000000     299.990000       3.455200       0.056400   \n",
       "75%       500.000000    1999.990000       3.455200       0.082400   \n",
       "max      2000.000000   99999.990000     101.827200      13.278400   \n",
       "std       628.169544   32193.967016      21.315896       0.272103   \n",
       "\n",
       "         TPT_DAY_CNT      COST_UNIT           COST  \n",
       "count  208548.000000  208548.000000  208548.000000  \n",
       "mean        2.096975       0.527681    1597.678289  \n",
       "min         0.000000       0.465071     122.905694  \n",
       "25%         2.000000       0.517502     202.688741  \n",
       "50%         2.000000       0.517502     305.286643  \n",
       "75%         3.000000       0.517502     634.937701  \n",
       "max         3.000000       1.919808  337053.078104  \n",
       "std         0.701241       0.056108    8684.093299  "
      ]
     },
     "execution_count": 79,
     "metadata": {},
     "output_type": "execute_result"
    }
   ],
   "source": [
    "df_dict['OrderList'].describe()"
   ]
  },
  {
   "cell_type": "code",
   "execution_count": 80,
   "id": "4a5990c7-9dca-4e20-b7ab-3f4a722e23c2",
   "metadata": {},
   "outputs": [
    {
     "data": {
      "text/html": [
       "<div>\n",
       "<style scoped>\n",
       "    .dataframe tbody tr th:only-of-type {\n",
       "        vertical-align: middle;\n",
       "    }\n",
       "\n",
       "    .dataframe tbody tr th {\n",
       "        vertical-align: top;\n",
       "    }\n",
       "\n",
       "    .dataframe thead th {\n",
       "        text-align: right;\n",
       "    }\n",
       "</style>\n",
       "<table border=\"1\" class=\"dataframe\">\n",
       "  <thead>\n",
       "    <tr style=\"text-align: right;\">\n",
       "      <th></th>\n",
       "      <th>MINM_WGH_QTY</th>\n",
       "      <th>MAX_WGH_QTY</th>\n",
       "      <th>MINIMUM_COST</th>\n",
       "      <th>RATE</th>\n",
       "      <th>TPT_DAY_CNT</th>\n",
       "    </tr>\n",
       "  </thead>\n",
       "  <tbody>\n",
       "    <tr>\n",
       "      <th>count</th>\n",
       "      <td>1537.000000</td>\n",
       "      <td>1537.000000</td>\n",
       "      <td>1537.000000</td>\n",
       "      <td>1537.000000</td>\n",
       "      <td>1537.000000</td>\n",
       "    </tr>\n",
       "    <tr>\n",
       "      <th>mean</th>\n",
       "      <td>156.190905</td>\n",
       "      <td>4635.433438</td>\n",
       "      <td>12.300002</td>\n",
       "      <td>2.875135</td>\n",
       "      <td>2.188679</td>\n",
       "    </tr>\n",
       "    <tr>\n",
       "      <th>std</th>\n",
       "      <td>476.366708</td>\n",
       "      <td>20271.070359</td>\n",
       "      <td>22.959164</td>\n",
       "      <td>4.590475</td>\n",
       "      <td>2.002161</td>\n",
       "    </tr>\n",
       "    <tr>\n",
       "      <th>min</th>\n",
       "      <td>0.000000</td>\n",
       "      <td>0.453592</td>\n",
       "      <td>1.202000</td>\n",
       "      <td>0.033200</td>\n",
       "      <td>0.000000</td>\n",
       "    </tr>\n",
       "    <tr>\n",
       "      <th>25%</th>\n",
       "      <td>15.010000</td>\n",
       "      <td>21.500000</td>\n",
       "      <td>3.656800</td>\n",
       "      <td>0.451200</td>\n",
       "      <td>1.000000</td>\n",
       "    </tr>\n",
       "    <tr>\n",
       "      <th>50%</th>\n",
       "      <td>41.281408</td>\n",
       "      <td>47.500000</td>\n",
       "      <td>7.403200</td>\n",
       "      <td>1.656800</td>\n",
       "      <td>2.000000</td>\n",
       "    </tr>\n",
       "    <tr>\n",
       "      <th>75%</th>\n",
       "      <td>67.510000</td>\n",
       "      <td>75.000000</td>\n",
       "      <td>11.480000</td>\n",
       "      <td>3.916800</td>\n",
       "      <td>2.000000</td>\n",
       "    </tr>\n",
       "    <tr>\n",
       "      <th>max</th>\n",
       "      <td>10000.000000</td>\n",
       "      <td>99999.990000</td>\n",
       "      <td>425.027200</td>\n",
       "      <td>128.027200</td>\n",
       "      <td>14.000000</td>\n",
       "    </tr>\n",
       "  </tbody>\n",
       "</table>\n",
       "</div>"
      ],
      "text/plain": [
       "       MINM_WGH_QTY   MAX_WGH_QTY  MINIMUM_COST         RATE  TPT_DAY_CNT\n",
       "count   1537.000000   1537.000000   1537.000000  1537.000000  1537.000000\n",
       "mean     156.190905   4635.433438     12.300002     2.875135     2.188679\n",
       "std      476.366708  20271.070359     22.959164     4.590475     2.002161\n",
       "min        0.000000      0.453592      1.202000     0.033200     0.000000\n",
       "25%       15.010000     21.500000      3.656800     0.451200     1.000000\n",
       "50%       41.281408     47.500000      7.403200     1.656800     2.000000\n",
       "75%       67.510000     75.000000     11.480000     3.916800     2.000000\n",
       "max    10000.000000  99999.990000    425.027200   128.027200    14.000000"
      ]
     },
     "execution_count": 80,
     "metadata": {},
     "output_type": "execute_result"
    }
   ],
   "source": [
    "df_dict['FreightRates'].describe()"
   ]
  },
  {
   "cell_type": "markdown",
   "id": "c9375ea7-72a0-45b6-8336-6d4bcbfc25b1",
   "metadata": {},
   "source": [
    "* .corr():\n",
    "Calculates pairwise correlation coefficients for numeric columns in the DataFrame.\n",
    "By default, the method used is Pearson correlation, which measures the linear relationship between two variables.\n",
    "\n",
    "* numeric_only=True:\n",
    "Ensures that only numeric columns in the DataFrame are included in the correlation calculation.\n",
    "This avoids errors or unexpected results when the DataFrame contains non-numeric data types.\n",
    "\n",
    "* .round(2):\n",
    "Rounds all the correlation values to two decimal places for better readability.\n",
    "\n",
    "Interpreting the Correlation Matrix:<br>\n",
    "Diagonal Values: Always 1.0, as a column is perfectly correlated with itself.<br>\n",
    "Off-Diagonal Values: Positive values (close to 1): Strong positive linear relationship.<br>\n",
    "Negative values (close to -1): Strong negative linear relationship.<br>\n",
    "Values near 0: Weak or no linear relationship."
   ]
  },
  {
   "cell_type": "code",
   "execution_count": 82,
   "id": "8577dbc8-a2cd-4ebe-a47a-a9b62977994e",
   "metadata": {},
   "outputs": [
    {
     "data": {
      "text/html": [
       "<div>\n",
       "<style scoped>\n",
       "    .dataframe tbody tr th:only-of-type {\n",
       "        vertical-align: middle;\n",
       "    }\n",
       "\n",
       "    .dataframe tbody tr th {\n",
       "        vertical-align: top;\n",
       "    }\n",
       "\n",
       "    .dataframe thead th {\n",
       "        text-align: right;\n",
       "    }\n",
       "</style>\n",
       "<table border=\"1\" class=\"dataframe\">\n",
       "  <thead>\n",
       "    <tr style=\"text-align: right;\">\n",
       "      <th></th>\n",
       "      <th>ORDER_ID</th>\n",
       "      <th>TPT</th>\n",
       "      <th>SHIP_AHEAD_DAY_COUNT</th>\n",
       "      <th>SHIP_LATE_DAY_COUNT</th>\n",
       "      <th>PRODUCT_ID</th>\n",
       "      <th>UNIT_QUANTITY</th>\n",
       "      <th>WEIGHT</th>\n",
       "      <th>MINM_WGH_QTY</th>\n",
       "      <th>MAX_WGH_QTY</th>\n",
       "      <th>MINIMUM_COST</th>\n",
       "      <th>RATE</th>\n",
       "      <th>TPT_DAY_CNT</th>\n",
       "      <th>COST_UNIT</th>\n",
       "      <th>COST</th>\n",
       "    </tr>\n",
       "  </thead>\n",
       "  <tbody>\n",
       "    <tr>\n",
       "      <th>ORDER_ID</th>\n",
       "      <td>1.00</td>\n",
       "      <td>-0.02</td>\n",
       "      <td>-0.03</td>\n",
       "      <td>-0.03</td>\n",
       "      <td>0.03</td>\n",
       "      <td>0.01</td>\n",
       "      <td>0.00</td>\n",
       "      <td>-0.01</td>\n",
       "      <td>-0.01</td>\n",
       "      <td>0.01</td>\n",
       "      <td>0.01</td>\n",
       "      <td>-0.02</td>\n",
       "      <td>-0.01</td>\n",
       "      <td>0.01</td>\n",
       "    </tr>\n",
       "    <tr>\n",
       "      <th>TPT</th>\n",
       "      <td>-0.02</td>\n",
       "      <td>1.00</td>\n",
       "      <td>-0.13</td>\n",
       "      <td>0.06</td>\n",
       "      <td>-0.23</td>\n",
       "      <td>0.15</td>\n",
       "      <td>0.09</td>\n",
       "      <td>0.28</td>\n",
       "      <td>0.28</td>\n",
       "      <td>-0.40</td>\n",
       "      <td>-0.37</td>\n",
       "      <td>0.66</td>\n",
       "      <td>0.10</td>\n",
       "      <td>0.13</td>\n",
       "    </tr>\n",
       "    <tr>\n",
       "      <th>SHIP_AHEAD_DAY_COUNT</th>\n",
       "      <td>-0.03</td>\n",
       "      <td>-0.13</td>\n",
       "      <td>1.00</td>\n",
       "      <td>-0.02</td>\n",
       "      <td>0.08</td>\n",
       "      <td>-0.07</td>\n",
       "      <td>-0.01</td>\n",
       "      <td>-0.05</td>\n",
       "      <td>-0.05</td>\n",
       "      <td>0.07</td>\n",
       "      <td>0.06</td>\n",
       "      <td>-0.11</td>\n",
       "      <td>0.08</td>\n",
       "      <td>-0.07</td>\n",
       "    </tr>\n",
       "    <tr>\n",
       "      <th>SHIP_LATE_DAY_COUNT</th>\n",
       "      <td>-0.03</td>\n",
       "      <td>0.06</td>\n",
       "      <td>-0.02</td>\n",
       "      <td>1.00</td>\n",
       "      <td>-0.04</td>\n",
       "      <td>-0.01</td>\n",
       "      <td>-0.01</td>\n",
       "      <td>0.02</td>\n",
       "      <td>0.02</td>\n",
       "      <td>-0.03</td>\n",
       "      <td>-0.02</td>\n",
       "      <td>0.05</td>\n",
       "      <td>-0.02</td>\n",
       "      <td>-0.01</td>\n",
       "    </tr>\n",
       "    <tr>\n",
       "      <th>PRODUCT_ID</th>\n",
       "      <td>0.03</td>\n",
       "      <td>-0.23</td>\n",
       "      <td>0.08</td>\n",
       "      <td>-0.04</td>\n",
       "      <td>1.00</td>\n",
       "      <td>0.03</td>\n",
       "      <td>-0.04</td>\n",
       "      <td>-0.06</td>\n",
       "      <td>-0.06</td>\n",
       "      <td>0.09</td>\n",
       "      <td>0.09</td>\n",
       "      <td>-0.15</td>\n",
       "      <td>-0.09</td>\n",
       "      <td>0.03</td>\n",
       "    </tr>\n",
       "    <tr>\n",
       "      <th>UNIT_QUANTITY</th>\n",
       "      <td>0.01</td>\n",
       "      <td>0.15</td>\n",
       "      <td>-0.07</td>\n",
       "      <td>-0.01</td>\n",
       "      <td>0.03</td>\n",
       "      <td>1.00</td>\n",
       "      <td>0.43</td>\n",
       "      <td>0.03</td>\n",
       "      <td>0.03</td>\n",
       "      <td>-0.04</td>\n",
       "      <td>-0.03</td>\n",
       "      <td>0.06</td>\n",
       "      <td>-0.03</td>\n",
       "      <td>0.99</td>\n",
       "    </tr>\n",
       "    <tr>\n",
       "      <th>WEIGHT</th>\n",
       "      <td>0.00</td>\n",
       "      <td>0.09</td>\n",
       "      <td>-0.01</td>\n",
       "      <td>-0.01</td>\n",
       "      <td>-0.04</td>\n",
       "      <td>0.43</td>\n",
       "      <td>1.00</td>\n",
       "      <td>0.02</td>\n",
       "      <td>0.02</td>\n",
       "      <td>-0.02</td>\n",
       "      <td>0.02</td>\n",
       "      <td>0.04</td>\n",
       "      <td>0.05</td>\n",
       "      <td>0.43</td>\n",
       "    </tr>\n",
       "    <tr>\n",
       "      <th>MINM_WGH_QTY</th>\n",
       "      <td>-0.01</td>\n",
       "      <td>0.28</td>\n",
       "      <td>-0.05</td>\n",
       "      <td>0.02</td>\n",
       "      <td>-0.06</td>\n",
       "      <td>0.03</td>\n",
       "      <td>0.02</td>\n",
       "      <td>1.00</td>\n",
       "      <td>0.94</td>\n",
       "      <td>0.16</td>\n",
       "      <td>-0.19</td>\n",
       "      <td>0.20</td>\n",
       "      <td>-0.02</td>\n",
       "      <td>0.02</td>\n",
       "    </tr>\n",
       "    <tr>\n",
       "      <th>MAX_WGH_QTY</th>\n",
       "      <td>-0.01</td>\n",
       "      <td>0.28</td>\n",
       "      <td>-0.05</td>\n",
       "      <td>0.02</td>\n",
       "      <td>-0.06</td>\n",
       "      <td>0.03</td>\n",
       "      <td>0.02</td>\n",
       "      <td>0.94</td>\n",
       "      <td>1.00</td>\n",
       "      <td>-0.08</td>\n",
       "      <td>-0.12</td>\n",
       "      <td>0.21</td>\n",
       "      <td>-0.02</td>\n",
       "      <td>0.02</td>\n",
       "    </tr>\n",
       "    <tr>\n",
       "      <th>MINIMUM_COST</th>\n",
       "      <td>0.01</td>\n",
       "      <td>-0.40</td>\n",
       "      <td>0.07</td>\n",
       "      <td>-0.03</td>\n",
       "      <td>0.09</td>\n",
       "      <td>-0.04</td>\n",
       "      <td>-0.02</td>\n",
       "      <td>0.16</td>\n",
       "      <td>-0.08</td>\n",
       "      <td>1.00</td>\n",
       "      <td>-0.06</td>\n",
       "      <td>-0.30</td>\n",
       "      <td>0.03</td>\n",
       "      <td>-0.04</td>\n",
       "    </tr>\n",
       "    <tr>\n",
       "      <th>RATE</th>\n",
       "      <td>0.01</td>\n",
       "      <td>-0.37</td>\n",
       "      <td>0.06</td>\n",
       "      <td>-0.02</td>\n",
       "      <td>0.09</td>\n",
       "      <td>-0.03</td>\n",
       "      <td>0.02</td>\n",
       "      <td>-0.19</td>\n",
       "      <td>-0.12</td>\n",
       "      <td>-0.06</td>\n",
       "      <td>1.00</td>\n",
       "      <td>-0.28</td>\n",
       "      <td>0.40</td>\n",
       "      <td>-0.01</td>\n",
       "    </tr>\n",
       "    <tr>\n",
       "      <th>TPT_DAY_CNT</th>\n",
       "      <td>-0.02</td>\n",
       "      <td>0.66</td>\n",
       "      <td>-0.11</td>\n",
       "      <td>0.05</td>\n",
       "      <td>-0.15</td>\n",
       "      <td>0.06</td>\n",
       "      <td>0.04</td>\n",
       "      <td>0.20</td>\n",
       "      <td>0.21</td>\n",
       "      <td>-0.30</td>\n",
       "      <td>-0.28</td>\n",
       "      <td>1.00</td>\n",
       "      <td>-0.07</td>\n",
       "      <td>0.05</td>\n",
       "    </tr>\n",
       "    <tr>\n",
       "      <th>COST_UNIT</th>\n",
       "      <td>-0.01</td>\n",
       "      <td>0.10</td>\n",
       "      <td>0.08</td>\n",
       "      <td>-0.02</td>\n",
       "      <td>-0.09</td>\n",
       "      <td>-0.03</td>\n",
       "      <td>0.05</td>\n",
       "      <td>-0.02</td>\n",
       "      <td>-0.02</td>\n",
       "      <td>0.03</td>\n",
       "      <td>0.40</td>\n",
       "      <td>-0.07</td>\n",
       "      <td>1.00</td>\n",
       "      <td>-0.02</td>\n",
       "    </tr>\n",
       "    <tr>\n",
       "      <th>COST</th>\n",
       "      <td>0.01</td>\n",
       "      <td>0.13</td>\n",
       "      <td>-0.07</td>\n",
       "      <td>-0.01</td>\n",
       "      <td>0.03</td>\n",
       "      <td>0.99</td>\n",
       "      <td>0.43</td>\n",
       "      <td>0.02</td>\n",
       "      <td>0.02</td>\n",
       "      <td>-0.04</td>\n",
       "      <td>-0.01</td>\n",
       "      <td>0.05</td>\n",
       "      <td>-0.02</td>\n",
       "      <td>1.00</td>\n",
       "    </tr>\n",
       "  </tbody>\n",
       "</table>\n",
       "</div>"
      ],
      "text/plain": [
       "                      ORDER_ID   TPT  SHIP_AHEAD_DAY_COUNT  \\\n",
       "ORDER_ID                  1.00 -0.02                 -0.03   \n",
       "TPT                      -0.02  1.00                 -0.13   \n",
       "SHIP_AHEAD_DAY_COUNT     -0.03 -0.13                  1.00   \n",
       "SHIP_LATE_DAY_COUNT      -0.03  0.06                 -0.02   \n",
       "PRODUCT_ID                0.03 -0.23                  0.08   \n",
       "UNIT_QUANTITY             0.01  0.15                 -0.07   \n",
       "WEIGHT                    0.00  0.09                 -0.01   \n",
       "MINM_WGH_QTY             -0.01  0.28                 -0.05   \n",
       "MAX_WGH_QTY              -0.01  0.28                 -0.05   \n",
       "MINIMUM_COST              0.01 -0.40                  0.07   \n",
       "RATE                      0.01 -0.37                  0.06   \n",
       "TPT_DAY_CNT              -0.02  0.66                 -0.11   \n",
       "COST_UNIT                -0.01  0.10                  0.08   \n",
       "COST                      0.01  0.13                 -0.07   \n",
       "\n",
       "                      SHIP_LATE_DAY_COUNT  PRODUCT_ID  UNIT_QUANTITY  WEIGHT  \\\n",
       "ORDER_ID                            -0.03        0.03           0.01    0.00   \n",
       "TPT                                  0.06       -0.23           0.15    0.09   \n",
       "SHIP_AHEAD_DAY_COUNT                -0.02        0.08          -0.07   -0.01   \n",
       "SHIP_LATE_DAY_COUNT                  1.00       -0.04          -0.01   -0.01   \n",
       "PRODUCT_ID                          -0.04        1.00           0.03   -0.04   \n",
       "UNIT_QUANTITY                       -0.01        0.03           1.00    0.43   \n",
       "WEIGHT                              -0.01       -0.04           0.43    1.00   \n",
       "MINM_WGH_QTY                         0.02       -0.06           0.03    0.02   \n",
       "MAX_WGH_QTY                          0.02       -0.06           0.03    0.02   \n",
       "MINIMUM_COST                        -0.03        0.09          -0.04   -0.02   \n",
       "RATE                                -0.02        0.09          -0.03    0.02   \n",
       "TPT_DAY_CNT                          0.05       -0.15           0.06    0.04   \n",
       "COST_UNIT                           -0.02       -0.09          -0.03    0.05   \n",
       "COST                                -0.01        0.03           0.99    0.43   \n",
       "\n",
       "                      MINM_WGH_QTY  MAX_WGH_QTY  MINIMUM_COST  RATE  \\\n",
       "ORDER_ID                     -0.01        -0.01          0.01  0.01   \n",
       "TPT                           0.28         0.28         -0.40 -0.37   \n",
       "SHIP_AHEAD_DAY_COUNT         -0.05        -0.05          0.07  0.06   \n",
       "SHIP_LATE_DAY_COUNT           0.02         0.02         -0.03 -0.02   \n",
       "PRODUCT_ID                   -0.06        -0.06          0.09  0.09   \n",
       "UNIT_QUANTITY                 0.03         0.03         -0.04 -0.03   \n",
       "WEIGHT                        0.02         0.02         -0.02  0.02   \n",
       "MINM_WGH_QTY                  1.00         0.94          0.16 -0.19   \n",
       "MAX_WGH_QTY                   0.94         1.00         -0.08 -0.12   \n",
       "MINIMUM_COST                  0.16        -0.08          1.00 -0.06   \n",
       "RATE                         -0.19        -0.12         -0.06  1.00   \n",
       "TPT_DAY_CNT                   0.20         0.21         -0.30 -0.28   \n",
       "COST_UNIT                    -0.02        -0.02          0.03  0.40   \n",
       "COST                          0.02         0.02         -0.04 -0.01   \n",
       "\n",
       "                      TPT_DAY_CNT  COST_UNIT  COST  \n",
       "ORDER_ID                    -0.02      -0.01  0.01  \n",
       "TPT                          0.66       0.10  0.13  \n",
       "SHIP_AHEAD_DAY_COUNT        -0.11       0.08 -0.07  \n",
       "SHIP_LATE_DAY_COUNT          0.05      -0.02 -0.01  \n",
       "PRODUCT_ID                  -0.15      -0.09  0.03  \n",
       "UNIT_QUANTITY                0.06      -0.03  0.99  \n",
       "WEIGHT                       0.04       0.05  0.43  \n",
       "MINM_WGH_QTY                 0.20      -0.02  0.02  \n",
       "MAX_WGH_QTY                  0.21      -0.02  0.02  \n",
       "MINIMUM_COST                -0.30       0.03 -0.04  \n",
       "RATE                        -0.28       0.40 -0.01  \n",
       "TPT_DAY_CNT                  1.00      -0.07  0.05  \n",
       "COST_UNIT                   -0.07       1.00 -0.02  \n",
       "COST                         0.05      -0.02  1.00  "
      ]
     },
     "execution_count": 82,
     "metadata": {},
     "output_type": "execute_result"
    }
   ],
   "source": [
    "correlation_matrix = df_dict['OrderList'].corr(numeric_only=True).round(2)\n",
    "correlation_matrix"
   ]
  },
  {
   "cell_type": "markdown",
   "id": "cb292dd6-dfc5-4c24-bc2f-17ca369f6e74",
   "metadata": {},
   "source": [
    "* plt.figure(figsize=(10, 6)): Initializes a new figure for the plot with a specified size of 10 inches wide and 6 inches tall.\n",
    "* sns.heatmap(correlation_matrix, annot=True, cmap='coolwarm'): annot=True: Displays the correlation values inside the heatmap cells.  cmap='coolwarm': Sets the color map for the heatmap. Colors range from cool (blue) for negative correlations to warm (red) for positive correlations.\n",
    "* plt.show(): Displays the heatmap."
   ]
  },
  {
   "cell_type": "code",
   "execution_count": 84,
   "id": "ca9bb9c1-acaa-4179-90ff-c6e5459a36f9",
   "metadata": {},
   "outputs": [
    {
     "data": {
      "image/png": "[encoded data removed]",
      "text/plain": [
       "<Figure size 1000x600 with 2 Axes>"
      ]
     },
     "metadata": {},
     "output_type": "display_data"
    }
   ],
   "source": [
    "plt.figure(figsize=(10,6))\n",
    "sns.heatmap(correlation_matrix, annot=True, cmap='coolwarm')\n",
    "plt.title('Correlation Matrix')\n",
    "plt.show()"
   ]
  },
  {
   "cell_type": "markdown",
   "id": "1bd32e04-0630-49d9-8217-7163f7bd31fa",
   "metadata": {},
   "source": [
    "* pricing_strategy = df_dict['FreightRates']['MODE_DSC'].unique():  Extracts the unique values in the MODE_DSC column of the FreightRates DataFrame in order to identify the different pricing strategies or transportation modes.\n",
    "* price_elasticity = df_dict['FreightRates']['RATE'].mean():  Computes the average value of the RATE column in the FreightRates DataFrame.\n",
    "* historical_revenue = df_dict['OrderList']['UNIT_QUANTITY'] * df_dict['OrderList']['COST']:  Multiplies the UNIT_QUANTITY column by the COST column in the OrderList DataFrame for each row in order to calculate revenue generated for each order historically."
   ]
  },
  {
   "cell_type": "code",
   "execution_count": 86,
   "id": "12866c92-caa1-4067-89cd-96bf7e6e9c7e",
   "metadata": {},
   "outputs": [
    {
     "name": "stdout",
     "output_type": "stream",
     "text": [
      "Pricing strategies: ['AIR   ' 'GROUND']\n",
      "Average price elasticity: 2.875135211279718\n",
      "Total historical revenue: 27855522352652.188\n"
     ]
    }
   ],
   "source": [
    "pricing_strategy = df_dict['FreightRates']['MODE_DSC'].unique()\n",
    "price_elasticity = df_dict['FreightRates']['RATE'].mean()\n",
    "historical_revenue = df_dict['OrderList']['UNIT_QUANTITY'] * df_dict['OrderList']['COST']\n",
    "total_revenue = historical_revenue.sum()\n",
    "print(\"Pricing strategies:\", pricing_strategy)\n",
    "print(\"Average price elasticity:\", price_elasticity)\n",
    "print(\"Total historical revenue:\", total_revenue)"
   ]
  },
  {
   "cell_type": "markdown",
   "id": "3d6d701e-3d3e-410e-9450-4b97e0933e53",
   "metadata": {},
   "source": [
    "This section creates a Matplotlib figure with two subplots, one showing the distribution of service levels as a bar plot and the other showing the distribution of daily capacities as a box plot.\n",
    "* fig, axes = plt.subplots(1, 2, figsize=(15, 6)):  Creates a figure with 1 row and 2 columns of subplots.\n",
    "* sns.countplot(data=df_dict['OrderList'], x='SERVICE_LEVEL', ax=axes[0]):  Uses sns.countplot to plot the count of each unique value in the 'SERVICE_LEVEL' column of the OrderList DataFrame as a bar plot.  ax=axes[0]: Directs the plot to the left subplot.\n",
    "* sns.boxplot(data=df_dict['WhCapacities'], y='DAILY_CAPACITY', ax=axes[1]):  Uses sns.boxplot to show the distribution of the 'DAILY_CAPACITY' column in the WhCapacities DataFrame.  ax=axes[1]: Directs the plot to the right subplot.  Displays the median, quartiles, and potential outliers.\n",
    "* plt.tight_layout():  Automatically adjusts the spacing between subplots to prevent overlap."
   ]
  },
  {
   "cell_type": "code",
   "execution_count": 88,
   "id": "1a0547dd-1ee1-4af9-ab09-2e5ca70a7424",
   "metadata": {},
   "outputs": [
    {
     "data": {
      "image/png": "[encoded data removed]",
      "text/plain": [
       "<Figure size 1500x600 with 2 Axes>"
      ]
     },
     "metadata": {},
     "output_type": "display_data"
    }
   ],
   "source": [
    "# Create the figure and subplots\n",
    "fig, axes = plt.subplots(1, 2, figsize=(15,6))\n",
    "\n",
    "sns.countplot(data=df_dict['OrderList'], x='SERVICE_LEVEL', ax=axes[0])\n",
    "axes[0].set_title('Distribution of Service Levels')\n",
    "axes[0].set_xlabel('Service Level')\n",
    "axes[0].set_ylabel('Count')\n",
    "\n",
    "sns.boxplot(data=df_dict['WhCapacities'], y='DAILY_CAPACITY', ax=axes[1])\n",
    "axes[1].set_title('Distribution of Daily Capacities')\n",
    "axes[1].set_ylabel('Daily Capacity')\n",
    "\n",
    "plt.tight_layout()\n",
    "\n",
    "plt.show()"
   ]
  },
  {
   "cell_type": "markdown",
   "id": "f9235797-0191-47fa-ae4e-f39f39b01420",
   "metadata": {},
   "source": [
    "This section creates a scatter plot that visualizes the relationship between weight and shipping cost, with data points colored by the carrier. \n",
    "* hue='CARRIER': Colors the points by the carrier, allowing for visual distinction between carriers."
   ]
  },
  {
   "cell_type": "code",
   "execution_count": 90,
   "id": "003f9b99-d44a-45cf-9500-ad4d0c5d173d",
   "metadata": {},
   "outputs": [
    {
     "data": {
      "image/png": "[encoded data removed]",
      "text/plain": [
       "<Figure size 1000x600 with 1 Axes>"
      ]
     },
     "metadata": {},
     "output_type": "display_data"
    }
   ],
   "source": [
    "plt.figure(figsize=(10,6))\n",
    "sns.scatterplot(data=df_dict['OrderList'], x='WEIGHT', y='COST', hue='CARRIER', size='WEIGHT', sizes=(20, 200), style='CARRIER')\n",
    "plt.title('Weight vs. Shipping Cost')\n",
    "plt.xlabel('Weight')\n",
    "plt.ylabel('Cost')\n",
    "plt.show()"
   ]
  },
  {
   "cell_type": "markdown",
   "id": "c17d3a37-28f8-4510-988b-189ccfa1a6c8",
   "metadata": {},
   "source": [
    "This section creates a visualization with two bar plots side-by-side.  The left plot displays the number of products manufactured at each plant.  The right plot displays manufacturing costs for each plant. \n",
    "* plant_counts = df_dict['ProductsPerPlant']['PLANT_CODE'].value_counts():  creates a series with one column containing the plant code and the other column showing how many instances appeared for each code.\n",
    "* <pre>for i, value in enumerate(plant_counts.values):\n",
    "    axes[0].text(i, value+1, str(value), ha='center', fontsize=10) </pre> - annotates values above each bar for easier readability.  The enumerate function adds a counter to an iterable which in this case is plant_counts.values so the values can be properly placed at each index.\n",
    "* f\"{value:.2f}\":  This is an f-string format to round value to 2 decimal points.  .2f specifies two decimal places for a floating-point number."
   ]
  },
  {
   "cell_type": "code",
   "execution_count": 92,
   "id": "00917e50-2233-4029-944c-7f5776b1219e",
   "metadata": {},
   "outputs": [
    {
     "data": {
      "image/png": "[encoded data removed]",
      "text/plain": [
       "<Figure size 1500x500 with 2 Axes>"
      ]
     },
     "metadata": {},
     "output_type": "display_data"
    }
   ],
   "source": [
    "fig, axes = plt.subplots(1, 2, figsize=(15, 5))\n",
    "\n",
    "plant_counts = df_dict['ProductsPerPlant']['PLANT_CODE'].value_counts()\n",
    "axes[0].bar(plant_counts.index, plant_counts.values, color='skyblue')\n",
    "for i, value in enumerate(plant_counts.values):\n",
    "    axes[0].text(i, value+1, str(value), ha='center', fontsize=10)\n",
    "axes[0].set_title(\"Number of Products that Each Plant Manufactures\")\n",
    "axes[0].set_xlabel(\"Plant Code\")\n",
    "axes[0].set_ylabel(\"Number of Products\")\n",
    "axes[0].tick_params(axis='x', rotation=45)\n",
    "\n",
    "axes[1].bar(df_dict['WhCosts']['WH'], df_dict['WhCosts']['COST_UNIT'], color='salmon')\n",
    "for i, value in enumerate(df_dict['WhCosts']['COST_UNIT']):\n",
    "    axes[1].text(i, value, f\"{value:.2f}\", ha='center', fontsize=10)\n",
    "axes[1].set_title('Manufacturing Cost for Each Plant')\n",
    "axes[1].set_xlabel('Plant Code')\n",
    "axes[1].set_ylabel('Cost per Unit')\n",
    "axes[1].tick_params(axis='x', rotation=45)\n",
    "\n",
    "plt.tight_layout()\n",
    "plt.show()"
   ]
  },
  {
   "cell_type": "markdown",
   "id": "69ee0286-8ebf-4f41-96eb-08972bf46f84",
   "metadata": {},
   "source": [
    "This section creates an interactive visualization using Plotly to show connections between plants and ports from the PlantPorts DataFrame. \n",
    "* plotly.graph_objects is a module in the Plotly library that allows you to create highly customizable and interactive visualizations by explicitly defining every component of a figure.\n",
    "* iterrows(): This method generates an iterator that produces index-row pairs for each row in the DataFrame. The row is a pandas Series representing the data in that row.\n",
    "* x = [row['PLANT_CODE'], row['PORT']]:  places the plant and port along the x-axis\n",
    "* np.random.uniform(-0.1, 0.1):  Generates a random float between -0.1 and 0.1.  Introduces a small random variation to the second y value in the go.Scatter trace. This is often done to slightly offset points for better visualization, especially when dealing with overlapping or closely spaced points.\n",
    "* lines+markers: Draws lines connecting the points and places markers on them.\n",
    "* Each row in df_plant_ports represents a connection between a PLANT_CODE and a PORT.  For each connection, a line (Scatter trace) is added to the figure.\n",
    "*                line = dict(\n",
    "                    color = 'blue',\n",
    "                    width = 2\n",
    "                )\n",
    "  this directs the border color and the width of the scatter point\n",
    "* Lines+Markers:  Represents connections with lines.  Shows plants and ports as markers.\n",
    "* Hover Information:  Displays details like Plant and Port on hover for each connection.\n",
    "* The y-axis is hidden (showticklabels=False) but ensures spacing for the lines.\n",
    "* updatemenus:  Adds interactive menus to the chart for dynamic filtering.\n",
    "* Buttons:  Show All: Displays all traces by setting visible=True for all.  Filter by Port 01: Sets visible=True only for traces where PORT == 'PORT01'.  Filter by Port 02: Similar logic for filtering by Port 01.\n",
    "* args:  The first argument in args modifies trace visibility (using True or False).  The second argument updates the chart title dynamically to reflect the selected filter.\n",
    "* The showactive=True parameter in Plotly is used within the updatemenus dictionary to highlight the currently selected button in an interactive menu. This makes the active button visually distinguishable, providing better feedback to users about the currently applied filter or action."
   ]
  },
  {
   "cell_type": "code",
   "execution_count": 94,
   "id": "6bd5817a-3f5f-43ad-9e58-338aed5e9309",
   "metadata": {},
   "outputs": [
    {
     "data": {
      "application/vnd.plotly.v1+json": {
       "config": {
        "plotlyServerURL": "https://plot.ly"
       },
       "data": [
        {
         "hoverinfo": "text",
         "marker": {
          "line": {
           "color": "blue",
           "width": 2
          },
          "size": 10,
          "symbol": "circle"
         },
         "mode": "lines+markers",
         "text": "Plant: PLANT01<br>Port: PORT01",
         "type": "scatter",
         "visible": true,
         "x": [
          "PLANT01",
          "PORT01"
         ],
         "y": [
          1,
          0.055261185379930244
         ]
        },
        {
         "hoverinfo": "text",
         "marker": {
          "line": {
           "color": "blue",
           "width": 2
          },
          "size": 10,
          "symbol": "circle"
         },
         "mode": "lines+markers",
         "text": "Plant: PLANT01<br>Port: PORT02",
         "type": "scatter",
         "visible": true,
         "x": [
          "PLANT01",
          "PORT02"
         ],
         "y": [
          1,
          0.07358309506520377
         ]
        },
        {
         "hoverinfo": "text",
         "marker": {
          "line": {
           "color": "blue",
           "width": 2
          },
          "size": 10,
          "symbol": "circle"
         },
         "mode": "lines+markers",
         "text": "Plant: PLANT02<br>Port: PORT03",
         "type": "scatter",
         "visible": true,
         "x": [
          "PLANT02",
          "PORT03"
         ],
         "y": [
          1,
          0.09378814335198665
         ]
        },
        {
         "hoverinfo": "text",
         "marker": {
          "line": {
           "color": "blue",
           "width": 2
          },
          "size": 10,
          "symbol": "circle"
         },
         "mode": "lines+markers",
         "text": "Plant: PLANT03<br>Port: PORT04",
         "type": "scatter",
         "visible": true,
         "x": [
          "PLANT03",
          "PORT04"
         ],
         "y": [
          1,
          -0.07086733036075783
         ]
        },
        {
         "hoverinfo": "text",
         "marker": {
          "line": {
           "color": "blue",
           "width": 2
          },
          "size": 10,
          "symbol": "circle"
         },
         "mode": "lines+markers",
         "text": "Plant: PLANT04<br>Port: PORT05",
         "type": "scatter",
         "visible": true,
         "x": [
          "PLANT04",
          "PORT05"
         ],
         "y": [
          1,
          -0.0856412240279171
         ]
        },
        {
         "hoverinfo": "text",
         "marker": {
          "line": {
           "color": "blue",
           "width": 2
          },
          "size": 10,
          "symbol": "circle"
         },
         "mode": "lines+markers",
         "text": "Plant: PLANT05<br>Port: PORT06",
         "type": "scatter",
         "visible": true,
         "x": [
          "PLANT05",
          "PORT06"
         ],
         "y": [
          1,
          -0.0641472313647661
         ]
        },
        {
         "hoverinfo": "text",
         "marker": {
          "line": {
           "color": "blue",
           "width": 2
          },
          "size": 10,
          "symbol": "circle"
         },
         "mode": "lines+markers",
         "text": "Plant: PLANT06<br>Port: PORT06",
         "type": "scatter",
         "visible": true,
         "x": [
          "PLANT06",
          "PORT06"
         ],
         "y": [
          1,
          -0.043671181566120376
         ]
        },
        {
         "hoverinfo": "text",
         "marker": {
          "line": {
           "color": "blue",
           "width": 2
          },
          "size": 10,
          "symbol": "circle"
         },
         "mode": "lines+markers",
         "text": "Plant: PLANT07<br>Port: PORT01",
         "type": "scatter",
         "visible": true,
         "x": [
          "PLANT07",
          "PORT01"
         ],
         "y": [
          1,
          -0.06299768137618458
         ]
        },
        {
         "hoverinfo": "text",
         "marker": {
          "line": {
           "color": "blue",
           "width": 2
          },
          "size": 10,
          "symbol": "circle"
         },
         "mode": "lines+markers",
         "text": "Plant: PLANT07<br>Port: PORT02",
         "type": "scatter",
         "visible": true,
         "x": [
          "PLANT07",
          "PORT02"
         ],
         "y": [
          1,
          -0.04376088764106323
         ]
        },
        {
         "hoverinfo": "text",
         "marker": {
          "line": {
           "color": "blue",
           "width": 2
          },
          "size": 10,
          "symbol": "circle"
         },
         "mode": "lines+markers",
         "text": "Plant: PLANT08<br>Port: PORT04",
         "type": "scatter",
         "visible": true,
         "x": [
          "PLANT08",
          "PORT04"
         ],
         "y": [
          1,
          -0.034669840271418825
         ]
        },
        {
         "hoverinfo": "text",
         "marker": {
          "line": {
           "color": "blue",
           "width": 2
          },
          "size": 10,
          "symbol": "circle"
         },
         "mode": "lines+markers",
         "text": "Plant: PLANT09<br>Port: PORT04",
         "type": "scatter",
         "visible": true,
         "x": [
          "PLANT09",
          "PORT04"
         ],
         "y": [
          1,
          -0.011552575372898194
         ]
        },
        {
         "hoverinfo": "text",
         "marker": {
          "line": {
           "color": "blue",
           "width": 2
          },
          "size": 10,
          "symbol": "circle"
         },
         "mode": "lines+markers",
         "text": "Plant: PLANT10<br>Port: PORT01",
         "type": "scatter",
         "visible": true,
         "x": [
          "PLANT10",
          "PORT01"
         ],
         "y": [
          1,
          -0.04777312992489002
         ]
        },
        {
         "hoverinfo": "text",
         "marker": {
          "line": {
           "color": "blue",
           "width": 2
          },
          "size": 10,
          "symbol": "circle"
         },
         "mode": "lines+markers",
         "text": "Plant: PLANT10<br>Port: PORT02",
         "type": "scatter",
         "visible": true,
         "x": [
          "PLANT10",
          "PORT02"
         ],
         "y": [
          1,
          -0.07365057204393906
         ]
        },
        {
         "hoverinfo": "text",
         "marker": {
          "line": {
           "color": "blue",
           "width": 2
          },
          "size": 10,
          "symbol": "circle"
         },
         "mode": "lines+markers",
         "text": "Plant: PLANT11<br>Port: PORT04",
         "type": "scatter",
         "visible": true,
         "x": [
          "PLANT11",
          "PORT04"
         ],
         "y": [
          1,
          0.06735910482754068
         ]
        },
        {
         "hoverinfo": "text",
         "marker": {
          "line": {
           "color": "blue",
           "width": 2
          },
          "size": 10,
          "symbol": "circle"
         },
         "mode": "lines+markers",
         "text": "Plant: PLANT12<br>Port: PORT04",
         "type": "scatter",
         "visible": true,
         "x": [
          "PLANT12",
          "PORT04"
         ],
         "y": [
          1,
          0.01955700732830687
         ]
        },
        {
         "hoverinfo": "text",
         "marker": {
          "line": {
           "color": "blue",
           "width": 2
          },
          "size": 10,
          "symbol": "circle"
         },
         "mode": "lines+markers",
         "text": "Plant: PLANT13<br>Port: PORT04",
         "type": "scatter",
         "visible": true,
         "x": [
          "PLANT13",
          "PORT04"
         ],
         "y": [
          1,
          -0.0004089172120951695
         ]
        },
        {
         "hoverinfo": "text",
         "marker": {
          "line": {
           "color": "blue",
           "width": 2
          },
          "size": 10,
          "symbol": "circle"
         },
         "mode": "lines+markers",
         "text": "Plant: PLANT14<br>Port: PORT07",
         "type": "scatter",
         "visible": true,
         "x": [
          "PLANT14",
          "PORT07"
         ],
         "y": [
          1,
          0.08239348458995174
         ]
        },
        {
         "hoverinfo": "text",
         "marker": {
          "line": {
           "color": "blue",
           "width": 2
          },
          "size": 10,
          "symbol": "circle"
         },
         "mode": "lines+markers",
         "text": "Plant: PLANT15<br>Port: PORT08",
         "type": "scatter",
         "visible": true,
         "x": [
          "PLANT15",
          "PORT08"
         ],
         "y": [
          1,
          0.08642807315242515
         ]
        },
        {
         "hoverinfo": "text",
         "marker": {
          "line": {
           "color": "blue",
           "width": 2
          },
          "size": 10,
          "symbol": "circle"
         },
         "mode": "lines+markers",
         "text": "Plant: PLANT16<br>Port: PORT09",
         "type": "scatter",
         "visible": true,
         "x": [
          "PLANT16",
          "PORT09"
         ],
         "y": [
          1,
          -0.05991645344178212
         ]
        },
        {
         "hoverinfo": "text",
         "marker": {
          "line": {
           "color": "blue",
           "width": 2
          },
          "size": 10,
          "symbol": "circle"
         },
         "mode": "lines+markers",
         "text": "Plant: PLANT17<br>Port: PORT10",
         "type": "scatter",
         "visible": true,
         "x": [
          "PLANT17",
          "PORT10"
         ],
         "y": [
          1,
          -0.049048790713219284
         ]
        },
        {
         "hoverinfo": "text",
         "marker": {
          "line": {
           "color": "blue",
           "width": 2
          },
          "size": 10,
          "symbol": "circle"
         },
         "mode": "lines+markers",
         "text": "Plant: PLANT18<br>Port: PORT11",
         "type": "scatter",
         "visible": true,
         "x": [
          "PLANT18",
          "PORT11"
         ],
         "y": [
          1,
          0.08462037864572322
         ]
        },
        {
         "hoverinfo": "text",
         "marker": {
          "line": {
           "color": "blue",
           "width": 2
          },
          "size": 10,
          "symbol": "circle"
         },
         "mode": "lines+markers",
         "text": "Plant: PLANT19<br>Port: PORT04",
         "type": "scatter",
         "visible": true,
         "x": [
          "PLANT19",
          "PORT04"
         ],
         "y": [
          1,
          0.052882563688026574
         ]
        }
       ],
       "layout": {
        "autosize": true,
        "showlegend": false,
        "template": {
         "data": {
          "bar": [
           {
            "error_x": {
             "color": "#2a3f5f"
            },
            "error_y": {
             "color": "#2a3f5f"
            },
            "marker": {
             "line": {
              "color": "#E5ECF6",
              "width": 0.5
             },
             "pattern": {
              "fillmode": "overlay",
              "size": 10,
              "solidity": 0.2
             }
            },
            "type": "bar"
           }
          ],
          "barpolar": [
           {
            "marker": {
             "line": {
              "color": "#E5ECF6",
              "width": 0.5
             },
             "pattern": {
              "fillmode": "overlay",
              "size": 10,
              "solidity": 0.2
             }
            },
            "type": "barpolar"
           }
          ],
          "carpet": [
           {
            "aaxis": {
             "endlinecolor": "#2a3f5f",
             "gridcolor": "white",
             "linecolor": "white",
             "minorgridcolor": "white",
             "startlinecolor": "#2a3f5f"
            },
            "baxis": {
             "endlinecolor": "#2a3f5f",
             "gridcolor": "white",
             "linecolor": "white",
             "minorgridcolor": "white",
             "startlinecolor": "#2a3f5f"
            },
            "type": "carpet"
           }
          ],
          "choropleth": [
           {
            "colorbar": {
             "outlinewidth": 0,
             "ticks": ""
            },
            "type": "choropleth"
           }
          ],
          "contour": [
           {
            "colorbar": {
             "outlinewidth": 0,
             "ticks": ""
            },
            "colorscale": [
             [
              0,
              "#0d0887"
             ],
             [
              0.1111111111111111,
              "#46039f"
             ],
             [
              0.2222222222222222,
              "#7201a8"
             ],
             [
              0.3333333333333333,
              "#9c179e"
             ],
             [
              0.4444444444444444,
              "#bd3786"
             ],
             [
              0.5555555555555556,
              "#d8576b"
             ],
             [
              0.6666666666666666,
              "#ed7953"
             ],
             [
              0.7777777777777778,
              "#fb9f3a"
             ],
             [
              0.8888888888888888,
              "#fdca26"
             ],
             [
              1,
              "#f0f921"
             ]
            ],
            "type": "contour"
           }
          ],
          "contourcarpet": [
           {
            "colorbar": {
             "outlinewidth": 0,
             "ticks": ""
            },
            "type": "contourcarpet"
           }
          ],
          "heatmap": [
           {
            "colorbar": {
             "outlinewidth": 0,
             "ticks": ""
            },
            "colorscale": [
             [
              0,
              "#0d0887"
             ],
             [
              0.1111111111111111,
              "#46039f"
             ],
             [
              0.2222222222222222,
              "#7201a8"
             ],
             [
              0.3333333333333333,
              "#9c179e"
             ],
             [
              0.4444444444444444,
              "#bd3786"
             ],
             [
              0.5555555555555556,
              "#d8576b"
             ],
             [
              0.6666666666666666,
              "#ed7953"
             ],
             [
              0.7777777777777778,
              "#fb9f3a"
             ],
             [
              0.8888888888888888,
              "#fdca26"
             ],
             [
              1,
              "#f0f921"
             ]
            ],
            "type": "heatmap"
           }
          ],
          "heatmapgl": [
           {
            "colorbar": {
             "outlinewidth": 0,
             "ticks": ""
            },
            "colorscale": [
             [
              0,
              "#0d0887"
             ],
             [
              0.1111111111111111,
              "#46039f"
             ],
             [
              0.2222222222222222,
              "#7201a8"
             ],
             [
              0.3333333333333333,
              "#9c179e"
             ],
             [
              0.4444444444444444,
              "#bd3786"
             ],
             [
              0.5555555555555556,
              "#d8576b"
             ],
             [
              0.6666666666666666,
              "#ed7953"
             ],
             [
              0.7777777777777778,
              "#fb9f3a"
             ],
             [
              0.8888888888888888,
              "#fdca26"
             ],
             [
              1,
              "#f0f921"
             ]
            ],
            "type": "heatmapgl"
           }
          ],
          "histogram": [
           {
            "marker": {
             "pattern": {
              "fillmode": "overlay",
              "size": 10,
              "solidity": 0.2
             }
            },
            "type": "histogram"
           }
          ],
          "histogram2d": [
           {
            "colorbar": {
             "outlinewidth": 0,
             "ticks": ""
            },
            "colorscale": [
             [
              0,
              "#0d0887"
             ],
             [
              0.1111111111111111,
              "#46039f"
             ],
             [
              0.2222222222222222,
              "#7201a8"
             ],
             [
              0.3333333333333333,
              "#9c179e"
             ],
             [
              0.4444444444444444,
              "#bd3786"
             ],
             [
              0.5555555555555556,
              "#d8576b"
             ],
             [
              0.6666666666666666,
              "#ed7953"
             ],
             [
              0.7777777777777778,
              "#fb9f3a"
             ],
             [
              0.8888888888888888,
              "#fdca26"
             ],
             [
              1,
              "#f0f921"
             ]
            ],
            "type": "histogram2d"
           }
          ],
          "histogram2dcontour": [
           {
            "colorbar": {
             "outlinewidth": 0,
             "ticks": ""
            },
            "colorscale": [
             [
              0,
              "#0d0887"
             ],
             [
              0.1111111111111111,
              "#46039f"
             ],
             [
              0.2222222222222222,
              "#7201a8"
             ],
             [
              0.3333333333333333,
              "#9c179e"
             ],
             [
              0.4444444444444444,
              "#bd3786"
             ],
             [
              0.5555555555555556,
              "#d8576b"
             ],
             [
              0.6666666666666666,
              "#ed7953"
             ],
             [
              0.7777777777777778,
              "#fb9f3a"
             ],
             [
              0.8888888888888888,
              "#fdca26"
             ],
             [
              1,
              "#f0f921"
             ]
            ],
            "type": "histogram2dcontour"
           }
          ],
          "mesh3d": [
           {
            "colorbar": {
             "outlinewidth": 0,
             "ticks": ""
            },
            "type": "mesh3d"
           }
          ],
          "parcoords": [
           {
            "line": {
             "colorbar": {
              "outlinewidth": 0,
              "ticks": ""
             }
            },
            "type": "parcoords"
           }
          ],
          "pie": [
           {
            "automargin": true,
            "type": "pie"
           }
          ],
          "scatter": [
           {
            "fillpattern": {
             "fillmode": "overlay",
             "size": 10,
             "solidity": 0.2
            },
            "type": "scatter"
           }
          ],
          "scatter3d": [
           {
            "line": {
             "colorbar": {
              "outlinewidth": 0,
              "ticks": ""
             }
            },
            "marker": {
             "colorbar": {
              "outlinewidth": 0,
              "ticks": ""
             }
            },
            "type": "scatter3d"
           }
          ],
          "scattercarpet": [
           {
            "marker": {
             "colorbar": {
              "outlinewidth": 0,
              "ticks": ""
             }
            },
            "type": "scattercarpet"
           }
          ],
          "scattergeo": [
           {
            "marker": {
             "colorbar": {
              "outlinewidth": 0,
              "ticks": ""
             }
            },
            "type": "scattergeo"
           }
          ],
          "scattergl": [
           {
            "marker": {
             "colorbar": {
              "outlinewidth": 0,
              "ticks": ""
             }
            },
            "type": "scattergl"
           }
          ],
          "scattermapbox": [
           {
            "marker": {
             "colorbar": {
              "outlinewidth": 0,
              "ticks": ""
             }
            },
            "type": "scattermapbox"
           }
          ],
          "scatterpolar": [
           {
            "marker": {
             "colorbar": {
              "outlinewidth": 0,
              "ticks": ""
             }
            },
            "type": "scatterpolar"
           }
          ],
          "scatterpolargl": [
           {
            "marker": {
             "colorbar": {
              "outlinewidth": 0,
              "ticks": ""
             }
            },
            "type": "scatterpolargl"
           }
          ],
          "scatterternary": [
           {
            "marker": {
             "colorbar": {
              "outlinewidth": 0,
              "ticks": ""
             }
            },
            "type": "scatterternary"
           }
          ],
          "surface": [
           {
            "colorbar": {
             "outlinewidth": 0,
             "ticks": ""
            },
            "colorscale": [
             [
              0,
              "#0d0887"
             ],
             [
              0.1111111111111111,
              "#46039f"
             ],
             [
              0.2222222222222222,
              "#7201a8"
             ],
             [
              0.3333333333333333,
              "#9c179e"
             ],
             [
              0.4444444444444444,
              "#bd3786"
             ],
             [
              0.5555555555555556,
              "#d8576b"
             ],
             [
              0.6666666666666666,
              "#ed7953"
             ],
             [
              0.7777777777777778,
              "#fb9f3a"
             ],
             [
              0.8888888888888888,
              "#fdca26"
             ],
             [
              1,
              "#f0f921"
             ]
            ],
            "type": "surface"
           }
          ],
          "table": [
           {
            "cells": {
             "fill": {
              "color": "#EBF0F8"
             },
             "line": {
              "color": "white"
             }
            },
            "header": {
             "fill": {
              "color": "#C8D4E3"
             },
             "line": {
              "color": "white"
             }
            },
            "type": "table"
           }
          ]
         },
         "layout": {
          "annotationdefaults": {
           "arrowcolor": "#2a3f5f",
           "arrowhead": 0,
           "arrowwidth": 1
          },
          "autotypenumbers": "strict",
          "coloraxis": {
           "colorbar": {
            "outlinewidth": 0,
            "ticks": ""
           }
          },
          "colorscale": {
           "diverging": [
            [
             0,
             "#8e0152"
            ],
            [
             0.1,
             "#c51b7d"
            ],
            [
             0.2,
             "#de77ae"
            ],
            [
             0.3,
             "#f1b6da"
            ],
            [
             0.4,
             "#fde0ef"
            ],
            [
             0.5,
             "#f7f7f7"
            ],
            [
             0.6,
             "#e6f5d0"
            ],
            [
             0.7,
             "#b8e186"
            ],
            [
             0.8,
             "#7fbc41"
            ],
            [
             0.9,
             "#4d9221"
            ],
            [
             1,
             "#276419"
            ]
           ],
           "sequential": [
            [
             0,
             "#0d0887"
            ],
            [
             0.1111111111111111,
             "#46039f"
            ],
            [
             0.2222222222222222,
             "#7201a8"
            ],
            [
             0.3333333333333333,
             "#9c179e"
            ],
            [
             0.4444444444444444,
             "#bd3786"
            ],
            [
             0.5555555555555556,
             "#d8576b"
            ],
            [
             0.6666666666666666,
             "#ed7953"
            ],
            [
             0.7777777777777778,
             "#fb9f3a"
            ],
            [
             0.8888888888888888,
             "#fdca26"
            ],
            [
             1,
             "#f0f921"
            ]
           ],
           "sequentialminus": [
            [
             0,
             "#0d0887"
            ],
            [
             0.1111111111111111,
             "#46039f"
            ],
            [
             0.2222222222222222,
             "#7201a8"
            ],
            [
             0.3333333333333333,
             "#9c179e"
            ],
            [
             0.4444444444444444,
             "#bd3786"
            ],
            [
             0.5555555555555556,
             "#d8576b"
            ],
            [
             0.6666666666666666,
             "#ed7953"
            ],
            [
             0.7777777777777778,
             "#fb9f3a"
            ],
            [
             0.8888888888888888,
             "#fdca26"
            ],
            [
             1,
             "#f0f921"
            ]
           ]
          },
          "colorway": [
           "#636efa",
           "#EF553B",
           "#00cc96",
           "#ab63fa",
           "#FFA15A",
           "#19d3f3",
           "#FF6692",
           "#B6E880",
           "#FF97FF",
           "#FECB52"
          ],
          "font": {
           "color": "#2a3f5f"
          },
          "geo": {
           "bgcolor": "white",
           "lakecolor": "white",
           "landcolor": "#E5ECF6",
           "showlakes": true,
           "showland": true,
           "subunitcolor": "white"
          },
          "hoverlabel": {
           "align": "left"
          },
          "hovermode": "closest",
          "mapbox": {
           "style": "light"
          },
          "paper_bgcolor": "white",
          "plot_bgcolor": "#E5ECF6",
          "polar": {
           "angularaxis": {
            "gridcolor": "white",
            "linecolor": "white",
            "ticks": ""
           },
           "bgcolor": "#E5ECF6",
           "radialaxis": {
            "gridcolor": "white",
            "linecolor": "white",
            "ticks": ""
           }
          },
          "scene": {
           "xaxis": {
            "backgroundcolor": "#E5ECF6",
            "gridcolor": "white",
            "gridwidth": 2,
            "linecolor": "white",
            "showbackground": true,
            "ticks": "",
            "zerolinecolor": "white"
           },
           "yaxis": {
            "backgroundcolor": "#E5ECF6",
            "gridcolor": "white",
            "gridwidth": 2,
            "linecolor": "white",
            "showbackground": true,
            "ticks": "",
            "zerolinecolor": "white"
           },
           "zaxis": {
            "backgroundcolor": "#E5ECF6",
            "gridcolor": "white",
            "gridwidth": 2,
            "linecolor": "white",
            "showbackground": true,
            "ticks": "",
            "zerolinecolor": "white"
           }
          },
          "shapedefaults": {
           "line": {
            "color": "#2a3f5f"
           }
          },
          "ternary": {
           "aaxis": {
            "gridcolor": "white",
            "linecolor": "white",
            "ticks": ""
           },
           "baxis": {
            "gridcolor": "white",
            "linecolor": "white",
            "ticks": ""
           },
           "bgcolor": "#E5ECF6",
           "caxis": {
            "gridcolor": "white",
            "linecolor": "white",
            "ticks": ""
           }
          },
          "title": {
           "x": 0.05
          },
          "xaxis": {
           "automargin": true,
           "gridcolor": "white",
           "linecolor": "white",
           "ticks": "",
           "title": {
            "standoff": 15
           },
           "zerolinecolor": "white",
           "zerolinewidth": 2
          },
          "yaxis": {
           "automargin": true,
           "gridcolor": "white",
           "linecolor": "white",
           "ticks": "",
           "title": {
            "standoff": 15
           },
           "zerolinecolor": "white",
           "zerolinewidth": 2
          }
         }
        },
        "title": {
         "text": "All Plant-Port Connections"
        },
        "updatemenus": [
         {
          "active": 0,
          "buttons": [
           {
            "args": [
             {
              "visible": [
               true,
               true,
               true,
               true,
               true,
               true,
               true,
               true,
               true,
               true,
               true,
               true,
               true,
               true,
               true,
               true,
               true,
               true,
               true,
               true,
               true,
               true
              ]
             },
             {
              "title": "All Plant-Port Connections"
             }
            ],
            "label": "Show All",
            "method": "update"
           },
           {
            "args": [
             {
              "visible": [
               true,
               false,
               false,
               false,
               false,
               false,
               false,
               true,
               false,
               false,
               false,
               true,
               false,
               false,
               false,
               false,
               false,
               false,
               false,
               false,
               false,
               false
              ]
             },
             {
              "title": "Connections for Port 01"
             }
            ],
            "label": "Filter by Port 01",
            "method": "update"
           },
           {
            "args": [
             {
              "visible": [
               false,
               true,
               false,
               false,
               false,
               false,
               false,
               false,
               true,
               false,
               false,
               false,
               true,
               false,
               false,
               false,
               false,
               false,
               false,
               false,
               false,
               false
              ]
             },
             {
              "title": "Connections for Port 02"
             }
            ],
            "label": "Filter by Port 02",
            "method": "update"
           },
           {
            "args": [
             {
              "visible": [
               false,
               false,
               true,
               false,
               false,
               false,
               false,
               false,
               false,
               false,
               false,
               false,
               false,
               false,
               false,
               false,
               false,
               false,
               false,
               false,
               false,
               false
              ]
             },
             {
              "title": "Connections for Port 03"
             }
            ],
            "label": "Filter by Port 03",
            "method": "update"
           },
           {
            "args": [
             {
              "visible": [
               false,
               false,
               false,
               true,
               false,
               false,
               false,
               false,
               false,
               true,
               true,
               false,
               false,
               true,
               true,
               true,
               false,
               false,
               false,
               false,
               false,
               true
              ]
             },
             {
              "title": "Connections for Port 04"
             }
            ],
            "label": "Filter by Port 04",
            "method": "update"
           },
           {
            "args": [
             {
              "visible": [
               false,
               false,
               false,
               false,
               true,
               false,
               false,
               false,
               false,
               false,
               false,
               false,
               false,
               false,
               false,
               false,
               false,
               false,
               false,
               false,
               false,
               false
              ]
             },
             {
              "title": "Connections for Port 05"
             }
            ],
            "label": "Filter by Port 05",
            "method": "update"
           },
           {
            "args": [
             {
              "visible": [
               false,
               false,
               false,
               false,
               false,
               true,
               true,
               false,
               false,
               false,
               false,
               false,
               false,
               false,
               false,
               false,
               false,
               false,
               false,
               false,
               false,
               false
              ]
             },
             {
              "title": "Connections for Port 06"
             }
            ],
            "label": "Filter by Port 06",
            "method": "update"
           },
           {
            "args": [
             {
              "visible": [
               false,
               false,
               false,
               false,
               false,
               false,
               false,
               false,
               false,
               false,
               false,
               false,
               false,
               false,
               false,
               false,
               true,
               false,
               false,
               false,
               false,
               false
              ]
             },
             {
              "title": "Connections for Port 07"
             }
            ],
            "label": "Filter by Port 07",
            "method": "update"
           },
           {
            "args": [
             {
              "visible": [
               false,
               false,
               false,
               false,
               false,
               false,
               false,
               false,
               false,
               false,
               false,
               false,
               false,
               false,
               false,
               false,
               false,
               true,
               false,
               false,
               false,
               false
              ]
             },
             {
              "title": "Connections for Port 08"
             }
            ],
            "label": "Filter by Port 08",
            "method": "update"
           },
           {
            "args": [
             {
              "visible": [
               false,
               false,
               false,
               false,
               false,
               false,
               false,
               false,
               false,
               false,
               false,
               false,
               false,
               false,
               false,
               false,
               false,
               false,
               true,
               false,
               false,
               false
              ]
             },
             {
              "title": "Connections for Port 09"
             }
            ],
            "label": "Filter by Port 09",
            "method": "update"
           },
           {
            "args": [
             {
              "visible": [
               false,
               false,
               false,
               false,
               false,
               false,
               false,
               false,
               false,
               false,
               false,
               false,
               false,
               false,
               false,
               false,
               false,
               false,
               false,
               true,
               false,
               false
              ]
             },
             {
              "title": "Connections for Port 10"
             }
            ],
            "label": "Filter by Port 10",
            "method": "update"
           },
           {
            "args": [
             {
              "visible": [
               false,
               false,
               false,
               false,
               false,
               false,
               false,
               false,
               false,
               false,
               false,
               false,
               false,
               false,
               false,
               false,
               false,
               false,
               false,
               false,
               true,
               false
              ]
             },
             {
              "title": "Connections for Port 11"
             }
            ],
            "label": "Filter by Port 11",
            "method": "update"
           }
          ],
          "direction": "down",
          "showactive": true,
          "type": "dropdown"
         }
        ],
        "xaxis": {
         "autorange": true,
         "range": [
          -1.8800240352517026,
          30.8800240352517
         ],
         "tickangle": -45,
         "title": {
          "text": "PLANT_CODE - PORT"
         },
         "type": "category"
        },
        "yaxis": {
         "range": [
          -0.2,
          1.2
         ],
         "showticklabels": false,
         "title": {
          "text": ""
         },
         "type": "linear"
        }
       }
      },
      "image/png": "[encoded data removed]",
      "text/html": [
       "<div>                            <div id=\"e4eac26f-183d-4278-b6ff-b5b3915388b8\" class=\"plotly-graph-div\" style=\"height:525px; width:100%;\"></div>            <script type=\"text/javascript\">                require([\"plotly\"], function(Plotly) {                    window.PLOTLYENV=window.PLOTLYENV || {};                                    if (document.getElementById(\"e4eac26f-183d-4278-b6ff-b5b3915388b8\")) {                    Plotly.newPlot(                        \"e4eac26f-183d-4278-b6ff-b5b3915388b8\",                        [{\"hoverinfo\":\"text\",\"marker\":{\"line\":{\"color\":\"blue\",\"width\":2},\"size\":10,\"symbol\":\"circle\"},\"mode\":\"lines+markers\",\"text\":\"Plant: PLANT01<br>Port: PORT01\",\"x\":[\"PLANT01\",\"PORT01\"],\"y\":[1,0.055261185379930244],\"type\":\"scatter\"},{\"hoverinfo\":\"text\",\"marker\":{\"line\":{\"color\":\"blue\",\"width\":2},\"size\":10,\"symbol\":\"circle\"},\"mode\":\"lines+markers\",\"text\":\"Plant: PLANT01<br>Port: PORT02\",\"x\":[\"PLANT01\",\"PORT02\"],\"y\":[1,0.07358309506520377],\"type\":\"scatter\"},{\"hoverinfo\":\"text\",\"marker\":{\"line\":{\"color\":\"blue\",\"width\":2},\"size\":10,\"symbol\":\"circle\"},\"mode\":\"lines+markers\",\"text\":\"Plant: PLANT02<br>Port: PORT03\",\"x\":[\"PLANT02\",\"PORT03\"],\"y\":[1,0.09378814335198665],\"type\":\"scatter\"},{\"hoverinfo\":\"text\",\"marker\":{\"line\":{\"color\":\"blue\",\"width\":2},\"size\":10,\"symbol\":\"circle\"},\"mode\":\"lines+markers\",\"text\":\"Plant: PLANT03<br>Port: PORT04\",\"x\":[\"PLANT03\",\"PORT04\"],\"y\":[1,-0.07086733036075783],\"type\":\"scatter\"},{\"hoverinfo\":\"text\",\"marker\":{\"line\":{\"color\":\"blue\",\"width\":2},\"size\":10,\"symbol\":\"circle\"},\"mode\":\"lines+markers\",\"text\":\"Plant: PLANT04<br>Port: PORT05\",\"x\":[\"PLANT04\",\"PORT05\"],\"y\":[1,-0.0856412240279171],\"type\":\"scatter\"},{\"hoverinfo\":\"text\",\"marker\":{\"line\":{\"color\":\"blue\",\"width\":2},\"size\":10,\"symbol\":\"circle\"},\"mode\":\"lines+markers\",\"text\":\"Plant: PLANT05<br>Port: PORT06\",\"x\":[\"PLANT05\",\"PORT06\"],\"y\":[1,-0.0641472313647661],\"type\":\"scatter\"},{\"hoverinfo\":\"text\",\"marker\":{\"line\":{\"color\":\"blue\",\"width\":2},\"size\":10,\"symbol\":\"circle\"},\"mode\":\"lines+markers\",\"text\":\"Plant: PLANT06<br>Port: PORT06\",\"x\":[\"PLANT06\",\"PORT06\"],\"y\":[1,-0.043671181566120376],\"type\":\"scatter\"},{\"hoverinfo\":\"text\",\"marker\":{\"line\":{\"color\":\"blue\",\"width\":2},\"size\":10,\"symbol\":\"circle\"},\"mode\":\"lines+markers\",\"text\":\"Plant: PLANT07<br>Port: PORT01\",\"x\":[\"PLANT07\",\"PORT01\"],\"y\":[1,-0.06299768137618458],\"type\":\"scatter\"},{\"hoverinfo\":\"text\",\"marker\":{\"line\":{\"color\":\"blue\",\"width\":2},\"size\":10,\"symbol\":\"circle\"},\"mode\":\"lines+markers\",\"text\":\"Plant: PLANT07<br>Port: PORT02\",\"x\":[\"PLANT07\",\"PORT02\"],\"y\":[1,-0.04376088764106323],\"type\":\"scatter\"},{\"hoverinfo\":\"text\",\"marker\":{\"line\":{\"color\":\"blue\",\"width\":2},\"size\":10,\"symbol\":\"circle\"},\"mode\":\"lines+markers\",\"text\":\"Plant: PLANT08<br>Port: PORT04\",\"x\":[\"PLANT08\",\"PORT04\"],\"y\":[1,-0.034669840271418825],\"type\":\"scatter\"},{\"hoverinfo\":\"text\",\"marker\":{\"line\":{\"color\":\"blue\",\"width\":2},\"size\":10,\"symbol\":\"circle\"},\"mode\":\"lines+markers\",\"text\":\"Plant: PLANT09<br>Port: PORT04\",\"x\":[\"PLANT09\",\"PORT04\"],\"y\":[1,-0.011552575372898194],\"type\":\"scatter\"},{\"hoverinfo\":\"text\",\"marker\":{\"line\":{\"color\":\"blue\",\"width\":2},\"size\":10,\"symbol\":\"circle\"},\"mode\":\"lines+markers\",\"text\":\"Plant: PLANT10<br>Port: PORT01\",\"x\":[\"PLANT10\",\"PORT01\"],\"y\":[1,-0.04777312992489002],\"type\":\"scatter\"},{\"hoverinfo\":\"text\",\"marker\":{\"line\":{\"color\":\"blue\",\"width\":2},\"size\":10,\"symbol\":\"circle\"},\"mode\":\"lines+markers\",\"text\":\"Plant: PLANT10<br>Port: PORT02\",\"x\":[\"PLANT10\",\"PORT02\"],\"y\":[1,-0.07365057204393906],\"type\":\"scatter\"},{\"hoverinfo\":\"text\",\"marker\":{\"line\":{\"color\":\"blue\",\"width\":2},\"size\":10,\"symbol\":\"circle\"},\"mode\":\"lines+markers\",\"text\":\"Plant: PLANT11<br>Port: PORT04\",\"x\":[\"PLANT11\",\"PORT04\"],\"y\":[1,0.06735910482754068],\"type\":\"scatter\"},{\"hoverinfo\":\"text\",\"marker\":{\"line\":{\"color\":\"blue\",\"width\":2},\"size\":10,\"symbol\":\"circle\"},\"mode\":\"lines+markers\",\"text\":\"Plant: PLANT12<br>Port: PORT04\",\"x\":[\"PLANT12\",\"PORT04\"],\"y\":[1,0.01955700732830687],\"type\":\"scatter\"},{\"hoverinfo\":\"text\",\"marker\":{\"line\":{\"color\":\"blue\",\"width\":2},\"size\":10,\"symbol\":\"circle\"},\"mode\":\"lines+markers\",\"text\":\"Plant: PLANT13<br>Port: PORT04\",\"x\":[\"PLANT13\",\"PORT04\"],\"y\":[1,-0.0004089172120951695],\"type\":\"scatter\"},{\"hoverinfo\":\"text\",\"marker\":{\"line\":{\"color\":\"blue\",\"width\":2},\"size\":10,\"symbol\":\"circle\"},\"mode\":\"lines+markers\",\"text\":\"Plant: PLANT14<br>Port: PORT07\",\"x\":[\"PLANT14\",\"PORT07\"],\"y\":[1,0.08239348458995174],\"type\":\"scatter\"},{\"hoverinfo\":\"text\",\"marker\":{\"line\":{\"color\":\"blue\",\"width\":2},\"size\":10,\"symbol\":\"circle\"},\"mode\":\"lines+markers\",\"text\":\"Plant: PLANT15<br>Port: PORT08\",\"x\":[\"PLANT15\",\"PORT08\"],\"y\":[1,0.08642807315242515],\"type\":\"scatter\"},{\"hoverinfo\":\"text\",\"marker\":{\"line\":{\"color\":\"blue\",\"width\":2},\"size\":10,\"symbol\":\"circle\"},\"mode\":\"lines+markers\",\"text\":\"Plant: PLANT16<br>Port: PORT09\",\"x\":[\"PLANT16\",\"PORT09\"],\"y\":[1,-0.05991645344178212],\"type\":\"scatter\"},{\"hoverinfo\":\"text\",\"marker\":{\"line\":{\"color\":\"blue\",\"width\":2},\"size\":10,\"symbol\":\"circle\"},\"mode\":\"lines+markers\",\"text\":\"Plant: PLANT17<br>Port: PORT10\",\"x\":[\"PLANT17\",\"PORT10\"],\"y\":[1,-0.049048790713219284],\"type\":\"scatter\"},{\"hoverinfo\":\"text\",\"marker\":{\"line\":{\"color\":\"blue\",\"width\":2},\"size\":10,\"symbol\":\"circle\"},\"mode\":\"lines+markers\",\"text\":\"Plant: PLANT18<br>Port: PORT11\",\"x\":[\"PLANT18\",\"PORT11\"],\"y\":[1,0.08462037864572322],\"type\":\"scatter\"},{\"hoverinfo\":\"text\",\"marker\":{\"line\":{\"color\":\"blue\",\"width\":2},\"size\":10,\"symbol\":\"circle\"},\"mode\":\"lines+markers\",\"text\":\"Plant: PLANT19<br>Port: PORT04\",\"x\":[\"PLANT19\",\"PORT04\"],\"y\":[1,0.052882563688026574],\"type\":\"scatter\"}],                        {\"template\":{\"data\":{\"histogram2dcontour\":[{\"type\":\"histogram2dcontour\",\"colorbar\":{\"outlinewidth\":0,\"ticks\":\"\"},\"colorscale\":[[0.0,\"#0d0887\"],[0.1111111111111111,\"#46039f\"],[0.2222222222222222,\"#7201a8\"],[0.3333333333333333,\"#9c179e\"],[0.4444444444444444,\"#bd3786\"],[0.5555555555555556,\"#d8576b\"],[0.6666666666666666,\"#ed7953\"],[0.7777777777777778,\"#fb9f3a\"],[0.8888888888888888,\"#fdca26\"],[1.0,\"#f0f921\"]]}],\"choropleth\":[{\"type\":\"choropleth\",\"colorbar\":{\"outlinewidth\":0,\"ticks\":\"\"}}],\"histogram2d\":[{\"type\":\"histogram2d\",\"colorbar\":{\"outlinewidth\":0,\"ticks\":\"\"},\"colorscale\":[[0.0,\"#0d0887\"],[0.1111111111111111,\"#46039f\"],[0.2222222222222222,\"#7201a8\"],[0.3333333333333333,\"#9c179e\"],[0.4444444444444444,\"#bd3786\"],[0.5555555555555556,\"#d8576b\"],[0.6666666666666666,\"#ed7953\"],[0.7777777777777778,\"#fb9f3a\"],[0.8888888888888888,\"#fdca26\"],[1.0,\"#f0f921\"]]}],\"heatmap\":[{\"type\":\"heatmap\",\"colorbar\":{\"outlinewidth\":0,\"ticks\":\"\"},\"colorscale\":[[0.0,\"#0d0887\"],[0.1111111111111111,\"#46039f\"],[0.2222222222222222,\"#7201a8\"],[0.3333333333333333,\"#9c179e\"],[0.4444444444444444,\"#bd3786\"],[0.5555555555555556,\"#d8576b\"],[0.6666666666666666,\"#ed7953\"],[0.7777777777777778,\"#fb9f3a\"],[0.8888888888888888,\"#fdca26\"],[1.0,\"#f0f921\"]]}],\"heatmapgl\":[{\"type\":\"heatmapgl\",\"colorbar\":{\"outlinewidth\":0,\"ticks\":\"\"},\"colorscale\":[[0.0,\"#0d0887\"],[0.1111111111111111,\"#46039f\"],[0.2222222222222222,\"#7201a8\"],[0.3333333333333333,\"#9c179e\"],[0.4444444444444444,\"#bd3786\"],[0.5555555555555556,\"#d8576b\"],[0.6666666666666666,\"#ed7953\"],[0.7777777777777778,\"#fb9f3a\"],[0.8888888888888888,\"#fdca26\"],[1.0,\"#f0f921\"]]}],\"contourcarpet\":[{\"type\":\"contourcarpet\",\"colorbar\":{\"outlinewidth\":0,\"ticks\":\"\"}}],\"contour\":[{\"type\":\"contour\",\"colorbar\":{\"outlinewidth\":0,\"ticks\":\"\"},\"colorscale\":[[0.0,\"#0d0887\"],[0.1111111111111111,\"#46039f\"],[0.2222222222222222,\"#7201a8\"],[0.3333333333333333,\"#9c179e\"],[0.4444444444444444,\"#bd3786\"],[0.5555555555555556,\"#d8576b\"],[0.6666666666666666,\"#ed7953\"],[0.7777777777777778,\"#fb9f3a\"],[0.8888888888888888,\"#fdca26\"],[1.0,\"#f0f921\"]]}],\"surface\":[{\"type\":\"surface\",\"colorbar\":{\"outlinewidth\":0,\"ticks\":\"\"},\"colorscale\":[[0.0,\"#0d0887\"],[0.1111111111111111,\"#46039f\"],[0.2222222222222222,\"#7201a8\"],[0.3333333333333333,\"#9c179e\"],[0.4444444444444444,\"#bd3786\"],[0.5555555555555556,\"#d8576b\"],[0.6666666666666666,\"#ed7953\"],[0.7777777777777778,\"#fb9f3a\"],[0.8888888888888888,\"#fdca26\"],[1.0,\"#f0f921\"]]}],\"mesh3d\":[{\"type\":\"mesh3d\",\"colorbar\":{\"outlinewidth\":0,\"ticks\":\"\"}}],\"scatter\":[{\"fillpattern\":{\"fillmode\":\"overlay\",\"size\":10,\"solidity\":0.2},\"type\":\"scatter\"}],\"parcoords\":[{\"type\":\"parcoords\",\"line\":{\"colorbar\":{\"outlinewidth\":0,\"ticks\":\"\"}}}],\"scatterpolargl\":[{\"type\":\"scatterpolargl\",\"marker\":{\"colorbar\":{\"outlinewidth\":0,\"ticks\":\"\"}}}],\"bar\":[{\"error_x\":{\"color\":\"#2a3f5f\"},\"error_y\":{\"color\":\"#2a3f5f\"},\"marker\":{\"line\":{\"color\":\"#E5ECF6\",\"width\":0.5},\"pattern\":{\"fillmode\":\"overlay\",\"size\":10,\"solidity\":0.2}},\"type\":\"bar\"}],\"scattergeo\":[{\"type\":\"scattergeo\",\"marker\":{\"colorbar\":{\"outlinewidth\":0,\"ticks\":\"\"}}}],\"scatterpolar\":[{\"type\":\"scatterpolar\",\"marker\":{\"colorbar\":{\"outlinewidth\":0,\"ticks\":\"\"}}}],\"histogram\":[{\"marker\":{\"pattern\":{\"fillmode\":\"overlay\",\"size\":10,\"solidity\":0.2}},\"type\":\"histogram\"}],\"scattergl\":[{\"type\":\"scattergl\",\"marker\":{\"colorbar\":{\"outlinewidth\":0,\"ticks\":\"\"}}}],\"scatter3d\":[{\"type\":\"scatter3d\",\"line\":{\"colorbar\":{\"outlinewidth\":0,\"ticks\":\"\"}},\"marker\":{\"colorbar\":{\"outlinewidth\":0,\"ticks\":\"\"}}}],\"scattermapbox\":[{\"type\":\"scattermapbox\",\"marker\":{\"colorbar\":{\"outlinewidth\":0,\"ticks\":\"\"}}}],\"scatterternary\":[{\"type\":\"scatterternary\",\"marker\":{\"colorbar\":{\"outlinewidth\":0,\"ticks\":\"\"}}}],\"scattercarpet\":[{\"type\":\"scattercarpet\",\"marker\":{\"colorbar\":{\"outlinewidth\":0,\"ticks\":\"\"}}}],\"carpet\":[{\"aaxis\":{\"endlinecolor\":\"#2a3f5f\",\"gridcolor\":\"white\",\"linecolor\":\"white\",\"minorgridcolor\":\"white\",\"startlinecolor\":\"#2a3f5f\"},\"baxis\":{\"endlinecolor\":\"#2a3f5f\",\"gridcolor\":\"white\",\"linecolor\":\"white\",\"minorgridcolor\":\"white\",\"startlinecolor\":\"#2a3f5f\"},\"type\":\"carpet\"}],\"table\":[{\"cells\":{\"fill\":{\"color\":\"#EBF0F8\"},\"line\":{\"color\":\"white\"}},\"header\":{\"fill\":{\"color\":\"#C8D4E3\"},\"line\":{\"color\":\"white\"}},\"type\":\"table\"}],\"barpolar\":[{\"marker\":{\"line\":{\"color\":\"#E5ECF6\",\"width\":0.5},\"pattern\":{\"fillmode\":\"overlay\",\"size\":10,\"solidity\":0.2}},\"type\":\"barpolar\"}],\"pie\":[{\"automargin\":true,\"type\":\"pie\"}]},\"layout\":{\"autotypenumbers\":\"strict\",\"colorway\":[\"#636efa\",\"#EF553B\",\"#00cc96\",\"#ab63fa\",\"#FFA15A\",\"#19d3f3\",\"#FF6692\",\"#B6E880\",\"#FF97FF\",\"#FECB52\"],\"font\":{\"color\":\"#2a3f5f\"},\"hovermode\":\"closest\",\"hoverlabel\":{\"align\":\"left\"},\"paper_bgcolor\":\"white\",\"plot_bgcolor\":\"#E5ECF6\",\"polar\":{\"bgcolor\":\"#E5ECF6\",\"angularaxis\":{\"gridcolor\":\"white\",\"linecolor\":\"white\",\"ticks\":\"\"},\"radialaxis\":{\"gridcolor\":\"white\",\"linecolor\":\"white\",\"ticks\":\"\"}},\"ternary\":{\"bgcolor\":\"#E5ECF6\",\"aaxis\":{\"gridcolor\":\"white\",\"linecolor\":\"white\",\"ticks\":\"\"},\"baxis\":{\"gridcolor\":\"white\",\"linecolor\":\"white\",\"ticks\":\"\"},\"caxis\":{\"gridcolor\":\"white\",\"linecolor\":\"white\",\"ticks\":\"\"}},\"coloraxis\":{\"colorbar\":{\"outlinewidth\":0,\"ticks\":\"\"}},\"colorscale\":{\"sequential\":[[0.0,\"#0d0887\"],[0.1111111111111111,\"#46039f\"],[0.2222222222222222,\"#7201a8\"],[0.3333333333333333,\"#9c179e\"],[0.4444444444444444,\"#bd3786\"],[0.5555555555555556,\"#d8576b\"],[0.6666666666666666,\"#ed7953\"],[0.7777777777777778,\"#fb9f3a\"],[0.8888888888888888,\"#fdca26\"],[1.0,\"#f0f921\"]],\"sequentialminus\":[[0.0,\"#0d0887\"],[0.1111111111111111,\"#46039f\"],[0.2222222222222222,\"#7201a8\"],[0.3333333333333333,\"#9c179e\"],[0.4444444444444444,\"#bd3786\"],[0.5555555555555556,\"#d8576b\"],[0.6666666666666666,\"#ed7953\"],[0.7777777777777778,\"#fb9f3a\"],[0.8888888888888888,\"#fdca26\"],[1.0,\"#f0f921\"]],\"diverging\":[[0,\"#8e0152\"],[0.1,\"#c51b7d\"],[0.2,\"#de77ae\"],[0.3,\"#f1b6da\"],[0.4,\"#fde0ef\"],[0.5,\"#f7f7f7\"],[0.6,\"#e6f5d0\"],[0.7,\"#b8e186\"],[0.8,\"#7fbc41\"],[0.9,\"#4d9221\"],[1,\"#276419\"]]},\"xaxis\":{\"gridcolor\":\"white\",\"linecolor\":\"white\",\"ticks\":\"\",\"title\":{\"standoff\":15},\"zerolinecolor\":\"white\",\"automargin\":true,\"zerolinewidth\":2},\"yaxis\":{\"gridcolor\":\"white\",\"linecolor\":\"white\",\"ticks\":\"\",\"title\":{\"standoff\":15},\"zerolinecolor\":\"white\",\"automargin\":true,\"zerolinewidth\":2},\"scene\":{\"xaxis\":{\"backgroundcolor\":\"#E5ECF6\",\"gridcolor\":\"white\",\"linecolor\":\"white\",\"showbackground\":true,\"ticks\":\"\",\"zerolinecolor\":\"white\",\"gridwidth\":2},\"yaxis\":{\"backgroundcolor\":\"#E5ECF6\",\"gridcolor\":\"white\",\"linecolor\":\"white\",\"showbackground\":true,\"ticks\":\"\",\"zerolinecolor\":\"white\",\"gridwidth\":2},\"zaxis\":{\"backgroundcolor\":\"#E5ECF6\",\"gridcolor\":\"white\",\"linecolor\":\"white\",\"showbackground\":true,\"ticks\":\"\",\"zerolinecolor\":\"white\",\"gridwidth\":2}},\"shapedefaults\":{\"line\":{\"color\":\"#2a3f5f\"}},\"annotationdefaults\":{\"arrowcolor\":\"#2a3f5f\",\"arrowhead\":0,\"arrowwidth\":1},\"geo\":{\"bgcolor\":\"white\",\"landcolor\":\"#E5ECF6\",\"subunitcolor\":\"white\",\"showland\":true,\"showlakes\":true,\"lakecolor\":\"white\"},\"title\":{\"x\":0.05},\"mapbox\":{\"style\":\"light\"}}},\"title\":{\"text\":\"Plant and Port Connections\"},\"xaxis\":{\"title\":{\"text\":\"PLANT_CODE - PORT\"},\"tickangle\":-45},\"yaxis\":{\"title\":{\"text\":\"\"},\"showticklabels\":false,\"range\":[-0.2,1.2]},\"showlegend\":false,\"updatemenus\":[{\"buttons\":[{\"args\":[{\"visible\":[true,true,true,true,true,true,true,true,true,true,true,true,true,true,true,true,true,true,true,true,true,true]},{\"title\":\"All Plant-Port Connections\"}],\"label\":\"Show All\",\"method\":\"update\"},{\"args\":[{\"visible\":[true,false,false,false,false,false,false,true,false,false,false,true,false,false,false,false,false,false,false,false,false,false]},{\"title\":\"Connections for Port 01\"}],\"label\":\"Filter by Port 01\",\"method\":\"update\"},{\"args\":[{\"visible\":[false,true,false,false,false,false,false,false,true,false,false,false,true,false,false,false,false,false,false,false,false,false]},{\"title\":\"Connections for Port 02\"}],\"label\":\"Filter by Port 02\",\"method\":\"update\"},{\"args\":[{\"visible\":[false,false,true,false,false,false,false,false,false,false,false,false,false,false,false,false,false,false,false,false,false,false]},{\"title\":\"Connections for Port 03\"}],\"label\":\"Filter by Port 03\",\"method\":\"update\"},{\"args\":[{\"visible\":[false,false,false,true,false,false,false,false,false,true,true,false,false,true,true,true,false,false,false,false,false,true]},{\"title\":\"Connections for Port 04\"}],\"label\":\"Filter by Port 04\",\"method\":\"update\"},{\"args\":[{\"visible\":[false,false,false,false,true,false,false,false,false,false,false,false,false,false,false,false,false,false,false,false,false,false]},{\"title\":\"Connections for Port 05\"}],\"label\":\"Filter by Port 05\",\"method\":\"update\"},{\"args\":[{\"visible\":[false,false,false,false,false,true,true,false,false,false,false,false,false,false,false,false,false,false,false,false,false,false]},{\"title\":\"Connections for Port 06\"}],\"label\":\"Filter by Port 06\",\"method\":\"update\"},{\"args\":[{\"visible\":[false,false,false,false,false,false,false,false,false,false,false,false,false,false,false,false,true,false,false,false,false,false]},{\"title\":\"Connections for Port 07\"}],\"label\":\"Filter by Port 07\",\"method\":\"update\"},{\"args\":[{\"visible\":[false,false,false,false,false,false,false,false,false,false,false,false,false,false,false,false,false,true,false,false,false,false]},{\"title\":\"Connections for Port 08\"}],\"label\":\"Filter by Port 08\",\"method\":\"update\"},{\"args\":[{\"visible\":[false,false,false,false,false,false,false,false,false,false,false,false,false,false,false,false,false,false,true,false,false,false]},{\"title\":\"Connections for Port 09\"}],\"label\":\"Filter by Port 09\",\"method\":\"update\"},{\"args\":[{\"visible\":[false,false,false,false,false,false,false,false,false,false,false,false,false,false,false,false,false,false,false,true,false,false]},{\"title\":\"Connections for Port 10\"}],\"label\":\"Filter by Port 10\",\"method\":\"update\"},{\"args\":[{\"visible\":[false,false,false,false,false,false,false,false,false,false,false,false,false,false,false,false,false,false,false,false,true,false]},{\"title\":\"Connections for Port 11\"}],\"label\":\"Filter by Port 11\",\"method\":\"update\"}],\"direction\":\"down\",\"showactive\":true,\"type\":\"dropdown\"}]},                        {\"responsive\": true}                    ).then(function(){\n",
       "                            \n",
       "var gd = document.getElementById('e4eac26f-183d-4278-b6ff-b5b3915388b8');\n",
       "var x = new MutationObserver(function (mutations, observer) {{\n",
       "        var display = window.getComputedStyle(gd).display;\n",
       "        if (!display || display === 'none') {{\n",
       "            console.log([gd, 'removed!']);\n",
       "            Plotly.purge(gd);\n",
       "            observer.disconnect();\n",
       "        }}\n",
       "}});\n",
       "\n",
       "// Listen for the removal of the full notebook cells\n",
       "var notebookContainer = gd.closest('#notebook-container');\n",
       "if (notebookContainer) {{\n",
       "    x.observe(notebookContainer, {childList: true});\n",
       "}}\n",
       "\n",
       "// Listen for the clearing of the current output cell\n",
       "var outputEl = gd.closest('.output');\n",
       "if (outputEl) {{\n",
       "    x.observe(outputEl, {childList: true});\n",
       "}}\n",
       "\n",
       "                        })                };                });            </script>        </div>"
      ]
     },
     "metadata": {},
     "output_type": "display_data"
    }
   ],
   "source": [
    "import plotly.graph_objects as go\n",
    "\n",
    "df_plant_ports = df_dict['PlantPorts']\n",
    "\n",
    "fig = go.Figure()\n",
    "\n",
    "for _, row in df_plant_ports.iterrows():\n",
    "    fig.add_trace(\n",
    "        go.Scatter(\n",
    "            x = [row['PLANT_CODE'], row['PORT']],\n",
    "            y = [1, 0 + np.random.uniform(-0.1, 0.1)],\n",
    "            mode = 'lines+markers',\n",
    "            marker = dict(\n",
    "                size = 10,\n",
    "                symbol = 'circle',\n",
    "                line = dict(\n",
    "                    color = 'blue',\n",
    "                    width = 2\n",
    "                )\n",
    "            ),\n",
    "            hoverinfo = 'text',\n",
    "            text = f\"Plant: {row['PLANT_CODE']}<br>Port: {row['PORT']}\",\n",
    "        )\n",
    "    )\n",
    "            \n",
    "fig.update_layout(\n",
    "    title_text = 'Plant and Port Connections',\n",
    "    showlegend = False,\n",
    "    xaxis = dict(\n",
    "        title = 'PLANT_CODE - PORT',\n",
    "        tickangle = -45\n",
    "    ),\n",
    "    yaxis = dict(\n",
    "        title = '',\n",
    "        showticklabels = False,\n",
    "        range = [-.2, 1.2]\n",
    "    ),\n",
    "    updatemenus=[\n",
    "        dict(\n",
    "            buttons=[\n",
    "                dict(\n",
    "                    label=\"Show All\",\n",
    "                    method=\"update\",\n",
    "                    args=[{\"visible\": [True] * len(df_plant_ports)},\n",
    "                         {\"title\": \"All Plant-Port Connections\"}]\n",
    "                ),\n",
    "                dict(\n",
    "                    label=\"Filter by Port 01\",\n",
    "                    method=\"update\",\n",
    "                    args=[{\"visible\": [row['PORT'] == 'PORT01' for _, row in df_plant_ports.iterrows()]},\n",
    "                         {\"title\": \"Connections for Port 01\"}]\n",
    "                ),\n",
    "                dict(\n",
    "                    label=\"Filter by Port 02\",\n",
    "                    method=\"update\",\n",
    "                    args=[{\"visible\": [row['PORT'] == 'PORT02' for _, row in df_plant_ports.iterrows()]},\n",
    "                         {\"title\": \"Connections for Port 02\"}]\n",
    "                ),\n",
    "                dict(\n",
    "                    label=\"Filter by Port 03\",\n",
    "                    method=\"update\",\n",
    "                    args=[{\"visible\": [row['PORT'] == 'PORT03' for _, row in df_plant_ports.iterrows()]},\n",
    "                         {\"title\": \"Connections for Port 03\"}]\n",
    "                ),\n",
    "                dict(\n",
    "                    label=\"Filter by Port 04\",\n",
    "                    method=\"update\",\n",
    "                    args=[{\"visible\": [row['PORT'] == 'PORT04' for _, row in df_plant_ports.iterrows()]},\n",
    "                         {\"title\": \"Connections for Port 04\"}]\n",
    "                ),\n",
    "                dict(\n",
    "                    label=\"Filter by Port 05\",\n",
    "                    method=\"update\",\n",
    "                    args=[{\"visible\": [row['PORT'] == 'PORT05' for _, row in df_plant_ports.iterrows()]},\n",
    "                         {\"title\": \"Connections for Port 05\"}]\n",
    "                ),\n",
    "                dict(\n",
    "                    label=\"Filter by Port 06\",\n",
    "                    method=\"update\",\n",
    "                    args=[{\"visible\": [row['PORT'] == 'PORT06' for _, row in df_plant_ports.iterrows()]},\n",
    "                         {\"title\": \"Connections for Port 06\"}]\n",
    "                ),\n",
    "                dict(\n",
    "                    label=\"Filter by Port 07\",\n",
    "                    method=\"update\",\n",
    "                    args=[{\"visible\": [row['PORT'] == 'PORT07' for _, row in df_plant_ports.iterrows()]},\n",
    "                         {\"title\": \"Connections for Port 07\"}]\n",
    "                ),\n",
    "                dict(\n",
    "                    label=\"Filter by Port 08\",\n",
    "                    method=\"update\",\n",
    "                    args=[{\"visible\": [row['PORT'] == 'PORT08' for _, row in df_plant_ports.iterrows()]},\n",
    "                         {\"title\": \"Connections for Port 08\"}]\n",
    "                ),\n",
    "                dict(\n",
    "                    label=\"Filter by Port 09\",\n",
    "                    method=\"update\",\n",
    "                    args=[{\"visible\": [row['PORT'] == 'PORT09' for _, row in df_plant_ports.iterrows()]},\n",
    "                         {\"title\": \"Connections for Port 09\"}]\n",
    "                ),\n",
    "                dict(\n",
    "                    label=\"Filter by Port 10\",\n",
    "                    method=\"update\",\n",
    "                    args=[{\"visible\": [row['PORT'] == 'PORT10' for _, row in df_plant_ports.iterrows()]},\n",
    "                         {\"title\": \"Connections for Port 10\"}]\n",
    "                ),\n",
    "                dict(\n",
    "                    label=\"Filter by Port 11\",\n",
    "                    method=\"update\",\n",
    "                    args=[{\"visible\": [row['PORT'] == 'PORT11' for _, row in df_plant_ports.iterrows()]},\n",
    "                         {\"title\": \"Connections for Port 11\"}]\n",
    "                )\n",
    "            ],\n",
    "            type = 'dropdown',\n",
    "            showactive = True,\n",
    "            direction = 'down'\n",
    "        )\n",
    "    ]    \n",
    ")\n",
    "\n",
    "fig.show()"
   ]
  }
 ],
 "metadata": {
  "kernelspec": {
   "display_name": "Python 3 (ipykernel)",
   "language": "python",
   "name": "python3"
  },
  "language_info": {
   "codemirror_mode": {
    "name": "ipython",
    "version": 3
   },
   "file_extension": ".py",
   "mimetype": "text/x-python",
   "name": "python",
   "nbconvert_exporter": "python",
   "pygments_lexer": "ipython3",
   "version": "3.11.5"
  }
 },
 "nbformat": 4,
 "nbformat_minor": 5
}
