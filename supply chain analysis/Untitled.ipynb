{
 "cells": [
  {
   "cell_type": "code",
   "execution_count": 1,
   "id": "7d2bde60-a36d-4449-925b-fecc8cb8bd74",
   "metadata": {},
   "outputs": [],
   "source": [
    "import numpy as np\n",
    "import pandas as pd\n",
    "import matplotlib.pyplot as plt\n",
    "import seaborn as sns"
   ]
  },
  {
   "cell_type": "code",
   "execution_count": 3,
   "id": "201abad1-36c2-44c2-97cd-13eeb068a8cc",
   "metadata": {},
   "outputs": [
    {
     "data": {
      "text/plain": [
       "dict_keys(['OrderList', 'FreightRates', 'WhCosts', 'WhCapacities', 'ProductsPerPlant', 'VmiCustomers', 'PlantPorts'])"
      ]
     },
     "execution_count": 3,
     "metadata": {},
     "output_type": "execute_result"
    }
   ],
   "source": [
    "main_file = pd.ExcelFile(\"/Users/timothypark/Documents/portfolios/timpark99.github.io/supply chain analysis/supply chain original.xlsx\")\n",
    "df_dict = {sheet_name: main_file.parse(sheet_name) for sheet_name in main_file.sheet_names}\n",
    "df_dict.keys()"
   ]
  },
  {
   "cell_type": "code",
   "execution_count": 5,
   "id": "5822786d-3c61-4448-a327-186b213b2e04",
   "metadata": {},
   "outputs": [
    {
     "name": "stdout",
     "output_type": "stream",
     "text": [
      "OrderList - Shape: (9215, 14)\n",
      " >>>OrderList has no duplicates or missing values.\n",
      "FreightRates - Shape: (1540, 11)\n",
      " >>>FreightRates - Duplicates: 3; Missing Values: 0\n",
      "WhCosts - Shape: (19, 2)\n",
      " >>>WhCosts has no duplicates or missing values.\n",
      "WhCapacities - Shape: (19, 2)\n",
      " >>>WhCapacities has no duplicates or missing values.\n",
      "ProductsPerPlant - Shape: (2036, 2)\n",
      " >>>ProductsPerPlant has no duplicates or missing values.\n",
      "VmiCustomers - Shape: (14, 2)\n",
      " >>>VmiCustomers has no duplicates or missing values.\n",
      "PlantPorts - Shape: (22, 2)\n",
      " >>>PlantPorts has no duplicates or missing values.\n"
     ]
    }
   ],
   "source": [
    "for df_name, df in df_dict.items():\n",
    "    print(f\"{df_name} - Shape: {df.shape}\")\n",
    "\n",
    "    duplicate_count = df.duplicated().sum()\n",
    "    missing_values_count = df.isnull().sum().sum()\n",
    "\n",
    "    if duplicate_count > 0 or missing_values_count > 0:\n",
    "        print(f\" >>>{df_name} - Duplicates: {duplicate_count}; Missing Values: {missing_values_count}\")\n",
    "    else:\n",
    "        print(f\" >>>{df_name} has no duplicates or missing values.\")"
   ]
  },
  {
   "cell_type": "code",
   "execution_count": 9,
   "id": "4d5186e3-547c-42be-bc8f-c193f223cc0e",
   "metadata": {},
   "outputs": [
    {
     "name": "stdout",
     "output_type": "stream",
     "text": [
      "Index(['ORDER_ID', 'ORDER_DATE', 'ORIGIN_PORT', 'CARRIER', 'TPT',\n",
      "       'SERVICE_LEVEL', 'SHIP_AHEAD_DAY_COUNT', 'SHIP_LATE_DAY_COUNT',\n",
      "       'CUSTOMER', 'PRODUCT_ID', 'PLANT_CODE', 'DESTINATION_PORT',\n",
      "       'UNIT_QUANTITY', 'WEIGHT'],\n",
      "      dtype='object')\n"
     ]
    }
   ],
   "source": [
    "FreightRates = df_dict['FreightRates'].drop_duplicates()\n",
    "df_dict['FreightRates'] = FreightRates\n",
    "\n",
    "for df_name, df in df_dict.items():\n",
    "    df.columns = [col.strip().replace(' ', '_').replace('/', '_').upper() for col in df.columns]\n",
    "\n",
    "print(df_dict['OrderList'].columns)\n"
   ]
  },
  {
   "cell_type": "code",
   "execution_count": null,
   "id": "63d02e16-9cf2-4ee0-8554-d766fdaca37e",
   "metadata": {},
   "outputs": [],
   "source": [
    "orderList = df_dict['OrderList']\n",
    "orderList = orderList.merge(df_dict['FreightRates'], left_on = ['CARRIER', 'ORIGIN_PORT', 'DESTINATION_PORT'], right_on=['CARRIER', 'ORIG_PORT_CD', 'DEST_PORT_CD'], how='left')\n",
    "orderList = orderList.merge(df_dict['WhCosts'], left_on='PLANT_CODE', right_on='WH', how='left')\n",
    "orderList['COST'] = (orderList['UNIT_QUANTITY']*orderList['RATE']) + (orderList['UNIT_QUANTITY']*orderList['COST_UNIT'])\n",
    "orderList = orderList.dropna()\n",
    "orderList['ORDER_DATE'] = pd.to_datetime(orderList['ORDER_DATE'])\n",
    "productsPerPlant = df_dict['ProductsPerPlant']\n",
    "productsPerPlant = productsPerPlant.dropna()\n",
    "\n",
    "df_dict['OrderList'] = orderList\n",
    "df_dict['ProductsPerPlant'] = productsPerPlant\n",
    "\n"
   ]
  },
  {
   "cell_type": "code",
   "execution_count": null,
   "id": "3f824d8b-2940-46a4-9fca-0621dfa9d0be",
   "metadata": {},
   "outputs": [],
   "source": []
  }
 ],
 "metadata": {
  "kernelspec": {
   "display_name": "Python 3 (ipykernel)",
   "language": "python",
   "name": "python3"
  },
  "language_info": {
   "codemirror_mode": {
    "name": "ipython",
    "version": 3
   },
   "file_extension": ".py",
   "mimetype": "text/x-python",
   "name": "python",
   "nbconvert_exporter": "python",
   "pygments_lexer": "ipython3",
   "version": "3.11.5"
  }
 },
 "nbformat": 4,
 "nbformat_minor": 5
}
