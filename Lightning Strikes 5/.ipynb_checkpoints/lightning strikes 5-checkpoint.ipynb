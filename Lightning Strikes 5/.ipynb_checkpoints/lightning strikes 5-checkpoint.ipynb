{
 "cells": [
  {
   "cell_type": "markdown",
   "id": "96166bc1-cd31-4288-9b05-d8fa0a84b863",
   "metadata": {},
   "source": [
    "# **Lightning Strikes 5**\n",
    "\n",
    "We will be examining lightning strike data collected by the National Oceanic and Atmospheric Association (NOAA) from 1987 through 2020. Because this would be many millions of rows to read into the notebook, we've preprocessed the data so it contains just the year and the number of strikes.\n",
    "\n",
    "We will examine the range of total lightning strike counts for each year and identify outliers. Then we will plot the yearly totals on a scatterplot."
   ]
  },
  {
   "cell_type": "code",
   "execution_count": 5,
   "id": "6d6e4cea-811c-4a4f-9ca3-ab30832e971a",
   "metadata": {},
   "outputs": [],
   "source": [
    "import matplotlib.pyplot as plt\n",
    "import pandas as pd\n",
    "import numpy as np\n",
    "import seaborn as sns\n",
    "\n",
    "df = pd.read_csv('/Users/timothypark/Documents/portfolios/timpark99.github.io/Lightning Strikes 5/eda_outliers_dataset1.csv')"
   ]
  },
  {
   "cell_type": "code",
   "execution_count": 6,
   "id": "a96a2d45-3925-42a1-a9fd-b8249ab583d0",
   "metadata": {},
   "outputs": [
    {
     "data": {
      "text/html": [
       "<div>\n",
       "<style scoped>\n",
       "    .dataframe tbody tr th:only-of-type {\n",
       "        vertical-align: middle;\n",
       "    }\n",
       "\n",
       "    .dataframe tbody tr th {\n",
       "        vertical-align: top;\n",
       "    }\n",
       "\n",
       "    .dataframe thead th {\n",
       "        text-align: right;\n",
       "    }\n",
       "</style>\n",
       "<table border=\"1\" class=\"dataframe\">\n",
       "  <thead>\n",
       "    <tr style=\"text-align: right;\">\n",
       "      <th></th>\n",
       "      <th>year</th>\n",
       "      <th>number_of_strikes</th>\n",
       "    </tr>\n",
       "  </thead>\n",
       "  <tbody>\n",
       "    <tr>\n",
       "      <th>0</th>\n",
       "      <td>2020</td>\n",
       "      <td>15620068</td>\n",
       "    </tr>\n",
       "    <tr>\n",
       "      <th>1</th>\n",
       "      <td>2019</td>\n",
       "      <td>209166</td>\n",
       "    </tr>\n",
       "    <tr>\n",
       "      <th>2</th>\n",
       "      <td>2018</td>\n",
       "      <td>44600989</td>\n",
       "    </tr>\n",
       "    <tr>\n",
       "      <th>3</th>\n",
       "      <td>2017</td>\n",
       "      <td>35095195</td>\n",
       "    </tr>\n",
       "    <tr>\n",
       "      <th>4</th>\n",
       "      <td>2016</td>\n",
       "      <td>41582229</td>\n",
       "    </tr>\n",
       "  </tbody>\n",
       "</table>\n",
       "</div>"
      ],
      "text/plain": [
       "   year  number_of_strikes\n",
       "0  2020           15620068\n",
       "1  2019             209166\n",
       "2  2018           44600989\n",
       "3  2017           35095195\n",
       "4  2016           41582229"
      ]
     },
     "execution_count": 6,
     "metadata": {},
     "output_type": "execute_result"
    }
   ],
   "source": [
    "df.head()"
   ]
  },
  {
   "cell_type": "markdown",
   "id": "f3dc574d-d442-4076-8c63-d03f38a7a2e8",
   "metadata": {},
   "source": [
    "Next, let's convert the number of strikes value to a more readable format on the graph (e.g., converting 100,000 to 100K, 3,000,000 to 3M, and so on)."
   ]
  },
  {
   "cell_type": "code",
   "execution_count": 8,
   "id": "d0120fac-f47a-4c88-a659-fda859204914",
   "metadata": {},
   "outputs": [
    {
     "data": {
      "text/html": [
       "<div>\n",
       "<style scoped>\n",
       "    .dataframe tbody tr th:only-of-type {\n",
       "        vertical-align: middle;\n",
       "    }\n",
       "\n",
       "    .dataframe tbody tr th {\n",
       "        vertical-align: top;\n",
       "    }\n",
       "\n",
       "    .dataframe thead th {\n",
       "        text-align: right;\n",
       "    }\n",
       "</style>\n",
       "<table border=\"1\" class=\"dataframe\">\n",
       "  <thead>\n",
       "    <tr style=\"text-align: right;\">\n",
       "      <th></th>\n",
       "      <th>year</th>\n",
       "      <th>number_of_strikes</th>\n",
       "      <th>number_of_strikes_readable</th>\n",
       "    </tr>\n",
       "  </thead>\n",
       "  <tbody>\n",
       "    <tr>\n",
       "      <th>0</th>\n",
       "      <td>2020</td>\n",
       "      <td>15620068</td>\n",
       "      <td>15.6M</td>\n",
       "    </tr>\n",
       "    <tr>\n",
       "      <th>1</th>\n",
       "      <td>2019</td>\n",
       "      <td>209166</td>\n",
       "      <td>209K</td>\n",
       "    </tr>\n",
       "    <tr>\n",
       "      <th>2</th>\n",
       "      <td>2018</td>\n",
       "      <td>44600989</td>\n",
       "      <td>44.6M</td>\n",
       "    </tr>\n",
       "    <tr>\n",
       "      <th>3</th>\n",
       "      <td>2017</td>\n",
       "      <td>35095195</td>\n",
       "      <td>35.1M</td>\n",
       "    </tr>\n",
       "    <tr>\n",
       "      <th>4</th>\n",
       "      <td>2016</td>\n",
       "      <td>41582229</td>\n",
       "      <td>41.6M</td>\n",
       "    </tr>\n",
       "  </tbody>\n",
       "</table>\n",
       "</div>"
      ],
      "text/plain": [
       "   year  number_of_strikes number_of_strikes_readable\n",
       "0  2020           15620068                      15.6M\n",
       "1  2019             209166                       209K\n",
       "2  2018           44600989                      44.6M\n",
       "3  2017           35095195                      35.1M\n",
       "4  2016           41582229                      41.6M"
      ]
     },
     "execution_count": 8,
     "metadata": {},
     "output_type": "execute_result"
    }
   ],
   "source": [
    "def readable_numbers(x):\n",
    "    \"\"\"takes a large number and formats it into K,M to make it more readable\"\"\"\n",
    "    if x >= 1e6:\n",
    "        s = '{:1.1f}M'.format(x*1e-6)\n",
    "    else:\n",
    "        s = '{:1.0f}K'.format(x*1e-3)\n",
    "    return s\n",
    "\n",
    "# Use the readable_numbers() function to create a new column \n",
    "df['number_of_strikes_readable']=df['number_of_strikes'].apply(readable_numbers)\n",
    "df.head()"
   ]
  },
  {
   "cell_type": "code",
   "execution_count": 9,
   "id": "8a67277b-f81c-4abd-bfbf-f564a301d548",
   "metadata": {},
   "outputs": [
    {
     "name": "stdout",
     "output_type": "stream",
     "text": [
      "Mean:26.8M\n",
      "Median:28.3M\n"
     ]
    }
   ],
   "source": [
    "print(\"Mean:\" + readable_numbers(np.mean(df['number_of_strikes'])))\n",
    "print(\"Median:\" + readable_numbers(np.median(df['number_of_strikes'])))"
   ]
  },
  {
   "cell_type": "markdown",
   "id": "7791706d-1dde-4032-a225-a6b3c5758bd5",
   "metadata": {},
   "source": [
    "A boxplot can help to visually break down the data into percentiles / quartiles, which are important summary statistics. The shaded center of the box represents the middle 50th percentile of the data points. This is the interquartile range, or IQR. \n",
    "\n",
    "The boxplot \"whiskers\" extend 1.5x the IQR by default."
   ]
  },
  {
   "cell_type": "code",
   "execution_count": 11,
   "id": "407057fc-6ab2-4b03-93d7-2883614eaff4",
   "metadata": {},
   "outputs": [
    {
     "name": "stderr",
     "output_type": "stream",
     "text": [
      "/var/folders/5z/f5jycvmd0x58dvn1by8xk79h0000gn/T/ipykernel_93289/408997470.py:4: UserWarning: FixedFormatter should only be used together with FixedLocator\n",
      "  box.set_xticklabels(np.array([readable_numbers(x) for x in g.get_xticks()]))\n"
     ]
    },
    {
     "data": {
      "image/png": "[encoded data removed]",
      "text/plain": [
       "<Figure size 640x480 with 1 Axes>"
      ]
     },
     "metadata": {},
     "output_type": "display_data"
    }
   ],
   "source": [
    "# Create boxplot\n",
    "box = sns.boxplot(x=df['number_of_strikes'])\n",
    "g = plt.gca()\n",
    "box.set_xticklabels(np.array([readable_numbers(x) for x in g.get_xticks()]))\n",
    "plt.xlabel('Number of strikes')\n",
    "plt.title('Yearly number of lightning strikes');"
   ]
  },
  {
   "cell_type": "markdown",
   "id": "69f62285-3e7a-4dcf-9704-f6b8726515f9",
   "metadata": {},
   "source": [
    "The points to the left of the left whisker are outliers. Any observations that are more than 1.5 IQR below Q1 or more than 1.5 IQR above Q3 are considered outliers.\n",
    "\n",
    "One important point for every data professional: do not assume an outlier is erroneous unless there is an explanation or reason to do so.\n",
    "\n",
    "Let's define our IQR, upper, and lower limit."
   ]
  },
  {
   "cell_type": "code",
   "execution_count": 13,
   "id": "960cb845-2fe4-4305-9bf9-eb8e2d48283f",
   "metadata": {},
   "outputs": [
    {
     "name": "stdout",
     "output_type": "stream",
     "text": [
      "Lower limit is: 8.6M\n"
     ]
    }
   ],
   "source": [
    "# Calculate 25th percentile of annual strikes\n",
    "percentile25 = df['number_of_strikes'].quantile(0.25)\n",
    "\n",
    "# Calculate 75th percentile of annual strikes\n",
    "percentile75 = df['number_of_strikes'].quantile(0.75)\n",
    "\n",
    "# Calculate interquartile range\n",
    "iqr = percentile75 - percentile25\n",
    "\n",
    "# Calculate upper and lower thresholds for outliers\n",
    "upper_limit = percentile75 + 1.5 * iqr\n",
    "lower_limit = percentile25 - 1.5 * iqr\n",
    "\n",
    "print('Lower limit is: '+ readable_numbers(lower_limit))"
   ]
  },
  {
   "cell_type": "markdown",
   "id": "bb15c98a-9af1-49dc-b642-4b55ba66158d",
   "metadata": {},
   "source": [
    "Now we can use a Boolean mask to select only the rows of the dataframe where the number of strikes is less than the lower limit we calculated above. These rows are the outliers on the low end."
   ]
  },
  {
   "cell_type": "code",
   "execution_count": 15,
   "id": "f24096d3-42e2-43b9-bd96-77bbf8ee5a64",
   "metadata": {},
   "outputs": [
    {
     "data": {
      "text/html": [
       "<div>\n",
       "<style scoped>\n",
       "    .dataframe tbody tr th:only-of-type {\n",
       "        vertical-align: middle;\n",
       "    }\n",
       "\n",
       "    .dataframe tbody tr th {\n",
       "        vertical-align: top;\n",
       "    }\n",
       "\n",
       "    .dataframe thead th {\n",
       "        text-align: right;\n",
       "    }\n",
       "</style>\n",
       "<table border=\"1\" class=\"dataframe\">\n",
       "  <thead>\n",
       "    <tr style=\"text-align: right;\">\n",
       "      <th></th>\n",
       "      <th>year</th>\n",
       "      <th>number_of_strikes</th>\n",
       "      <th>number_of_strikes_readable</th>\n",
       "    </tr>\n",
       "  </thead>\n",
       "  <tbody>\n",
       "    <tr>\n",
       "      <th>1</th>\n",
       "      <td>2019</td>\n",
       "      <td>209166</td>\n",
       "      <td>209K</td>\n",
       "    </tr>\n",
       "    <tr>\n",
       "      <th>33</th>\n",
       "      <td>1987</td>\n",
       "      <td>7378836</td>\n",
       "      <td>7.4M</td>\n",
       "    </tr>\n",
       "  </tbody>\n",
       "</table>\n",
       "</div>"
      ],
      "text/plain": [
       "    year  number_of_strikes number_of_strikes_readable\n",
       "1   2019             209166                       209K\n",
       "33  1987            7378836                       7.4M"
      ]
     },
     "execution_count": 15,
     "metadata": {},
     "output_type": "execute_result"
    }
   ],
   "source": [
    "# Isolate outliers on low end\n",
    "df[df['number_of_strikes'] < lower_limit]"
   ]
  },
  {
   "cell_type": "markdown",
   "id": "7c02ac2d-0e06-4359-9820-59c89ff83ae9",
   "metadata": {},
   "source": [
    "Let's get a visual of all of the data points with the outlier values colored red."
   ]
  },
  {
   "cell_type": "code",
   "execution_count": 80,
   "id": "9b9c4a94-ca1f-4fde-aa3e-a7c33530dd54",
   "metadata": {},
   "outputs": [
    {
     "data": {
      "image/png": "[encoded data removed]",
      "text/plain": [
       "<Figure size 1600x800 with 1 Axes>"
      ]
     },
     "metadata": {},
     "output_type": "display_data"
    }
   ],
   "source": [
    "# plt.text has 3 main inputs which is the x and y position and what you want to be placed on the graph\n",
    "def addlabels(x,y):\n",
    "    for i in range(len(x)):\n",
    "        plt.text(x[i], y[i]+500000, readable_numbers(y[i]), ha='center', fontsize=10, fontweight='bold', fontstyle='italic')\n",
    "\n",
    "# 3 parameters in 'np.where' - condition, if true then x, if false then y\n",
    "colors = np.where(df['number_of_strikes'] < lower_limit, 'r', 'b')\n",
    "\n",
    "# fig is the canvas you're drawing on\n",
    "fig, ax = plt.subplots(figsize=(16,8))\n",
    "fig.set_facecolor('yellow')\n",
    "ax.scatter(df['year'], df['number_of_strikes'],c=colors)\n",
    "ax.set_xlabel('Year')\n",
    "ax.set_ylabel('Number of strikes')\n",
    "ax.set_title('Number of lightning strikes by year')\n",
    "addlabels(df['year'], df['number_of_strikes'])\n",
    "for tick in ax.get_xticklabels():\n",
    "    tick.set_rotation(45)\n",
    "plt.show()"
   ]
  },
  {
   "cell_type": "markdown",
   "id": "029f9e7b-d66b-4fc0-b223-f59a9ca95a67",
   "metadata": {},
   "source": [
    "### Investigating the outliers 2019 and 1987\n",
    "\n",
    "Let's examine the two outlier years a bit more closely. In the section above, we used a preprocessed dataset that didn't include a lot of the information that we're accustomed to having in this data. In order to further investigate the outlier years, we'll need more information, so we're going to import data from these years specifically."
   ]
  },
  {
   "cell_type": "code",
   "execution_count": 85,
   "id": "5f8b0cd8-db21-4d9a-818d-b36ac3208bc9",
   "metadata": {},
   "outputs": [],
   "source": [
    "df_2019 = pd.read_csv('/Users/timothypark/Documents/portfolios/timpark99.github.io/Lightning Strikes 5/eda_outliers_dataset2.csv')"
   ]
  },
  {
   "cell_type": "code",
   "execution_count": 87,
   "id": "025f0e35-5b23-404a-9b2c-5a06c654ed24",
   "metadata": {},
   "outputs": [
    {
     "data": {
      "text/html": [
       "<div>\n",
       "<style scoped>\n",
       "    .dataframe tbody tr th:only-of-type {\n",
       "        vertical-align: middle;\n",
       "    }\n",
       "\n",
       "    .dataframe tbody tr th {\n",
       "        vertical-align: top;\n",
       "    }\n",
       "\n",
       "    .dataframe thead th {\n",
       "        text-align: right;\n",
       "    }\n",
       "</style>\n",
       "<table border=\"1\" class=\"dataframe\">\n",
       "  <thead>\n",
       "    <tr style=\"text-align: right;\">\n",
       "      <th></th>\n",
       "      <th>date</th>\n",
       "      <th>number_of_strikes</th>\n",
       "      <th>center_point_geom</th>\n",
       "    </tr>\n",
       "  </thead>\n",
       "  <tbody>\n",
       "    <tr>\n",
       "      <th>0</th>\n",
       "      <td>2019-12-01</td>\n",
       "      <td>1</td>\n",
       "      <td>POINT(-79.7 35.3)</td>\n",
       "    </tr>\n",
       "    <tr>\n",
       "      <th>1</th>\n",
       "      <td>2019-12-01</td>\n",
       "      <td>1</td>\n",
       "      <td>POINT(-84.7 39.3)</td>\n",
       "    </tr>\n",
       "    <tr>\n",
       "      <th>2</th>\n",
       "      <td>2019-12-01</td>\n",
       "      <td>1</td>\n",
       "      <td>POINT(-83.4 38.9)</td>\n",
       "    </tr>\n",
       "    <tr>\n",
       "      <th>3</th>\n",
       "      <td>2019-12-01</td>\n",
       "      <td>1</td>\n",
       "      <td>POINT(-71.5 35.2)</td>\n",
       "    </tr>\n",
       "    <tr>\n",
       "      <th>4</th>\n",
       "      <td>2019-12-01</td>\n",
       "      <td>1</td>\n",
       "      <td>POINT(-87.8 41.6)</td>\n",
       "    </tr>\n",
       "  </tbody>\n",
       "</table>\n",
       "</div>"
      ],
      "text/plain": [
       "         date  number_of_strikes  center_point_geom\n",
       "0  2019-12-01                  1  POINT(-79.7 35.3)\n",
       "1  2019-12-01                  1  POINT(-84.7 39.3)\n",
       "2  2019-12-01                  1  POINT(-83.4 38.9)\n",
       "3  2019-12-01                  1  POINT(-71.5 35.2)\n",
       "4  2019-12-01                  1  POINT(-87.8 41.6)"
      ]
     },
     "execution_count": 87,
     "metadata": {},
     "output_type": "execute_result"
    }
   ],
   "source": [
    "df_2019.head()"
   ]
  },
  {
   "cell_type": "markdown",
   "id": "56c1317b-b80e-4572-8f26-0b85fcfca0eb",
   "metadata": {},
   "source": [
    "First, we'll convert the `date` column to datetime. This will enable us to extract two new columns: `month` and `month_txt`. Then, we'll sort the data by `month` and `month_txt`, sum it, and sort the values. "
   ]
  },
  {
   "cell_type": "code",
   "execution_count": 92,
   "id": "df072636-9ba5-433d-a728-27f482e1cd0d",
   "metadata": {},
   "outputs": [
    {
     "data": {
      "text/html": [
       "<div>\n",
       "<style scoped>\n",
       "    .dataframe tbody tr th:only-of-type {\n",
       "        vertical-align: middle;\n",
       "    }\n",
       "\n",
       "    .dataframe tbody tr th {\n",
       "        vertical-align: top;\n",
       "    }\n",
       "\n",
       "    .dataframe thead th {\n",
       "        text-align: right;\n",
       "    }\n",
       "</style>\n",
       "<table border=\"1\" class=\"dataframe\">\n",
       "  <thead>\n",
       "    <tr style=\"text-align: right;\">\n",
       "      <th></th>\n",
       "      <th>month</th>\n",
       "      <th>month_txt</th>\n",
       "      <th>number_of_strikes</th>\n",
       "    </tr>\n",
       "  </thead>\n",
       "  <tbody>\n",
       "    <tr>\n",
       "      <th>0</th>\n",
       "      <td>12</td>\n",
       "      <td>Dec</td>\n",
       "      <td>209166</td>\n",
       "    </tr>\n",
       "  </tbody>\n",
       "</table>\n",
       "</div>"
      ],
      "text/plain": [
       "   month month_txt  number_of_strikes\n",
       "0     12       Dec             209166"
      ]
     },
     "execution_count": 92,
     "metadata": {},
     "output_type": "execute_result"
    }
   ],
   "source": [
    "# Convert `date` column to datetime\n",
    "df_2019['date']= pd.to_datetime(df_2019['date'])\n",
    "\n",
    "# Create 2 new columns\n",
    "df_2019['month'] = df_2019['date'].dt.month\n",
    "df_2019['month_txt'] = df_2019['date'].dt.month_name().str.slice(stop=3)\n",
    "\n",
    "# Group by `month` and `month_txt`, sum it, and sort. Assign result to new df\n",
    "df_2019_by_month = df_2019.groupby(['month','month_txt']).sum(numeric_only=True).sort_values('month', ascending=True).head(12).reset_index()\n",
    "df_2019_by_month"
   ]
  },
  {
   "cell_type": "markdown",
   "id": "9061136e-2032-4de3-a1b5-ee94b622a588",
   "metadata": {},
   "source": [
    "2019 appears to have data only for the month of December. The likelihood of there not being any lightning from January to November 2019 is ~0. This appears to be a case of missing data. We should probably exclude 2019 from the analysis (for most use cases)."
   ]
  },
  {
   "cell_type": "markdown",
   "id": "48185c29-7e0a-4768-acce-705823df5380",
   "metadata": {},
   "source": [
    "#### Import data for 1987\n",
    "\n",
    "Now let's inspect the data from the other outlier year, 1987.\n"
   ]
  },
  {
   "cell_type": "code",
   "execution_count": 96,
   "id": "e4c2d25b-e113-4212-999c-c4399b896333",
   "metadata": {},
   "outputs": [],
   "source": [
    "# Read in 1987 data\n",
    "df_1987 = pd.read_csv('/Users/timothypark/Documents/portfolios/timpark99.github.io/Lightning Strikes 5/eda_outliers_dataset3.csv')"
   ]
  },
  {
   "cell_type": "markdown",
   "id": "d24f7efa-b276-48f5-98ad-ff36a3b00ae0",
   "metadata": {},
   "source": [
    "In this code block we will do the same datetime conversions and groupings we did for the other datasets. "
   ]
  },
  {
   "cell_type": "code",
   "execution_count": 101,
   "id": "820448c2-7097-4c33-ad84-04c8c82b03e6",
   "metadata": {},
   "outputs": [
    {
     "data": {
      "text/html": [
       "<div>\n",
       "<style scoped>\n",
       "    .dataframe tbody tr th:only-of-type {\n",
       "        vertical-align: middle;\n",
       "    }\n",
       "\n",
       "    .dataframe tbody tr th {\n",
       "        vertical-align: top;\n",
       "    }\n",
       "\n",
       "    .dataframe thead th {\n",
       "        text-align: right;\n",
       "    }\n",
       "</style>\n",
       "<table border=\"1\" class=\"dataframe\">\n",
       "  <thead>\n",
       "    <tr style=\"text-align: right;\">\n",
       "      <th></th>\n",
       "      <th>month</th>\n",
       "      <th>month_txt</th>\n",
       "      <th>number_of_strikes</th>\n",
       "    </tr>\n",
       "  </thead>\n",
       "  <tbody>\n",
       "    <tr>\n",
       "      <th>0</th>\n",
       "      <td>7</td>\n",
       "      <td>Jul</td>\n",
       "      <td>1470566</td>\n",
       "    </tr>\n",
       "    <tr>\n",
       "      <th>1</th>\n",
       "      <td>8</td>\n",
       "      <td>Aug</td>\n",
       "      <td>1324502</td>\n",
       "    </tr>\n",
       "    <tr>\n",
       "      <th>2</th>\n",
       "      <td>9</td>\n",
       "      <td>Sep</td>\n",
       "      <td>478188</td>\n",
       "    </tr>\n",
       "    <tr>\n",
       "      <th>3</th>\n",
       "      <td>10</td>\n",
       "      <td>Oct</td>\n",
       "      <td>62981</td>\n",
       "    </tr>\n",
       "    <tr>\n",
       "      <th>4</th>\n",
       "      <td>11</td>\n",
       "      <td>Nov</td>\n",
       "      <td>70912</td>\n",
       "    </tr>\n",
       "    <tr>\n",
       "      <th>5</th>\n",
       "      <td>12</td>\n",
       "      <td>Dec</td>\n",
       "      <td>24015</td>\n",
       "    </tr>\n",
       "  </tbody>\n",
       "</table>\n",
       "</div>"
      ],
      "text/plain": [
       "   month month_txt  number_of_strikes\n",
       "0      7       Jul            1470566\n",
       "1      8       Aug            1324502\n",
       "2      9       Sep             478188\n",
       "3     10       Oct              62981\n",
       "4     11       Nov              70912\n",
       "5     12       Dec              24015"
      ]
     },
     "execution_count": 101,
     "metadata": {},
     "output_type": "execute_result"
    }
   ],
   "source": [
    "# Convert `date` column to datetime\n",
    "df_1987['date'] = pd.to_datetime(df_1987['date'])\n",
    "\n",
    "# Create 2 new columns\n",
    "df_1987['month'] = df_1987['date'].dt.month\n",
    "df_1987['month_txt'] = df_1987['date'].dt.month_name().str.slice(stop=3)\n",
    "\n",
    "# Group by `month` and `month_txt`, sum it, and sort. Assign result to new df\n",
    "df_1987_by_month = df_1987.groupby(['month','month_txt']).sum(numeric_only=True).sort_values('month', ascending=True).head(12).reset_index()\n",
    "df_1987_by_month"
   ]
  },
  {
   "cell_type": "markdown",
   "id": "4bb99ed8-1150-4df3-82bc-9b703854889d",
   "metadata": {},
   "source": [
    "1987 has data for every month of the year (I deleted Jan-June because of size issues). Hence, this outlier should be treated differently than 2019, which is missing data. \n",
    "\n",
    "Finally, let's re-run the mean and median after removing the outliers. Our final takeaway from our lesson on outliers is that outliers significantly affect the dataset's mean, but do not significantly affect the median. \n",
    "\n",
    "To remove the outliers, we'll use a Boolean mask to create a new dataframe that contains only the rows in the original dataframe where the number of strikes >= the lower limit we calculated above."
   ]
  },
  {
   "cell_type": "code",
   "execution_count": 104,
   "id": "c7960683-fc3c-4910-aa94-e213b7875851",
   "metadata": {},
   "outputs": [
    {
     "name": "stdout",
     "output_type": "stream",
     "text": [
      "Mean:28.2M\n",
      "Median:28.8M\n"
     ]
    }
   ],
   "source": [
    "# Create new df that removes outliers\n",
    "df_without_outliers = df[df['number_of_strikes'] >= lower_limit]\n",
    "\n",
    "# Recalculate mean and median values on data without outliers\n",
    "print(\"Mean:\" + readable_numbers(np.mean(df_without_outliers['number_of_strikes'])))\n",
    "print(\"Median:\" + readable_numbers(np.median(df_without_outliers['number_of_strikes'])))"
   ]
  },
  {
   "cell_type": "markdown",
   "id": "635a1367-e198-4cee-8bb4-80cf55428033",
   "metadata": {},
   "source": [
    "Both the mean and the median changed, but the mean much more so. It is clear that outlier values can affect the distributions of the data and the conclusions that can be drawn from them."
   ]
  }
 ],
 "metadata": {
  "kernelspec": {
   "display_name": "Python 3 (ipykernel)",
   "language": "python",
   "name": "python3"
  },
  "language_info": {
   "codemirror_mode": {
    "name": "ipython",
    "version": 3
   },
   "file_extension": ".py",
   "mimetype": "text/x-python",
   "name": "python",
   "nbconvert_exporter": "python",
   "pygments_lexer": "ipython3",
   "version": "3.11.5"
  }
 },
 "nbformat": 4,
 "nbformat_minor": 5
}
