{
 "cells": [
  {
   "cell_type": "code",
   "execution_count": 1,
   "id": "671f632e-9820-4524-89d8-56d031d77925",
   "metadata": {},
   "outputs": [],
   "source": [
    "from flask import Flask, redirect, url_for"
   ]
  },
  {
   "cell_type": "code",
   "execution_count": 2,
   "id": "3e81d7d7-4028-4190-adcf-7cf0583dc322",
   "metadata": {},
   "outputs": [],
   "source": [
    "app = Flask(__name__)"
   ]
  },
  {
   "cell_type": "code",
   "execution_count": 3,
   "id": "976f519e-f5b6-4cce-b4ee-026feba66efc",
   "metadata": {},
   "outputs": [],
   "source": [
    "@app.route(\"/\")\n",
    "def home():\n",
    "    return \"Hello! this is the main page <h1>HELLO</h1>\"\n",
    "\n",
    "@app.route(\"/<name>\")\n",
    "def user(name):\n",
    "    return f\"Hello {name}!\"\n",
    "\n",
    "@app.route(\"/admin\")\n",
    "def admin():\n",
    "    return redirect(url_for(\"user\", name=\"Admin!\"))"
   ]
  },
  {
   "cell_type": "code",
   "execution_count": null,
   "id": "2b841411-e082-42dd-9b19-a13794c7478d",
   "metadata": {},
   "outputs": [
    {
     "name": "stdout",
     "output_type": "stream",
     "text": [
      " * Serving Flask app '__main__'\n",
      " * Debug mode: off\n"
     ]
    },
    {
     "name": "stderr",
     "output_type": "stream",
     "text": [
      "WARNING: This is a development server. Do not use it in a production deployment. Use a production WSGI server instead.\n",
      " * Running on http://127.0.0.1:5000\n",
      "Press CTRL+C to quit\n",
      "127.0.0.1 - - [31/Aug/2024 12:51:50] \"GET / HTTP/1.1\" 200 -\n",
      "127.0.0.1 - - [31/Aug/2024 12:52:01] \"GET /admin HTTP/1.1\" 302 -\n",
      "127.0.0.1 - - [31/Aug/2024 12:52:01] \"GET /Admin! HTTP/1.1\" 200 -\n"
     ]
    }
   ],
   "source": [
    "if __name__ == \"__main__\":\n",
    "    app.run()"
   ]
  }
 ],
 "metadata": {
  "kernelspec": {
   "display_name": "Python 3 (ipykernel)",
   "language": "python",
   "name": "python3"
  },
  "language_info": {
   "codemirror_mode": {
    "name": "ipython",
    "version": 3
   },
   "file_extension": ".py",
   "mimetype": "text/x-python",
   "name": "python",
   "nbconvert_exporter": "python",
   "pygments_lexer": "ipython3",
   "version": "3.11.5"
  }
 },
 "nbformat": 4,
 "nbformat_minor": 5
}
