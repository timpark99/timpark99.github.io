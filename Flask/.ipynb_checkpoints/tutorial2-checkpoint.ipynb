{
 "cells": [
  {
   "cell_type": "markdown",
   "id": "91fd8c37-8249-4115-b660-a02f3e10b7f3",
   "metadata": {},
   "source": [
    "`render_template` is going to allow us to grab an HTML file and render that as our webpage.  "
   ]
  },
  {
   "cell_type": "code",
   "execution_count": 48,
   "id": "671f632e-9820-4524-89d8-56d031d77925",
   "metadata": {},
   "outputs": [],
   "source": [
    "from flask import Flask, redirect, url_for, render_template"
   ]
  },
  {
   "cell_type": "markdown",
   "id": "841b92c7-25ef-46e4-a3f3-deb7e9564ce1",
   "metadata": {},
   "source": [
    "The templates folder needs to be in the same directory as your python script that's running the website.  Name it \"templates\".  Then create a new html file and put it inside the templates folder.  It will be \"index.html\".  "
   ]
  },
  {
   "cell_type": "code",
   "execution_count": 50,
   "id": "3e81d7d7-4028-4190-adcf-7cf0583dc322",
   "metadata": {},
   "outputs": [],
   "source": [
    "app = Flask(__name__)"
   ]
  },
  {
   "cell_type": "markdown",
   "id": "d5287e5b-0f40-4036-975b-e046c80a109c",
   "metadata": {},
   "source": [
    "The `render_template` function is going to have a parameter of the HTML file that we want to render which is index.html.  We can pass in a list of first names and use a for loop in the html file to show all of them.  This is showing dynamic information on the screen.  You can pass information from the backend which is this file to the front end which is the HTML file."
   ]
  },
  {
   "cell_type": "code",
   "execution_count": 52,
   "id": "976f519e-f5b6-4cce-b4ee-026feba66efc",
   "metadata": {},
   "outputs": [],
   "source": [
    "@app.route(\"/<name>\")\n",
    "def home(name):\n",
    "    return render_template(\"index.html\", fnames=['tim', 'joe', 'bill'])"
   ]
  },
  {
   "cell_type": "code",
   "execution_count": 53,
   "id": "2b841411-e082-42dd-9b19-a13794c7478d",
   "metadata": {},
   "outputs": [
    {
     "name": "stdout",
     "output_type": "stream",
     "text": [
      " * Serving Flask app '__main__'\n",
      " * Debug mode: off\n"
     ]
    },
    {
     "name": "stderr",
     "output_type": "stream",
     "text": [
      "WARNING: This is a development server. Do not use it in a production deployment. Use a production WSGI server instead.\n",
      " * Running on http://127.0.0.1:5000\n",
      "Press CTRL+C to quit\n",
      "127.0.0.1 - - [15/Oct/2024 20:16:43] \"GET / HTTP/1.1\" 404 -\n",
      "[2024-10-15 20:16:44,200] ERROR in app: Exception on /favicon.ico [GET]\n",
      "Traceback (most recent call last):\n",
      "  File \"/Users/timothypark/anaconda3/lib/python3.11/site-packages/flask/app.py\", line 1473, in wsgi_app\n",
      "    response = self.full_dispatch_request()\n",
      "               ^^^^^^^^^^^^^^^^^^^^^^^^^^^^\n",
      "  File \"/Users/timothypark/anaconda3/lib/python3.11/site-packages/flask/app.py\", line 882, in full_dispatch_request\n",
      "    rv = self.handle_user_exception(e)\n",
      "         ^^^^^^^^^^^^^^^^^^^^^^^^^^^^^\n",
      "  File \"/Users/timothypark/anaconda3/lib/python3.11/site-packages/flask/app.py\", line 880, in full_dispatch_request\n",
      "    rv = self.dispatch_request()\n",
      "         ^^^^^^^^^^^^^^^^^^^^^^^\n",
      "  File \"/Users/timothypark/anaconda3/lib/python3.11/site-packages/flask/app.py\", line 865, in dispatch_request\n",
      "    return self.ensure_sync(self.view_functions[rule.endpoint])(**view_args)  # type: ignore[no-any-return]\n",
      "           ^^^^^^^^^^^^^^^^^^^^^^^^^^^^^^^^^^^^^^^^^^^^^^^^^^^^^^^^^^^^^^^^^\n",
      "  File \"/var/folders/5z/f5jycvmd0x58dvn1by8xk79h0000gn/T/ipykernel_61585/821979790.py\", line 3, in home\n",
      "    return render_template(\"index.html\", fnames=['tim', 'joe', 'bill'], r=2)\n",
      "           ^^^^^^^^^^^^^^^^^^^^^^^^^^^^^^^^^^^^^^^^^^^^^^^^^^^^^^^^^^^^^^^^^\n",
      "  File \"/Users/timothypark/anaconda3/lib/python3.11/site-packages/flask/templating.py\", line 149, in render_template\n",
      "    template = app.jinja_env.get_or_select_template(template_name_or_list)\n",
      "               ^^^^^^^^^^^^^^^^^^^^^^^^^^^^^^^^^^^^^^^^^^^^^^^^^^^^^^^^^^^\n",
      "  File \"/Users/timothypark/anaconda3/lib/python3.11/site-packages/jinja2/environment.py\", line 1081, in get_or_select_template\n",
      "    return self.get_template(template_name_or_list, parent, globals)\n",
      "           ^^^^^^^^^^^^^^^^^^^^^^^^^^^^^^^^^^^^^^^^^^^^^^^^^^^^^^^^^\n",
      "  File \"/Users/timothypark/anaconda3/lib/python3.11/site-packages/jinja2/environment.py\", line 1010, in get_template\n",
      "    return self._load_template(name, globals)\n",
      "           ^^^^^^^^^^^^^^^^^^^^^^^^^^^^^^^^^^\n",
      "  File \"/Users/timothypark/anaconda3/lib/python3.11/site-packages/jinja2/environment.py\", line 969, in _load_template\n",
      "    template = self.loader.load(self, name, self.make_globals(globals))\n",
      "               ^^^^^^^^^^^^^^^^^^^^^^^^^^^^^^^^^^^^^^^^^^^^^^^^^^^^^^^^\n",
      "  File \"/Users/timothypark/anaconda3/lib/python3.11/site-packages/jinja2/loaders.py\", line 138, in load\n",
      "    code = environment.compile(source, name, filename)\n",
      "           ^^^^^^^^^^^^^^^^^^^^^^^^^^^^^^^^^^^^^^^^^^^\n",
      "  File \"/Users/timothypark/anaconda3/lib/python3.11/site-packages/jinja2/environment.py\", line 768, in compile\n",
      "    self.handle_exception(source=source_hint)\n",
      "  File \"/Users/timothypark/anaconda3/lib/python3.11/site-packages/jinja2/environment.py\", line 936, in handle_exception\n",
      "    raise rewrite_traceback_stack(source=source)\n",
      "  File \"/Users/timothypark/Documents/portfolios/timpark99.github.io/Flask/templates/index.html\", line 8, in template\n",
      "    <!-- double brackets {{}} allows you to type any variable that's going to be passed into this template -->\n",
      "    ^^^^^^^^^^^^^^^^^^^^^^^^^\n",
      "jinja2.exceptions.TemplateSyntaxError: Expected an expression, got 'end of print statement'\n",
      "127.0.0.1 - - [15/Oct/2024 20:16:44] \"GET /favicon.ico HTTP/1.1\" 500 -\n",
      "[2024-10-15 20:16:48,323] ERROR in app: Exception on /test [GET]\n",
      "Traceback (most recent call last):\n",
      "  File \"/Users/timothypark/anaconda3/lib/python3.11/site-packages/flask/app.py\", line 1473, in wsgi_app\n",
      "    response = self.full_dispatch_request()\n",
      "               ^^^^^^^^^^^^^^^^^^^^^^^^^^^^\n",
      "  File \"/Users/timothypark/anaconda3/lib/python3.11/site-packages/flask/app.py\", line 882, in full_dispatch_request\n",
      "    rv = self.handle_user_exception(e)\n",
      "         ^^^^^^^^^^^^^^^^^^^^^^^^^^^^^\n",
      "  File \"/Users/timothypark/anaconda3/lib/python3.11/site-packages/flask/app.py\", line 880, in full_dispatch_request\n",
      "    rv = self.dispatch_request()\n",
      "         ^^^^^^^^^^^^^^^^^^^^^^^\n",
      "  File \"/Users/timothypark/anaconda3/lib/python3.11/site-packages/flask/app.py\", line 865, in dispatch_request\n",
      "    return self.ensure_sync(self.view_functions[rule.endpoint])(**view_args)  # type: ignore[no-any-return]\n",
      "           ^^^^^^^^^^^^^^^^^^^^^^^^^^^^^^^^^^^^^^^^^^^^^^^^^^^^^^^^^^^^^^^^^\n",
      "  File \"/var/folders/5z/f5jycvmd0x58dvn1by8xk79h0000gn/T/ipykernel_61585/821979790.py\", line 3, in home\n",
      "    return render_template(\"index.html\", fnames=['tim', 'joe', 'bill'], r=2)\n",
      "           ^^^^^^^^^^^^^^^^^^^^^^^^^^^^^^^^^^^^^^^^^^^^^^^^^^^^^^^^^^^^^^^^^\n",
      "  File \"/Users/timothypark/anaconda3/lib/python3.11/site-packages/flask/templating.py\", line 149, in render_template\n",
      "    template = app.jinja_env.get_or_select_template(template_name_or_list)\n",
      "               ^^^^^^^^^^^^^^^^^^^^^^^^^^^^^^^^^^^^^^^^^^^^^^^^^^^^^^^^^^^\n",
      "  File \"/Users/timothypark/anaconda3/lib/python3.11/site-packages/jinja2/environment.py\", line 1081, in get_or_select_template\n",
      "    return self.get_template(template_name_or_list, parent, globals)\n",
      "           ^^^^^^^^^^^^^^^^^^^^^^^^^^^^^^^^^^^^^^^^^^^^^^^^^^^^^^^^^\n",
      "  File \"/Users/timothypark/anaconda3/lib/python3.11/site-packages/jinja2/environment.py\", line 1010, in get_template\n",
      "    return self._load_template(name, globals)\n",
      "           ^^^^^^^^^^^^^^^^^^^^^^^^^^^^^^^^^^\n",
      "  File \"/Users/timothypark/anaconda3/lib/python3.11/site-packages/jinja2/environment.py\", line 969, in _load_template\n",
      "    template = self.loader.load(self, name, self.make_globals(globals))\n",
      "               ^^^^^^^^^^^^^^^^^^^^^^^^^^^^^^^^^^^^^^^^^^^^^^^^^^^^^^^^\n",
      "  File \"/Users/timothypark/anaconda3/lib/python3.11/site-packages/jinja2/loaders.py\", line 138, in load\n",
      "    code = environment.compile(source, name, filename)\n",
      "           ^^^^^^^^^^^^^^^^^^^^^^^^^^^^^^^^^^^^^^^^^^^\n",
      "  File \"/Users/timothypark/anaconda3/lib/python3.11/site-packages/jinja2/environment.py\", line 768, in compile\n",
      "    self.handle_exception(source=source_hint)\n",
      "  File \"/Users/timothypark/anaconda3/lib/python3.11/site-packages/jinja2/environment.py\", line 936, in handle_exception\n",
      "    raise rewrite_traceback_stack(source=source)\n",
      "  File \"/Users/timothypark/Documents/portfolios/timpark99.github.io/Flask/templates/index.html\", line 8, in template\n",
      "    <!-- double brackets {{}} allows you to type any variable that's going to be passed into this template -->\n",
      "    ^^^^^^^^^^^^^^^^^^^^^^^^^\n",
      "jinja2.exceptions.TemplateSyntaxError: Expected an expression, got 'end of print statement'\n",
      "127.0.0.1 - - [15/Oct/2024 20:16:48] \"GET /test HTTP/1.1\" 500 -\n",
      "[2024-10-15 20:16:48,373] ERROR in app: Exception on /favicon.ico [GET]\n",
      "Traceback (most recent call last):\n",
      "  File \"/Users/timothypark/anaconda3/lib/python3.11/site-packages/flask/app.py\", line 1473, in wsgi_app\n",
      "    response = self.full_dispatch_request()\n",
      "               ^^^^^^^^^^^^^^^^^^^^^^^^^^^^\n",
      "  File \"/Users/timothypark/anaconda3/lib/python3.11/site-packages/flask/app.py\", line 882, in full_dispatch_request\n",
      "    rv = self.handle_user_exception(e)\n",
      "         ^^^^^^^^^^^^^^^^^^^^^^^^^^^^^\n",
      "  File \"/Users/timothypark/anaconda3/lib/python3.11/site-packages/flask/app.py\", line 880, in full_dispatch_request\n",
      "    rv = self.dispatch_request()\n",
      "         ^^^^^^^^^^^^^^^^^^^^^^^\n",
      "  File \"/Users/timothypark/anaconda3/lib/python3.11/site-packages/flask/app.py\", line 865, in dispatch_request\n",
      "    return self.ensure_sync(self.view_functions[rule.endpoint])(**view_args)  # type: ignore[no-any-return]\n",
      "           ^^^^^^^^^^^^^^^^^^^^^^^^^^^^^^^^^^^^^^^^^^^^^^^^^^^^^^^^^^^^^^^^^\n",
      "  File \"/var/folders/5z/f5jycvmd0x58dvn1by8xk79h0000gn/T/ipykernel_61585/821979790.py\", line 3, in home\n",
      "    return render_template(\"index.html\", fnames=['tim', 'joe', 'bill'], r=2)\n",
      "           ^^^^^^^^^^^^^^^^^^^^^^^^^^^^^^^^^^^^^^^^^^^^^^^^^^^^^^^^^^^^^^^^^\n",
      "  File \"/Users/timothypark/anaconda3/lib/python3.11/site-packages/flask/templating.py\", line 149, in render_template\n",
      "    template = app.jinja_env.get_or_select_template(template_name_or_list)\n",
      "               ^^^^^^^^^^^^^^^^^^^^^^^^^^^^^^^^^^^^^^^^^^^^^^^^^^^^^^^^^^^\n",
      "  File \"/Users/timothypark/anaconda3/lib/python3.11/site-packages/jinja2/environment.py\", line 1081, in get_or_select_template\n",
      "    return self.get_template(template_name_or_list, parent, globals)\n",
      "           ^^^^^^^^^^^^^^^^^^^^^^^^^^^^^^^^^^^^^^^^^^^^^^^^^^^^^^^^^\n",
      "  File \"/Users/timothypark/anaconda3/lib/python3.11/site-packages/jinja2/environment.py\", line 1010, in get_template\n",
      "    return self._load_template(name, globals)\n",
      "           ^^^^^^^^^^^^^^^^^^^^^^^^^^^^^^^^^^\n",
      "  File \"/Users/timothypark/anaconda3/lib/python3.11/site-packages/jinja2/environment.py\", line 969, in _load_template\n",
      "    template = self.loader.load(self, name, self.make_globals(globals))\n",
      "               ^^^^^^^^^^^^^^^^^^^^^^^^^^^^^^^^^^^^^^^^^^^^^^^^^^^^^^^^\n",
      "  File \"/Users/timothypark/anaconda3/lib/python3.11/site-packages/jinja2/loaders.py\", line 138, in load\n",
      "    code = environment.compile(source, name, filename)\n",
      "           ^^^^^^^^^^^^^^^^^^^^^^^^^^^^^^^^^^^^^^^^^^^\n",
      "  File \"/Users/timothypark/anaconda3/lib/python3.11/site-packages/jinja2/environment.py\", line 768, in compile\n",
      "    self.handle_exception(source=source_hint)\n",
      "  File \"/Users/timothypark/anaconda3/lib/python3.11/site-packages/jinja2/environment.py\", line 936, in handle_exception\n",
      "    raise rewrite_traceback_stack(source=source)\n",
      "  File \"/Users/timothypark/Documents/portfolios/timpark99.github.io/Flask/templates/index.html\", line 8, in template\n",
      "    <!-- double brackets {{}} allows you to type any variable that's going to be passed into this template -->\n",
      "    ^^^^^^^^^^^^^^^^^^^^^^^^^\n",
      "jinja2.exceptions.TemplateSyntaxError: Expected an expression, got 'end of print statement'\n",
      "127.0.0.1 - - [15/Oct/2024 20:16:48] \"GET /favicon.ico HTTP/1.1\" 500 -\n"
     ]
    }
   ],
   "source": [
    "if __name__ == \"__main__\":\n",
    "    app.run()"
   ]
  }
 ],
 "metadata": {
  "kernelspec": {
   "display_name": "Python 3 (ipykernel)",
   "language": "python",
   "name": "python3"
  },
  "language_info": {
   "codemirror_mode": {
    "name": "ipython",
    "version": 3
   },
   "file_extension": ".py",
   "mimetype": "text/x-python",
   "name": "python",
   "nbconvert_exporter": "python",
   "pygments_lexer": "ipython3",
   "version": "3.11.5"
  }
 },
 "nbformat": 4,
 "nbformat_minor": 5
}
