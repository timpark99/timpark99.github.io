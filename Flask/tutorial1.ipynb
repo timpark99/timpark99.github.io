{
 "cells": [
  {
   "cell_type": "code",
   "execution_count": 13,
   "id": "671f632e-9820-4524-89d8-56d031d77925",
   "metadata": {},
   "outputs": [],
   "source": [
    "from flask import Flask, redirect, url_for"
   ]
  },
  {
   "cell_type": "code",
   "execution_count": 14,
   "id": "3e81d7d7-4028-4190-adcf-7cf0583dc322",
   "metadata": {},
   "outputs": [],
   "source": [
    "# create an instance of a Flask application\n",
    "app = Flask(__name__)"
   ]
  },
  {
   "cell_type": "markdown",
   "id": "5fe26172-346c-4ed6-9cb3-5d3cc5eb1263",
   "metadata": {},
   "source": [
    "Define the pages that are going to be on the website.  A function returns what will be displayed on the page.  Name your functions what they represent.  Flask does not know how to get to this page so we give it a route. `/` means that whenever we go to a default domain, it will automatically send us here"
   ]
  },
  {
   "cell_type": "code",
   "execution_count": 16,
   "id": "7bfedbe7-909d-417c-bb43-5bc82d7c74e9",
   "metadata": {},
   "outputs": [],
   "source": [
    "@app.route(\"/\")\n",
    "def home():\n",
    "    # return in-line html\n",
    "    return \"Hello!!  this is the main page <h1>HELLO<h1>\""
   ]
  },
  {
   "cell_type": "markdown",
   "id": "ad055ad6-9646-4462-b68c-5a883a2eef2d",
   "metadata": {},
   "source": [
    "If you put a value between the tags, it's passed as a function to the parameter.  When you get to the page just type in /(whatever you want) after the domain and it will show\n"
   ]
  },
  {
   "cell_type": "code",
   "execution_count": 18,
   "id": "ab785f2e-d26b-4dcf-853b-b4419efffd8d",
   "metadata": {},
   "outputs": [],
   "source": [
    "@app.route(\"/<name>\")\n",
    "def user(name):\n",
    "    return f\"Hello {name}!\""
   ]
  },
  {
   "cell_type": "markdown",
   "id": "5d1798a7-0d8c-434d-a574-813a4aa90ed6",
   "metadata": {},
   "source": [
    "redirect and url_for are going to allow a redirect from a specific function.  A redirect, redirects you to a different page.  In the parameter of url_for, put the name of the function you are redirecting to.  Since the name of the parameter of user is `name`, you need to type in `name` before the equals sign.  When you run it and type `/admin` after the domain, it will redirect you to the user, passing in the argument of name."
   ]
  },
  {
   "cell_type": "code",
   "execution_count": 20,
   "id": "4a633a23-23ed-480e-9850-5a3f78b6a5e4",
   "metadata": {},
   "outputs": [],
   "source": [
    "@app.route(\"/admin\")\n",
    "def admin():\n",
    "    return redirect(url_for(\"user\", name=\"Admin!\"))"
   ]
  },
  {
   "cell_type": "code",
   "execution_count": 21,
   "id": "2b841411-e082-42dd-9b19-a13794c7478d",
   "metadata": {},
   "outputs": [
    {
     "name": "stdout",
     "output_type": "stream",
     "text": [
      " * Serving Flask app '__main__'\n",
      " * Debug mode: off\n"
     ]
    },
    {
     "name": "stderr",
     "output_type": "stream",
     "text": [
      "WARNING: This is a development server. Do not use it in a production deployment. Use a production WSGI server instead.\n",
      " * Running on http://127.0.0.1:5000\n",
      "Press CTRL+C to quit\n",
      "127.0.0.1 - - [15/Oct/2024 19:17:48] \"GET / HTTP/1.1\" 200 -\n",
      "127.0.0.1 - - [15/Oct/2024 19:17:48] \"GET /favicon.ico HTTP/1.1\" 200 -\n",
      "127.0.0.1 - - [15/Oct/2024 19:17:54] \"GET /admin HTTP/1.1\" 302 -\n",
      "127.0.0.1 - - [15/Oct/2024 19:17:54] \"GET /Admin! HTTP/1.1\" 200 -\n",
      "127.0.0.1 - - [15/Oct/2024 19:17:54] \"GET /favicon.ico HTTP/1.1\" 200 -\n"
     ]
    }
   ],
   "source": [
    "# run the app\n",
    "if __name__ == \"__main__\":\n",
    "    app.run()\n",
    "\n",
    "# port 5000 is the default port that is run"
   ]
  }
 ],
 "metadata": {
  "kernelspec": {
   "display_name": "Python 3 (ipykernel)",
   "language": "python",
   "name": "python3"
  },
  "language_info": {
   "codemirror_mode": {
    "name": "ipython",
    "version": 3
   },
   "file_extension": ".py",
   "mimetype": "text/x-python",
   "name": "python",
   "nbconvert_exporter": "python",
   "pygments_lexer": "ipython3",
   "version": "3.11.5"
  }
 },
 "nbformat": 4,
 "nbformat_minor": 5
}
