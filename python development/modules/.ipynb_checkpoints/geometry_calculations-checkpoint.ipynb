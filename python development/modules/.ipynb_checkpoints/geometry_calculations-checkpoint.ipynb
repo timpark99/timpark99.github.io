{
 "cells": [
  {
   "cell_type": "code",
   "execution_count": null,
   "id": "7c2eef19-6094-403f-b52a-a450a08b3f74",
   "metadata": {},
   "outputs": [],
   "source": []
  },
  {
   "cell_type": "code",
   "execution_count": null,
   "id": "0a753e5c-f15e-43fe-a45e-0e9feec1a56c",
   "metadata": {},
   "outputs": [],
   "source": []
  },
  {
   "cell_type": "code",
   "execution_count": null,
   "id": "de207851-1a36-44dc-bf8f-c1a7492cff0c",
   "metadata": {},
   "outputs": [],
   "source": []
  },
  {
   "cell_type": "code",
   "execution_count": null,
   "id": "eb53fc97-b893-4548-b784-2dfda85f5d14",
   "metadata": {},
   "outputs": [],
   "source": []
  },
  {
   "attachments": {},
   "cell_type": "markdown",
   "id": "cec277f1-ab0e-4b6f-8d48-b68b8a1faaff",
   "metadata": {},
   "source": [
    "Create a module called geometry_calculations that has functions to calculate the area and circumference of a circle.  Also, include a rectangle class that has methods for calculating its area and perimeter.  In a separate file called main, import geometry_calculations and execute its capabilities."
   ]
  },
  {
   "cell_type": "code",
   "execution_count": 4,
   "id": "a93c21a0-43c0-4581-9ede-bed8e65583fb",
   "metadata": {},
   "outputs": [],
   "source": [
    "import math"
   ]
  },
  {
   "cell_type": "code",
   "execution_count": 6,
   "id": "4df5861e-da5e-466a-8f89-1a0293bfcba5",
   "metadata": {},
   "outputs": [],
   "source": [
    "def calculate_area_circle(radius):\n",
    "    \"\"\"Calculates the area of a circle given its radius.\"\"\"\n",
    "    return math.pi * radius ** 2"
   ]
  },
  {
   "cell_type": "code",
   "execution_count": 8,
   "id": "fc0df72e-f12c-4ac0-a1d1-6ea6d7733ab8",
   "metadata": {},
   "outputs": [],
   "source": [
    "def calculate_circumference_circle(radius):\n",
    "    \"\"\"Calculates the circumference of a circle given its radius.\"\"\"\n",
    "    return 2 * math.pi * radius"
   ]
  },
  {
   "cell_type": "code",
   "execution_count": 10,
   "id": "6ae07ea0-785d-490d-82d0-db03a3804a1d",
   "metadata": {},
   "outputs": [],
   "source": [
    "class Rectangle:\n",
    "    \"\"\"Represents a rectangle with width and height.\"\"\"\n",
    "\n",
    "    def __init__(self, width, height):\n",
    "        self.width = width\n",
    "        self.height = height\n",
    "\n",
    "    def calculate_area(self):\n",
    "        \"\"\"Calculates the area of the rectangle.\"\"\"\n",
    "        return self.width * self.height\n",
    "\n",
    "    def calculate_perimeter(self):\n",
    "        \"\"\"Calculates the perimeter of the rectangle.\"\"\"\n",
    "        return 2 * (self.width + self.height)"
   ]
  },
  {
   "cell_type": "code",
   "execution_count": null,
   "id": "f38c3732-f86e-499e-b511-f69c79e21e2b",
   "metadata": {},
   "outputs": [],
   "source": []
  },
  {
   "cell_type": "code",
   "execution_count": 12,
   "id": "3506108b-1ce7-4bfe-b6c5-8e0534153feb",
   "metadata": {},
   "outputs": [
    {
     "ename": "ModuleNotFoundError",
     "evalue": "No module named 'geometry_calculations'",
     "output_type": "error",
     "traceback": [
      "\u001b[0;31m---------------------------------------------------------------------------\u001b[0m",
      "\u001b[0;31mModuleNotFoundError\u001b[0m                       Traceback (most recent call last)",
      "Cell \u001b[0;32mIn[12], line 1\u001b[0m\n\u001b[0;32m----> 1\u001b[0m \u001b[38;5;28;01mimport\u001b[39;00m \u001b[38;5;21;01mgeometry_calculations\u001b[39;00m\n",
      "\u001b[0;31mModuleNotFoundError\u001b[0m: No module named 'geometry_calculations'"
     ]
    }
   ],
   "source": [
    "import geometry_calculations"
   ]
  }
 ],
 "metadata": {
  "kernelspec": {
   "display_name": "Python [conda env:base] *",
   "language": "python",
   "name": "conda-base-py"
  },
  "language_info": {
   "codemirror_mode": {
    "name": "ipython",
    "version": 3
   },
   "file_extension": ".py",
   "mimetype": "text/x-python",
   "name": "python",
   "nbconvert_exporter": "python",
   "pygments_lexer": "ipython3",
   "version": "3.11.5"
  }
 },
 "nbformat": 4,
 "nbformat_minor": 5
}
