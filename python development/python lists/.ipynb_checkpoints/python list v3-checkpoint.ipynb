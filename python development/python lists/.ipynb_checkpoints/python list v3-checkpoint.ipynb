{
 "cells": [
  {
   "cell_type": "code",
   "execution_count": null,
   "id": "6046cbf2-45eb-4137-8b96-ed03c3153d3b",
   "metadata": {},
   "outputs": [],
   "source": []
  },
  {
   "cell_type": "code",
   "execution_count": null,
   "id": "35cfb2bf-244d-44d1-91ca-650531e1bfbf",
   "metadata": {},
   "outputs": [],
   "source": []
  },
  {
   "cell_type": "code",
   "execution_count": 11,
   "id": "1767b171-4e3f-402c-bb07-b36b1f67b062",
   "metadata": {},
   "outputs": [
    {
     "name": "stdout",
     "output_type": "stream",
     "text": [
      "['squat', 'bench', 'deadlift', 'overhead press', 'pullups', 'bicep curl', 'tricep extension', 'lateral raise', 'bent over row', 'chest flys', 'lunges', 'romanian deadlifts', 'hanging leg raises', 'close grip bench', 'inverted rows', 'front squats', 'upright rows', 'shrugs']\n"
     ]
    }
   ],
   "source": [
    "import pandas as pd\n",
    "import os\n",
    "\n",
    "file_name = 'exercises.csv'\n",
    "\n",
    "if os.path.exists(file_name):\n",
    "    exercises_df = pd.read_csv(file_name)\n",
    "    exercises = exercises_df['exercises'].tolist()\n",
    "    print(exercises)\n",
    "else:\n",
    "    print(f\"Error: The file '{file_name}' was not found in the current directory.\")"
   ]
  },
  {
   "cell_type": "code",
   "execution_count": 13,
   "id": "fb126918-317d-46db-b06c-09d94bad309c",
   "metadata": {},
   "outputs": [
    {
     "name": "stdout",
     "output_type": "stream",
     "text": [
      "['squat', 'bench', 'deadlift', 'overhead press', 'pullups', 'bicep curl', 'tricep extension', 'lateral raise', 'bent over row', 'chest flys', 'lunges', 'romanian deadlifts', 'hanging leg raises', 'close grip bench', 'inverted rows', 'front squats', 'upright rows', 'shrugs', 'lat pulldown', 'planks']\n"
     ]
    }
   ],
   "source": [
    "exercises_to_add = ['lat pulldown', 'planks']\n",
    "\n",
    "for exercise in exercises_to_add:\n",
    "    exercises.append(exercise)\n",
    "\n",
    "print(exercises)"
   ]
  },
  {
   "cell_type": "code",
   "execution_count": 15,
   "id": "54d293d1-6bbf-4f8e-82ab-a177965dd517",
   "metadata": {},
   "outputs": [
    {
     "name": "stdin",
     "output_type": "stream",
     "text": [
      "Enter an exercise to add to your list: calf raises\n"
     ]
    },
    {
     "name": "stdout",
     "output_type": "stream",
     "text": [
      "Updated list: ['squat', 'bench', 'deadlift', 'overhead press', 'pullups', 'bicep curl', 'tricep extension', 'lateral raise', 'bent over row', 'chest flys', 'lunges', 'romanian deadlifts', 'hanging leg raises', 'close grip bench', 'inverted rows', 'front squats', 'upright rows', 'shrugs', 'lat pulldown', 'planks', 'calf raises']\n"
     ]
    }
   ],
   "source": [
    "new_exercise = input(\"Enter an exercise to add to your list:\")\n",
    "exercises.append(new_exercise)\n",
    "print(\"Updated list:\", exercises)"
   ]
  },
  {
   "cell_type": "code",
   "execution_count": 17,
   "id": "f47f1787-e843-4f98-967e-29ed5065660c",
   "metadata": {},
   "outputs": [
    {
     "name": "stdout",
     "output_type": "stream",
     "text": [
      "\n",
      "Your Updated Exercise List (after removing exercises):\n",
      "['bench', 'deadlift', 'overhead press', 'pullups', 'bicep curl', 'tricep extension', 'lateral raise', 'bent over row', 'chest flys', 'romanian deadlifts', 'hanging leg raises', 'close grip bench', 'inverted rows', 'front squats', 'upright rows', 'shrugs', 'lat pulldown', 'planks', 'calf raises']\n"
     ]
    }
   ],
   "source": [
    "exercises.remove(\"lunges\")\n",
    "exercises.remove(\"squat\")\n",
    "\n",
    "print(\"\\nYour Updated Exercise List (after removing exercises):\")\n",
    "print(exercises)"
   ]
  },
  {
   "cell_type": "code",
   "execution_count": null,
   "id": "dbecfb02-cd53-49ca-b2e3-fdcd8f4c481c",
   "metadata": {},
   "outputs": [],
   "source": []
  },
  {
   "cell_type": "code",
   "execution_count": null,
   "id": "38f1da0f-f724-4d10-900d-d06ed4b4dbeb",
   "metadata": {},
   "outputs": [],
   "source": []
  },
  {
   "cell_type": "code",
   "execution_count": null,
   "id": "2d198a3c-8354-44b6-9292-ce463eb2b530",
   "metadata": {},
   "outputs": [],
   "source": []
  }
 ],
 "metadata": {
  "kernelspec": {
   "display_name": "Python [conda env:base] *",
   "language": "python",
   "name": "conda-base-py"
  },
  "language_info": {
   "codemirror_mode": {
    "name": "ipython",
    "version": 3
   },
   "file_extension": ".py",
   "mimetype": "text/x-python",
   "name": "python",
   "nbconvert_exporter": "python",
   "pygments_lexer": "ipython3",
   "version": "3.11.5"
  }
 },
 "nbformat": 4,
 "nbformat_minor": 5
}
