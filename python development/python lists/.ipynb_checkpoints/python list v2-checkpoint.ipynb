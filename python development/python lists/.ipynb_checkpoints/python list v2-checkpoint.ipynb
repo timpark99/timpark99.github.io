{
 "cells": [
  {
   "cell_type": "code",
   "execution_count": 1,
   "id": "51c7f2bc-a313-4076-8808-01ece7ac1ae8",
   "metadata": {},
   "outputs": [
    {
     "name": "stdout",
     "output_type": "stream",
     "text": [
      "['squat', 'bench', 'deadlift', 'overhead press', 'pullups', 'bicep curl', 'tricep extension', 'lateral raise', 'bent over row', 'chest flys', 'lunges', 'romanian deadlifts', 'hanging leg raises', 'close grip bench', 'inverted rows', 'front squats', 'upright rows', 'shrugs']\n"
     ]
    }
   ],
   "source": [
    "import pandas as pd\n",
    "import os \n",
    "\n",
    "file_name = 'exercises.csv'\n",
    "\n",
    "if os.path.exists(file_name):\n",
    "    exercises_df = pd.read_csv(file_name)\n",
    "    exercises = exercises_df['exercises'].tolist()\n",
    "    print(exercises)\n",
    "else:\n",
    "    print(f\"Error: The file '{file_name}' was not found in the current directory.\")"
   ]
  },
  {
   "cell_type": "code",
   "execution_count": 2,
   "id": "25ba8fb5-8cf8-4737-b3fb-fd4086a12c90",
   "metadata": {},
   "outputs": [
    {
     "name": "stdout",
     "output_type": "stream",
     "text": [
      "['squat', 'bench', 'deadlift', 'overhead press', 'pullups', 'bicep curl', 'tricep extension', 'lateral raise', 'bent over row', 'chest flys', 'lunges', 'romanian deadlifts', 'hanging leg raises', 'close grip bench', 'inverted rows', 'front squats', 'upright rows', 'shrugs', 'lat pulldown', 'planks']\n"
     ]
    }
   ],
   "source": [
    "exercises_to_add = ['lat pulldown', 'planks']\n",
    "\n",
    "for exercise in exercises_to_add:\n",
    "    exercises.append(exercise) \n",
    "\n",
    "print(exercises) "
   ]
  },
  {
   "cell_type": "markdown",
   "id": "008c79cb-e1f4-4889-8d1e-ebc3b0bbf5ce",
   "metadata": {},
   "source": [
    "Notice that \"Kiwis\" and \"Raspberries\" have been appended, or added, to the end of your grocery list. \n",
    "\n",
    "But what if you want to add a different item?\n",
    "\n",
    "Run the cell below, which will prompt you to input any item you want. Fill in the input box with your favorite grocery item and hit \"Enter\" on your keyboard. "
   ]
  },
  {
   "cell_type": "code",
   "execution_count": 4,
   "id": "f7c7e441-92f3-450d-9b50-a7afbdb33b79",
   "metadata": {},
   "outputs": [
    {
     "name": "stdin",
     "output_type": "stream",
     "text": [
      "Enter an exercise to add to your exercises list:  calf raises\n"
     ]
    },
    {
     "name": "stdout",
     "output_type": "stream",
     "text": [
      "Updated list: ['squat', 'bench', 'deadlift', 'overhead press', 'pullups', 'bicep curl', 'tricep extension', 'lateral raise', 'bent over row', 'chest flys', 'lunges', 'romanian deadlifts', 'hanging leg raises', 'close grip bench', 'inverted rows', 'front squats', 'upright rows', 'shrugs', 'lat pulldown', 'planks', 'calf raises']\n"
     ]
    }
   ],
   "source": [
    "new_exercise = input(\"Enter an exercise to add to your exercises list: \")\n",
    "\n",
    "exercises.append(new_exercise)\n",
    "\n",
    "print(\"Updated list:\", exercises)"
   ]
  },
  {
   "cell_type": "code",
   "execution_count": 5,
   "id": "43a57f89-0fbd-464c-93eb-25858bfe3150",
   "metadata": {},
   "outputs": [
    {
     "name": "stdout",
     "output_type": "stream",
     "text": [
      "\n",
      "Your Updated Exercise List (after removing exercises):\n",
      "['bench', 'deadlift', 'overhead press', 'pullups', 'bicep curl', 'tricep extension', 'lateral raise', 'bent over row', 'chest flys', 'romanian deadlifts', 'hanging leg raises', 'close grip bench', 'inverted rows', 'front squats', 'upright rows', 'shrugs', 'lat pulldown', 'planks', 'calf raises']\n"
     ]
    }
   ],
   "source": [
    "exercises.remove(\"lunges\")\n",
    "exercises.remove(\"squat\") \n",
    "\n",
    "print(\"\\nYour Updated Exercise List (after removing exercises):\")\n",
    "print(exercises)"
   ]
  }
 ],
 "metadata": {
  "kernelspec": {
   "display_name": "Python [conda env:base] *",
   "language": "python",
   "name": "conda-base-py"
  },
  "language_info": {
   "codemirror_mode": {
    "name": "ipython",
    "version": 3
   },
   "file_extension": ".py",
   "mimetype": "text/x-python",
   "name": "python",
   "nbconvert_exporter": "python",
   "pygments_lexer": "ipython3",
   "version": "3.11.5"
  }
 },
 "nbformat": 4,
 "nbformat_minor": 5
}
