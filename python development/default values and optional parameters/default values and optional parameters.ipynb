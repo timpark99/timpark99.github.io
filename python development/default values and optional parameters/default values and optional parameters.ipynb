{
 "cells": [
  {
   "cell_type": "code",
   "execution_count": null,
   "id": "70b1a658-9611-454d-b51f-2bad3e704e9c",
   "metadata": {},
   "outputs": [],
   "source": []
  },
  {
   "cell_type": "code",
   "execution_count": null,
   "id": "7b4ae6da-0daf-4496-8353-f126f81cef63",
   "metadata": {},
   "outputs": [],
   "source": []
  },
  {
   "cell_type": "code",
   "execution_count": null,
   "id": "ab30894b-bf70-433a-af71-fcab5932171b",
   "metadata": {},
   "outputs": [],
   "source": []
  },
  {
   "cell_type": "code",
   "execution_count": 11,
   "id": "771148c6-a9a5-4701-b316-1af941897dbe",
   "metadata": {},
   "outputs": [
    {
     "name": "stdout",
     "output_type": "stream",
     "text": [
      "1\n"
     ]
    }
   ],
   "source": [
    "def calculate_area(width=1, height=1):\n",
    "    area = width * height\n",
    "    return area\n",
    "\n",
    "result = calculate_area()\n",
    "print(result)"
   ]
  },
  {
   "cell_type": "code",
   "execution_count": 13,
   "id": "d2f9fd33-10a2-40f4-8f18-3501af6dffcb",
   "metadata": {},
   "outputs": [
    {
     "name": "stdout",
     "output_type": "stream",
     "text": [
      "15\n"
     ]
    }
   ],
   "source": [
    "result = calculate_area(5, 3)\n",
    "print(result)"
   ]
  },
  {
   "cell_type": "code",
   "execution_count": 15,
   "id": "ebc6bcd4-7b2c-4c20-81b6-966d1a8d1c94",
   "metadata": {},
   "outputs": [
    {
     "name": "stdout",
     "output_type": "stream",
     "text": [
      "Hello Larry\n"
     ]
    }
   ],
   "source": [
    "def greet(name, greeting=\"Hello\"):\n",
    "    print(greeting, name)\n",
    "\n",
    "greet(\"Larry\")"
   ]
  },
  {
   "cell_type": "code",
   "execution_count": 17,
   "id": "be038722-63cd-44da-a992-3e1f847466e6",
   "metadata": {},
   "outputs": [
    {
     "name": "stdout",
     "output_type": "stream",
     "text": [
      "Good morning James\n",
      "Howdy Bob\n"
     ]
    }
   ],
   "source": [
    "greet(\"James\", \"Good morning\")\n",
    "greet(\"Bob\", \"Howdy\")"
   ]
  },
  {
   "cell_type": "code",
   "execution_count": 19,
   "id": "4a776fb9-2d96-4067-bb5c-b9e81a87de48",
   "metadata": {},
   "outputs": [
    {
     "name": "stdout",
     "output_type": "stream",
     "text": [
      "Salutations David\n"
     ]
    }
   ],
   "source": [
    "greet(name=\"David\", greeting=\"Salutations\")"
   ]
  },
  {
   "cell_type": "code",
   "execution_count": 21,
   "id": "84e024bb-7166-4161-9daa-657681d75fa2",
   "metadata": {},
   "outputs": [
    {
     "name": "stdout",
     "output_type": "stream",
     "text": [
      "Positional arguments: (1, 2, 3)\n",
      "Keyword arguments: {'name': 'Timothy', 'age': 32}\n"
     ]
    }
   ],
   "source": [
    "def flexible_function(*args, **kwargs):\n",
    "    print(\"Positional arguments:\", args)\n",
    "    print(\"Keyword arguments:\", kwargs)\n",
    "\n",
    "flexible_function(1, 2, 3, name=\"Timothy\", age=32)"
   ]
  },
  {
   "cell_type": "code",
   "execution_count": 23,
   "id": "8954aea0-5473-4c28-ba40-af865b845d34",
   "metadata": {},
   "outputs": [],
   "source": [
    "def create_user_profile(name, age, occupation=\"Student\", interests=None):\n",
    "    \"\"\"\n",
    "    Creates a user profiile with optional interests.\n",
    "\n",
    "    Args:\n",
    "        name (str): The user's name (required).\n",
    "        age (int): The user's age (required).\n",
    "        occupation (str, optional): The user's occupation (defaults to \"Student\").\n",
    "        interests (list, optional): A list of the user's interests (defaults to None).\n",
    "    \"\"\"\n",
    "    if interests is None:\n",
    "        interests = []\n",
    "\n",
    "    profile = {\n",
    "        \"name\": name,\n",
    "        \"age\": age,\n",
    "        \"occupation\": occupation,\n",
    "        \"interests\": interests\n",
    "    }\n",
    "\n",
    "    return profile\n"
   ]
  },
  {
   "cell_type": "code",
   "execution_count": 25,
   "id": "2857b128-5b2f-4526-8bb6-148c06cd862e",
   "metadata": {},
   "outputs": [],
   "source": [
    "user1 = create_user_profile(\"Larry\", 25, \"Electrician\", [\"Reading\", \"Hiking\"])\n",
    "user2 = create_user_profile(\"James\", 18)\n",
    "user3 = create_user_profile(\"Bob\", 30, interests=[\"Grilling\", \"Exercising\"])"
   ]
  },
  {
   "cell_type": "code",
   "execution_count": 27,
   "id": "ce7e0180-ac45-457e-ab3f-9df5e7a7cf6c",
   "metadata": {},
   "outputs": [
    {
     "name": "stdout",
     "output_type": "stream",
     "text": [
      "{'name': 'Larry', 'age': 25, 'occupation': 'Electrician', 'interests': ['Reading', 'Hiking']}\n",
      "{'name': 'James', 'age': 18, 'occupation': 'Student', 'interests': []}\n",
      "{'name': 'Bob', 'age': 30, 'occupation': 'Student', 'interests': ['Grilling', 'Exercising']}\n"
     ]
    }
   ],
   "source": [
    "print(user1)\n",
    "print(user2)\n",
    "print(user3)"
   ]
  },
  {
   "cell_type": "code",
   "execution_count": null,
   "id": "655f291e-6626-423d-906f-1e2c0c7221f0",
   "metadata": {},
   "outputs": [],
   "source": []
  },
  {
   "cell_type": "code",
   "execution_count": null,
   "id": "1e22b10c-97f5-440e-9980-405718388064",
   "metadata": {},
   "outputs": [],
   "source": []
  },
  {
   "cell_type": "code",
   "execution_count": null,
   "id": "4ea8b500-abaf-4b1a-b5ad-f024257df706",
   "metadata": {},
   "outputs": [],
   "source": []
  },
  {
   "cell_type": "code",
   "execution_count": null,
   "id": "ed16e345-be8b-4af4-b0b9-bbce8206a835",
   "metadata": {},
   "outputs": [],
   "source": []
  },
  {
   "cell_type": "code",
   "execution_count": null,
   "id": "c8ab5444-b75c-4d80-b9c1-e08042f20add",
   "metadata": {},
   "outputs": [],
   "source": []
  },
  {
   "cell_type": "code",
   "execution_count": null,
   "id": "c82079da-a13f-4d46-87de-b76e75b15a7e",
   "metadata": {},
   "outputs": [],
   "source": []
  },
  {
   "cell_type": "code",
   "execution_count": null,
   "id": "611a4fa4-477b-419b-bf0c-567fa411251a",
   "metadata": {},
   "outputs": [],
   "source": []
  }
 ],
 "metadata": {
  "kernelspec": {
   "display_name": "Python [conda env:base] *",
   "language": "python",
   "name": "conda-base-py"
  },
  "language_info": {
   "codemirror_mode": {
    "name": "ipython",
    "version": 3
   },
   "file_extension": ".py",
   "mimetype": "text/x-python",
   "name": "python",
   "nbconvert_exporter": "python",
   "pygments_lexer": "ipython3",
   "version": "3.11.5"
  }
 },
 "nbformat": 4,
 "nbformat_minor": 5
}
