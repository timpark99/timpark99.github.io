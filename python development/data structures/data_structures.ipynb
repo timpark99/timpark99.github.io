{
 "cells": [
  {
   "cell_type": "code",
   "execution_count": null,
   "id": "e04b3cee-0cf4-4928-b940-d055f73f1e00",
   "metadata": {},
   "outputs": [],
   "source": []
  },
  {
   "cell_type": "code",
   "execution_count": null,
   "id": "1cdf2764-1a8b-4088-8591-2390846024fd",
   "metadata": {},
   "outputs": [],
   "source": []
  },
  {
   "cell_type": "code",
   "execution_count": null,
   "id": "262a242e-cdf0-4fe0-a14c-2613c97581e5",
   "metadata": {},
   "outputs": [],
   "source": []
  },
  {
   "cell_type": "code",
   "execution_count": null,
   "id": "68a63878-1395-4a60-8fd9-b0f69f7f6fa2",
   "metadata": {},
   "outputs": [],
   "source": []
  },
  {
   "cell_type": "code",
   "execution_count": null,
   "id": "40c08306-1ae7-47c0-9dcd-e2d1a1889920",
   "metadata": {},
   "outputs": [],
   "source": []
  },
  {
   "cell_type": "code",
   "execution_count": null,
   "id": "e9014a75-fec9-44c3-8c20-30896e4621fe",
   "metadata": {},
   "outputs": [],
   "source": []
  },
  {
   "cell_type": "code",
   "execution_count": null,
   "id": "cd294f3e-9f8a-4aa0-9f4d-c786151767a7",
   "metadata": {},
   "outputs": [],
   "source": []
  },
  {
   "cell_type": "markdown",
   "id": "9238e2e7-061a-4073-801c-7a6feecf5b6a",
   "metadata": {},
   "source": [
    "## Scenario: Air Force Supply\n",
    "\n",
    "You're the new data analyst, and it's your job to ensure our inventory management system runs smoothly. You'll be working with various data structures to track product IDs, monitor stock levels, analyze trends, and organize inventory. "
   ]
  },
  {
   "cell_type": "code",
   "execution_count": 1,
   "id": "af33d8dc-8e96-4bcd-9a0c-23751e4831f4",
   "metadata": {},
   "outputs": [
    {
     "name": "stdout",
     "output_type": "stream",
     "text": [
      "['Roll Rate Gyroscope', 'Radar Dome Cover', 'Power Distribution Panel', 'Hydraulic Reservoir', 'Infrared Countermeasure', 'Throttle Quadrant', 'Shock Absorber Strut', 'Stabilizer Trim Actuator', 'Ejection Seat Cartridge', 'Wing Leading Edge Panel', 'Avionics Control Unit', 'Hydraulic Pump, Aircraft', 'Flight Helmet Visor', 'Thermal Imaging Scope', 'Transponder Unit', 'Munitions Arming Cable', 'Cockpit Display Panel', 'Servo Actuator', 'Helmet-Mounted Display', 'Engine Oil Cooler', 'Gearbox Assembly', 'Pressure Altitude Sensor', 'Aircraft Brake Pad', 'Air Data Computer', 'Cooling Turbine Blade', 'Canopy Seal', 'Secure Voice Module', 'Cabin Pressure Regulator', 'Jet Fuel Starter', 'Night Vision Goggles', 'APU Generator', 'Pitot Static Tube', 'Mission Data Recorder', 'GPS Navigation Module', 'Fuel Flow Transmitter', 'Brake Control Valve', 'Tactical Radio Battery', 'Oxygen Mask Assembly', 'Refueling Boom Nozzle', 'Fire Extinguisher Bottle', 'Flare Dispenser Rack', 'Anti-Ice Valve', 'Communication Antenna', 'Aircraft Lighting Kit', 'Landing Gear Strut', 'Jet Engine Nozzle', 'Radar Warning Receiver', 'Flap Position Sensor', 'Inertial Nav Unit', 'Fuel Filter Element']\n"
     ]
    }
   ],
   "source": [
    "import pandas as pd\n",
    "\n",
    "inventory_df = pd.read_csv('inventory.csv')\n",
    "\n",
    "inventory = inventory_df['product_name'].tolist()\n",
    "\n",
    "print(inventory)"
   ]
  },
  {
   "cell_type": "code",
   "execution_count": 3,
   "id": "c1fd036f-dda7-46b4-92fa-95f97896ac31",
   "metadata": {},
   "outputs": [
    {
     "name": "stdout",
     "output_type": "stream",
     "text": [
      "Updated inventory:\n",
      "['Radar Dome Cover', 'Power Distribution Panel', 'Hydraulic Reservoir', 'Infrared Countermeasure', 'Throttle Quadrant', 'Shock Absorber Strut', 'Stabilizer Trim Actuator', 'Ejection Seat Cartridge', 'Wing Leading Edge Panel', 'Avionics Control Unit', 'Hydraulic Pump, Aircraft', 'Flight Helmet Visor', 'Thermal Imaging Scope', 'Transponder Unit', 'Munitions Arming Cable', 'Cockpit Display Panel', 'Servo Actuator', 'Helmet-Mounted Display', 'Engine Oil Cooler', 'Gearbox Assembly', 'Pressure Altitude Sensor', 'Aircraft Brake Pad', 'Air Data Computer', 'Cooling Turbine Blade', 'Canopy Seal', 'Secure Voice Module', 'Cabin Pressure Regulator', 'Jet Fuel Starter', 'Night Vision Goggles', 'APU Generator', 'Pitot Static Tube', 'Mission Data Recorder', 'GPS Navigation Module', 'Fuel Flow Transmitter', 'Brake Control Valve', 'Tactical Radio Battery', 'Oxygen Mask Assembly', 'Refueling Boom Nozzle', 'Fire Extinguisher Bottle', 'Flare Dispenser Rack', 'Anti-Ice Valve', 'Communication Antenna', 'Aircraft Lighting Kit', 'Landing Gear Strut', 'Jet Engine Nozzle', 'Radar Warning Receiver', 'Flap Position Sensor', 'Inertial Nav Unit', 'Fuel Filter Element']\n"
     ]
    }
   ],
   "source": [
    "inventory.remove(\"Roll Rate Gyroscope\")\n",
    "\n",
    "print(\"Updated inventory:\")\n",
    "print(inventory)"
   ]
  },
  {
   "cell_type": "code",
   "execution_count": 5,
   "id": "db7b9565-bc7d-4ba9-bf3f-35d5b494e4ca",
   "metadata": {},
   "outputs": [
    {
     "name": "stdout",
     "output_type": "stream",
     "text": [
      "Updated inventory:\n",
      "['Radar Dome Cover', 'Power Distribution Panel', 'Hydraulic Reservoir', 'Infrared Countermeasure', 'Throttle Quadrant', 'Shock Absorber Strut', 'Stabilizer Trim Actuator', 'Ejection Seat Cartridge', 'Wing Leading Edge Panel', 'Avionics Control Unit', 'Hydraulic Pump, Aircraft', 'Flight Helmet Visor', 'Thermal Imaging Scope', 'Transponder Unit', 'Munitions Arming Cable', 'Cockpit Display Panel', 'Servo Actuator', 'Helmet-Mounted Display', 'Engine Oil Cooler', 'Gearbox Assembly', 'Pressure Altitude Sensor', 'Aircraft Brake Pad', 'Air Data Computer', 'Cooling Turbine Blade', 'Canopy Seal', 'Secure Voice Module', 'Cabin Pressure Regulator', 'Jet Fuel Starter', 'Night Vision Goggles', 'APU Generator', 'Pitot Static Tube', 'Mission Data Recorder', 'GPS Navigation Module', 'Fuel Flow Transmitter', 'Brake Control Valve', 'Tactical Radio Battery', 'Oxygen Mask Assembly', 'Refueling Boom Nozzle', 'Fire Extinguisher Bottle', 'Flare Dispenser Rack', 'Anti-Ice Valve', 'Communication Antenna', 'Aircraft Lighting Kit', 'Landing Gear Strut', 'Jet Engine Nozzle', 'Radar Warning Receiver', 'Flap Position Sensor', 'Inertial Nav Unit', 'Fuel Filter Element', 'Environmental Control Unit Filter', 'Aircraft Structural Fastener Kit', 'Electro-Optical Targeting Pod Lens']\n"
     ]
    }
   ],
   "source": [
    "new_items_str = \"Environmental Control Unit Filter, Aircraft Structural Fastener Kit, Electro-Optical Targeting Pod Lens\"\n",
    "\n",
    "new_items = new_items_str.split(\", \")\n",
    "\n",
    "inventory.extend(new_items)\n",
    "\n",
    "print(\"Updated inventory:\")\n",
    "print(inventory)"
   ]
  },
  {
   "cell_type": "code",
   "execution_count": 7,
   "id": "63d7b221-829b-4256-92ec-16fc508c93d7",
   "metadata": {},
   "outputs": [
    {
     "name": "stdout",
     "output_type": "stream",
     "text": [
      "Product IDs:\n",
      "('Radar Dome Cover', 'Small')\n",
      "('Power Distribution Panel', 'Medium')\n",
      "('Hydraulic Reservoir', 'Large')\n"
     ]
    }
   ],
   "source": [
    "product_id1 = (\"Radar Dome Cover\", \"Small\")\n",
    "product_id2 = (\"Power Distribution Panel\", \"Medium\")\n",
    "product_id3 = (\"Hydraulic Reservoir\", \"Large\")\n",
    "\n",
    "print(\"Product IDs:\")\n",
    "print(product_id1)\n",
    "print(product_id2)\n",
    "print(product_id3)\n"
   ]
  },
  {
   "cell_type": "code",
   "execution_count": 9,
   "id": "70232a18-762c-4c45-804f-f518ecd9bce0",
   "metadata": {},
   "outputs": [
    {
     "ename": "TypeError",
     "evalue": "'tuple' object does not support item assignment",
     "output_type": "error",
     "traceback": [
      "\u001b[0;31m---------------------------------------------------------------------------\u001b[0m",
      "\u001b[0;31mTypeError\u001b[0m                                 Traceback (most recent call last)",
      "Cell \u001b[0;32mIn[9], line 1\u001b[0m\n\u001b[0;32m----> 1\u001b[0m product_id1[\u001b[38;5;241m0\u001b[39m] \u001b[38;5;241m=\u001b[39m \u001b[38;5;124m\"\u001b[39m\u001b[38;5;124mInfrared Countermeasure\u001b[39m\u001b[38;5;124m\"\u001b[39m\n",
      "\u001b[0;31mTypeError\u001b[0m: 'tuple' object does not support item assignment"
     ]
    }
   ],
   "source": [
    "product_id1[0] = \"Infrared Countermeasure\""
   ]
  },
  {
   "cell_type": "code",
   "execution_count": 11,
   "id": "06a5a2b0-a69e-4bac-b39f-d5987460ef85",
   "metadata": {},
   "outputs": [
    {
     "name": "stdout",
     "output_type": "stream",
     "text": [
      "Initial Inventory:\n",
      "{'Roll Rate Gyroscope': 25, 'Radar Dome Cover': 15, 'Power Distribution Panel': 30, 'Hydraulic Reservoir': 34, 'Infrared Countermeasure': 16, 'Throttle Quadrant': 13, 'Shock Absorber Strut': 17, 'Stabilizer Trim Actuator': 16, 'Ejection Seat Cartridge': 46, 'Wing Leading Edge Panel': 23, 'Avionics Control Unit': 22, 'Hydraulic Pump, Aircraft': 25, 'Flight Helmet Visor': 13, 'Thermal Imaging Scope': 45, 'Transponder Unit': 33, 'Munitions Arming Cable': 33, 'Cockpit Display Panel': 48, 'Servo Actuator': 11, 'Helmet-Mounted Display': 23, 'Engine Oil Cooler': 40, 'Gearbox Assembly': 21, 'Pressure Altitude Sensor': 14, 'Aircraft Brake Pad': 45, 'Air Data Computer': 48, 'Cooling Turbine Blade': 18, 'Canopy Seal': 15, 'Secure Voice Module': 24, 'Cabin Pressure Regulator': 28, 'Jet Fuel Starter': 15, 'Night Vision Goggles': 23, 'APU Generator': 23, 'Pitot Static Tube': 40, 'Mission Data Recorder': 30, 'GPS Navigation Module': 41, 'Fuel Flow Transmitter': 40, 'Brake Control Valve': 35, 'Tactical Radio Battery': 27, 'Oxygen Mask Assembly': 38, 'Refueling Boom Nozzle': 24, 'Fire Extinguisher Bottle': 30, 'Flare Dispenser Rack': 30, 'Anti-Ice Valve': 27, 'Communication Antenna': 12, 'Aircraft Lighting Kit': 40, 'Landing Gear Strut': 48, 'Jet Engine Nozzle': 45, 'Radar Warning Receiver': 47, 'Flap Position Sensor': 17, 'Inertial Nav Unit': 34, 'Fuel Filter Element': 11}\n"
     ]
    }
   ],
   "source": [
    "import pandas as pd\n",
    "\n",
    "inventory_df = pd.read_csv('inventory.csv')\n",
    "\n",
    "inventory_df.set_index('product_name', inplace=True)\n",
    "\n",
    "inventory_dict = inventory_df['stock_level'].to_dict()\n",
    "\n",
    "print(\"Initial Inventory:\")\n",
    "print(inventory_dict)"
   ]
  },
  {
   "cell_type": "code",
   "execution_count": 13,
   "id": "47ab8b0a-c732-4c2b-b9d9-d20828165491",
   "metadata": {},
   "outputs": [
    {
     "name": "stdout",
     "output_type": "stream",
     "text": [
      "Updated Inventory:\n",
      "{'Roll Rate Gyroscope': 25, 'Radar Dome Cover': 15, 'Power Distribution Panel': 20, 'Hydraulic Reservoir': 34, 'Infrared Countermeasure': 16, 'Throttle Quadrant': 13, 'Shock Absorber Strut': 17, 'Stabilizer Trim Actuator': 16, 'Ejection Seat Cartridge': 46, 'Wing Leading Edge Panel': 23, 'Avionics Control Unit': 22, 'Hydraulic Pump, Aircraft': 25, 'Flight Helmet Visor': 13, 'Thermal Imaging Scope': 45, 'Transponder Unit': 33, 'Munitions Arming Cable': 33, 'Cockpit Display Panel': 48, 'Servo Actuator': 11, 'Helmet-Mounted Display': 23, 'Engine Oil Cooler': 40, 'Gearbox Assembly': 21, 'Pressure Altitude Sensor': 14, 'Aircraft Brake Pad': 45, 'Air Data Computer': 48, 'Cooling Turbine Blade': 18, 'Canopy Seal': 15, 'Secure Voice Module': 24, 'Cabin Pressure Regulator': 28, 'Jet Fuel Starter': 15, 'Night Vision Goggles': 23, 'APU Generator': 23, 'Pitot Static Tube': 40, 'Mission Data Recorder': 30, 'GPS Navigation Module': 41, 'Fuel Flow Transmitter': 40, 'Brake Control Valve': 35, 'Tactical Radio Battery': 27, 'Oxygen Mask Assembly': 38, 'Refueling Boom Nozzle': 24, 'Fire Extinguisher Bottle': 30, 'Flare Dispenser Rack': 30, 'Anti-Ice Valve': 27, 'Communication Antenna': 12, 'Aircraft Lighting Kit': 40, 'Landing Gear Strut': 48, 'Jet Engine Nozzle': 45, 'Radar Warning Receiver': 47, 'Flap Position Sensor': 17, 'Inertial Nav Unit': 34, 'Fuel Filter Element': 11, 'Radio Module': 40}\n"
     ]
    }
   ],
   "source": [
    "inventory_dict['Radio Module'] = 40\n",
    "\n",
    "inventory_dict['Power Distribution Panel'] = 20\n",
    "\n",
    "print(\"Updated Inventory:\")\n",
    "print(inventory_dict)"
   ]
  },
  {
   "cell_type": "code",
   "execution_count": 15,
   "id": "fd30d3a8-d943-46a9-89c4-f105e34bc29d",
   "metadata": {},
   "outputs": [
    {
     "name": "stdout",
     "output_type": "stream",
     "text": [
      "Updated Inventory after Removal:\n",
      "{'Roll Rate Gyroscope': 25, 'Radar Dome Cover': 15, 'Power Distribution Panel': 20, 'Infrared Countermeasure': 16, 'Throttle Quadrant': 13, 'Shock Absorber Strut': 17, 'Stabilizer Trim Actuator': 16, 'Ejection Seat Cartridge': 46, 'Wing Leading Edge Panel': 23, 'Avionics Control Unit': 22, 'Hydraulic Pump, Aircraft': 25, 'Flight Helmet Visor': 13, 'Thermal Imaging Scope': 45, 'Transponder Unit': 33, 'Munitions Arming Cable': 33, 'Cockpit Display Panel': 48, 'Servo Actuator': 11, 'Helmet-Mounted Display': 23, 'Engine Oil Cooler': 40, 'Gearbox Assembly': 21, 'Pressure Altitude Sensor': 14, 'Aircraft Brake Pad': 45, 'Air Data Computer': 48, 'Cooling Turbine Blade': 18, 'Canopy Seal': 15, 'Secure Voice Module': 24, 'Cabin Pressure Regulator': 28, 'Jet Fuel Starter': 15, 'Night Vision Goggles': 23, 'APU Generator': 23, 'Pitot Static Tube': 40, 'Mission Data Recorder': 30, 'GPS Navigation Module': 41, 'Fuel Flow Transmitter': 40, 'Brake Control Valve': 35, 'Tactical Radio Battery': 27, 'Oxygen Mask Assembly': 38, 'Refueling Boom Nozzle': 24, 'Fire Extinguisher Bottle': 30, 'Flare Dispenser Rack': 30, 'Anti-Ice Valve': 27, 'Communication Antenna': 12, 'Aircraft Lighting Kit': 40, 'Landing Gear Strut': 48, 'Jet Engine Nozzle': 45, 'Radar Warning Receiver': 47, 'Flap Position Sensor': 17, 'Inertial Nav Unit': 34, 'Fuel Filter Element': 11, 'Radio Module': 40}\n"
     ]
    }
   ],
   "source": [
    "del inventory_dict['Hydraulic Reservoir']\n",
    "\n",
    "print(\"Updated Inventory after Removal:\")\n",
    "print(inventory_dict)"
   ]
  },
  {
   "cell_type": "code",
   "execution_count": 17,
   "id": "15cbe04c-bfd2-4726-9f65-58ec676cdb1e",
   "metadata": {},
   "outputs": [
    {
     "name": "stdout",
     "output_type": "stream",
     "text": [
      "Inventory Report:\n",
      "Product: Roll Rate Gyroscope, Stock: 25\n",
      "Product: Radar Dome Cover, Stock: 15\n",
      "Product: Power Distribution Panel, Stock: 20\n",
      "Product: Infrared Countermeasure, Stock: 16\n",
      "Product: Throttle Quadrant, Stock: 13\n",
      "Product: Shock Absorber Strut, Stock: 17\n",
      "Product: Stabilizer Trim Actuator, Stock: 16\n",
      "Product: Ejection Seat Cartridge, Stock: 46\n",
      "Product: Wing Leading Edge Panel, Stock: 23\n",
      "Product: Avionics Control Unit, Stock: 22\n",
      "Product: Hydraulic Pump, Aircraft, Stock: 25\n",
      "Product: Flight Helmet Visor, Stock: 13\n",
      "Product: Thermal Imaging Scope, Stock: 45\n",
      "Product: Transponder Unit, Stock: 33\n",
      "Product: Munitions Arming Cable, Stock: 33\n",
      "Product: Cockpit Display Panel, Stock: 48\n",
      "Product: Servo Actuator, Stock: 11\n",
      "Product: Helmet-Mounted Display, Stock: 23\n",
      "Product: Engine Oil Cooler, Stock: 40\n",
      "Product: Gearbox Assembly, Stock: 21\n",
      "Product: Pressure Altitude Sensor, Stock: 14\n",
      "Product: Aircraft Brake Pad, Stock: 45\n",
      "Product: Air Data Computer, Stock: 48\n",
      "Product: Cooling Turbine Blade, Stock: 18\n",
      "Product: Canopy Seal, Stock: 15\n",
      "Product: Secure Voice Module, Stock: 24\n",
      "Product: Cabin Pressure Regulator, Stock: 28\n",
      "Product: Jet Fuel Starter, Stock: 15\n",
      "Product: Night Vision Goggles, Stock: 23\n",
      "Product: APU Generator, Stock: 23\n",
      "Product: Pitot Static Tube, Stock: 40\n",
      "Product: Mission Data Recorder, Stock: 30\n",
      "Product: GPS Navigation Module, Stock: 41\n",
      "Product: Fuel Flow Transmitter, Stock: 40\n",
      "Product: Brake Control Valve, Stock: 35\n",
      "Product: Tactical Radio Battery, Stock: 27\n",
      "Product: Oxygen Mask Assembly, Stock: 38\n",
      "Product: Refueling Boom Nozzle, Stock: 24\n",
      "Product: Fire Extinguisher Bottle, Stock: 30\n",
      "Product: Flare Dispenser Rack, Stock: 30\n",
      "Product: Anti-Ice Valve, Stock: 27\n",
      "Product: Communication Antenna, Stock: 12\n",
      "Product: Aircraft Lighting Kit, Stock: 40\n",
      "Product: Landing Gear Strut, Stock: 48\n",
      "Product: Jet Engine Nozzle, Stock: 45\n",
      "Product: Radar Warning Receiver, Stock: 47\n",
      "Product: Flap Position Sensor, Stock: 17\n",
      "Product: Inertial Nav Unit, Stock: 34\n",
      "Product: Fuel Filter Element, Stock: 11\n",
      "Product: Radio Module, Stock: 40\n"
     ]
    }
   ],
   "source": [
    "print(\"Inventory Report:\")\n",
    "for product, stock in inventory_dict.items():\n",
    "    print(f\"Product: {product}, Stock: {stock}\")"
   ]
  },
  {
   "cell_type": "code",
   "execution_count": null,
   "id": "6b8e1604-06d4-45eb-9ef0-ed26c1a28780",
   "metadata": {},
   "outputs": [],
   "source": []
  },
  {
   "cell_type": "code",
   "execution_count": null,
   "id": "41c4ad86-d541-49d8-8492-9f2239371d00",
   "metadata": {},
   "outputs": [],
   "source": []
  },
  {
   "cell_type": "code",
   "execution_count": null,
   "id": "0f812a56-2e11-4574-9f66-dcbe3d5f981c",
   "metadata": {},
   "outputs": [],
   "source": []
  },
  {
   "cell_type": "code",
   "execution_count": null,
   "id": "7efe826b-abbb-421b-8972-6467a58b2e9d",
   "metadata": {},
   "outputs": [],
   "source": []
  },
  {
   "cell_type": "code",
   "execution_count": null,
   "id": "2ed98fbe-c5de-44a5-a5ca-f8537efa9da3",
   "metadata": {},
   "outputs": [],
   "source": []
  },
  {
   "cell_type": "code",
   "execution_count": null,
   "id": "cf7837f9-2697-4ce2-86ca-664abce07e2b",
   "metadata": {},
   "outputs": [],
   "source": []
  },
  {
   "cell_type": "code",
   "execution_count": null,
   "id": "4ec431d1-9590-40db-9e34-3c5eb7d91b66",
   "metadata": {},
   "outputs": [],
   "source": []
  },
  {
   "cell_type": "code",
   "execution_count": null,
   "id": "f406ca1e-168a-4ec9-9fb1-00fa904e7e5f",
   "metadata": {},
   "outputs": [],
   "source": []
  },
  {
   "cell_type": "code",
   "execution_count": null,
   "id": "b5fa8255-59e2-4d42-a38c-3ff41e20fbe6",
   "metadata": {},
   "outputs": [],
   "source": []
  }
 ],
 "metadata": {
  "kernelspec": {
   "display_name": "Python [conda env:base] *",
   "language": "python",
   "name": "conda-base-py"
  },
  "language_info": {
   "codemirror_mode": {
    "name": "ipython",
    "version": 3
   },
   "file_extension": ".py",
   "mimetype": "text/x-python",
   "name": "python",
   "nbconvert_exporter": "python",
   "pygments_lexer": "ipython3",
   "version": "3.11.5"
  }
 },
 "nbformat": 4,
 "nbformat_minor": 5
}
