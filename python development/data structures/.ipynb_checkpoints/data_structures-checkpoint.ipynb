{
 "cells": [
  {
   "cell_type": "code",
   "execution_count": null,
   "id": "e04b3cee-0cf4-4928-b940-d055f73f1e00",
   "metadata": {},
   "outputs": [],
   "source": []
  },
  {
   "cell_type": "code",
   "execution_count": null,
   "id": "1cdf2764-1a8b-4088-8591-2390846024fd",
   "metadata": {},
   "outputs": [],
   "source": []
  },
  {
   "cell_type": "code",
   "execution_count": null,
   "id": "262a242e-cdf0-4fe0-a14c-2613c97581e5",
   "metadata": {},
   "outputs": [],
   "source": []
  },
  {
   "cell_type": "code",
   "execution_count": null,
   "id": "68a63878-1395-4a60-8fd9-b0f69f7f6fa2",
   "metadata": {},
   "outputs": [],
   "source": []
  },
  {
   "cell_type": "code",
   "execution_count": null,
   "id": "40c08306-1ae7-47c0-9dcd-e2d1a1889920",
   "metadata": {},
   "outputs": [],
   "source": []
  },
  {
   "cell_type": "code",
   "execution_count": null,
   "id": "e9014a75-fec9-44c3-8c20-30896e4621fe",
   "metadata": {},
   "outputs": [],
   "source": []
  },
  {
   "cell_type": "code",
   "execution_count": null,
   "id": "cd294f3e-9f8a-4aa0-9f4d-c786151767a7",
   "metadata": {},
   "outputs": [],
   "source": []
  },
  {
   "cell_type": "markdown",
   "id": "9238e2e7-061a-4073-801c-7a6feecf5b6a",
   "metadata": {},
   "source": [
    "## Scenario: Air Force Supply\n",
    "\n",
    "You're the new data analyst, and it's your job to ensure our inventory management system runs smoothly. You'll be working with various data structures to track product IDs, monitor stock levels, analyze trends, and organize inventory. "
   ]
  },
  {
   "cell_type": "code",
   "execution_count": null,
   "id": "af33d8dc-8e96-4bcd-9a0c-23751e4831f4",
   "metadata": {},
   "outputs": [],
   "source": []
  },
  {
   "cell_type": "code",
   "execution_count": null,
   "id": "c1fd036f-dda7-46b4-92fa-95f97896ac31",
   "metadata": {},
   "outputs": [],
   "source": []
  },
  {
   "cell_type": "code",
   "execution_count": null,
   "id": "db7b9565-bc7d-4ba9-bf3f-35d5b494e4ca",
   "metadata": {},
   "outputs": [],
   "source": []
  },
  {
   "cell_type": "code",
   "execution_count": null,
   "id": "63d7b221-829b-4256-92ec-16fc508c93d7",
   "metadata": {},
   "outputs": [],
   "source": []
  },
  {
   "cell_type": "code",
   "execution_count": null,
   "id": "70232a18-762c-4c45-804f-f518ecd9bce0",
   "metadata": {},
   "outputs": [],
   "source": []
  },
  {
   "cell_type": "code",
   "execution_count": null,
   "id": "06a5a2b0-a69e-4bac-b39f-d5987460ef85",
   "metadata": {},
   "outputs": [],
   "source": []
  },
  {
   "cell_type": "code",
   "execution_count": null,
   "id": "47ab8b0a-c732-4c2b-b9d9-d20828165491",
   "metadata": {},
   "outputs": [],
   "source": []
  }
 ],
 "metadata": {
  "kernelspec": {
   "display_name": "Python [conda env:base] *",
   "language": "python",
   "name": "conda-base-py"
  },
  "language_info": {
   "codemirror_mode": {
    "name": "ipython",
    "version": 3
   },
   "file_extension": ".py",
   "mimetype": "text/x-python",
   "name": "python",
   "nbconvert_exporter": "python",
   "pygments_lexer": "ipython3",
   "version": "3.11.5"
  }
 },
 "nbformat": 4,
 "nbformat_minor": 5
}
