{
 "cells": [
  {
   "cell_type": "code",
   "execution_count": null,
   "id": "f6c483c9-4a33-4393-a62a-5cc69680c552",
   "metadata": {},
   "outputs": [],
   "source": []
  },
  {
   "cell_type": "code",
   "execution_count": null,
   "id": "7702578d-d12b-4e57-8b6e-caa902d0e173",
   "metadata": {},
   "outputs": [],
   "source": []
  },
  {
   "cell_type": "code",
   "execution_count": null,
   "id": "2c37948b-44aa-4267-91c7-29d0634398f6",
   "metadata": {},
   "outputs": [],
   "source": []
  },
  {
   "cell_type": "markdown",
   "id": "58d0f53b-754f-459b-80f1-3d99c971cc4e",
   "metadata": {},
   "source": [
    "You are working with a group of environmental science students monitoring the temperature (in Fahrenheit) at different locations in San Antonio, Texas.  They have deployed several sensors at various points in the city to collect temperature data.  The data from these sensors is automatically logged and stored in a database.  You plan on using Python and Jupyter Notebooks to retrieve this sensor data, analyze it for trends or anomalies, and potentially identify microclimates within the forest.\n",
    "\n",
    "You have started modeling the material using a class for sensor data and you plan on revisiting your class to ensure it is well-designed.  "
   ]
  },
  {
   "cell_type": "code",
   "execution_count": 19,
   "id": "86029c73-4165-4e38-8969-97b439734d03",
   "metadata": {},
   "outputs": [],
   "source": [
    "class TemperatureData:\n",
    "    def __init__(self, name, readings):\n",
    "        self.name = name\n",
    "        self.readings = readings\n",
    "\n",
    "    def calculate_average_temp(self):\n",
    "        return sum(self.readings) / len(self.readings)\n",
    "\n",
    "    def find_high_temp(self):\n",
    "        return max(self.readings)\n",
    "\n",
    "    def find_low_temp(self):\n",
    "        return min(self.readings)"
   ]
  },
  {
   "cell_type": "code",
   "execution_count": 21,
   "id": "fb48b643-73b0-4ae6-a68a-556f2052ae5c",
   "metadata": {},
   "outputs": [
    {
     "name": "stdout",
     "output_type": "stream",
     "text": [
      "Average temperature for sensor North San Antonio: 93.8 degrees Fahrenheit\n",
      "Temperature extremes for sensor North San Antonio: Highest 99, Lowest 90\n",
      "Temperature range for sensor North San Antonio: 9 degrees Fahrenheit\n"
     ]
    }
   ],
   "source": [
    "def calc_range(first, second):\n",
    "    if (first > second):\n",
    "        return first - second\n",
    "    else:\n",
    "        return second - first\n",
    "\n",
    "sensor_name = \"North San Antonio\"\n",
    "\n",
    "sensor = TemperatureData(sensor_name, [95, 99, 92, 93, 90])\n",
    "\n",
    "average_temp = sensor.calculate_average_temp()\n",
    "print(f\"Average temperature for sensor {sensor_name}: {average_temp} degrees Fahrenheit\")\n",
    "\n",
    "highest = sensor.find_high_temp()\n",
    "lowest = sensor.find_low_temp()\n",
    "print(f\"Temperature extremes for sensor {sensor_name}: Highest {highest}, Lowest {lowest}\")\n",
    "\n",
    "range = calc_range(lowest, highest)\n",
    "print(f\"Temperature range for sensor {sensor_name}: {range} degrees Fahrenheit\")"
   ]
  },
  {
   "cell_type": "code",
   "execution_count": 23,
   "id": "97b56667-f740-44bc-bf7c-a1c89d6b191b",
   "metadata": {},
   "outputs": [],
   "source": [
    "class TemperatureData:\n",
    "    def __init__(self, name, readings):\n",
    "        self.name = name\n",
    "        self.readings = readings\n",
    "\n",
    "    def calculate_average_temp(self):\n",
    "        return sum(self.readings) / len(self.readings)\n",
    "\n",
    "    def find_high_temp(self):\n",
    "        return max(self.readings)\n",
    "\n",
    "    def find_low_temp(self):\n",
    "        return min(self.readings)\n",
    "\n",
    "    def calc_range(self):\n",
    "        return max(self.readings) - min(self.readings)"
   ]
  },
  {
   "cell_type": "code",
   "execution_count": 25,
   "id": "7f4f4ead-748b-497b-8530-28b10c5eebe2",
   "metadata": {},
   "outputs": [
    {
     "name": "stdout",
     "output_type": "stream",
     "text": [
      "Average temperature for sensor North San Antonio: 93.8 degrees Fahrenheit\n",
      "Temperature extremes for sensor North San Antonio: Highest 99, Lowest 90\n",
      "Temperature range for sensor North San Antonio: 9 degrees Fahrenheit\n"
     ]
    }
   ],
   "source": [
    "sensor_name = \"North San Antonio\"\n",
    "\n",
    "sensor = TemperatureData(sensor_name, [95, 99, 92, 93, 90])\n",
    "\n",
    "average_temp = sensor.calculate_average_temp()\n",
    "print(f\"Average temperature for sensor {sensor_name}: {average_temp} degrees Fahrenheit\")\n",
    "\n",
    "highest = sensor.find_high_temp()\n",
    "lowest = sensor.find_low_temp()\n",
    "print(f\"Temperature extremes for sensor {sensor_name}: Highest {highest}, Lowest {lowest}\")\n",
    "\n",
    "range = sensor.calc_range()\n",
    "print(f\"Temperature range for sensor {sensor_name}: {range} degrees Fahrenheit\")"
   ]
  },
  {
   "cell_type": "code",
   "execution_count": null,
   "id": "6c9cbec8-040f-4b96-93b8-5a7613c70190",
   "metadata": {},
   "outputs": [],
   "source": []
  },
  {
   "cell_type": "code",
   "execution_count": null,
   "id": "787a72a8-82cb-4f84-8b24-9d1157ee1ce1",
   "metadata": {},
   "outputs": [],
   "source": []
  },
  {
   "cell_type": "code",
   "execution_count": null,
   "id": "fe32c649-ccd5-4b7f-a59b-4ae0f5fe4028",
   "metadata": {},
   "outputs": [],
   "source": []
  },
  {
   "cell_type": "code",
   "execution_count": null,
   "id": "7ad694eb-efc8-44e2-ab7e-0ca84637ce24",
   "metadata": {},
   "outputs": [],
   "source": []
  },
  {
   "cell_type": "code",
   "execution_count": null,
   "id": "7f64ee11-2ace-4308-8fef-a43a051786ac",
   "metadata": {},
   "outputs": [],
   "source": []
  },
  {
   "cell_type": "code",
   "execution_count": null,
   "id": "4e5e068a-77fb-4eae-abb8-bbde3e2b4ed9",
   "metadata": {},
   "outputs": [],
   "source": []
  },
  {
   "cell_type": "code",
   "execution_count": null,
   "id": "f6741c79-c35b-4a71-9b0f-0f8e22fa1bfe",
   "metadata": {},
   "outputs": [],
   "source": []
  },
  {
   "cell_type": "code",
   "execution_count": null,
   "id": "101a7072-0ef1-40d6-8fb6-069e1707cfca",
   "metadata": {},
   "outputs": [],
   "source": []
  },
  {
   "cell_type": "code",
   "execution_count": null,
   "id": "f6c29cd9-6ce8-4fcb-a173-67843f7558d5",
   "metadata": {},
   "outputs": [],
   "source": []
  },
  {
   "cell_type": "code",
   "execution_count": null,
   "id": "19b3a6b2-bc2e-47cc-8cf6-2943461ae38e",
   "metadata": {},
   "outputs": [],
   "source": []
  }
 ],
 "metadata": {
  "kernelspec": {
   "display_name": "Python [conda env:base] *",
   "language": "python",
   "name": "conda-base-py"
  },
  "language_info": {
   "codemirror_mode": {
    "name": "ipython",
    "version": 3
   },
   "file_extension": ".py",
   "mimetype": "text/x-python",
   "name": "python",
   "nbconvert_exporter": "python",
   "pygments_lexer": "ipython3",
   "version": "3.11.5"
  }
 },
 "nbformat": 4,
 "nbformat_minor": 5
}
