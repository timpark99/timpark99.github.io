{
 "cells": [
  {
   "cell_type": "markdown",
   "id": "dda0dbe4-e1c1-42ea-98ab-69b5dc5c0212",
   "metadata": {},
   "source": [
    "You are working with a group of environmental science students monitoring the temperature (in Fahrenheit) at different locations within a forest. They have deployed several sensors at various points in the forest to collect temperature data. The data from these sensors is automatically logged and stored in a database. You plan on using Python and Jupyter Notebooks to retrieve this sensor data, analyze it for trends or anomalies, and potentially identify microclimates within the forest. \n",
    "\n",
    "You have started modeling the material using a class for sensor data and you plan on revisiting your class to ensure it is well-designed."
   ]
  },
  {
   "cell_type": "markdown",
   "id": "3bccbe8e",
   "metadata": {},
   "source": [
    "# Step 1: Examine the TemperatureData class\n",
    "\n",
    "The following code will create a TemperatureData class. This class has two methods, one to calculate the average temperature and another to display the highest and lowest temperatures.\n",
    "Click Run to load the class."
   ]
  },
  {
   "cell_type": "code",
   "execution_count": 1,
   "id": "a02e6f0b",
   "metadata": {},
   "outputs": [],
   "source": [
    "class TemperatureData:\n",
    "    # Constructor to create object\n",
    "    def __init__(self, name, readings):\n",
    "        self.name = name\n",
    "        self.readings = readings\n",
    "\n",
    "    # Calculate average temperatures\n",
    "    def calculate_average_temp(self):\n",
    "        return sum(self.readings) / len(self.readings)\n",
    "\n",
    "    # Find highest temperature\n",
    "    def find_high_temp(self):\n",
    "        return max(self.readings)\n",
    "\n",
    "    # Find lowest temperature\n",
    "    def find_low_temp(self):\n",
    "        return min(self.readings)"
   ]
  },
  {
   "cell_type": "markdown",
   "id": "bc073a5c",
   "metadata": {},
   "source": [
    "# Step 2: Examine the main program\n",
    "\n",
    "The following code will use the TemperatureData class methods. Click Run to execute it.\n",
    "\n",
    "You can alter the code below to explore the TemperatureData class further."
   ]
  },
  {
   "cell_type": "code",
   "execution_count": 3,
   "id": "38bf7c6c",
   "metadata": {},
   "outputs": [
    {
     "name": "stdout",
     "output_type": "stream",
     "text": [
      "Average temperature for sensor East Forest Road Sensor: 73.2 degrees Fahrenheit\n",
      "Temperature extremes for sensor East Forest Road Sensor: Highest 88, Lowest 64\n",
      "Temperature range for sensor East Forest Road Sensor: 24 degrees Fahrenheit\n"
     ]
    }
   ],
   "source": [
    "def calc_range(first, second):\n",
    "    if (first > second):\n",
    "        return first - second\n",
    "    else:\n",
    "        return second - first\n",
    "\n",
    "# Example Usage\n",
    "# Create a name for a sensor\n",
    "sensor_name = \"East Forest Road Sensor\"\n",
    "\n",
    "sensor = TemperatureData(sensor_name, [75, 71, 68, 64, 88])\n",
    "\n",
    "average_temp = sensor.calculate_average_temp()\n",
    "print(f\"Average temperature for sensor {sensor_name}: {average_temp} degrees Fahrenheit\")\n",
    "\n",
    "highest = sensor.find_high_temp()\n",
    "lowest = sensor.find_low_temp()\n",
    "print(f\"Temperature extremes for sensor {sensor_name}: Highest {highest}, Lowest {lowest}\") \n",
    "\n",
    "range = calc_range(lowest, highest)\n",
    "print(f\"Temperature range for sensor {sensor_name}: {range} degrees Fahrenheit\")"
   ]
  },
  {
   "cell_type": "markdown",
   "id": "fbe33b0e",
   "metadata": {},
   "source": [
    "# Step 3: Redesign the class\n",
    "\n",
    "If there is any functionality that might be useful in the future, it may be better suited to be part of the class. As you continue this course, you will explore object-oriented design further.\n",
    "\n",
    "Examine a new version of the class that moves the calc_range from a function to a method in the class.\n",
    "\n",
    "Click Run to execute it and load the new class definition."
   ]
  },
  {
   "cell_type": "code",
   "execution_count": 5,
   "id": "f3c9028e",
   "metadata": {},
   "outputs": [],
   "source": [
    "class TemperatureData:\n",
    "    # Constructor to create object\n",
    "    def __init__(self, name, readings):\n",
    "        self.name = name\n",
    "        self.readings = readings\n",
    "\n",
    "    # Calculate average temperatures\n",
    "    def calculate_average_temp(self):\n",
    "        return sum(self.readings) / len(self.readings)\n",
    "\n",
    "    # Find highest temperature\n",
    "    def find_high_temp(self):\n",
    "        return max(self.readings)\n",
    "\n",
    "    # Find lowest temperature\n",
    "    def find_low_temp(self):\n",
    "        return min(self.readings)\n",
    "    \n",
    "    # Find temperature range (max-min)\n",
    "    # YOUR CODE HERE\n",
    "    def calc_range(self):\n",
    "        return max(self.readings) - min(self.readings)"
   ]
  },
  {
   "cell_type": "markdown",
   "id": "3c3ae9f0",
   "metadata": {},
   "source": [
    "# Step 4: Use the improved class\n",
    "\n",
    "Here, the functionality for the calc_range is moved into the TemperatureData class. You can now call the method without having to write code in the main program.\n",
    "\n",
    "A major benefit is that anyone using the TemperatureData in another program in the future can re-use the same method.\n",
    "\n",
    "Click Run to execute it. Notice the output is the same.\n"
   ]
  },
  {
   "cell_type": "code",
   "execution_count": null,
   "id": "e2a4e794",
   "metadata": {},
   "outputs": [
    {
     "name": "stdout",
     "output_type": "stream",
     "text": [
      "Average temperature for sensor East Forest Road Sensor: 73.2 degrees Fahrenheit\n",
      "Temperature extremes for sensor East Forest Road Sensor: Highest 88, Lowest 64\n",
      "Temperature range for sensor East Forest Road Sensor: 24 degrees Fahrenheit\n"
     ]
    }
   ],
   "source": [
    "# Create a name for a sensor\n",
    "sensor_name = \"East Forest Road Sensor\"\n",
    "\n",
    "sensor = TemperatureData(sensor_name, [75, 71, 68, 64, 88])\n",
    "\n",
    "average_temp = sensor.calculate_average_temp()\n",
    "print(f\"Average temperature for sensor {sensor_name}: {average_temp} degrees Fahrenheit\")\n",
    "\n",
    "highest = sensor.find_high_temp()\n",
    "lowest = sensor.find_low_temp()\n",
    "print(f\"Temperature extremes for sensor {sensor_name}: Highest {highest}, Lowest {lowest}\") \n",
    "# Code above this point is unchanged, except for removing the function\n",
    "\n",
    "# New call to method in TemperatureData\n",
    "# YOUR CODE HERE\n",
    "range = sensor.calc_range()\n",
    "print(f\"Temperature range for sensor {sensor_name}: {range} degrees Fahrenheit\")"
   ]
  }
 ],
 "metadata": {
  "kernelspec": {
   "display_name": "Python [conda env:base] *",
   "language": "python",
   "name": "conda-base-py"
  },
  "language_info": {
   "codemirror_mode": {
    "name": "ipython",
    "version": 3
   },
   "file_extension": ".py",
   "mimetype": "text/x-python",
   "name": "python",
   "nbconvert_exporter": "python",
   "pygments_lexer": "ipython3",
   "version": "3.11.5"
  }
 },
 "nbformat": 4,
 "nbformat_minor": 5
}
