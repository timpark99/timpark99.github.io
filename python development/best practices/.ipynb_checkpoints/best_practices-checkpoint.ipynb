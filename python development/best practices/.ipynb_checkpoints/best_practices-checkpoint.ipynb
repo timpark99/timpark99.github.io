{
 "cells": [
  {
   "cell_type": "code",
   "execution_count": null,
   "id": "dbecfb02-cd53-49ca-b2e3-fdcd8f4c481c",
   "metadata": {},
   "outputs": [],
   "source": []
  },
  {
   "cell_type": "code",
   "execution_count": null,
   "id": "38f1da0f-f724-4d10-900d-d06ed4b4dbeb",
   "metadata": {},
   "outputs": [],
   "source": []
  },
  {
   "cell_type": "code",
   "execution_count": null,
   "id": "2d198a3c-8354-44b6-9292-ce463eb2b530",
   "metadata": {},
   "outputs": [],
   "source": []
  },
  {
   "cell_type": "code",
   "execution_count": null,
   "id": "53edc840-c524-4e93-816b-ca968d767483",
   "metadata": {},
   "outputs": [],
   "source": [
    "def calculate_discount():\n",
    "\n",
    "def get_user_data():\n",
    "\n",
    "def filter_results():\n",
    "\n",
    "def _calculate_internal_metrics():\n",
    "\n",
    "def is_valid_email(email):\n",
    "\n",
    "def has_sufficient_balance(account):\n",
    "\n",
    "def can_access_resource(user, resource):"
   ]
  },
  {
   "cell_type": "code",
   "execution_count": null,
   "id": "15e8104b-d904-49d7-a7da-be90b65d669e",
   "metadata": {},
   "outputs": [],
   "source": [
    "def calculate_monthly_payment(principal: float, interest_rate: float, loan_term_years: int) -> float:\n",
    "    \"\"\"\n",
    "    Calculate the monthly payment for a fixed-rate loan.\n",
    "\n",
    "    Args:\n",
    "        principal: the total amount borrowed (float).\n",
    "        interest_rate: The annual interest rate as a decimal (float).\n",
    "        loan_term_years: the loan term in years (int).\n",
    "\n",
    "    Returns:\n",
    "        the monthly payment amount (float).\n",
    "\n",
    "    Raises:\n",
    "        ValueError: If any of the inputs are negative or zero.\n",
    "\n",
    "    Example:\n",
    "        >>> calculate_monthly_payment(1000000, 0.05, 30)\n",
    "        530.33\n",
    "    \"\"\"\n",
    "    if principal <= 0 or interest_rate <= 0 or loan_term_years <= 0:\n",
    "        raise ValueError(\"All input values must be positive.\")\n",
    "\n",
    "    return monthly_payment\n",
    "        "
   ]
  },
  {
   "cell_type": "code",
   "execution_count": 1,
   "id": "6d48fd97-b096-4be6-8b8f-83eca0a34b97",
   "metadata": {},
   "outputs": [
    {
     "data": {
      "text/plain": [
       "2.8"
      ]
     },
     "execution_count": 1,
     "metadata": {},
     "output_type": "execute_result"
    }
   ],
   "source": [
    "global_sum = 0\n",
    "\n",
    "def calculate_mean_with_side_effects(numbers):\n",
    "    global global_sum\n",
    "    global_sum = sum(numbers)\n",
    "    return global_sum / len(numbers)\n",
    "\n",
    "calculate_mean_with_side_effects([5, 3, 4, 1, 1])"
   ]
  },
  {
   "cell_type": "code",
   "execution_count": 3,
   "id": "e2604aa5-1376-4f3c-8405-45006137b149",
   "metadata": {},
   "outputs": [
    {
     "data": {
      "text/plain": [
       "2.8"
      ]
     },
     "execution_count": 3,
     "metadata": {},
     "output_type": "execute_result"
    }
   ],
   "source": [
    "def calculate_mean(numbers):\n",
    "    return sum(numbers) / len(numbers)\n",
    "\n",
    "calculate_mean([5, 3, 4, 1, 1])"
   ]
  },
  {
   "cell_type": "code",
   "execution_count": null,
   "id": "7e91ec96-ffb4-4e2b-ae1b-de51737662d2",
   "metadata": {},
   "outputs": [],
   "source": []
  },
  {
   "cell_type": "code",
   "execution_count": null,
   "id": "36ade431-b8d3-42b4-bb8c-8bce5f22a014",
   "metadata": {},
   "outputs": [],
   "source": []
  },
  {
   "cell_type": "code",
   "execution_count": null,
   "id": "b745891e-3644-4b33-a4a8-b5ea4bdc2bbb",
   "metadata": {},
   "outputs": [],
   "source": []
  },
  {
   "cell_type": "code",
   "execution_count": null,
   "id": "b68e786d-77e7-4bf1-a2df-262c78ba0c3d",
   "metadata": {},
   "outputs": [],
   "source": []
  },
  {
   "cell_type": "code",
   "execution_count": null,
   "id": "8a4e1539-2365-441d-a002-32fdf51c7614",
   "metadata": {},
   "outputs": [],
   "source": []
  },
  {
   "cell_type": "code",
   "execution_count": null,
   "id": "b6160e2d-9fdf-4282-ac32-f57bc79d71fb",
   "metadata": {},
   "outputs": [],
   "source": []
  },
  {
   "cell_type": "code",
   "execution_count": null,
   "id": "1ed3782a-ec8f-48c2-9d17-702caa575fa4",
   "metadata": {},
   "outputs": [],
   "source": []
  },
  {
   "cell_type": "code",
   "execution_count": null,
   "id": "19da4509-11e4-4108-b60d-3dc4aea7c7fb",
   "metadata": {},
   "outputs": [],
   "source": []
  },
  {
   "cell_type": "code",
   "execution_count": null,
   "id": "50c7fa06-cd81-448c-a2a7-76b14b58f5b5",
   "metadata": {},
   "outputs": [],
   "source": []
  },
  {
   "cell_type": "code",
   "execution_count": null,
   "id": "6cecd2c7-5cd9-45e7-bd69-4aa67823b2f0",
   "metadata": {},
   "outputs": [],
   "source": []
  },
  {
   "cell_type": "code",
   "execution_count": null,
   "id": "e60225a8-8aa5-49ab-876c-4d2ff047e595",
   "metadata": {},
   "outputs": [],
   "source": []
  },
  {
   "cell_type": "code",
   "execution_count": null,
   "id": "ca13d07c-8589-4cbe-8a35-c7245687c71b",
   "metadata": {},
   "outputs": [],
   "source": []
  }
 ],
 "metadata": {
  "kernelspec": {
   "display_name": "Python [conda env:base] *",
   "language": "python",
   "name": "conda-base-py"
  },
  "language_info": {
   "codemirror_mode": {
    "name": "ipython",
    "version": 3
   },
   "file_extension": ".py",
   "mimetype": "text/x-python",
   "name": "python",
   "nbconvert_exporter": "python",
   "pygments_lexer": "ipython3",
   "version": "3.11.5"
  }
 },
 "nbformat": 4,
 "nbformat_minor": 5
}
