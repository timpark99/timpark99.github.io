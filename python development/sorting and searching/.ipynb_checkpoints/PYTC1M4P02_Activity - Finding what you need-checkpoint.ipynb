{
 "cells": [
  {
   "cell_type": "markdown",
   "id": "50655c78-1f0a-488e-b83e-b59cc7bd1917",
   "metadata": {},
   "source": [
    "## How to Interact with this Jupyter Notebook\n",
    "\n",
    "In this activity, you will use a Jupyter Notebook, which integrates both text and code. The gray boxes contain executable code, which you will run in order to view its output. The text in between the code provides instructions."
   ]
  },
  {
   "cell_type": "markdown",
   "id": "8c8e60e1-6d49-4001-a4dc-9e093f6c3bf5",
   "metadata": {},
   "source": [
    "## Scenario: Taming the Book Stacks: Sorting and Searching in Python\n",
    "\n",
    "Imagine you're looking for a specific book in a large library.  The endless rows of shelves can be overwhelming, and finding that one title can feel like searching for a needle in a haystack.\n",
    "\n",
    "In this Jupyter Notebook, you'll learn how to use Python to make searching a digital library much easier and more efficient. You'll explore sorting algorithms, which organize book data in a logical way, just like arranging books on a shelf. Then, you'll dive into search algorithms - these are like having your own digital librarian to help you quickly find the exact book you're looking for.\n",
    "\n",
    "\n",
    "### Why Sorting and Searching Algorithms Matter:\n",
    "\n",
    "* **Efficient Navigation:** Sorting algorithms arrange book data in a logical order, making it easier for users (or librarians!) to browse and find what they need. Think of it like arranging books alphabetically on a shelf – it saves everyone time and frustration.\n",
    "\n",
    "* **Rapid Retrieval :** Search algorithms enable quick and precise book lookup. Whether you're searching by title, author, or other criteria, these algorithms act like a librarian's expert knowledge, pinpointing the desired book efficiently.\n",
    "\n",
    "\n",
    "* **Scalability :** As libraries grow (and digital collections can grow very large), sorting and searching algorithms become even more crucial. They ensure that the library system remains responsive and user-friendly, even with thousands or millions of books.\n",
    "\n",
    "* **Flexibility :** These algorithms aren't just for libraries. They are fundamental tools for organizing and accessing data in countless applications, from online stores to search engines. Understanding them equips you with valuable skills for working with data in any field.\n",
    "\n",
    "\n",
    "## Activity Summary:\n",
    "\n",
    "In this activity, you will:\n",
    "\n",
    "* **Sort Book Data:** Learn how to sort a list of book dictionaries, creating a well-organized digital catalog.\n",
    "* **Implement Linear Search:** Discover how to systematically search through your book collection, examining each item one by one.\n",
    "* **Implement Binary Search:** Explore a more efficient search method that leverages sorted data to quickly find specific books.\n",
    "* **Compare and Contrast:** Understand the tradeoffs between different search algorithms, empowering you to choose the best approach for various scenarios.\n"
   ]
  },
  {
   "cell_type": "markdown",
   "id": "f9f54f15-4e03-4d6b-9697-6ecc1d7f82b0",
   "metadata": {},
   "source": [
    "Begin by running the cell below, which imports the pandas library and loads the csv file named 'book_catalog_10.csv'."
   ]
  },
  {
   "cell_type": "code",
   "execution_count": null,
   "id": "da109ed7-d645-4fde-8b1e-0461a4fbea81",
   "metadata": {},
   "outputs": [],
   "source": [
    "# Import a powerful tool called \"pandas\" that you'll use to work with and organize data easily\n",
    "import pandas as pd\n",
    "\n",
    "# Load the book catalog from the CSV file\n",
    "book_catalog_df = pd.read_csv('book_catalog_10.csv')"
   ]
  },
  {
   "cell_type": "markdown",
   "id": "54064899-a8f6-422b-875b-7a9cf4610a2b",
   "metadata": {},
   "source": [
    "Notice that nothing has been output from the cell after you ran it. That's because we didn't print any of the results of the csv, we only loaded it in the cell above as a **DataFrame**.\n",
    "\n",
    "Think of a DataFrame like a super-organized table. It has rows and columns, just like a spreadsheet you might have used before. This structure makes it really easy to view, manage, and analyze our book data.  \n",
    "\n",
    "Run the cell below, which converts the DataFrame `book_catalog_df` above into a **dictionary** and then prints the results. \n",
    "\n",
    "Imagine a dictionary as a collection of labeled boxes. Each box has a label (called a \"key\") and something stored inside (called a \"value\").  In our case, each \"box\" represents a book, and the labels are things like \"title\", \"author\", and \"publication_year\".\n",
    "\n",
    "You're doing this conversion because it will make it easier to work with the book data."
   ]
  },
  {
   "cell_type": "code",
   "execution_count": null,
   "id": "681e6928-113b-4afa-aaa6-90c9b189efab",
   "metadata": {},
   "outputs": [],
   "source": [
    "# Convert the DataFrame to a list of dictionaries\n",
    "book_catalog = book_catalog_df.to_dict(orient='records')\n",
    "\n",
    "# Print the list of dictionaries\n",
    "print(book_catalog)"
   ]
  },
  {
   "cell_type": "markdown",
   "id": "97b48322-738b-40d5-bddf-4dc1fb40e42e",
   "metadata": {},
   "source": [
    "Great! Now that you've printed the `book_catalog`, you can see that it is organized as a list of dictionaries.  \n",
    "\n",
    "Remember, each dictionary is like a labeled box holding information about one book. Inside each \"box,\" you'll find pairs of labels (called \"keys\") and the information associated with them (called \"values\"). \n",
    "\n",
    "For example, the key \"title\" is paired with the value \"1984\", telling us the name of the book.  \n",
    "\n",
    "Take a quick glance at the output above see if you can spot any familiar titles or authors within those curly brackets."
   ]
  },
  {
   "cell_type": "markdown",
   "id": "d2551fe2-c79f-4be1-b8db-716504428251",
   "metadata": {},
   "source": [
    "Although you have the `book catalog` printed out, it is a bit jumbled, isn't it?  Imagine trying to find a specific book in a messy library – it would take forever!\n",
    "\n",
    "That's why you need to sort the `book catalog`.  Just like arranging books alphabetically on a shelf, sorting makes it much easier to browse and find what we're looking for. \n",
    "\n",
    "The code in the cell below does exactly that! Before you run it, let's break it down:\n",
    "\n",
    "* **Helper Functions:**  In programming, a helper function is simply a function that assists another function in completing its task.  Think of these like little librarian assistants.  They perform specific tasks to make the main job (sorting the catalog) easier.\n",
    "    * `get_title(book)`:  This helper simply plucks the title out of a book's dictionary, so we can focus on just that when sorting. \n",
    "    * `sort_catalog_by_title(catalog)`: This is the main librarian in charge of sorting.  It uses a special Python trick (`catalog.sort()`) to arrange all the books in alphabetical order by their titles. \n",
    "\n",
    "* **Putting It All Together:**\n",
    "    * We call the `sort_catalog_by_title` function to do the actual sorting. \n",
    "    * Finally, we print out the nicely organized catalog so you can see the results! \n",
    "\n",
    "**Ready to see it in action? Run the cell below!** "
   ]
  },
  {
   "cell_type": "code",
   "execution_count": null,
   "id": "53aeb971-dc73-4fd8-8daf-ef54ef61a1e2",
   "metadata": {},
   "outputs": [],
   "source": [
    "# Helper function 1: \n",
    "def get_title(book): \n",
    "  \"\"\"Helper function to extract the title from a book dictionary.\"\"\"\n",
    "  return book['title']\n",
    "\n",
    "# Helper function 2: \n",
    "def sort_catalog_by_title(catalog): \n",
    "  \"\"\"Sorts the book catalog alphabetically by title.\"\"\"\n",
    "  catalog.sort(key=get_title)\n",
    "    \n",
    "# Sort the catalog\n",
    "sort_catalog_by_title(book_catalog)\n",
    "\n",
    "# Display the sorted catalog\n",
    "for book in book_catalog:\n",
    "  print(f\"Title: {book['title']}, Author: {book['author']}, Publication Year: {book['publication_year']}\")"
   ]
  },
  {
   "cell_type": "markdown",
   "id": "74829919-f551-4020-b9ab-6ec6f77e4124",
   "metadata": {},
   "source": [
    "Look at that! Your book catalog is now sorted alphabetically by title. \n",
    "\n",
    "It's much easier to find a specific book now, isn't it? This is the power of sorting algorithms – bringing order to data so we can navigate it more efficiently. \n",
    "\n",
    "But what if you want to find a book without scanning the entire list? That's where search algorithms come in handy.  They help you pinpoint specific items within a dataset, just like a librarian helps you find a book on the shelf. "
   ]
  },
  {
   "cell_type": "markdown",
   "id": "78d0b2ed-c886-446c-a8b9-4f116f3c2a27",
   "metadata": {},
   "source": [
    "In the next cell, you'll explore one such algorithm called **linear search**.  It's like systematically checking each book on a shelf until we find the one we're looking for. But how does checking each book on a shelf one by one translate into Python code?\n",
    "\n",
    "Let's breakdown the code in the following cell before running it: \n",
    "\n",
    "The `search_books` function below does the following:\n",
    "\n",
    "1. **Takes Input:** It needs two things to work:\n",
    "    * The `catalog`:  This is our sorted list of book dictionaries.\n",
    "    * The `query`:  This is what we're searching for – it could be a book title or an author's name. \n",
    "\n",
    "\n",
    "2. **Sets up a List for Results:** It creates an empty list called `results` to store any books that match our search. \n",
    "\n",
    "3. **Checks Each Book:**  It goes through each `book` in the `catalog`:\n",
    "    * It converts both the `query` and the book's `title` and `author` to lowercase. This makes the search case-insensitive (so \"the great gatsby\" and \"The Great Gatsby\" are considered the same). \n",
    "    * It checks if the `query` is found within the book's `title` OR the book's `author`.\n",
    "    * If there's a match, it adds that `book` to the `results` list. \n",
    "\n",
    "\n",
    "4. **Returns the Results:**  Finally, it gives us back the `results` list, which contains all the books that matched our search (or an empty list if nothing was found).\n",
    "\n",
    "**In simpler terms, it's like going through each book on the shelf, checking if it's the one we want, and putting it aside if it is.**\n",
    "\n",
    "**Ready to see it in action? Run the cell below!** "
   ]
  },
  {
   "cell_type": "code",
   "execution_count": null,
   "id": "014dbebd-5eeb-4ac1-be94-d8755982f3c1",
   "metadata": {},
   "outputs": [],
   "source": [
    "# Helper function: Linear Search\n",
    "def search_books(catalog, query):\n",
    "  \"\"\"Searches for books by title or author using linear search.\"\"\"\n",
    "  results = []\n",
    "  for book in catalog:\n",
    "    if query.lower() in book['title'].lower() or query.lower() in book['author'].lower():\n",
    "      results.append(book)\n",
    "  return results"
   ]
  },
  {
   "cell_type": "markdown",
   "id": "82a4b70f-5993-47b7-bedf-773c019b8681",
   "metadata": {},
   "source": [
    "Now that we have our `search_books` function ready, let's put it to the test!\n",
    "\n",
    "In the code cell below:\n",
    "\n",
    "1. **Fill in the Query:**  Replace the empty quotes (`\"\"`) in the `query` variable with the title **\"The Great Gatsby\"**.  This is the book we'll try to find in our catalog.\n",
    "\n",
    "2. **Run the Code:**  Execute the cell to see if our linear search can locate the book. \n",
    "\n",
    "If everything works correctly, you should see the details of \"The Great Gatsby\" printed out! "
   ]
  },
  {
   "cell_type": "code",
   "execution_count": null,
   "id": "5891cdd6-1e66-4614-aca3-a42bf7dd2062",
   "metadata": {},
   "outputs": [],
   "source": [
    "# Search for \"The Great Gatsby\" \n",
    "query = \"\" # Add your search query here\n",
    "search_results = search_books(book_catalog, query)\n",
    "\n",
    "if search_results:\n",
    "  print(\"\\nSearch results:\")\n",
    "  for book in search_results:\n",
    "    print(f\"Title: {book['title']}, Author: {book['author']}, Publication Year: {book['publication_year']}\")\n",
    "else:\n",
    "  print(\"No books found matching your query.\")"
   ]
  },
  {
   "cell_type": "markdown",
   "id": "06640797-7f81-4a86-8d4f-6805cd832747",
   "metadata": {},
   "source": [
    "Great! Now try searching for \"Dune\" in the query. Replace the empty quotes (`\"\"`) in the `query` variable with the title **\"Dune\"** and run the cell.\n",
    "\n",
    "Notice the output."
   ]
  },
  {
   "cell_type": "code",
   "execution_count": null,
   "id": "d84d62c1-08a2-4156-9e9e-0d7c06756910",
   "metadata": {},
   "outputs": [],
   "source": [
    "# Search for \"Dune\" \n",
    "query = \"\"  # Add your search query here\n",
    "search_results = search_books(book_catalog, query)\n",
    "\n",
    "if search_results:\n",
    "  print(\"\\nSearch results:\")\n",
    "  for book in search_results:\n",
    "    print(f\"Title: {book['title']}, Author: {book['author']}, Publication Year: {book['publication_year']}\")\n",
    "else:\n",
    "  print(\"No books found matching your query.\")"
   ]
  },
  {
   "cell_type": "markdown",
   "id": "979340a1-48c7-4877-a715-b1faa7ed86de",
   "metadata": {},
   "source": [
    "Your `search_books` function is working well, but it is also versatile!  It can search for books by *either* title *or* author. \n",
    "\n",
    "Try searching for an author instead of a book.\n",
    "\n",
    "1. **Change the Query:** In the code cell below, replace the existing query with `\"J.K. Rowling\"`. \n",
    "\n",
    "2. **Run the Code:** Execute the cell and observe the results.\n",
    "\n",
    "**Think about it:** Even though we searched for an author's name, not a book title, we still got a result! Why do you think that is? Take a moment to review the `search_books` function code if you need a hint."
   ]
  },
  {
   "cell_type": "code",
   "execution_count": null,
   "id": "83df19c5-c12e-4f30-afda-69fbdc13ce44",
   "metadata": {},
   "outputs": [],
   "source": [
    "# Search for author\n",
    "query = \"\" # Add your search query here\n",
    "search_results = search_books(book_catalog, query)\n",
    "\n",
    "if search_results:\n",
    "  print(\"\\nSearch results:\")\n",
    "  for book in search_results:\n",
    "    print(f\"Title: {book['title']}, Author: {book['author']}, Publication Year: {book['publication_year']}\")\n",
    "else:\n",
    "  print(\"No books found matching your query.\")"
   ]
  },
  {
   "cell_type": "markdown",
   "id": "8614906b-f695-41a9-8041-5b914130a069",
   "metadata": {},
   "source": [
    "You linear search algorithm is working well, but it can be a bit slow if you have a *huge* library.  Imagine searching for a book in a massive bookstore by checking every single title one by one – that would take ages! \n",
    "\n",
    "Luckily, there's a faster way when our catalog is sorted: **binary search**. It's like playing a guessing game where you keep halving the possibilities until you find what you're looking for. But how does this translate into Python code?\n",
    "\n",
    "Let's breakdown the code in the following cell before running it: \n",
    "\n",
    "Here is what the `binary_search_books` function does:\n",
    "\n",
    "1. **Takes Input:**  Just like linear search, it needs the `catalog` and the `query` (the book title we're searching for).\n",
    "\n",
    "2. **Sets Up Boundaries:**  It starts by marking the beginning (`low`) and the end (`high`) of the catalog.\n",
    "\n",
    "3. **The Guessing Game:**\n",
    "   * It calculates the middle point (`mid`) between `low` and `high`.\n",
    "   * It checks if the book at the `mid` point is the one we're looking for.\n",
    "   * If not, it compares the book's title at the `mid` point to our `query`:\n",
    "     * If the `mid` point title is \"less than\" our `query`, we know the book we want must be in the *higher* half of the catalog, so we adjust `low` to `mid + 1`.\n",
    "     * If the `mid` point title is \"greater than\" our `query`, we know the book we want must be in the *lower* half, so we adjust `high` to `mid - 1`.\n",
    "   * It keeps repeating this process, narrowing down the search area by half each time, until it finds the book or determines it's not there.\n",
    "\n",
    "\n",
    "4. **Returns the Result:**  If it finds the book, it returns the entire book dictionary. Otherwise, it returns `None` to indicate the book wasn't found.\n",
    "\n",
    "**Think of it like this:** You're looking for a word in a dictionary. Instead of starting from the beginning, you open it somewhere in the middle. If the word you want comes *after* the words on that page, you flip to the second half of the dictionary. If it comes *before*, you flip to the first half. You keep doing this until you find the exact page!\n",
    "\n",
    "**Ready to see it in action? Run the cell below!** "
   ]
  },
  {
   "cell_type": "code",
   "execution_count": null,
   "id": "8cf463db-ba7e-4357-9df6-df43b25d473e",
   "metadata": {},
   "outputs": [],
   "source": [
    "def binary_search_books(catalog, query):\n",
    "  \"\"\"Searches for books by title using binary search (assuming sorted catalog).\"\"\"\n",
    "  low = 0\n",
    "  high = len(catalog) - 1\n",
    "\n",
    "  while low <= high:\n",
    "    mid = (low + high) // 2\n",
    "    if catalog[mid]['title'].lower() == query.lower():\n",
    "      return catalog[mid]\n",
    "    elif catalog[mid]['title'].lower() < query.lower():\n",
    "      low = mid + 1\n",
    "    else:\n",
    "      high = mid - 1\n",
    "\n",
    "  return None  # Book not found"
   ]
  },
  {
   "cell_type": "markdown",
   "id": "e27bceb7-491b-4606-b4bc-53b3acc2325f",
   "metadata": {},
   "source": [
    "In the cells above, you used linear search to find \"The Great Gatsby\", but can you find it even *faster*? \n",
    "\n",
    "Remember, binary search is super speedy when our data is sorted. It works by repeatedly dividing the search area in half, like a high-tech guessing game.\n",
    "\n",
    "The problem is that your `book_catalog_10.csv` dataset is much too small for you to observe the difference between these two search algorithms. In the code cells below, you will find that a much larger `big_book_catalog.csv` dataset has been loaded for you. \n",
    "\n",
    "It has around 271,380 rows!\n",
    "\n",
    "1. **Run the Following Two Cells:** The cells below each already have the query set to `\"The Great Gatsby\"`. Each cell also has uses the `time` module to measure the execution time of the `search_books` and `binary_search_books` functions by recording timestamps before and after the search and then calculating the difference. Note that the exact times will vary based on your system's power, but expect an extremely quick search in the binary search compared to the binary. Also note, Jupyter Notebooks may \"cache\" search results, so running the same query twice may end up with times that appear to be zero. You can have Jupyter \"Restart the kernel\" to get fresh results.\n",
    "\n",
    "2. **Observe the Output of Each Cell:** Why was the binary search faster than linear search?\n",
    "\n",
    "**Think about it:**  \n",
    "\n",
    "* How much faster do you think binary search would be if our catalog had 1,000,000 books?"
   ]
  },
  {
   "cell_type": "code",
   "execution_count": null,
   "id": "96c53eb9-fa20-424f-a322-8219556482e4",
   "metadata": {},
   "outputs": [],
   "source": [
    "# This is like using a stopwatch to see how long it takes to find the books. \n",
    "# We start the timer, do the search, then stop the timer and calculate how much time passed.\n",
    "import time\n",
    "\n",
    "# Loads the big_book_catalog which has which has ~271,380 rows!\n",
    "big_book_catalog_df = pd.read_csv('big_book_catalog.csv', low_memory=False)\n",
    "\n",
    "# Convert 'title' and 'author' to strings, handle NaN\n",
    "big_book_catalog_df['title'] = big_book_catalog_df['title'].fillna('').astype(str)\n",
    "big_book_catalog_df['author'] = big_book_catalog_df['author'].fillna('').astype(str)\n",
    "\n",
    "sorted_df = big_book_catalog_df.sort_values(by=['title'])\n",
    "big_book_catalog = big_book_catalog_df.to_dict(orient='records')\n",
    "\n",
    "# Search for \"The Great Gatsby\" using Linear Search\n",
    "query = \"The Great Gatsby\"  # Example query\n",
    "\n",
    "start_time = time.time()  # Record start time\n",
    "\n",
    "search_results = search_books(big_book_catalog, query)\n",
    "\n",
    "end_time = time.time()    # Record end time\n",
    "\n",
    "elapsed_time_linear = end_time - start_time\n",
    "print(f\"\\nLinear search took {elapsed_time_linear:.5f} seconds.\") \n",
    "\n",
    "if search_results:\n",
    "  print(\"\\nSearch results:\")\n",
    "  for book in search_results:\n",
    "    print(f\"Title: {book['title']}, Author: {book['author']}, Publication Year: {book['publication_year']}\")\n",
    "else:\n",
    "  print(\"No books found matching your query.\")"
   ]
  },
  {
   "cell_type": "code",
   "execution_count": null,
   "id": "780d6a63-2e0d-40dc-a1b0-8f438e83d1fb",
   "metadata": {},
   "outputs": [
    {
     "name": "stdout",
     "output_type": "stream",
     "text": [
      "\n",
      "Binary search took 0.00103 seconds.\n",
      "\n",
      "Binary Search Result for 'The Great Gatsby':\n",
      "Title: The Great Gatsby, Author: F. Scott Fitzgerald, Publication Year: 1995\n"
     ]
    }
   ],
   "source": [
    "# This is like using a stopwatch to see how long it takes to find the books. \n",
    "# We start the timer, do the search, then stop the timer and calculate how much time passed.\n",
    "import time\n",
    "\n",
    "# Loads the big_book_catalog which has which has ~271,380 rows!\n",
    "big_book_catalog_df = pd.read_csv('big_book_catalog.csv', low_memory=False)\n",
    "\n",
    "# Convert 'title' and 'author' to strings, handle NaN\n",
    "big_book_catalog_df['title'] = big_book_catalog_df['title'].fillna('').astype(str)\n",
    "big_book_catalog_df['author'] = big_book_catalog_df['author'].fillna('').astype(str)\n",
    "\n",
    "sorted_df = big_book_catalog_df.sort_values(by=['title'])\n",
    "big_book_catalog = sorted_df.to_dict(orient='records')\n",
    "\n",
    "# Search for \"The Great Gatsby\" using Binary Search\n",
    "query = \"The Great Gatsby\"  # Example query\n",
    "\n",
    "start_time = time.time()\n",
    "\n",
    "search_results = binary_search_books(big_book_catalog, query)\n",
    "\n",
    "elapsed_time_binary = time.time() - start_time\n",
    "\n",
    "print(f\"\\nBinary search took {elapsed_time_binary:.5f} seconds.\")\n",
    "\n",
    "if search_results:\n",
    "  print(\"\\nBinary Search Result for 'The Great Gatsby':\")\n",
    "  print(f\"Title: {search_results['title']}, Author: {search_results['author']}, Publication Year: {search_results['publication_year']}\")\n",
    "else:\n",
    "  print(\"Binary Search: Book not found\")"
   ]
  },
  {
   "cell_type": "markdown",
   "id": "9b78a7a4-152a-45b3-aa6e-463535c0e4d6",
   "metadata": {},
   "source": [
    "### Observing the Search Process\n",
    "\n",
    "While the output for both searches might look the same, the way they got there was quite different! \n",
    "\n",
    "* **Linear Search:**  Think back to how linear search works – it checks each book one by one until it reaches the end of the catalog. Since \"Dune\" isn't there, it had to go through the entire list before giving up. \n",
    "\n",
    "* **Binary Search:**  Binary search, on the other hand, is more strategic. It keeps dividing the catalog in half, eliminating large chunks with each step.  Even though our catalog is small, you might have noticed it didn't have to check every single book to know \"Dune\" wasn't there. \n",
    "\n",
    "**Key Takeaway:** Even with a small dataset, you can start to see the inherent difference in how these algorithms operate.  Imagine how much more pronounced this difference would be with a catalog containing thousands of books!"
   ]
  },
  {
   "cell_type": "markdown",
   "id": "8761b23e-992e-4f17-be04-3354ec0a7330",
   "metadata": {},
   "source": [
    "While the output for both searches might look the same, the way they got there was quite different! \n",
    "\n",
    "* **Linear Search:**  Think back to how linear search works – it checks each book one by one until it reaches the end of the catalog or finds the target book. If the target book isn't present, it has to go through the entire list before giving up. \n",
    "\n",
    "* **Binary Search:**  Binary search, on the other hand, is more strategic. It requires the catalog to be sorted. It keeps dividing the catalog in half, eliminating large chunks with each step.  Even with a large catalog, it only needs to check a small fraction of the books to determine if the target book is present or not. \n",
    "\n",
    "**Key Takeaway:** With the significantly larger dataset (`big_book_catalog.csv`), you should observe a much more pronounced difference in search times. The linear search, having to potentially check every single book, will likely take a noticeable amount of time. In contrast, the binary search, with its divide-and-conquer strategy, should be considerably faster. This efficiency gain becomes even more crucial as the size of the catalog grows.\n",
    "\n",
    "**Think about it:**  \n",
    "\n",
    "* If the catalog had 1,000,000 books, the linear search could potentially take 10 times longer than it did with the current dataset. However, the binary search's time would only increase slightly due to its logarithmic time complexity. It's safe to say that binary search would be dramatically faster in such a scenario, highlighting its superiority for large datasets."
   ]
  }
 ],
 "metadata": {
  "kernelspec": {
   "display_name": "base",
   "language": "python",
   "name": "python3"
  },
  "language_info": {
   "codemirror_mode": {
    "name": "ipython",
    "version": 3
   },
   "file_extension": ".py",
   "mimetype": "text/x-python",
   "name": "python",
   "nbconvert_exporter": "python",
   "pygments_lexer": "ipython3",
   "version": "3.12.7"
  },
  "toc-autonumbering": false,
  "toc-showcode": false
 },
 "nbformat": 4,
 "nbformat_minor": 5
}
