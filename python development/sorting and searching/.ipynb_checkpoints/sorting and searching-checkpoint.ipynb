{
 "cells": [
  {
   "cell_type": "code",
   "execution_count": null,
   "id": "1c0a9024-04b7-470b-9e1c-f0e5f2659ecf",
   "metadata": {},
   "outputs": [],
   "source": []
  },
  {
   "cell_type": "code",
   "execution_count": null,
   "id": "b25f5a99-e217-4e30-8df9-6a82f1293121",
   "metadata": {},
   "outputs": [],
   "source": []
  },
  {
   "cell_type": "code",
   "execution_count": null,
   "id": "8ae61ba4-40a0-4213-adcc-33e881eaedf8",
   "metadata": {},
   "outputs": [],
   "source": []
  },
  {
   "cell_type": "code",
   "execution_count": null,
   "id": "76263f27-4a76-4213-a459-acae8a37425b",
   "metadata": {},
   "outputs": [],
   "source": []
  },
  {
   "cell_type": "markdown",
   "id": "8c8e60e1-6d49-4001-a4dc-9e093f6c3bf5",
   "metadata": {},
   "source": [
    "## Scenario: Sorting and Searching in Python\n",
    "\n",
    "Let's imagine we're looking for a specific book in a large library.  The endless rows of shelves can be overwhelming, and finding that one title can feel like searching for a needle in a haystack.\n",
    "\n",
    "We'll learn how to use Python to make searching a digital library much easier and more efficient. We'll explore sorting algorithms, which organize book data in a logical way, just like arranging books on a shelf. Then, we'll explore search algorithms - these are like having your own digital librarian to help you quickly find the exact book you're looking for."
   ]
  },
  {
   "cell_type": "code",
   "execution_count": 1,
   "id": "8791508d-deee-40c5-ad2f-612f0ce8b9f4",
   "metadata": {},
   "outputs": [
    {
     "name": "stdout",
     "output_type": "stream",
     "text": [
      "[{'title': '1984', 'author': 'George Orwell', 'publication_year': 1949}, {'title': 'Pride and Prejudice', 'author': 'Jane Austen', 'publication_year': 1813}, {'title': 'The Catcher in the Rye', 'author': 'J.D. Salinger', 'publication_year': 1951}, {'title': 'The Great Gatsby', 'author': 'F. Scott Fitzgerald', 'publication_year': 1925}, {'title': 'To Kill a Mockingbird', 'author': 'Harper Lee', 'publication_year': 1960}, {'title': 'The Lord of the Rings', 'author': 'J.R.R. Tolkien', 'publication_year': 1954}, {'title': \"Harry Potter and the Philosopher's Stone\", 'author': 'J.K. Rowling', 'publication_year': 1997}, {'title': \"The Hitchhiker's Guide to the Galaxy\", 'author': 'Douglas Adams', 'publication_year': 1979}, {'title': 'The Da Vinci Code', 'author': 'Dan Brown', 'publication_year': 2003}, {'title': 'The Hunger Games', 'author': 'Suzanne Collins', 'publication_year': 2008}]\n"
     ]
    }
   ],
   "source": [
    "import pandas as pd\n",
    "\n",
    "book_catalog_df = pd.read_csv('book_catalog_10.csv')\n",
    "\n",
    "book_catalog = book_catalog_df.to_dict(orient='records')\n",
    "\n",
    "print(book_catalog)"
   ]
  },
  {
   "cell_type": "code",
   "execution_count": 3,
   "id": "7b89edd6-757c-4aa1-b8ef-3f6445a2a13a",
   "metadata": {},
   "outputs": [
    {
     "name": "stdout",
     "output_type": "stream",
     "text": [
      "Title: 1984, Author: George Orwell, Publication Year: 1949\n",
      "Title: Harry Potter and the Philosopher's Stone, Author: J.K. Rowling, Publication Year: 1997\n",
      "Title: Pride and Prejudice, Author: Jane Austen, Publication Year: 1813\n",
      "Title: The Catcher in the Rye, Author: J.D. Salinger, Publication Year: 1951\n",
      "Title: The Da Vinci Code, Author: Dan Brown, Publication Year: 2003\n",
      "Title: The Great Gatsby, Author: F. Scott Fitzgerald, Publication Year: 1925\n",
      "Title: The Hitchhiker's Guide to the Galaxy, Author: Douglas Adams, Publication Year: 1979\n",
      "Title: The Hunger Games, Author: Suzanne Collins, Publication Year: 2008\n",
      "Title: The Lord of the Rings, Author: J.R.R. Tolkien, Publication Year: 1954\n",
      "Title: To Kill a Mockingbird, Author: Harper Lee, Publication Year: 1960\n"
     ]
    }
   ],
   "source": [
    "def get_title(book):\n",
    "    return book['title']\n",
    "\n",
    "def sort_catalog_by_title(catalog):\n",
    "    catalog.sort(key=get_title)\n",
    "\n",
    "sort_catalog_by_title(book_catalog)\n",
    "\n",
    "for book in book_catalog:\n",
    "    print(f\"Title: {book['title']}, Author: {book['author']}, Publication Year: {book['publication_year']}\")\n",
    "    "
   ]
  },
  {
   "cell_type": "code",
   "execution_count": 5,
   "id": "1ffa7251-8c38-4e1f-9888-df2e9528cb41",
   "metadata": {},
   "outputs": [],
   "source": [
    "def search_books(catalog, query):\n",
    "    results = []\n",
    "    for book in catalog:\n",
    "        if query.lower() in book['title'].lower() or query.lower() in book['author'].lower():\n",
    "            results.append(book)\n",
    "    return results"
   ]
  },
  {
   "cell_type": "code",
   "execution_count": 7,
   "id": "a7884f0b-70fb-4941-b15b-082258fa41e8",
   "metadata": {},
   "outputs": [
    {
     "name": "stdout",
     "output_type": "stream",
     "text": [
      "Search results:\n",
      "Title The Great Gatsby, Author: F. Scott Fitzgerald, Publication Year: 1925\n"
     ]
    }
   ],
   "source": [
    "query = \"The Great Gatsby\"\n",
    "search_results = search_books(book_catalog, query)\n",
    "\n",
    "if search_results:\n",
    "    print(\"Search results:\")\n",
    "    for book in search_results:\n",
    "        print(f\"Title {book['title']}, Author: {book['author']}, Publication Year: {book['publication_year']}\")\n",
    "else:\n",
    "    print(\"No books found matching your query.\")"
   ]
  },
  {
   "cell_type": "code",
   "execution_count": 9,
   "id": "92c72b9b-680f-4044-be18-6a5b6cf5cd4c",
   "metadata": {},
   "outputs": [
    {
     "name": "stdout",
     "output_type": "stream",
     "text": [
      "No books found matching your query.\n"
     ]
    }
   ],
   "source": [
    "query = \"Dune\"\n",
    "search_results = search_books(book_catalog, query)\n",
    "\n",
    "if search_results:\n",
    "    print(\"Search results:\")\n",
    "    for book in search_results:\n",
    "        print(f\"Title {book['title']}, Author: {book['author']}, Publication Year: {book['publication_year']}\")\n",
    "else:\n",
    "    print(\"No books found matching your query.\")"
   ]
  },
  {
   "cell_type": "code",
   "execution_count": 11,
   "id": "e2594b07-5def-4abf-adbb-ae7ac301965b",
   "metadata": {},
   "outputs": [
    {
     "name": "stdout",
     "output_type": "stream",
     "text": [
      "Search results:\n",
      "Title Harry Potter and the Philosopher's Stone, Author: J.K. Rowling, Publication Year: 1997\n"
     ]
    }
   ],
   "source": [
    "query = \"J.K. Rowling\"\n",
    "search_results = search_books(book_catalog, query)\n",
    "\n",
    "if search_results:\n",
    "    print(\"Search results:\")\n",
    "    for book in search_results:\n",
    "        print(f\"Title {book['title']}, Author: {book['author']}, Publication Year: {book['publication_year']}\")\n",
    "else:\n",
    "    print(\"No books found matching your query.\")"
   ]
  },
  {
   "cell_type": "code",
   "execution_count": 21,
   "id": "844d324f-f9c5-4ab9-9598-c332fca814b5",
   "metadata": {},
   "outputs": [],
   "source": [
    "def binary_search_books(catalog, query):\n",
    "    low = 0\n",
    "    high = len(catalog) - 1\n",
    "\n",
    "    while low <= high:\n",
    "        mid = (low + high) // 2\n",
    "        if catalog[mid]['title'].lower() == query.lower():\n",
    "            return catalog[mid]\n",
    "        elif catalog[mid]['title'].lower() < query.lower():\n",
    "            low = mid + 1\n",
    "        else:\n",
    "            high = mid -1\n",
    "\n",
    "    return None"
   ]
  },
  {
   "cell_type": "code",
   "execution_count": 17,
   "id": "91627091-371a-4dd9-8523-58c6d1443914",
   "metadata": {},
   "outputs": [
    {
     "name": "stdout",
     "output_type": "stream",
     "text": [
      "Linear search took 0.07834 seconds.\n",
      "Search results:\n",
      "Title: Der Grobe Gatsby/the Great Gatsby, Author: F. Scott Fitzgerald, Publication Year: 1994\n",
      "Title: F. Scott Fitzgerald's The Great Gatsby: A Literary Reference, Author: Matthew Bruccoli, Publication Year: 2002\n",
      "Title: F. Scott Fitzgerald's the Great Gatsby, Author: F. Scott Fitzgerald, Publication Year: 1976\n",
      "Title: Fitzgerald's The Great Gatsby (Cliffs Notes), Author: Cliffs Notes, Publication Year: 2000\n",
      "Title: Fitzgerald's The Great Gatsby (Cliffs Notes), Author: P. Northman, Publication Year: 1976\n",
      "Title: Notes on The Great Gatsby: Notes (York Notes), Author: Tang Soo Ping, Publication Year: 1980\n",
      "Title: The GREAT GATSBY (A Scribner Classic), Author: F. Scott Fitzgerald, Publication Year: 1992\n",
      "Title: The GREAT GATSBY (A Scribner Classic), Author: F. Scott Fitzgerald, Publication Year: 1920\n",
      "Title: The GREAT GATSBY (Great Gatsby Hre), Author: F. Scott Fitzgerald, Publication Year: 1981\n",
      "Title: The GREAT GATSBY (Scribner Classic), Author: F. Scott Fritzgerald, Publication Year: 1920\n",
      "Title: The GREAT GATSBY (Scribner Classic), Author: F. Scott Fitzgerald, Publication Year: 1979\n",
      "Title: The Great Gatsby, Author: F. Scott Fitzgerald, Publication Year: 1995\n",
      "Title: The Great Gatsby, Author: F. Scott Fitzgerald, Publication Year: 1999\n",
      "Title: The Great Gatsby (Audio Editions), Author: F. Scott Fitzgerald, Publication Year: 2002\n",
      "Title: The Great Gatsby (Everyman S.), Author: F.Scott Fitzgerald, Publication Year: 1993\n",
      "Title: The Great Gatsby (Scribner Classics), Author: F. Scott Fitzgerald, Publication Year: 1996\n",
      "Title: The Great Gatsby (World's Classics), Author: F. Scott Fitzgerald, Publication Year: 1998\n",
      "Title: The Great Gatsby -- Penguin Critical Studies Guide, Author: F. Scott Fitzgerald, Publication Year: 1999\n",
      "Title: The Great Gatsby CD, Author: F Scott Fitzgerald, Publication Year: 2002\n",
      "Title: The Great Gatsby: The Limits of Wonder (Twayne's Masterwork Studies, No 36), Author: Richard Lehan, Publication Year: 1989\n"
     ]
    }
   ],
   "source": [
    "import time\n",
    "\n",
    "big_book_catalog_df = pd.read_csv('big_book_catalog.csv', low_memory=False)\n",
    "\n",
    "big_book_catalog_df['title'] = big_book_catalog_df['title'].fillna('').astype(str)\n",
    "big_book_catalog_df['author'] = big_book_catalog_df['author'].fillna('').astype(str)\n",
    "\n",
    "sorted_df = big_book_catalog_df.sort_values(by=['title'])\n",
    "big_book_catalog = sorted_df.to_dict(orient='records')\n",
    "\n",
    "query = \"The Great Gatsby\"\n",
    "\n",
    "start_time = time.time()\n",
    "\n",
    "search_results = search_books(big_book_catalog, query)\n",
    "\n",
    "end_time = time.time()\n",
    "\n",
    "elapsed_time_linear = end_time - start_time\n",
    "\n",
    "print(f\"Linear search took {elapsed_time_linear:.5f} seconds.\")\n",
    "\n",
    "if search_results:\n",
    "    print(\"Search results:\")\n",
    "    for book in search_results:\n",
    "        print(f\"Title: {book['title']}, Author: {book['author']}, Publication Year: {book['publication_year']}\")\n",
    "else:\n",
    "    print(\"No books found matching your query.\")\n",
    "    "
   ]
  },
  {
   "cell_type": "code",
   "execution_count": 25,
   "id": "c666d76b-b552-448e-895c-5c1f83daf8b3",
   "metadata": {},
   "outputs": [
    {
     "name": "stdout",
     "output_type": "stream",
     "text": [
      "Binary search took 0.00010 seconds.\n",
      "Binary Search Result for The Great Gatsby:\n",
      "Title: The Great Gatsby, Author: F. Scott Fitzgerald, Publication Year: 1995\n"
     ]
    }
   ],
   "source": [
    "import time\n",
    "\n",
    "big_book_catalog_df = pd.read_csv('big_book_catalog.csv', low_memory=False)\n",
    "\n",
    "big_book_catalog_df['title'] = big_book_catalog_df['title'].fillna('').astype(str)\n",
    "big_book_catalog_df['author'] = big_book_catalog_df['author'].fillna('').astype(str)\n",
    "\n",
    "sorted_df = big_book_catalog_df.sort_values(by=['title'])\n",
    "big_book_catalog = sorted_df.to_dict(orient='records')\n",
    "\n",
    "query = \"The Great Gatsby\"\n",
    "\n",
    "start_time = time.time()\n",
    "\n",
    "search_results = binary_search_books(big_book_catalog, query)\n",
    "\n",
    "end_time = time.time()\n",
    "\n",
    "elapsed_time_binary = end_time - start_time\n",
    "\n",
    "print(f\"Binary search took {elapsed_time_binary:.5f} seconds.\")\n",
    "\n",
    "if search_results:\n",
    "    print(\"Binary Search Result for The Great Gatsby:\")\n",
    "    print(f\"Title: {search_results['title']}, Author: {search_results['author']}, Publication Year: {search_results['publication_year']}\")\n",
    "else:\n",
    "    print(\"Binary Search: Book not found.\")"
   ]
  },
  {
   "cell_type": "code",
   "execution_count": null,
   "id": "3520d938-6a1a-48ae-8b67-a9215634292b",
   "metadata": {},
   "outputs": [],
   "source": []
  },
  {
   "cell_type": "code",
   "execution_count": null,
   "id": "8ecf46f4-5bc7-48df-84cc-c6c6f35507d0",
   "metadata": {},
   "outputs": [],
   "source": []
  },
  {
   "cell_type": "code",
   "execution_count": null,
   "id": "35e159fb-a5b3-493c-861e-32a6a1d802ea",
   "metadata": {},
   "outputs": [],
   "source": []
  },
  {
   "cell_type": "code",
   "execution_count": null,
   "id": "71da6ba7-e9c0-4742-be29-5a1423cb9ce2",
   "metadata": {},
   "outputs": [],
   "source": []
  },
  {
   "cell_type": "code",
   "execution_count": null,
   "id": "24ae12ee-a02a-4e46-aa87-e4cd34a55fd7",
   "metadata": {},
   "outputs": [],
   "source": []
  },
  {
   "cell_type": "code",
   "execution_count": null,
   "id": "a34156bb-cdce-441f-9164-304ebf31e011",
   "metadata": {},
   "outputs": [],
   "source": []
  },
  {
   "cell_type": "code",
   "execution_count": null,
   "id": "b4e19c90-5f1d-448f-987a-f01bc296c6a7",
   "metadata": {},
   "outputs": [],
   "source": []
  },
  {
   "cell_type": "code",
   "execution_count": null,
   "id": "fc39f716-39c8-4b87-ad13-ec962baed294",
   "metadata": {},
   "outputs": [],
   "source": []
  },
  {
   "cell_type": "code",
   "execution_count": null,
   "id": "e88c0008-6ec5-40e7-a290-ea352b49f006",
   "metadata": {},
   "outputs": [],
   "source": []
  },
  {
   "cell_type": "code",
   "execution_count": null,
   "id": "3f58791d-bae8-4fb6-a02f-cb3f20b31059",
   "metadata": {},
   "outputs": [],
   "source": []
  },
  {
   "cell_type": "code",
   "execution_count": null,
   "id": "ae1f8876-aa15-4b5e-ae34-a944208c0b88",
   "metadata": {},
   "outputs": [],
   "source": []
  },
  {
   "cell_type": "code",
   "execution_count": null,
   "id": "ad7a0de1-19c9-476f-9469-132cf8d54b18",
   "metadata": {},
   "outputs": [],
   "source": []
  },
  {
   "cell_type": "code",
   "execution_count": null,
   "id": "001e579a-8cbf-401d-bcbd-d606e921b2a6",
   "metadata": {},
   "outputs": [],
   "source": []
  },
  {
   "cell_type": "code",
   "execution_count": null,
   "id": "9ec97013-6a8b-41aa-8cd5-49e6902a127a",
   "metadata": {},
   "outputs": [],
   "source": []
  },
  {
   "cell_type": "code",
   "execution_count": null,
   "id": "dd1aa0d0-77f8-4a69-8ffe-59cf4bce3bf7",
   "metadata": {},
   "outputs": [],
   "source": []
  },
  {
   "cell_type": "code",
   "execution_count": null,
   "id": "6dc13920-4c6f-40ad-96d3-ad45c5298f95",
   "metadata": {},
   "outputs": [],
   "source": []
  },
  {
   "cell_type": "code",
   "execution_count": null,
   "id": "90b09c2a-480e-4cee-a60e-ba47114f4da3",
   "metadata": {},
   "outputs": [],
   "source": []
  },
  {
   "cell_type": "code",
   "execution_count": null,
   "id": "e1a07aac-395d-4230-ba8a-4967a47de67e",
   "metadata": {},
   "outputs": [],
   "source": []
  },
  {
   "cell_type": "code",
   "execution_count": null,
   "id": "26605fcf-1b0d-475a-a5d7-2043b2c6cd76",
   "metadata": {},
   "outputs": [],
   "source": []
  },
  {
   "cell_type": "code",
   "execution_count": null,
   "id": "2d71ee1e-2a27-4091-92f4-55083892f44b",
   "metadata": {},
   "outputs": [],
   "source": []
  }
 ],
 "metadata": {
  "kernelspec": {
   "display_name": "Python [conda env:base] *",
   "language": "python",
   "name": "conda-base-py"
  },
  "language_info": {
   "codemirror_mode": {
    "name": "ipython",
    "version": 3
   },
   "file_extension": ".py",
   "mimetype": "text/x-python",
   "name": "python",
   "nbconvert_exporter": "python",
   "pygments_lexer": "ipython3",
   "version": "3.11.5"
  },
  "toc-autonumbering": false,
  "toc-showcode": false
 },
 "nbformat": 4,
 "nbformat_minor": 5
}
