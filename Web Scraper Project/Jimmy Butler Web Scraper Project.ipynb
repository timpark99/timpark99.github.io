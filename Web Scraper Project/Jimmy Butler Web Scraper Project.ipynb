{
 "cells": [
  {
   "cell_type": "code",
   "execution_count": 1,
   "id": "8aeb9f0d",
   "metadata": {},
   "outputs": [],
   "source": [
    "# import libraries\n",
    "\n",
    "from bs4 import BeautifulSoup\n",
    "import requests\n",
    "import time\n",
    "import datetime\n",
    "\n",
    "import smtplib"
   ]
  },
  {
   "cell_type": "code",
   "execution_count": 45,
   "id": "d940c121",
   "metadata": {
    "scrolled": false
   },
   "outputs": [
    {
     "name": "stdout",
     "output_type": "stream",
     "text": [
      "\n",
      "                 Jimmy\n",
      "                \n",
      "\n",
      "                     21.4\n",
      "                    \n"
     ]
    }
   ],
   "source": [
    "# Connect to Website\n",
    "\n",
    "URL = 'https://www.espn.com/nba/player/_/id/6430/jimmy-butler'\n",
    "\n",
    "headers = {\"User-Agent\": \"Mozilla/5.0 (Macintosh; Intel Mac OS X 10_15_7) AppleWebKit/537.36 (KHTML, like Gecko) Chrome/120.0.0.0 Safari/537.36\", \"Accept-Encoding\": \"gzip, deflate, br\", \"Accept\": \"text/html,application/xhtml+xml,application/xml;q=0.9,image/avif,image/webp,image/apng,*/*;q=0.8,application/signed-exchange;v=b3;q=0.7\" } \n",
    "\n",
    "page = requests.get(URL, headers=headers)\n",
    "soup1 = BeautifulSoup(page.content, 'html.parser')\n",
    "soup2 = BeautifulSoup(soup1.prettify(), 'html.parser')\n",
    "\n",
    "first_name = soup2.find_all(\"span\", class_ = 'truncate min-w-0 fw-light')\n",
    "first_name2 = first_name[0].string\n",
    "print(first_name2)\n",
    "\n",
    "ppg = soup2.find_all(\"div\", class_='StatBlockInner__Value tc fw-medium n2 pv2 clr-gray-02')\n",
    "ppg2 = ppg[0].string\n",
    "print(ppg2)\n",
    "\n",
    "\n",
    "\n",
    "\n",
    "# title = soup2.find(id='pdp-product-title-id').get_text()\n",
    "# results = soup2.find(id='above-the-fold-information')\n",
    "# price = results.find_all('div', class_='styles__PriceFullLineHeight-sc-1mh0sjm-0 dIfIJG style__StyledPriceFull-sc-1o3i6gc-1 OpJYy')\n",
    "# print(price)\n",
    "# print(results)\n",
    "# print(title)\n",
    "\n",
    "    "
   ]
  },
  {
   "cell_type": "code",
   "execution_count": 49,
   "id": "f3bbade2",
   "metadata": {},
   "outputs": [
    {
     "name": "stdout",
     "output_type": "stream",
     "text": [
      "Jimmy\n",
      "21.4\n"
     ]
    },
    {
     "data": {
      "text/plain": [
       "str"
      ]
     },
     "execution_count": 49,
     "metadata": {},
     "output_type": "execute_result"
    }
   ],
   "source": [
    "first_name3 = first_name2.strip()\n",
    "ppg3 = ppg2.strip()\n",
    "\n",
    "print(first_name3)\n",
    "print(ppg3)\n",
    "type(ppg3)"
   ]
  },
  {
   "cell_type": "code",
   "execution_count": 57,
   "id": "86358707",
   "metadata": {},
   "outputs": [
    {
     "name": "stdout",
     "output_type": "stream",
     "text": [
      "2024-02-16\n"
     ]
    }
   ],
   "source": [
    "import datetime\n",
    "\n",
    "today = datetime.date.today()\n",
    "print(today)"
   ]
  },
  {
   "cell_type": "code",
   "execution_count": 58,
   "id": "71777a67",
   "metadata": {},
   "outputs": [],
   "source": [
    "import csv\n",
    "\n",
    "header = ['Name', 'Points Per Game', 'Date']\n",
    "data = [first_name3, ppg3, today]\n",
    "\n",
    "# with open('JimmyButler.csv', 'w', newline='', encoding='UTF8') as f:\n",
    "#     writer = csv.writer(f)\n",
    "#     writer.writerow(header)\n",
    "#     writer.writerow(data)"
   ]
  },
  {
   "cell_type": "code",
   "execution_count": 61,
   "id": "6000eea4",
   "metadata": {},
   "outputs": [
    {
     "name": "stdout",
     "output_type": "stream",
     "text": [
      "    Name  Points Per Game        Date\n",
      "0  Jimmy             21.4  2024-02-16\n",
      "1  Jimmy             21.4  2024-02-16\n"
     ]
    }
   ],
   "source": [
    "import pandas as pd\n",
    "df = pd.read_csv(r'/Users/timothypark/JimmyButler.csv')\n",
    "print(df)"
   ]
  },
  {
   "cell_type": "code",
   "execution_count": 60,
   "id": "9a027143",
   "metadata": {},
   "outputs": [],
   "source": [
    "# now we are appending data to the csv\n",
    "\n",
    "with open('JimmyButler.csv', 'a+', newline='', encoding='UTF8') as f:\n",
    "    writer = csv.writer(f)\n",
    "    writer.writerow(data)"
   ]
  },
  {
   "cell_type": "code",
   "execution_count": 62,
   "id": "3dd0b5bf",
   "metadata": {},
   "outputs": [],
   "source": [
    "def check_ppg():\n",
    "    URL = 'https://www.espn.com/nba/player/_/id/6430/jimmy-butler'\n",
    "    headers = {\"User-Agent\": \"Mozilla/5.0 (Macintosh; Intel Mac OS X 10_15_7) AppleWebKit/537.36 (KHTML, like Gecko) Chrome/120.0.0.0 Safari/537.36\", \"Accept-Encoding\": \"gzip, deflate, br\", \"Accept\": \"text/html,application/xhtml+xml,application/xml;q=0.9,image/avif,image/webp,image/apng,*/*;q=0.8,application/signed-exchange;v=b3;q=0.7\" } \n",
    "\n",
    "    page = requests.get(URL, headers=headers)\n",
    "    soup1 = BeautifulSoup(page.content, 'html.parser')\n",
    "    soup2 = BeautifulSoup(soup1.prettify(), 'html.parser')\n",
    "\n",
    "    first_name = soup2.find_all(\"span\", class_ = 'truncate min-w-0 fw-light')\n",
    "    first_name2 = first_name[0].string\n",
    "\n",
    "    ppg = soup2.find_all(\"div\", class_='StatBlockInner__Value tc fw-medium n2 pv2 clr-gray-02')\n",
    "    ppg2 = ppg[0].string\n",
    "    \n",
    "    first_name3 = first_name2.strip()\n",
    "    ppg3 = ppg2.strip()\n",
    "    \n",
    "    import datetime\n",
    "    today = datetime.date.today()\n",
    "    print(today)\n",
    "    \n",
    "    import csv\n",
    "    header = ['Name', 'Points Per Game', 'Date']\n",
    "    data = [first_name3, ppg3, today]\n",
    "    \n",
    "    with open('JimmyButler.csv', 'a+', newline='', encoding='UTF8') as f:\n",
    "        writer = csv.writer(f)\n",
    "        writer.writerow(data)\n",
    "        \n",
    "    if(ppg3 < 21):\n",
    "        send_mail()"
   ]
  },
  {
   "cell_type": "code",
   "execution_count": 63,
   "id": "8ea04ac9",
   "metadata": {
    "scrolled": true
   },
   "outputs": [
    {
     "name": "stdout",
     "output_type": "stream",
     "text": [
      "2024-02-16\n",
      "2024-02-16\n",
      "2024-02-16\n",
      "2024-02-16\n"
     ]
    },
    {
     "ename": "KeyboardInterrupt",
     "evalue": "",
     "output_type": "error",
     "traceback": [
      "\u001b[0;31m---------------------------------------------------------------------------\u001b[0m",
      "\u001b[0;31mKeyboardInterrupt\u001b[0m                         Traceback (most recent call last)",
      "Cell \u001b[0;32mIn[63], line 3\u001b[0m\n\u001b[1;32m      1\u001b[0m \u001b[38;5;28;01mwhile\u001b[39;00m(\u001b[38;5;28;01mTrue\u001b[39;00m):\n\u001b[1;32m      2\u001b[0m     check_ppg()\n\u001b[0;32m----> 3\u001b[0m     time\u001b[38;5;241m.\u001b[39msleep(\u001b[38;5;241m5\u001b[39m)\n",
      "\u001b[0;31mKeyboardInterrupt\u001b[0m: "
     ]
    }
   ],
   "source": [
    "# add new data every 24 hours\n",
    "\n",
    "while(True):\n",
    "    check_ppg()\n",
    "    time.sleep(86400)"
   ]
  },
  {
   "cell_type": "code",
   "execution_count": 64,
   "id": "7c6059fd",
   "metadata": {},
   "outputs": [
    {
     "name": "stdout",
     "output_type": "stream",
     "text": [
      "    Name  Points Per Game        Date\n",
      "0  Jimmy             21.4  2024-02-16\n",
      "1  Jimmy             21.4  2024-02-16\n",
      "2  Jimmy             21.4  2024-02-16\n",
      "3  Jimmy             21.4  2024-02-16\n",
      "4  Jimmy             21.4  2024-02-16\n",
      "5  Jimmy             21.4  2024-02-16\n"
     ]
    }
   ],
   "source": [
    "import pandas as pd\n",
    "df = pd.read_csv(r'/Users/timothypark/JimmyButler.csv')\n",
    "print(df)"
   ]
  },
  {
   "cell_type": "code",
   "execution_count": null,
   "id": "39bde33a",
   "metadata": {},
   "outputs": [],
   "source": [
    "def send_mail():\n",
    "    server = smtplib.SMTP_SSL('smtp.yahoo.com',465)\n",
    "    server.ehlo()\n",
    "    #server.starttls()\n",
    "    server.ehlo()\n",
    "    server.login('timpark99@yahoo.com','xxxxxxxxxxxxxx')\n",
    "    \n",
    "    subject = \"Jimmy Butler is now averaging under 21 points\"\n",
    "    body = \"Play Jimmy more minutes\"\n",
    "   \n",
    "    msg = f\"Subject: {subject}\\n\\n{body}\"\n",
    "    \n",
    "    server.sendmail(\n",
    "        'timpark99@yahoo.com',\n",
    "        msg\n",
    "     \n",
    "    )"
   ]
  }
 ],
 "metadata": {
  "kernelspec": {
   "display_name": "Python 3 (ipykernel)",
   "language": "python",
   "name": "python3"
  },
  "language_info": {
   "codemirror_mode": {
    "name": "ipython",
    "version": 3
   },
   "file_extension": ".py",
   "mimetype": "text/x-python",
   "name": "python",
   "nbconvert_exporter": "python",
   "pygments_lexer": "ipython3",
   "version": "3.11.5"
  }
 },
 "nbformat": 4,
 "nbformat_minor": 5
}
