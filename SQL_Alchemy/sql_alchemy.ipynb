{
 "cells": [
  {
   "cell_type": "markdown",
   "id": "5ca32541-f7d1-42f8-a8c9-43c6de2a10ea",
   "metadata": {},
   "source": [
    "# SQL Alchemy\n",
    "SQL Alchemy is an SQL toolkit, an object relational mapper, a python module, that allows us to map python classes and objects to database tables and entries so we don't have to write any SQL code "
   ]
  },
  {
   "cell_type": "markdown",
   "id": "38a82fa5-888f-431f-b780-3b4c77b532e4",
   "metadata": {},
   "source": [
    "first we must download sql alchemy by opening up terminal and running the command `pip install sqlalchemy`"
   ]
  },
  {
   "cell_type": "code",
   "execution_count": 120,
   "id": "6ac53484-491f-4899-9f3f-ef170d5f93d3",
   "metadata": {},
   "outputs": [],
   "source": [
    "from sqlalchemy import create_engine, ForeignKey, Column, String, Integer, CHAR\n",
    "from sqlalchemy.ext.declarative import declarative_base\n",
    "from sqlalchemy.orm import sessionmaker"
   ]
  },
  {
   "cell_type": "code",
   "execution_count": 121,
   "id": "0088faf4-0010-406a-a0a1-9cdcb76817d4",
   "metadata": {},
   "outputs": [
    {
     "name": "stderr",
     "output_type": "stream",
     "text": [
      "/var/folders/5z/f5jycvmd0x58dvn1by8xk79h0000gn/T/ipykernel_29438/864283243.py:2: MovedIn20Warning: The ``declarative_base()`` function is now available as sqlalchemy.orm.declarative_base(). (deprecated since: 2.0) (Background on SQLAlchemy 2.0 at: https://sqlalche.me/e/b8d9)\n",
      "  Base = declarative_base()\n"
     ]
    }
   ],
   "source": [
    "# this is going to return a class\n",
    "Base = declarative_base()"
   ]
  },
  {
   "cell_type": "code",
   "execution_count": 122,
   "id": "8ca8319e-fb99-4f74-8b39-fb6e3c76dfbe",
   "metadata": {},
   "outputs": [],
   "source": [
    "# Person class will inherit from Base\n",
    "# usually specify plural when naming tables\n",
    "class Person(Base):\n",
    "    __tablename__ = \"people\"\n",
    "    ssn = Column(\"ssn\", Integer, primary_key=True)\n",
    "    firstname = Column(\"firstname\", String)\n",
    "    lastname = Column(\"lastname\", String)\n",
    "    gender = Column(\"gender\", CHAR)\n",
    "    age = Column(\"age\", Integer)\n",
    "\n",
    "    # constructor\n",
    "    def __init__(self, ssn, first, last, gender, age):\n",
    "        self.ssn = ssn\n",
    "        self.firstname = first\n",
    "        self.lastname = last\n",
    "        self.gender = gender\n",
    "        self.age = age\n",
    "\n",
    "    # allows us to specify how we want to print a person\n",
    "    def __repr__(self):\n",
    "        return f\"({self.ssn}) {self.firstname} {self.lastname} ({self.gender},{self.age})\""
   ]
  },
  {
   "cell_type": "code",
   "execution_count": 123,
   "id": "7119d57f-e303-4202-b7d8-dab14e9261c3",
   "metadata": {},
   "outputs": [],
   "source": [
    "class Thing(Base):\n",
    "    __tablename__ = \"things\"\n",
    "\n",
    "    tid = Column(\"tid\", Integer, primary_key=True)\n",
    "    description = Column(\"description\", String)\n",
    "    # owner refers to ssn of people class\n",
    "    owner = Column(Integer, ForeignKey(\"people.ssn\"))\n",
    "\n",
    "    def __init__(self, tid, description, owner):\n",
    "        self.tid = tid\n",
    "        self.description = description\n",
    "        self.owner = owner\n",
    "\n",
    "    def __repr__(self):\n",
    "        return f\"({self.tid}) {self.description} owned by {self.owner}\"\n",
    "    "
   ]
  },
  {
   "cell_type": "code",
   "execution_count": 124,
   "id": "f6b60056-8f28-4639-a629-55514d7eed80",
   "metadata": {},
   "outputs": [
    {
     "name": "stdout",
     "output_type": "stream",
     "text": [
      "2024-08-20 09:29:27,800 INFO sqlalchemy.engine.Engine BEGIN (implicit)\n",
      "2024-08-20 09:29:27,802 INFO sqlalchemy.engine.Engine PRAGMA main.table_info(\"people\")\n",
      "2024-08-20 09:29:27,802 INFO sqlalchemy.engine.Engine [raw sql] ()\n",
      "2024-08-20 09:29:27,806 INFO sqlalchemy.engine.Engine PRAGMA temp.table_info(\"people\")\n",
      "2024-08-20 09:29:27,807 INFO sqlalchemy.engine.Engine [raw sql] ()\n",
      "2024-08-20 09:29:27,808 INFO sqlalchemy.engine.Engine PRAGMA main.table_info(\"things\")\n",
      "2024-08-20 09:29:27,808 INFO sqlalchemy.engine.Engine [raw sql] ()\n",
      "2024-08-20 09:29:27,809 INFO sqlalchemy.engine.Engine PRAGMA temp.table_info(\"things\")\n",
      "2024-08-20 09:29:27,809 INFO sqlalchemy.engine.Engine [raw sql] ()\n",
      "2024-08-20 09:29:27,811 INFO sqlalchemy.engine.Engine \n",
      "CREATE TABLE people (\n",
      "\tssn INTEGER NOT NULL, \n",
      "\tfirstname VARCHAR, \n",
      "\tlastname VARCHAR, \n",
      "\tgender CHAR, \n",
      "\tage INTEGER, \n",
      "\tPRIMARY KEY (ssn)\n",
      ")\n",
      "\n",
      "\n",
      "2024-08-20 09:29:27,811 INFO sqlalchemy.engine.Engine [no key 0.00039s] ()\n",
      "2024-08-20 09:29:27,814 INFO sqlalchemy.engine.Engine \n",
      "CREATE TABLE things (\n",
      "\ttid INTEGER NOT NULL, \n",
      "\tdescription VARCHAR, \n",
      "\towner INTEGER, \n",
      "\tPRIMARY KEY (tid), \n",
      "\tFOREIGN KEY(owner) REFERENCES people (ssn)\n",
      ")\n",
      "\n",
      "\n",
      "2024-08-20 09:29:27,814 INFO sqlalchemy.engine.Engine [no key 0.00033s] ()\n",
      "2024-08-20 09:29:27,815 INFO sqlalchemy.engine.Engine COMMIT\n"
     ]
    }
   ],
   "source": [
    "# The create_engine function is used to establish a connection to the database.\n",
    "# echo=True: This argument enables SQLAlchemy's logging feature, which will print all the generated SQL queries to the console. This can be useful for debugging purposes.\n",
    "engine = create_engine(\"sqlite:///mydb.db\", echo=True)\n",
    "# below code creates the table\n",
    "Base.metadata.create_all(bind=engine)\n",
    "\n",
    "# class\n",
    "Session = sessionmaker(bind=engine)\n",
    "# instance\n",
    "session = Session()"
   ]
  },
  {
   "cell_type": "code",
   "execution_count": 125,
   "id": "6186852c-afdb-49e2-ab6f-6f8381a9d00f",
   "metadata": {},
   "outputs": [
    {
     "name": "stdout",
     "output_type": "stream",
     "text": [
      "2024-08-20 09:29:27,826 INFO sqlalchemy.engine.Engine BEGIN (implicit)\n",
      "2024-08-20 09:29:27,829 INFO sqlalchemy.engine.Engine INSERT INTO people (ssn, firstname, lastname, gender, age) VALUES (?, ?, ?, ?, ?)\n",
      "2024-08-20 09:29:27,829 INFO sqlalchemy.engine.Engine [generated in 0.00099s] (12312, 'Timothy', 'Park', 'm', 32)\n",
      "2024-08-20 09:29:27,832 INFO sqlalchemy.engine.Engine COMMIT\n",
      "2024-08-20 09:29:27,840 INFO sqlalchemy.engine.Engine BEGIN (implicit)\n",
      "2024-08-20 09:29:27,841 INFO sqlalchemy.engine.Engine INSERT INTO people (ssn, firstname, lastname, gender, age) VALUES (?, ?, ?, ?, ?)\n",
      "2024-08-20 09:29:27,841 INFO sqlalchemy.engine.Engine [generated in 0.00046s] [(31234, 'James', 'Harrison', 'm', 46), (32423, 'Jimmy', 'Butler', 'm', 34), (45654, 'Larry', 'Wheels', 'm', 29)]\n",
      "2024-08-20 09:29:27,843 INFO sqlalchemy.engine.Engine COMMIT\n"
     ]
    }
   ],
   "source": [
    "# procedure for creating a person (need to add and commit)\n",
    "person = Person(12312, \"Timothy\", \"Park\", \"m\", 32)\n",
    "session.add(person)\n",
    "session.commit()\n",
    "\n",
    "p1 = Person(31234, \"James\", \"Harrison\", \"m\", 46)\n",
    "p2 = Person(32423, \"Jimmy\", \"Butler\", \"m\", 34)\n",
    "p3 = Person(45654, \"Larry\", \"Wheels\", \"m\", 29)\n",
    "\n",
    "session.add(p1)\n",
    "session.add(p2)\n",
    "session.add(p3)\n",
    "session.commit()"
   ]
  },
  {
   "cell_type": "code",
   "execution_count": 126,
   "id": "c0aac99f-1f55-44d5-9c56-6a7bd1a86f02",
   "metadata": {},
   "outputs": [
    {
     "name": "stdout",
     "output_type": "stream",
     "text": [
      "2024-08-20 09:29:27,849 INFO sqlalchemy.engine.Engine BEGIN (implicit)\n",
      "2024-08-20 09:29:27,852 INFO sqlalchemy.engine.Engine SELECT people.ssn AS people_ssn, people.firstname AS people_firstname, people.lastname AS people_lastname, people.gender AS people_gender, people.age AS people_age \n",
      "FROM people\n",
      "2024-08-20 09:29:27,853 INFO sqlalchemy.engine.Engine [generated in 0.00088s] ()\n",
      "[(12312) Timothy Park (m,32), (31234) James Harrison (m,46), (32423) Jimmy Butler (m,34), (45654) Larry Wheels (m,29)]\n"
     ]
    }
   ],
   "source": [
    "# we can execute queries\n",
    "results = session.query(Person).all()\n",
    "print(results)"
   ]
  },
  {
   "cell_type": "code",
   "execution_count": 127,
   "id": "93555559-b544-453a-8a06-9f8490974257",
   "metadata": {},
   "outputs": [
    {
     "name": "stdout",
     "output_type": "stream",
     "text": [
      "2024-08-20 09:29:27,861 INFO sqlalchemy.engine.Engine SELECT people.ssn AS people_ssn, people.firstname AS people_firstname, people.lastname AS people_lastname, people.gender AS people_gender, people.age AS people_age \n",
      "FROM people \n",
      "WHERE people.lastname = ?\n",
      "2024-08-20 09:29:27,862 INFO sqlalchemy.engine.Engine [generated in 0.00136s] ('Park',)\n",
      "(12312) Timothy Park (m,32)\n"
     ]
    }
   ],
   "source": [
    "# filter by string\n",
    "results = session.query(Person).filter(Person.lastname == \"Park\")\n",
    "for r in results:\n",
    "    print(r)"
   ]
  },
  {
   "cell_type": "code",
   "execution_count": 128,
   "id": "e3fd5018-179e-42f2-b099-b04c9319b834",
   "metadata": {},
   "outputs": [
    {
     "name": "stdout",
     "output_type": "stream",
     "text": [
      "2024-08-20 09:29:27,871 INFO sqlalchemy.engine.Engine SELECT people.ssn AS people_ssn, people.firstname AS people_firstname, people.lastname AS people_lastname, people.gender AS people_gender, people.age AS people_age \n",
      "FROM people \n",
      "WHERE people.age > ?\n",
      "2024-08-20 09:29:27,872 INFO sqlalchemy.engine.Engine [generated in 0.00104s] (32,)\n",
      "(31234) James Harrison (m,46)\n",
      "(32423) Jimmy Butler (m,34)\n"
     ]
    }
   ],
   "source": [
    "# filter by integer\n",
    "results = session.query(Person).filter(Person.age > 32)\n",
    "for r in results:\n",
    "    print(r)"
   ]
  },
  {
   "cell_type": "code",
   "execution_count": 129,
   "id": "61ac713d-0419-4ad0-be58-768947c3037c",
   "metadata": {},
   "outputs": [
    {
     "name": "stdout",
     "output_type": "stream",
     "text": [
      "2024-08-20 09:29:27,879 INFO sqlalchemy.engine.Engine SELECT people.ssn AS people_ssn, people.firstname AS people_firstname, people.lastname AS people_lastname, people.gender AS people_gender, people.age AS people_age \n",
      "FROM people \n",
      "WHERE people.firstname LIKE ?\n",
      "2024-08-20 09:29:27,880 INFO sqlalchemy.engine.Engine [generated in 0.00093s] ('%Jim%',)\n",
      "(32423) Jimmy Butler (m,34)\n"
     ]
    }
   ],
   "source": [
    "# filter by \"like\"\n",
    "results = session.query(Person).filter(Person.firstname.like(\"%Jim%\"))\n",
    "for r in results:\n",
    "    print(r)"
   ]
  },
  {
   "cell_type": "code",
   "execution_count": 130,
   "id": "b731d0e9-33bd-4517-bbd6-7f6a6f69ab6c",
   "metadata": {},
   "outputs": [
    {
     "name": "stdout",
     "output_type": "stream",
     "text": [
      "2024-08-20 09:29:27,886 INFO sqlalchemy.engine.Engine SELECT people.ssn AS people_ssn, people.firstname AS people_firstname, people.lastname AS people_lastname, people.gender AS people_gender, people.age AS people_age \n",
      "FROM people \n",
      "WHERE people.firstname IN (?, ?)\n",
      "2024-08-20 09:29:27,887 INFO sqlalchemy.engine.Engine [generated in 0.00160s] ('Timothy', 'James')\n",
      "(12312) Timothy Park (m,32)\n",
      "(31234) James Harrison (m,46)\n"
     ]
    }
   ],
   "source": [
    "# filter by list\n",
    "results = session.query(Person).filter(Person.firstname.in_([\"Timothy\", \"James\"]))\n",
    "for r in results:\n",
    "    print(r)"
   ]
  },
  {
   "cell_type": "code",
   "execution_count": 131,
   "id": "ae681041-7d1c-4895-ad89-0a3e71494f9a",
   "metadata": {},
   "outputs": [
    {
     "name": "stdout",
     "output_type": "stream",
     "text": [
      "2024-08-20 09:29:27,897 INFO sqlalchemy.engine.Engine INSERT INTO things (tid, description, owner) VALUES (?, ?, ?)\n",
      "2024-08-20 09:29:27,898 INFO sqlalchemy.engine.Engine [generated in 0.00080s] [(1, 'Car', 31234), (2, 'Laptop', 31234), (3, 'PS5', 32423), (4, 'Tool', 45654), (5, 'Book', 45654)]\n",
      "2024-08-20 09:29:27,899 INFO sqlalchemy.engine.Engine COMMIT\n"
     ]
    }
   ],
   "source": [
    "t1 = Thing(1, \"Car\", p1.ssn)\n",
    "t2 = Thing(2, \"Laptop\", p1.ssn)\n",
    "t3 = Thing(3, \"PS5\", p2.ssn)\n",
    "t4 = Thing(4, \"Tool\", p3.ssn)\n",
    "t5 = Thing(5, \"Book\", p3.ssn)\n",
    "\n",
    "session.add(t1)\n",
    "session.add(t2)\n",
    "session.add(t3)\n",
    "session.add(t4)\n",
    "session.add(t5)\n",
    "session.commit()"
   ]
  },
  {
   "cell_type": "code",
   "execution_count": 132,
   "id": "c21415be-1c3d-4964-abe3-b39a3aa083c7",
   "metadata": {},
   "outputs": [
    {
     "name": "stdout",
     "output_type": "stream",
     "text": [
      "2024-08-20 09:29:27,906 INFO sqlalchemy.engine.Engine BEGIN (implicit)\n",
      "2024-08-20 09:29:27,908 INFO sqlalchemy.engine.Engine SELECT things.tid AS things_tid, things.description AS things_description, things.owner AS things_owner, people.ssn AS people_ssn, people.firstname AS people_firstname, people.lastname AS people_lastname, people.gender AS people_gender, people.age AS people_age \n",
      "FROM things, people \n",
      "WHERE things.owner = people.ssn AND people.firstname = ?\n",
      "2024-08-20 09:29:27,909 INFO sqlalchemy.engine.Engine [generated in 0.00082s] ('James',)\n",
      "((1) Car owned by 31234, (31234) James Harrison (m,46))\n",
      "((2) Laptop owned by 31234, (31234) James Harrison (m,46))\n"
     ]
    }
   ],
   "source": [
    "results = session.query(Thing, Person).filter(Thing.owner == Person.ssn).filter(Person.firstname == \"James\").all()\n",
    "for r in results:\n",
    "    print(r)"
   ]
  }
 ],
 "metadata": {
  "kernelspec": {
   "display_name": "Python 3 (ipykernel)",
   "language": "python",
   "name": "python3"
  },
  "language_info": {
   "codemirror_mode": {
    "name": "ipython",
    "version": 3
   },
   "file_extension": ".py",
   "mimetype": "text/x-python",
   "name": "python",
   "nbconvert_exporter": "python",
   "pygments_lexer": "ipython3",
   "version": "3.11.5"
  }
 },
 "nbformat": 4,
 "nbformat_minor": 5
}
