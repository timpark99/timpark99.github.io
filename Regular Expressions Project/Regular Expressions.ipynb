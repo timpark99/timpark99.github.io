{
 "cells": [
  {
   "cell_type": "code",
   "execution_count": 1,
   "id": "2faeaed6",
   "metadata": {},
   "outputs": [],
   "source": [
    "import re\n",
    "\n",
    "random_text = '''\n",
    "My name is Mr. Neo.  My phone number is 123-456-7890.  My email is ChoseOne@gmail.com\n",
    "My name is Mr. Morphius.  My phone number is 413-234-2568.  My email is CoolGuy@yahoo.com.\n",
    "My name is Mrs. Trinity.  My phone number is 285-036-8215.  My email is ChosenOnesGirl@apple.com.\n",
    "'''"
   ]
  },
  {
   "cell_type": "code",
   "execution_count": 5,
   "id": "aa7624c9",
   "metadata": {},
   "outputs": [
    {
     "data": {
      "text/plain": [
       "['gmail', 'yahoo', 'apple']"
      ]
     },
     "execution_count": 5,
     "metadata": {},
     "output_type": "execute_result"
    }
   ],
   "source": [
    "# the plus gives us all characters after the @ symbol\n",
    "# the parentheses around the [a-z]+ is called a group and it filters to only those characters. \n",
    "re.findall('@([a-z]+)', random_text)"
   ]
  },
  {
   "cell_type": "code",
   "execution_count": 7,
   "id": "cc813326",
   "metadata": {},
   "outputs": [
    {
     "data": {
      "text/plain": [
       "['gmail.com', 'yahoo.com.', 'apple.com.']"
      ]
     },
     "execution_count": 7,
     "metadata": {},
     "output_type": "execute_result"
    }
   ],
   "source": [
    "# \\. specifies that there is a period we are looking for\n",
    "# \\w stands for non alpha numeric so it'll capture not just letters but also numbers\n",
    "\n",
    "re.findall('@([\\w\\.]+)', random_text)"
   ]
  },
  {
   "cell_type": "code",
   "execution_count": 8,
   "id": "6b4b3d7d",
   "metadata": {},
   "outputs": [
    {
     "data": {
      "text/plain": [
       "['ChoseOne@gmail.com', 'CoolGuy@yahoo.com.', 'ChosenOnesGirl@apple.com.']"
      ]
     },
     "execution_count": 8,
     "metadata": {},
     "output_type": "execute_result"
    }
   ],
   "source": [
    "# placing the expression before the @ symbol will give us the entire email\n",
    "\n",
    "re.findall('[\\w+]+@[\\w\\.]+', random_text)"
   ]
  },
  {
   "cell_type": "code",
   "execution_count": 11,
   "id": "ce71fab0",
   "metadata": {},
   "outputs": [
    {
     "data": {
      "text/plain": [
       "['123-456-7890', '413-234-2568', '285-036-8215']"
      ]
     },
     "execution_count": 11,
     "metadata": {},
     "output_type": "execute_result"
    }
   ],
   "source": [
    "# \\d{x} allows us to format the phone number accordingly\n",
    "\n",
    "re.findall('\\d{3}-\\d{3}-\\d{4}', random_text)"
   ]
  },
  {
   "cell_type": "code",
   "execution_count": 13,
   "id": "8debf165",
   "metadata": {},
   "outputs": [],
   "source": [
    "my_list = ['ChoseOne@gmail.com', 'CoolGuy@yahoo.com.', 'ChosenOnesGirl@apple.com.']"
   ]
  },
  {
   "cell_type": "code",
   "execution_count": 14,
   "id": "031754f8",
   "metadata": {
    "scrolled": true
   },
   "outputs": [
    {
     "name": "stdout",
     "output_type": "stream",
     "text": [
      "['gmail.com']\n",
      "['yahoo.com.']\n",
      "['apple.com.']\n"
     ]
    }
   ],
   "source": [
    "for email in my_list:\n",
    "    print(re.findall('@([\\w\\.]+)', email))"
   ]
  },
  {
   "cell_type": "code",
   "execution_count": 17,
   "id": "c866bb64",
   "metadata": {},
   "outputs": [
    {
     "name": "stdout",
     "output_type": "stream",
     "text": [
      "['gmail.com', 'yahoo.com.', 'apple.com.']\n"
     ]
    }
   ],
   "source": [
    "# using list comprehension to assign emails to the domain_list variable\n",
    "\n",
    "domain_list = [re.findall('@([\\w\\.]+)', email)[0] for email in my_list]\n",
    "print(domain_list)"
   ]
  }
 ],
 "metadata": {
  "kernelspec": {
   "display_name": "Python 3 (ipykernel)",
   "language": "python",
   "name": "python3"
  },
  "language_info": {
   "codemirror_mode": {
    "name": "ipython",
    "version": 3
   },
   "file_extension": ".py",
   "mimetype": "text/x-python",
   "name": "python",
   "nbconvert_exporter": "python",
   "pygments_lexer": "ipython3",
   "version": "3.11.5"
  }
 },
 "nbformat": 4,
 "nbformat_minor": 5
}
