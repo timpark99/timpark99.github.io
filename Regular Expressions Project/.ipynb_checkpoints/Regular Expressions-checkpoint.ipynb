{
 "cells": [
  {
   "cell_type": "code",
   "execution_count": 93,
   "id": "2faeaed6",
   "metadata": {},
   "outputs": [],
   "source": [
    "import re\n",
    "\n",
    "random_text = '''\n",
    "My name is Mr. Neo.  My phone number is 123-456-7890.  My email is ChoseOne@gmail.com\n",
    "My name is Mr. Morphius.  My phone number is 413-234-2568.  My email is CoolGuy@yahoo.com.\n",
    "My name is Mrs. Trinity.  My phone number is 285-036-8215.  My email is ChosenOnesGirl@apple.com.\n",
    "'''"
   ]
  },
  {
   "cell_type": "code",
   "execution_count": 94,
   "id": "c5e017e0",
   "metadata": {},
   "outputs": [
    {
     "data": {
      "text/plain": [
       "'name'"
      ]
     },
     "execution_count": 94,
     "metadata": {},
     "output_type": "execute_result"
    }
   ],
   "source": [
    "# search returns a match object if there is a match anywhere in the string\n",
    "\n",
    "re.search(\"name\", random_text).group()"
   ]
  },
  {
   "cell_type": "code",
   "execution_count": 96,
   "id": "9f367c2f",
   "metadata": {
    "scrolled": false
   },
   "outputs": [
    {
     "data": {
      "text/plain": [
       "['\\nMy name is Mr',\n",
       " ' Neo',\n",
       " '  My phone number is 123-456-7890',\n",
       " '  My email is ChoseOne@gmail',\n",
       " 'com\\nMy name is Mr',\n",
       " ' Morphius',\n",
       " '  My phone number is 413-234-2568',\n",
       " '  My email is CoolGuy@yahoo',\n",
       " 'com',\n",
       " '\\nMy name is Mrs',\n",
       " ' Trinity',\n",
       " '  My phone number is 285-036-8215',\n",
       " '  My email is ChosenOnesGirl@apple',\n",
       " 'com',\n",
       " '\\n']"
      ]
     },
     "execution_count": 96,
     "metadata": {},
     "output_type": "execute_result"
    }
   ],
   "source": [
    "# split returns a list where the string has been split at each match\n",
    "\n",
    "re.split('\\.', random_text)"
   ]
  },
  {
   "cell_type": "code",
   "execution_count": 97,
   "id": "affe4050",
   "metadata": {},
   "outputs": [
    {
     "data": {
      "text/plain": [
       "'\\nMy alias is Mr. Neo.  My phone number is 123-456-7890.  My email is ChoseOne@gmail.com\\nMy name is Mr. Morphius.  My phone number is 413-234-2568.  My email is CoolGuy@yahoo.com.\\nMy name is Mrs. Trinity.  My phone number is 285-036-8215.  My email is ChosenOnesGirl@apple.com.\\n'"
      ]
     },
     "execution_count": 97,
     "metadata": {},
     "output_type": "execute_result"
    }
   ],
   "source": [
    "# sub replaces one or many matches with a string\n",
    "# you can use count to ensure it only happens a limited number of times\n",
    "\n",
    "re.sub('name', 'alias', random_text, count = 1)"
   ]
  },
  {
   "cell_type": "code",
   "execution_count": 3,
   "id": "f9fb1c29",
   "metadata": {
    "scrolled": true
   },
   "outputs": [
    {
     "data": {
      "text/plain": [
       "['1',\n",
       " '2',\n",
       " '3',\n",
       " '4',\n",
       " '5',\n",
       " '6',\n",
       " '7',\n",
       " '8',\n",
       " '9',\n",
       " '0',\n",
       " '4',\n",
       " '1',\n",
       " '3',\n",
       " '2',\n",
       " '3',\n",
       " '4',\n",
       " '2',\n",
       " '5',\n",
       " '6',\n",
       " '8',\n",
       " '2',\n",
       " '8',\n",
       " '5',\n",
       " '0',\n",
       " '3',\n",
       " '6',\n",
       " '8',\n",
       " '2',\n",
       " '1',\n",
       " '5']"
      ]
     },
     "execution_count": 3,
     "metadata": {},
     "output_type": "execute_result"
    }
   ],
   "source": [
    "# look for all digits using \\d\n",
    "\n",
    "re.findall('\\d', random_text)"
   ]
  },
  {
   "cell_type": "code",
   "execution_count": 4,
   "id": "5215569a",
   "metadata": {},
   "outputs": [
    {
     "data": {
      "text/plain": [
       "['123', '456', '789', '413', '234', '256', '285', '036', '821']"
      ]
     },
     "execution_count": 4,
     "metadata": {},
     "output_type": "execute_result"
    }
   ],
   "source": [
    "# find digits grouped by 3\n",
    "\n",
    "re.findall('\\d{3}', random_text)"
   ]
  },
  {
   "cell_type": "code",
   "execution_count": 5,
   "id": "a65806aa",
   "metadata": {},
   "outputs": [
    {
     "data": {
      "text/plain": [
       "['123', '456', '789', '413', '234', '256', '285', '036', '821']"
      ]
     },
     "execution_count": 5,
     "metadata": {},
     "output_type": "execute_result"
    }
   ],
   "source": [
    "# same output using another method\n",
    "\n",
    "re.findall('[0-9]{3}', random_text)"
   ]
  },
  {
   "cell_type": "code",
   "execution_count": 6,
   "id": "7832d58b",
   "metadata": {},
   "outputs": [
    {
     "data": {
      "text/plain": [
       "['\\n',\n",
       " 'M',\n",
       " 'y',\n",
       " ' ',\n",
       " 'n',\n",
       " 'a',\n",
       " 'm',\n",
       " 'e',\n",
       " ' ',\n",
       " 'i',\n",
       " 's',\n",
       " ' ',\n",
       " 'M',\n",
       " 'r',\n",
       " '.',\n",
       " ' ',\n",
       " 'N',\n",
       " 'e',\n",
       " 'o',\n",
       " '.',\n",
       " ' ',\n",
       " ' ',\n",
       " 'M',\n",
       " 'y',\n",
       " ' ',\n",
       " 'p',\n",
       " 'h',\n",
       " 'o',\n",
       " 'n',\n",
       " 'e',\n",
       " ' ',\n",
       " 'n',\n",
       " 'u',\n",
       " 'm',\n",
       " 'b',\n",
       " 'e',\n",
       " 'r',\n",
       " ' ',\n",
       " 'i',\n",
       " 's',\n",
       " ' ',\n",
       " '-',\n",
       " '-',\n",
       " '.',\n",
       " ' ',\n",
       " ' ',\n",
       " 'M',\n",
       " 'y',\n",
       " ' ',\n",
       " 'e',\n",
       " 'm',\n",
       " 'a',\n",
       " 'i',\n",
       " 'l',\n",
       " ' ',\n",
       " 'i',\n",
       " 's',\n",
       " ' ',\n",
       " 'C',\n",
       " 'h',\n",
       " 'o',\n",
       " 's',\n",
       " 'e',\n",
       " 'O',\n",
       " 'n',\n",
       " 'e',\n",
       " '@',\n",
       " 'g',\n",
       " 'm',\n",
       " 'a',\n",
       " 'i',\n",
       " 'l',\n",
       " '.',\n",
       " 'c',\n",
       " 'o',\n",
       " 'm',\n",
       " '\\n',\n",
       " 'M',\n",
       " 'y',\n",
       " ' ',\n",
       " 'n',\n",
       " 'a',\n",
       " 'm',\n",
       " 'e',\n",
       " ' ',\n",
       " 'i',\n",
       " 's',\n",
       " ' ',\n",
       " 'M',\n",
       " 'r',\n",
       " '.',\n",
       " ' ',\n",
       " 'M',\n",
       " 'o',\n",
       " 'r',\n",
       " 'p',\n",
       " 'h',\n",
       " 'i',\n",
       " 'u',\n",
       " 's',\n",
       " '.',\n",
       " ' ',\n",
       " ' ',\n",
       " 'M',\n",
       " 'y',\n",
       " ' ',\n",
       " 'p',\n",
       " 'h',\n",
       " 'o',\n",
       " 'n',\n",
       " 'e',\n",
       " ' ',\n",
       " 'n',\n",
       " 'u',\n",
       " 'm',\n",
       " 'b',\n",
       " 'e',\n",
       " 'r',\n",
       " ' ',\n",
       " 'i',\n",
       " 's',\n",
       " ' ',\n",
       " '-',\n",
       " '-',\n",
       " '.',\n",
       " ' ',\n",
       " ' ',\n",
       " 'M',\n",
       " 'y',\n",
       " ' ',\n",
       " 'e',\n",
       " 'm',\n",
       " 'a',\n",
       " 'i',\n",
       " 'l',\n",
       " ' ',\n",
       " 'i',\n",
       " 's',\n",
       " ' ',\n",
       " 'C',\n",
       " 'o',\n",
       " 'o',\n",
       " 'l',\n",
       " 'G',\n",
       " 'u',\n",
       " 'y',\n",
       " '@',\n",
       " 'y',\n",
       " 'a',\n",
       " 'h',\n",
       " 'o',\n",
       " 'o',\n",
       " '.',\n",
       " 'c',\n",
       " 'o',\n",
       " 'm',\n",
       " '.',\n",
       " '\\n',\n",
       " 'M',\n",
       " 'y',\n",
       " ' ',\n",
       " 'n',\n",
       " 'a',\n",
       " 'm',\n",
       " 'e',\n",
       " ' ',\n",
       " 'i',\n",
       " 's',\n",
       " ' ',\n",
       " 'M',\n",
       " 'r',\n",
       " 's',\n",
       " '.',\n",
       " ' ',\n",
       " 'T',\n",
       " 'r',\n",
       " 'i',\n",
       " 'n',\n",
       " 'i',\n",
       " 't',\n",
       " 'y',\n",
       " '.',\n",
       " ' ',\n",
       " ' ',\n",
       " 'M',\n",
       " 'y',\n",
       " ' ',\n",
       " 'p',\n",
       " 'h',\n",
       " 'o',\n",
       " 'n',\n",
       " 'e',\n",
       " ' ',\n",
       " 'n',\n",
       " 'u',\n",
       " 'm',\n",
       " 'b',\n",
       " 'e',\n",
       " 'r',\n",
       " ' ',\n",
       " 'i',\n",
       " 's',\n",
       " ' ',\n",
       " '-',\n",
       " '-',\n",
       " '.',\n",
       " ' ',\n",
       " ' ',\n",
       " 'M',\n",
       " 'y',\n",
       " ' ',\n",
       " 'e',\n",
       " 'm',\n",
       " 'a',\n",
       " 'i',\n",
       " 'l',\n",
       " ' ',\n",
       " 'i',\n",
       " 's',\n",
       " ' ',\n",
       " 'C',\n",
       " 'h',\n",
       " 'o',\n",
       " 's',\n",
       " 'e',\n",
       " 'n',\n",
       " 'O',\n",
       " 'n',\n",
       " 'e',\n",
       " 's',\n",
       " 'G',\n",
       " 'i',\n",
       " 'r',\n",
       " 'l',\n",
       " '@',\n",
       " 'a',\n",
       " 'p',\n",
       " 'p',\n",
       " 'l',\n",
       " 'e',\n",
       " '.',\n",
       " 'c',\n",
       " 'o',\n",
       " 'm',\n",
       " '.',\n",
       " '\\n']"
      ]
     },
     "execution_count": 6,
     "metadata": {},
     "output_type": "execute_result"
    }
   ],
   "source": [
    "# look for everything that's not a number\n",
    "\n",
    "re.findall('\\D', random_text)"
   ]
  },
  {
   "cell_type": "code",
   "execution_count": 7,
   "id": "c9f4fd6d",
   "metadata": {},
   "outputs": [
    {
     "data": {
      "text/plain": [
       "['M',\n",
       " 'y',\n",
       " 'n',\n",
       " 'a',\n",
       " 'm',\n",
       " 'e',\n",
       " 'i',\n",
       " 's',\n",
       " 'M',\n",
       " 'r',\n",
       " 'N',\n",
       " 'e',\n",
       " 'o',\n",
       " 'M',\n",
       " 'y',\n",
       " 'p',\n",
       " 'h',\n",
       " 'o',\n",
       " 'n',\n",
       " 'e',\n",
       " 'n',\n",
       " 'u',\n",
       " 'm',\n",
       " 'b',\n",
       " 'e',\n",
       " 'r',\n",
       " 'i',\n",
       " 's',\n",
       " '1',\n",
       " '2',\n",
       " '3',\n",
       " '4',\n",
       " '5',\n",
       " '6',\n",
       " '7',\n",
       " '8',\n",
       " '9',\n",
       " '0',\n",
       " 'M',\n",
       " 'y',\n",
       " 'e',\n",
       " 'm',\n",
       " 'a',\n",
       " 'i',\n",
       " 'l',\n",
       " 'i',\n",
       " 's',\n",
       " 'C',\n",
       " 'h',\n",
       " 'o',\n",
       " 's',\n",
       " 'e',\n",
       " 'O',\n",
       " 'n',\n",
       " 'e',\n",
       " 'g',\n",
       " 'm',\n",
       " 'a',\n",
       " 'i',\n",
       " 'l',\n",
       " 'c',\n",
       " 'o',\n",
       " 'm',\n",
       " 'M',\n",
       " 'y',\n",
       " 'n',\n",
       " 'a',\n",
       " 'm',\n",
       " 'e',\n",
       " 'i',\n",
       " 's',\n",
       " 'M',\n",
       " 'r',\n",
       " 'M',\n",
       " 'o',\n",
       " 'r',\n",
       " 'p',\n",
       " 'h',\n",
       " 'i',\n",
       " 'u',\n",
       " 's',\n",
       " 'M',\n",
       " 'y',\n",
       " 'p',\n",
       " 'h',\n",
       " 'o',\n",
       " 'n',\n",
       " 'e',\n",
       " 'n',\n",
       " 'u',\n",
       " 'm',\n",
       " 'b',\n",
       " 'e',\n",
       " 'r',\n",
       " 'i',\n",
       " 's',\n",
       " '4',\n",
       " '1',\n",
       " '3',\n",
       " '2',\n",
       " '3',\n",
       " '4',\n",
       " '2',\n",
       " '5',\n",
       " '6',\n",
       " '8',\n",
       " 'M',\n",
       " 'y',\n",
       " 'e',\n",
       " 'm',\n",
       " 'a',\n",
       " 'i',\n",
       " 'l',\n",
       " 'i',\n",
       " 's',\n",
       " 'C',\n",
       " 'o',\n",
       " 'o',\n",
       " 'l',\n",
       " 'G',\n",
       " 'u',\n",
       " 'y',\n",
       " 'y',\n",
       " 'a',\n",
       " 'h',\n",
       " 'o',\n",
       " 'o',\n",
       " 'c',\n",
       " 'o',\n",
       " 'm',\n",
       " 'M',\n",
       " 'y',\n",
       " 'n',\n",
       " 'a',\n",
       " 'm',\n",
       " 'e',\n",
       " 'i',\n",
       " 's',\n",
       " 'M',\n",
       " 'r',\n",
       " 's',\n",
       " 'T',\n",
       " 'r',\n",
       " 'i',\n",
       " 'n',\n",
       " 'i',\n",
       " 't',\n",
       " 'y',\n",
       " 'M',\n",
       " 'y',\n",
       " 'p',\n",
       " 'h',\n",
       " 'o',\n",
       " 'n',\n",
       " 'e',\n",
       " 'n',\n",
       " 'u',\n",
       " 'm',\n",
       " 'b',\n",
       " 'e',\n",
       " 'r',\n",
       " 'i',\n",
       " 's',\n",
       " '2',\n",
       " '8',\n",
       " '5',\n",
       " '0',\n",
       " '3',\n",
       " '6',\n",
       " '8',\n",
       " '2',\n",
       " '1',\n",
       " '5',\n",
       " 'M',\n",
       " 'y',\n",
       " 'e',\n",
       " 'm',\n",
       " 'a',\n",
       " 'i',\n",
       " 'l',\n",
       " 'i',\n",
       " 's',\n",
       " 'C',\n",
       " 'h',\n",
       " 'o',\n",
       " 's',\n",
       " 'e',\n",
       " 'n',\n",
       " 'O',\n",
       " 'n',\n",
       " 'e',\n",
       " 's',\n",
       " 'G',\n",
       " 'i',\n",
       " 'r',\n",
       " 'l',\n",
       " 'a',\n",
       " 'p',\n",
       " 'p',\n",
       " 'l',\n",
       " 'e',\n",
       " 'c',\n",
       " 'o',\n",
       " 'm']"
      ]
     },
     "execution_count": 7,
     "metadata": {},
     "output_type": "execute_result"
    }
   ],
   "source": [
    "# \\w gets rid of all the fillers like periods, white spaces and dashes\n",
    "\n",
    "re.findall('\\w', random_text)"
   ]
  },
  {
   "cell_type": "code",
   "execution_count": 8,
   "id": "a384a84e",
   "metadata": {
    "scrolled": true
   },
   "outputs": [
    {
     "data": {
      "text/plain": [
       "['\\n',\n",
       " ' ',\n",
       " ' ',\n",
       " ' ',\n",
       " '.',\n",
       " ' ',\n",
       " '.',\n",
       " ' ',\n",
       " ' ',\n",
       " ' ',\n",
       " ' ',\n",
       " ' ',\n",
       " ' ',\n",
       " '-',\n",
       " '-',\n",
       " '.',\n",
       " ' ',\n",
       " ' ',\n",
       " ' ',\n",
       " ' ',\n",
       " ' ',\n",
       " '@',\n",
       " '.',\n",
       " '\\n',\n",
       " ' ',\n",
       " ' ',\n",
       " ' ',\n",
       " '.',\n",
       " ' ',\n",
       " '.',\n",
       " ' ',\n",
       " ' ',\n",
       " ' ',\n",
       " ' ',\n",
       " ' ',\n",
       " ' ',\n",
       " '-',\n",
       " '-',\n",
       " '.',\n",
       " ' ',\n",
       " ' ',\n",
       " ' ',\n",
       " ' ',\n",
       " ' ',\n",
       " '@',\n",
       " '.',\n",
       " '.',\n",
       " '\\n',\n",
       " ' ',\n",
       " ' ',\n",
       " ' ',\n",
       " '.',\n",
       " ' ',\n",
       " '.',\n",
       " ' ',\n",
       " ' ',\n",
       " ' ',\n",
       " ' ',\n",
       " ' ',\n",
       " ' ',\n",
       " '-',\n",
       " '-',\n",
       " '.',\n",
       " ' ',\n",
       " ' ',\n",
       " ' ',\n",
       " ' ',\n",
       " ' ',\n",
       " '@',\n",
       " '.',\n",
       " '.',\n",
       " '\\n']"
      ]
     },
     "execution_count": 8,
     "metadata": {},
     "output_type": "execute_result"
    }
   ],
   "source": [
    "# \\W does the opposite and shows all the fillers like periods, white spaces and dashes\n",
    "\n",
    "re.findall('\\W', random_text)"
   ]
  },
  {
   "cell_type": "code",
   "execution_count": 9,
   "id": "d3dd0354",
   "metadata": {
    "scrolled": true
   },
   "outputs": [
    {
     "data": {
      "text/plain": [
       "['\\n',\n",
       " ' ',\n",
       " ' ',\n",
       " ' ',\n",
       " ' ',\n",
       " ' ',\n",
       " ' ',\n",
       " ' ',\n",
       " ' ',\n",
       " ' ',\n",
       " ' ',\n",
       " ' ',\n",
       " ' ',\n",
       " ' ',\n",
       " ' ',\n",
       " ' ',\n",
       " '\\n',\n",
       " ' ',\n",
       " ' ',\n",
       " ' ',\n",
       " ' ',\n",
       " ' ',\n",
       " ' ',\n",
       " ' ',\n",
       " ' ',\n",
       " ' ',\n",
       " ' ',\n",
       " ' ',\n",
       " ' ',\n",
       " ' ',\n",
       " ' ',\n",
       " ' ',\n",
       " '\\n',\n",
       " ' ',\n",
       " ' ',\n",
       " ' ',\n",
       " ' ',\n",
       " ' ',\n",
       " ' ',\n",
       " ' ',\n",
       " ' ',\n",
       " ' ',\n",
       " ' ',\n",
       " ' ',\n",
       " ' ',\n",
       " ' ',\n",
       " ' ',\n",
       " ' ',\n",
       " '\\n']"
      ]
     },
     "execution_count": 9,
     "metadata": {},
     "output_type": "execute_result"
    }
   ],
   "source": [
    "# \\s shows the spaces, tabs and new lines\n",
    "\n",
    "re.findall('\\s', random_text)"
   ]
  },
  {
   "cell_type": "code",
   "execution_count": 10,
   "id": "62058326",
   "metadata": {
    "scrolled": false
   },
   "outputs": [
    {
     "data": {
      "text/plain": [
       "['M',\n",
       " 'y',\n",
       " 'n',\n",
       " 'a',\n",
       " 'm',\n",
       " 'e',\n",
       " 'i',\n",
       " 's',\n",
       " 'M',\n",
       " 'r',\n",
       " '.',\n",
       " 'N',\n",
       " 'e',\n",
       " 'o',\n",
       " '.',\n",
       " 'M',\n",
       " 'y',\n",
       " 'p',\n",
       " 'h',\n",
       " 'o',\n",
       " 'n',\n",
       " 'e',\n",
       " 'n',\n",
       " 'u',\n",
       " 'm',\n",
       " 'b',\n",
       " 'e',\n",
       " 'r',\n",
       " 'i',\n",
       " 's',\n",
       " '1',\n",
       " '2',\n",
       " '3',\n",
       " '-',\n",
       " '4',\n",
       " '5',\n",
       " '6',\n",
       " '-',\n",
       " '7',\n",
       " '8',\n",
       " '9',\n",
       " '0',\n",
       " '.',\n",
       " 'M',\n",
       " 'y',\n",
       " 'e',\n",
       " 'm',\n",
       " 'a',\n",
       " 'i',\n",
       " 'l',\n",
       " 'i',\n",
       " 's',\n",
       " 'C',\n",
       " 'h',\n",
       " 'o',\n",
       " 's',\n",
       " 'e',\n",
       " 'O',\n",
       " 'n',\n",
       " 'e',\n",
       " '@',\n",
       " 'g',\n",
       " 'm',\n",
       " 'a',\n",
       " 'i',\n",
       " 'l',\n",
       " '.',\n",
       " 'c',\n",
       " 'o',\n",
       " 'm',\n",
       " 'M',\n",
       " 'y',\n",
       " 'n',\n",
       " 'a',\n",
       " 'm',\n",
       " 'e',\n",
       " 'i',\n",
       " 's',\n",
       " 'M',\n",
       " 'r',\n",
       " '.',\n",
       " 'M',\n",
       " 'o',\n",
       " 'r',\n",
       " 'p',\n",
       " 'h',\n",
       " 'i',\n",
       " 'u',\n",
       " 's',\n",
       " '.',\n",
       " 'M',\n",
       " 'y',\n",
       " 'p',\n",
       " 'h',\n",
       " 'o',\n",
       " 'n',\n",
       " 'e',\n",
       " 'n',\n",
       " 'u',\n",
       " 'm',\n",
       " 'b',\n",
       " 'e',\n",
       " 'r',\n",
       " 'i',\n",
       " 's',\n",
       " '4',\n",
       " '1',\n",
       " '3',\n",
       " '-',\n",
       " '2',\n",
       " '3',\n",
       " '4',\n",
       " '-',\n",
       " '2',\n",
       " '5',\n",
       " '6',\n",
       " '8',\n",
       " '.',\n",
       " 'M',\n",
       " 'y',\n",
       " 'e',\n",
       " 'm',\n",
       " 'a',\n",
       " 'i',\n",
       " 'l',\n",
       " 'i',\n",
       " 's',\n",
       " 'C',\n",
       " 'o',\n",
       " 'o',\n",
       " 'l',\n",
       " 'G',\n",
       " 'u',\n",
       " 'y',\n",
       " '@',\n",
       " 'y',\n",
       " 'a',\n",
       " 'h',\n",
       " 'o',\n",
       " 'o',\n",
       " '.',\n",
       " 'c',\n",
       " 'o',\n",
       " 'm',\n",
       " '.',\n",
       " 'M',\n",
       " 'y',\n",
       " 'n',\n",
       " 'a',\n",
       " 'm',\n",
       " 'e',\n",
       " 'i',\n",
       " 's',\n",
       " 'M',\n",
       " 'r',\n",
       " 's',\n",
       " '.',\n",
       " 'T',\n",
       " 'r',\n",
       " 'i',\n",
       " 'n',\n",
       " 'i',\n",
       " 't',\n",
       " 'y',\n",
       " '.',\n",
       " 'M',\n",
       " 'y',\n",
       " 'p',\n",
       " 'h',\n",
       " 'o',\n",
       " 'n',\n",
       " 'e',\n",
       " 'n',\n",
       " 'u',\n",
       " 'm',\n",
       " 'b',\n",
       " 'e',\n",
       " 'r',\n",
       " 'i',\n",
       " 's',\n",
       " '2',\n",
       " '8',\n",
       " '5',\n",
       " '-',\n",
       " '0',\n",
       " '3',\n",
       " '6',\n",
       " '-',\n",
       " '8',\n",
       " '2',\n",
       " '1',\n",
       " '5',\n",
       " '.',\n",
       " 'M',\n",
       " 'y',\n",
       " 'e',\n",
       " 'm',\n",
       " 'a',\n",
       " 'i',\n",
       " 'l',\n",
       " 'i',\n",
       " 's',\n",
       " 'C',\n",
       " 'h',\n",
       " 'o',\n",
       " 's',\n",
       " 'e',\n",
       " 'n',\n",
       " 'O',\n",
       " 'n',\n",
       " 'e',\n",
       " 's',\n",
       " 'G',\n",
       " 'i',\n",
       " 'r',\n",
       " 'l',\n",
       " '@',\n",
       " 'a',\n",
       " 'p',\n",
       " 'p',\n",
       " 'l',\n",
       " 'e',\n",
       " '.',\n",
       " 'c',\n",
       " 'o',\n",
       " 'm',\n",
       " '.']"
      ]
     },
     "execution_count": 10,
     "metadata": {},
     "output_type": "execute_result"
    }
   ],
   "source": [
    "# \\S is the opposite and shows everything but the spaces, tabs and new lines\n",
    "\n",
    "re.findall('\\S', random_text)"
   ]
  },
  {
   "cell_type": "code",
   "execution_count": 48,
   "id": "556a46bd",
   "metadata": {},
   "outputs": [],
   "source": [
    "quote = 'My name is neo'"
   ]
  },
  {
   "cell_type": "code",
   "execution_count": 22,
   "id": "568e6170",
   "metadata": {},
   "outputs": [
    {
     "data": {
      "text/plain": [
       "['M']"
      ]
     },
     "execution_count": 22,
     "metadata": {},
     "output_type": "execute_result"
    }
   ],
   "source": [
    "# \\A looks at the beginning of the string\n",
    "\n",
    "re.findall('\\A[A-Za-z]', quote)"
   ]
  },
  {
   "cell_type": "code",
   "execution_count": 23,
   "id": "59e5540d",
   "metadata": {},
   "outputs": [
    {
     "data": {
      "text/plain": [
       "['o']"
      ]
     },
     "execution_count": 23,
     "metadata": {},
     "output_type": "execute_result"
    }
   ],
   "source": [
    "# \\Z looks at the end of the string\n",
    "\n",
    "re.findall('[A-Za-z]\\Z', quote)"
   ]
  },
  {
   "cell_type": "code",
   "execution_count": 86,
   "id": "258ac4cb",
   "metadata": {},
   "outputs": [
    {
     "data": {
      "text/plain": [
       "['Matrix']"
      ]
     },
     "execution_count": 86,
     "metadata": {},
     "output_type": "execute_result"
    }
   ],
   "source": [
    "quote2 = 'I love th Matrix is MatrixLov a word?'\n",
    "# r represents raw string\n",
    "# \\b are boundaries.  Doesn't pick up second Matrix because it doesn't have a boundary on the right\n",
    "\n",
    "re.findall(r'\\bMatrix\\b', quote2)"
   ]
  },
  {
   "cell_type": "code",
   "execution_count": 39,
   "id": "5417f4ae",
   "metadata": {},
   "outputs": [
    {
     "data": {
      "text/plain": [
       "['Matrix']"
      ]
     },
     "execution_count": 39,
     "metadata": {},
     "output_type": "execute_result"
    }
   ],
   "source": [
    "# \\B is a non-boundary\n",
    "# this is the Matrix in MatrixLove\n",
    "\n",
    "re.findall(r'Matrix\\B', quote2)"
   ]
  },
  {
   "cell_type": "code",
   "execution_count": 32,
   "id": "f22860b7",
   "metadata": {},
   "outputs": [
    {
     "data": {
      "text/plain": [
       "['phone', 'phone', 'phone']"
      ]
     },
     "execution_count": 32,
     "metadata": {},
     "output_type": "execute_result"
    }
   ],
   "source": [
    "# the . acts as a character and here we're trying to find all words that start with a p, ends in a e, and has 3 characters between them\n",
    "\n",
    "re.findall('p...e', random_text)"
   ]
  },
  {
   "cell_type": "code",
   "execution_count": 33,
   "id": "6613d995",
   "metadata": {},
   "outputs": [
    {
     "data": {
      "text/plain": [
       "['phone', 'phone', 'phone']"
      ]
     },
     "execution_count": 33,
     "metadata": {},
     "output_type": "execute_result"
    }
   ],
   "source": [
    "# the . acts as a character and here we're trying to find all words that start with a p, ends in a e, and has 3 characters between them\n",
    "# you can use the brackets to specify the number of characters\n",
    "\n",
    "re.findall('p.{3}e', random_text)"
   ]
  },
  {
   "cell_type": "code",
   "execution_count": 42,
   "id": "4613dcd6",
   "metadata": {},
   "outputs": [
    {
     "data": {
      "text/plain": [
       "['I']"
      ]
     },
     "execution_count": 42,
     "metadata": {},
     "output_type": "execute_result"
    }
   ],
   "source": [
    "# the ^ will only search the beginning of the string\n",
    "# it has to be placed before the word\n",
    "\n",
    "re.findall('^I', quote2)"
   ]
  },
  {
   "cell_type": "code",
   "execution_count": 53,
   "id": "2252ee9d",
   "metadata": {},
   "outputs": [
    {
     "data": {
      "text/plain": [
       "['neo']"
      ]
     },
     "execution_count": 53,
     "metadata": {},
     "output_type": "execute_result"
    }
   ],
   "source": [
    "# the $ will search for the last word\n",
    "# it has to be placed after the word\n",
    "\n",
    "re.findall('neo$', quote)"
   ]
  },
  {
   "cell_type": "code",
   "execution_count": 81,
   "id": "e071da95",
   "metadata": {},
   "outputs": [
    {
     "data": {
      "text/plain": [
       "['love']"
      ]
     },
     "execution_count": 81,
     "metadata": {},
     "output_type": "execute_result"
    }
   ],
   "source": [
    "# * - zero or more\n",
    "# + - one or more\n",
    "# ? - zero or one\n",
    "# it will go until it picks up the very last i\n",
    "\n",
    "re.findall('lov.*e', quote2)"
   ]
  },
  {
   "cell_type": "code",
   "execution_count": 87,
   "id": "b640f694",
   "metadata": {},
   "outputs": [
    {
     "data": {
      "text/plain": [
       "[]"
      ]
     },
     "execution_count": 87,
     "metadata": {},
     "output_type": "execute_result"
    }
   ],
   "source": [
    "# there is no e after the love so nothing will be outputted\n",
    "\n",
    "re.findall('lov.+e', quote2)"
   ]
  },
  {
   "cell_type": "code",
   "execution_count": 85,
   "id": "c631163c",
   "metadata": {},
   "outputs": [
    {
     "data": {
      "text/plain": [
       "['love']"
      ]
     },
     "execution_count": 85,
     "metadata": {},
     "output_type": "execute_result"
    }
   ],
   "source": [
    "# there is zero e after love so it will capture\n",
    "\n",
    "re.findall('lov.?e', quote2)"
   ]
  },
  {
   "cell_type": "code",
   "execution_count": 91,
   "id": "f3aa8c08",
   "metadata": {},
   "outputs": [
    {
     "data": {
      "text/plain": [
       "['beautiful']"
      ]
     },
     "execution_count": 91,
     "metadata": {},
     "output_type": "execute_result"
    }
   ],
   "source": [
    "# | stands for either or\n",
    "string = 'I hate that I love balloon animals.  They are beautiful.'\n",
    "\n",
    "re.findall('lovely|beautiful', string)"
   ]
  },
  {
   "cell_type": "code",
   "execution_count": 92,
   "id": "99e22d63",
   "metadata": {},
   "outputs": [
    {
     "data": {
      "text/plain": [
       "['.', '.', '.']"
      ]
     },
     "execution_count": 92,
     "metadata": {},
     "output_type": "execute_result"
    }
   ],
   "source": [
    "# using \\. to find the periods.  The \\ is the escape sequence.  What comes after the \\ is a literal character.  It will no longer be considered a meta character. \n",
    "\n",
    "string = 'I like cats.  You like cats.  We all like cats.'\n",
    "\n",
    "re.findall('\\.', string)"
   ]
  },
  {
   "cell_type": "code",
   "execution_count": 5,
   "id": "aa7624c9",
   "metadata": {},
   "outputs": [
    {
     "data": {
      "text/plain": [
       "['gmail', 'yahoo', 'apple']"
      ]
     },
     "execution_count": 5,
     "metadata": {},
     "output_type": "execute_result"
    }
   ],
   "source": [
    "# the plus gives us all characters after the @ symbol\n",
    "# the parentheses around the [a-z]+ is called a group and it filters to only those characters. \n",
    "re.findall('@([a-z]+)', random_text)"
   ]
  },
  {
   "cell_type": "code",
   "execution_count": 7,
   "id": "cc813326",
   "metadata": {},
   "outputs": [
    {
     "data": {
      "text/plain": [
       "['gmail.com', 'yahoo.com.', 'apple.com.']"
      ]
     },
     "execution_count": 7,
     "metadata": {},
     "output_type": "execute_result"
    }
   ],
   "source": [
    "# \\. specifies that there is a period we are looking for\n",
    "# \\w stands for non alpha numeric so it'll capture not just letters but also numbers\n",
    "\n",
    "re.findall('@([\\w\\.]+)', random_text)"
   ]
  },
  {
   "cell_type": "code",
   "execution_count": 8,
   "id": "6b4b3d7d",
   "metadata": {},
   "outputs": [
    {
     "data": {
      "text/plain": [
       "['ChoseOne@gmail.com', 'CoolGuy@yahoo.com.', 'ChosenOnesGirl@apple.com.']"
      ]
     },
     "execution_count": 8,
     "metadata": {},
     "output_type": "execute_result"
    }
   ],
   "source": [
    "# placing the expression before the @ symbol will give us the entire email\n",
    "\n",
    "re.findall('[\\w+]+@[\\w\\.]+', random_text)"
   ]
  },
  {
   "cell_type": "code",
   "execution_count": 11,
   "id": "ce71fab0",
   "metadata": {},
   "outputs": [
    {
     "data": {
      "text/plain": [
       "['123-456-7890', '413-234-2568', '285-036-8215']"
      ]
     },
     "execution_count": 11,
     "metadata": {},
     "output_type": "execute_result"
    }
   ],
   "source": [
    "# \\d{x} allows us to format the phone number accordingly\n",
    "\n",
    "re.findall('\\d{3}-\\d{3}-\\d{4}', random_text)"
   ]
  },
  {
   "cell_type": "code",
   "execution_count": 13,
   "id": "8debf165",
   "metadata": {},
   "outputs": [],
   "source": [
    "my_list = ['ChoseOne@gmail.com', 'CoolGuy@yahoo.com.', 'ChosenOnesGirl@apple.com.']"
   ]
  },
  {
   "cell_type": "code",
   "execution_count": 14,
   "id": "031754f8",
   "metadata": {
    "scrolled": true
   },
   "outputs": [
    {
     "name": "stdout",
     "output_type": "stream",
     "text": [
      "['gmail.com']\n",
      "['yahoo.com.']\n",
      "['apple.com.']\n"
     ]
    }
   ],
   "source": [
    "for email in my_list:\n",
    "    print(re.findall('@([\\w\\.]+)', email))"
   ]
  },
  {
   "cell_type": "code",
   "execution_count": 17,
   "id": "c866bb64",
   "metadata": {},
   "outputs": [
    {
     "name": "stdout",
     "output_type": "stream",
     "text": [
      "['gmail.com', 'yahoo.com.', 'apple.com.']\n"
     ]
    }
   ],
   "source": [
    "# using list comprehension to assign emails to the domain_list variable\n",
    "\n",
    "domain_list = [re.findall('@([\\w\\.]+)', email)[0] for email in my_list]\n",
    "print(domain_list)"
   ]
  }
 ],
 "metadata": {
  "kernelspec": {
   "display_name": "Python 3 (ipykernel)",
   "language": "python",
   "name": "python3"
  },
  "language_info": {
   "codemirror_mode": {
    "name": "ipython",
    "version": 3
   },
   "file_extension": ".py",
   "mimetype": "text/x-python",
   "name": "python",
   "nbconvert_exporter": "python",
   "pygments_lexer": "ipython3",
   "version": "3.11.5"
  }
 },
 "nbformat": 4,
 "nbformat_minor": 5
}
