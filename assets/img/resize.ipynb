{
 "cells": [
  {
   "cell_type": "code",
   "execution_count": 5,
   "id": "c0051d8a-4c21-4e0d-8a6e-ed297aa997c2",
   "metadata": {},
   "outputs": [
    {
     "name": "stdout",
     "output_type": "stream",
     "text": [
      "Resized portfolio-6.jpg and saved.\n",
      "Resized portfolio-7.jpg and saved.\n",
      "Resized portfolio-5.jpg and saved.\n",
      "Resized portfolio-4.jpg and saved.\n",
      "Resized portfolio-40.jpg and saved.\n",
      "Resized portfolio-1.jpg and saved.\n",
      "Resized 8.jpg and saved.\n",
      "Resized portfolio-3.jpg and saved.\n",
      "Resized portfolio-2.jpg and saved.\n",
      "Resized 9.jpg and saved.\n",
      "Resized portfolio-24.jpg and saved.\n",
      "Resized portfolio-30.jpg and saved.\n",
      "Resized portfolio-19 v2.jpg and saved.\n",
      "Resized portfolio-31.jpg and saved.\n",
      "Resized portfolio-25.jpg and saved.\n",
      "Resized portfolio-15 v2.jpg and saved.\n",
      "Resized portfolio-33.jpg and saved.\n",
      "Resized portfolio-27.jpg and saved.\n",
      "Resized portfolio-26.jpg and saved.\n",
      "Resized portfolio-32.jpg and saved.\n",
      "Resized 12.jpg and saved.\n",
      "Resized portfolio-36.jpg and saved.\n",
      "Resized portfolio-22.jpg and saved.\n",
      "Resized portfolio-23.jpg and saved.\n",
      "Resized portfolio-37.jpg and saved.\n"
     ]
    },
    {
     "name": "stderr",
     "output_type": "stream",
     "text": [
      "/Users/timothypark/anaconda3/lib/python3.11/site-packages/PIL/Image.py:970: UserWarning: Palette images with Transparency expressed in bytes should be converted to RGBA images\n",
      "  warnings.warn(\n"
     ]
    },
    {
     "name": "stdout",
     "output_type": "stream",
     "text": [
      "Resized 13.jpg and saved.\n",
      "Resized 11.jpg and saved.\n",
      "Resized portfolio-35.jpg and saved.\n",
      "Resized portfolio-21 v2.jpg and saved.\n",
      "Resized portfolio-17 v2.jpg and saved.\n",
      "Resized portfolio-34.jpg and saved.\n",
      "Resized 10.jpg and saved.\n",
      "Resized portfolio-39.jpg and saved.\n",
      "Resized portfolio-38.jpg and saved.\n",
      "Resized portfolio-28.jpg and saved.\n",
      "Resized portfolio-29.jpg and saved.\n",
      "Resized 4.jpg and saved.\n",
      "Resized 5.jpg and saved.\n",
      "Resized 7.jpg and saved.\n",
      "Resized portfolio-18 v2.jpg and saved.\n",
      "Resized portfolio-14 v2.jpg and saved.\n",
      "Resized 6.jpg and saved.\n",
      "Resized 2.jpg and saved.\n",
      "Resized portfolio-details-1.jpg and saved.\n",
      "Resized portfolio-16 v2.jpg and saved.\n",
      "Resized portfolio-9.jpg and saved.\n",
      "Resized portfolio-8.jpg and saved.\n",
      "Resized portfolio-20 v2.jpg and saved.\n",
      "Resized 3.jpg and saved.\n",
      "Resized portfolio-details-2.jpg and saved.\n",
      "Resized 1.jpg and saved.\n",
      "Resized portfolio-details-3.jpg and saved.\n",
      "All images resized successfully!\n"
     ]
    }
   ],
   "source": [
    "from PIL import Image\n",
    "import os\n",
    "\n",
    "input_folder = '/Users/timothypark/Documents/portfolios/timpark99.github.io/assets/img/input'\n",
    "output_folder = '/Users/timothypark/Documents/portfolios/timpark99.github.io/assets/img/portfolio'\n",
    "\n",
    "if not os.path.exists(output_folder):\n",
    "    os.makedirs(output_folder)\n",
    "\n",
    "for filename in os.listdir(input_folder):\n",
    "    if filename.endswith(('.jpg', '.jpeg', '.png')):\n",
    "        img_path = os.path.join(input_folder, filename)\n",
    "        with Image.open(img_path) as img:\n",
    "            # Convert to RGB mode if necessary\n",
    "            if img.mode != 'RGB':\n",
    "                img = img.convert('RGB')\n",
    "            \n",
    "            # Calculate the new height based on the aspect ratio\n",
    "            width_percent = 800 / float(img.width)\n",
    "            new_height = int(float(img.height) * width_percent)\n",
    "\n",
    "            # Resize the image and save it\n",
    "            resized_img = img.resize((800, new_height), Image.LANCZOS)\n",
    "            output_path = os.path.join(output_folder, filename)\n",
    "            resized_img.save(output_path, format='JPEG')\n",
    "            print(f\"Resized {filename} and saved.\")\n",
    "\n",
    "print(\"All images resized successfully!\")\n"
   ]
  }
 ],
 "metadata": {
  "kernelspec": {
   "display_name": "Python 3 (ipykernel)",
   "language": "python",
   "name": "python3"
  },
  "language_info": {
   "codemirror_mode": {
    "name": "ipython",
    "version": 3
   },
   "file_extension": ".py",
   "mimetype": "text/x-python",
   "name": "python",
   "nbconvert_exporter": "python",
   "pygments_lexer": "ipython3",
   "version": "3.11.5"
  }
 },
 "nbformat": 4,
 "nbformat_minor": 5
}
